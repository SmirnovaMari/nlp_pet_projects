{
 "cells": [
  {
   "cell_type": "markdown",
   "metadata": {
    "id": "IO1m4W-2FugO"
   },
   "source": [
    "# Предсказание зарплтаты по описанию вакансии\n"
   ]
  },
  {
   "cell_type": "markdown",
   "metadata": {},
   "source": [
    "Данный проект подготовлен на основании информации о вакансиях, представленной на сайте https://career.habr.com/. В качестве признака будет использоваться описание вакансии, в качестве таргета - зарплата в рублях."
   ]
  },
  {
   "cell_type": "markdown",
   "metadata": {
    "id": "WWG2SZpHFugT"
   },
   "source": [
    "## 1. Парсинг данных\n",
    "### 1.1 Подготовка\n",
    "\n",
    "Доступ к веб-станицам позволяет получать модуль `requests` "
   ]
  },
  {
   "cell_type": "code",
   "execution_count": 1,
   "metadata": {
    "id": "35Uti68PFugT"
   },
   "outputs": [],
   "source": [
    "import requests      \n",
    "import numpy as np   \n",
    "import pandas as pd  \n",
    "import time         "
   ]
  },
  {
   "cell_type": "markdown",
   "metadata": {
    "id": "Dq4nNCdWFugV"
   },
   "source": [
    "Для наших исследовательских целей нужно собрать данные по каждой вакнсии с соответствующей ей страницы. Но для начала нужно получить адреса этих страниц. Поэтому открываем основную страницу со всеми выложенными вакансиями. Поскольку нас интересует предсказание зарплаты, оставим только те вакансии, где она указана.\n",
    "Сохраним в переменную `page_link` адрес основной страницы и откроем её при помощи библиотеки `requests`."
   ]
  },
  {
   "cell_type": "code",
   "execution_count": 2,
   "metadata": {
    "id": "G2U_F6onFugV"
   },
   "outputs": [],
   "source": [
    "page_link = 'https://career.habr.com/vacancies?type=all&with_salary=true'# 1-я страница \n",
    "#https://career.habr.com/vacancies?page=2&type=all&with_salary=1 2-я страница\n",
    "#https://career.habr.com/vacancies?page=3&type=all&with_salary=1 3-я страница"
   ]
  },
  {
   "cell_type": "markdown",
   "metadata": {
    "id": "3cOE5tBeFugY"
   },
   "source": [
    "Воспользуемся генерацией фейкового юзер-агента, например [`fake-useragent`](https://pypi.python.org/pypi/fake-useragent). При вызове метода из различных кусочков будет генерироваться рандомное сочетание операционной системы, спецификаций и версии браузера, которые можно передавать в запрос:"
   ]
  },
  {
   "cell_type": "code",
   "execution_count": 3,
   "metadata": {
    "colab": {
     "base_uri": "https://localhost:8080/"
    },
    "id": "30VTGnO_GAuR",
    "outputId": "4fe3aa34-d64c-48b9-a58a-41dc08e22808"
   },
   "outputs": [
    {
     "name": "stdout",
     "output_type": "stream",
     "text": [
      "Requirement already satisfied: fake_useragent in c:\\users\\lenin\\anaconda3\\lib\\site-packages (0.1.11)\n"
     ]
    }
   ],
   "source": [
    "!pip install fake_useragent"
   ]
  },
  {
   "cell_type": "code",
   "execution_count": 4,
   "metadata": {
    "id": "_k3ix86eFugY"
   },
   "outputs": [],
   "source": [
    "# подгрузим один из методов этой библиотеки\n",
    "from fake_useragent import UserAgent"
   ]
  },
  {
   "cell_type": "code",
   "execution_count": 5,
   "metadata": {
    "colab": {
     "base_uri": "https://localhost:8080/",
     "height": 35
    },
    "id": "DoxSGx1lG_2C",
    "outputId": "d56d30ec-1d88-400f-d3b7-f467a3c9d37b"
   },
   "outputs": [
    {
     "data": {
      "text/plain": [
       "'Mozilla/5.0 (Windows NT 6.2; WOW64) AppleWebKit/537.36 (KHTML, like Gecko) Chrome/27.0.1453.93 Safari/537.36'"
      ]
     },
     "execution_count": 5,
     "metadata": {},
     "output_type": "execute_result"
    }
   ],
   "source": [
    "UserAgent().chrome"
   ]
  },
  {
   "cell_type": "code",
   "execution_count": 6,
   "metadata": {
    "colab": {
     "base_uri": "https://localhost:8080/",
     "height": 35
    },
    "id": "p6k_rhytFugZ",
    "outputId": "c0581b1b-0b02-4c4a-c942-63fc18cb48e3"
   },
   "outputs": [
    {
     "data": {
      "text/plain": [
       "'Mozilla/5.0 (Windows; U; Windows NT 6.1; sv-SE) AppleWebKit/533.19.4 (KHTML, like Gecko) Version/5.0.3 Safari/533.19.4'"
      ]
     },
     "execution_count": 6,
     "metadata": {},
     "output_type": "execute_result"
    }
   ],
   "source": [
    "UserAgent().safari"
   ]
  },
  {
   "cell_type": "code",
   "execution_count": 7,
   "metadata": {
    "colab": {
     "base_uri": "https://localhost:8080/"
    },
    "id": "a_N4v7k_FugZ",
    "outputId": "e980914f-37c2-4cee-8cdd-9bc4ffe9d29a"
   },
   "outputs": [
    {
     "data": {
      "text/plain": [
       "<Response [200]>"
      ]
     },
     "execution_count": 7,
     "metadata": {},
     "output_type": "execute_result"
    }
   ],
   "source": [
    "response = requests.get(page_link, headers={'User-Agent': UserAgent().chrome})\n",
    "response"
   ]
  },
  {
   "cell_type": "markdown",
   "metadata": {
    "id": "Stgq18QcFuga"
   },
   "source": [
    "Мы получили ответ 200, а значит соединение установлено и данные получены."
   ]
  },
  {
   "cell_type": "code",
   "execution_count": 8,
   "metadata": {
    "id": "7CzC1F1rFuga"
   },
   "outputs": [],
   "source": [
    "html = response.content"
   ]
  },
  {
   "cell_type": "code",
   "execution_count": 9,
   "metadata": {
    "colab": {
     "base_uri": "https://localhost:8080/"
    },
    "id": "giRv1imoFugb",
    "outputId": "21bbae35-8b7c-4f93-87a7-c6796359726e"
   },
   "outputs": [
    {
     "data": {
      "text/plain": [
       "249418"
      ]
     },
     "execution_count": 9,
     "metadata": {},
     "output_type": "execute_result"
    }
   ],
   "source": [
    "len(html)"
   ]
  },
  {
   "cell_type": "code",
   "execution_count": 10,
   "metadata": {
    "colab": {
     "base_uri": "https://localhost:8080/"
    },
    "id": "u2fvAtRhFugb",
    "outputId": "82f64933-d2c7-4848-feb0-fe94ee9baf2a"
   },
   "outputs": [
    {
     "data": {
      "text/plain": [
       "bytes"
      ]
     },
     "execution_count": 10,
     "metadata": {},
     "output_type": "execute_result"
    }
   ],
   "source": [
    "type(html)"
   ]
  },
  {
   "cell_type": "markdown",
   "metadata": {},
   "source": [
    "### 1.2 BeautifulSoup"
   ]
  },
  {
   "cell_type": "markdown",
   "metadata": {
    "id": "PdL3hXi2Fugc"
   },
   "source": [
    "Восползуемся библиотекой BeautifulSoup, которая из сырого и необработанного HTML кода страницы выдаст нам структурированный массив данных, по которому очень удобно искать необходимые теги, классы, атрибуты, тексты и прочие элементы веб страниц.\n"
   ]
  },
  {
   "cell_type": "code",
   "execution_count": 11,
   "metadata": {
    "id": "r3iHCGdPFugc"
   },
   "outputs": [],
   "source": [
    "from bs4 import BeautifulSoup"
   ]
  },
  {
   "cell_type": "markdown",
   "metadata": {
    "id": "m1Q5epfiFugc"
   },
   "source": [
    "Передадим функции `BeautifulSoup` текст веб-страницы, которую мы недавно получили."
   ]
  },
  {
   "cell_type": "code",
   "execution_count": 12,
   "metadata": {
    "id": "98tY_xT1Fugc"
   },
   "outputs": [],
   "source": [
    "soup = BeautifulSoup(html, 'html.parser')"
   ]
  },
  {
   "cell_type": "code",
   "execution_count": 13,
   "metadata": {
    "colab": {
     "base_uri": "https://localhost:8080/"
    },
    "id": "HK5l0uasFugd",
    "outputId": "655526c7-a084-4b5e-8865-bc3c31628316"
   },
   "outputs": [
    {
     "data": {
      "text/plain": [
       "bs4.BeautifulSoup"
      ]
     },
     "execution_count": 13,
     "metadata": {},
     "output_type": "execute_result"
    }
   ],
   "source": [
    "type(soup)"
   ]
  },
  {
   "cell_type": "code",
   "execution_count": 14,
   "metadata": {
    "colab": {
     "base_uri": "https://localhost:8080/"
    },
    "id": "iytVf49JFugd",
    "outputId": "9608a2f4-6b44-429b-b787-f1c742777a7a"
   },
   "outputs": [
    {
     "name": "stdout",
     "output_type": "stream",
     "text": [
      "<!DOCTYPE html>\n",
      "<html lang=\"ru\">\n",
      " <head>\n",
      "  <meta charset=\"utf-8\"/>\n",
      "  <meta content=\"width=device-width, initial-scale=1\" name=\"viewport\"/>\n",
      "  <title>\n",
      "   Работа и свежие вакансии для IT специалистов от прямых работодателей — Хабр Карьера\n",
      "  </title>\n",
      "  <meta content=\"Работа и свежие вакансии для IT специалистов в самых разных сферах IT-индустрии: программирование, верстка, дизайн, менеджмент, веб-аналитика, маркетинг и других.\" name=\"description\"/>\n",
      "  <meta content=\"Работа и свежие вакансии для IT специалистов от прямых работодателей — Хабр Карьера\" property=\"og:title\"/>\n",
      "  <meta content=\"Работа и свежие вакансии для IT специалистов в самых разных сферах IT-индустрии: программирование, верстка, дизайн, менеджмент, веб-аналитика, маркетинг и других.\" property=\"og:description\"/>\n",
      "  <meta content=\"https://career.habr.com/images/career_share.png\" property=\"og:image\"/>\n",
      "  <meta content=\"Работа и свежие вакансии для IT специалистов от прямых работодателей — Хабр Карьера\" name=\"twitter:title\"/>\n",
      "  <me\n"
     ]
    }
   ],
   "source": [
    "print(soup.prettify()[:1000])"
   ]
  },
  {
   "cell_type": "markdown",
   "metadata": {},
   "source": [
    "Найдем ссылки, которые ведут с главной страницы на вакансии"
   ]
  },
  {
   "cell_type": "code",
   "execution_count": 15,
   "metadata": {
    "colab": {
     "base_uri": "https://localhost:8080/"
    },
    "id": "vPIag13NFugf",
    "outputId": "a7ff852a-b112-4c8d-c66e-708b6c2825c3"
   },
   "outputs": [
    {
     "data": {
      "text/plain": [
       "<a class=\"vacancy-card__title-link\" href=\"/vacancies/1000111905\">Frontend разработчик</a>"
      ]
     },
     "execution_count": 15,
     "metadata": {},
     "output_type": "execute_result"
    }
   ],
   "source": [
    "obj = soup.find(lambda tag: tag.name == 'a' and tag.get('class') == ['vacancy-card__title-link'])\n",
    "obj"
   ]
  },
  {
   "cell_type": "code",
   "execution_count": 16,
   "metadata": {
    "colab": {
     "base_uri": "https://localhost:8080/"
    },
    "id": "p5BAc0fEFugf",
    "outputId": "9c7529ab-08d1-4a02-8b67-ffb9b9f5fa51"
   },
   "outputs": [
    {
     "data": {
      "text/plain": [
       "bs4.element.Tag"
      ]
     },
     "execution_count": 16,
     "metadata": {},
     "output_type": "execute_result"
    }
   ],
   "source": [
    "type(obj)"
   ]
  },
  {
   "cell_type": "markdown",
   "metadata": {
    "id": "rXsWLWTmFugf"
   },
   "source": [
    "Полученный после поиска объект также обладает структурой bs4. Поэтому можно продолжить искать нужные нам объекты уже в нём. Вытащим ссылку на эту вакансию. Сделать это можно по атрибуту `href`, в котором лежит наша ссылка. "
   ]
  },
  {
   "cell_type": "code",
   "execution_count": 17,
   "metadata": {
    "colab": {
     "base_uri": "https://localhost:8080/",
     "height": 35
    },
    "id": "ADWulcegFugg",
    "outputId": "f3c3fee2-ab07-4cbd-b276-149fd79e6468"
   },
   "outputs": [
    {
     "data": {
      "text/plain": [
       "'/vacancies/1000111905'"
      ]
     },
     "execution_count": 17,
     "metadata": {},
     "output_type": "execute_result"
    }
   ],
   "source": [
    "obj.attrs['href']"
   ]
  },
  {
   "cell_type": "markdown",
   "metadata": {
    "id": "iB43fXxDFugg"
   },
   "source": [
    "После всех преобразований у данных поменялся тип. Теперь они `str`. Это означет, что с ними можно работать как с текстом и пускать в ход для отсеивания лишней информации регулярные выражения. "
   ]
  },
  {
   "cell_type": "code",
   "execution_count": 18,
   "metadata": {
    "colab": {
     "base_uri": "https://localhost:8080/"
    },
    "id": "5-0EDpR_Fugg",
    "outputId": "a171c85d-0e42-4d03-d339-b75d2df5ed50"
   },
   "outputs": [
    {
     "name": "stdout",
     "output_type": "stream",
     "text": [
      "Тип данных до вытаскивания ссылки: <class 'bs4.element.Tag'>\n",
      "Тип данных после вытаскивания ссылки: <class 'str'>\n"
     ]
    }
   ],
   "source": [
    "print(\"Тип данных до вытаскивания ссылки:\", type(obj))\n",
    "print(\"Тип данных после вытаскивания ссылки:\", type(obj.attrs['href']))"
   ]
  },
  {
   "cell_type": "markdown",
   "metadata": {
    "id": "jr_4IjurFugg"
   },
   "source": [
    "Если несколько элементов на странице обладают указанным адресом, то метод `find` вернёт только самый первый.  Чтобы найти все элементы с таким адресом, нужно использовать метод `findAll`, и на выход будет выдан список. Таким образом, мы можем получить одним поиском сразу все объекты, содержащие ссылки на страницы с вакансиями."
   ]
  },
  {
   "cell_type": "code",
   "execution_count": 19,
   "metadata": {
    "colab": {
     "base_uri": "https://localhost:8080/"
    },
    "id": "Hq8RXn5cFugg",
    "outputId": "2dbb9c47-ffc2-4ae2-960f-7571a91b6869"
   },
   "outputs": [
    {
     "data": {
      "text/plain": [
       "[<a class=\"vacancy-card__title-link\" href=\"/vacancies/1000111905\">Frontend разработчик</a>,\n",
       " <a class=\"vacancy-card__title-link\" href=\"/vacancies/1000111910\">SRE (DevOps) Kubernetes</a>,\n",
       " <a class=\"vacancy-card__title-link\" href=\"/vacancies/1000080748\">Java-разработчик</a>]"
      ]
     },
     "execution_count": 19,
     "metadata": {},
     "output_type": "execute_result"
    }
   ],
   "source": [
    "vacansy_links = soup.findAll(lambda tag: tag.name == 'a' and tag.get('class') == ['vacancy-card__title-link'])\n",
    "vacansy_links[:3]"
   ]
  },
  {
   "cell_type": "code",
   "execution_count": 20,
   "metadata": {
    "colab": {
     "base_uri": "https://localhost:8080/"
    },
    "id": "-wZ2TuUeFugg",
    "outputId": "6c5744d6-059f-475d-e35f-ea6fcfb1955a"
   },
   "outputs": [
    {
     "data": {
      "text/plain": [
       "25"
      ]
     },
     "execution_count": 20,
     "metadata": {},
     "output_type": "execute_result"
    }
   ],
   "source": [
    "len(vacansy_links)"
   ]
  },
  {
   "cell_type": "markdown",
   "metadata": {
    "id": "MAJ9yyQxFugh"
   },
   "source": [
    "Осталось очистить полученный список от мусора:"
   ]
  },
  {
   "cell_type": "code",
   "execution_count": 21,
   "metadata": {
    "id": "xVeWPcC2Fugh"
   },
   "outputs": [],
   "source": [
    "vacansy_links = [link.attrs['href'] for link in vacansy_links]"
   ]
  },
  {
   "cell_type": "code",
   "execution_count": 22,
   "metadata": {
    "colab": {
     "base_uri": "https://localhost:8080/"
    },
    "id": "R9_2SeUuFugh",
    "outputId": "c986fa7e-c244-4698-a00c-a45e0c76d598"
   },
   "outputs": [
    {
     "data": {
      "text/plain": [
       "['/vacancies/1000111905',\n",
       " '/vacancies/1000111910',\n",
       " '/vacancies/1000080748',\n",
       " '/vacancies/1000111909',\n",
       " '/vacancies/1000111288',\n",
       " '/vacancies/1000100170',\n",
       " '/vacancies/1000056761',\n",
       " '/vacancies/1000111509',\n",
       " '/vacancies/1000112368',\n",
       " '/vacancies/1000111275']"
      ]
     },
     "execution_count": 22,
     "metadata": {},
     "output_type": "execute_result"
    }
   ],
   "source": [
    "vacansy_links[:10]"
   ]
  },
  {
   "cell_type": "code",
   "execution_count": 23,
   "metadata": {
    "colab": {
     "base_uri": "https://localhost:8080/"
    },
    "id": "_P5kFv5FFugh",
    "outputId": "5fd59c48-4764-4735-c248-83b577357bc9"
   },
   "outputs": [
    {
     "data": {
      "text/plain": [
       "25"
      ]
     },
     "execution_count": 23,
     "metadata": {},
     "output_type": "execute_result"
    }
   ],
   "source": [
    "len(vacansy_links)"
   ]
  },
  {
   "cell_type": "markdown",
   "metadata": {
    "id": "rL-MDp53Fugh"
   },
   "source": [
    "Мы получили ровно 25 ссылок по числу вакансий на одной странице поиска. \n",
    "Остался последний момент. Когда мы скачаем все вакансии с текущей страницы, нам нужно будет перейти на следующую. \n",
    "\n",
    "Обернем в функцию все преобразования, проделанные выше:"
   ]
  },
  {
   "cell_type": "code",
   "execution_count": 24,
   "metadata": {
    "code_folding": [],
    "id": "iwKbhgBuFugh"
   },
   "outputs": [],
   "source": [
    "def getPageLinks(page_number):\n",
    "    \"\"\"\n",
    "        Возвращает список ссылок на мемы, полученный с текущей страницы\n",
    "        \n",
    "        page_number: int/string\n",
    "            номер страницы для парсинга\n",
    "            \n",
    "    \"\"\"\n",
    "    # составляем ссылку на страницу поиска\n",
    "    page_link = 'https://career.habr.com/vacancies?page={}&type=all&with_salary=1'.format(page_number)\n",
    "    \n",
    "    # запрашиваем данные по ней\n",
    "    response = requests.get(page_link, headers={'User-Agent': UserAgent().chrome})\n",
    "    \n",
    "    if not response.ok:\n",
    "        # если сервер нам отказал, вернем пустой лист для текущей страницы\n",
    "        return [] \n",
    "    \n",
    "    # получаем содержимое страницы и переводим в суп\n",
    "    html = response.content\n",
    "    soup = BeautifulSoup(html,'html.parser')\n",
    "    \n",
    "    # наконец, ищем ссылки на мемы и очищаем их от ненужных тэгов\n",
    "    vacansy_links = soup.findAll(lambda tag: tag.name == 'a' and tag.get('class') == ['vacancy-card__title-link'])\n",
    "    vacansy_links = ['https://career.habr.com' + link.attrs['href'] for link in vacansy_links]\n",
    "    \n",
    "    return vacansy_links"
   ]
  },
  {
   "cell_type": "markdown",
   "metadata": {
    "id": "tapV9bsDFugi"
   },
   "source": [
    "Протестируем функцию и убедимся, что всё хорошо"
   ]
  },
  {
   "cell_type": "code",
   "execution_count": 25,
   "metadata": {
    "colab": {
     "base_uri": "https://localhost:8080/"
    },
    "id": "LQ3QNzNJFugi",
    "outputId": "7a85b342-20ed-4891-c444-7d77bfa401fc"
   },
   "outputs": [
    {
     "data": {
      "text/plain": [
       "['https://career.habr.com/vacancies/1000111905',\n",
       " 'https://career.habr.com/vacancies/1000111910']"
      ]
     },
     "execution_count": 25,
     "metadata": {},
     "output_type": "execute_result"
    }
   ],
   "source": [
    "vacansy_links = getPageLinks(1)\n",
    "vacansy_links[:2]"
   ]
  },
  {
   "cell_type": "code",
   "execution_count": 26,
   "metadata": {
    "colab": {
     "base_uri": "https://localhost:8080/"
    },
    "id": "q3QfW4_VFugi",
    "outputId": "434a4dd2-4505-4ec3-924d-d0de272db911"
   },
   "outputs": [
    {
     "data": {
      "text/plain": [
       "['https://career.habr.com/vacancies/1000084899',\n",
       " 'https://career.habr.com/vacancies/1000101124']"
      ]
     },
     "execution_count": 26,
     "metadata": {},
     "output_type": "execute_result"
    }
   ],
   "source": [
    "vacansy_links = getPageLinks(2)\n",
    "vacansy_links[:2]"
   ]
  },
  {
   "cell_type": "markdown",
   "metadata": {
    "id": "KlqMT1cOFugi"
   },
   "source": [
    "Отлично, функция работает и теперь мы теоретически можем достать ссылки на все вакансии, для чего нам придется пройтись по 27 страницам. Перед этим посмотрим, как доставать всю необходимую информацию о конкретной вакансии. "
   ]
  },
  {
   "cell_type": "markdown",
   "metadata": {
    "id": "YYjuK9I-Fugj"
   },
   "source": [
    "### 1.3 Сбор информации с каждой страницы \n",
    "\n",
    "Для начала сохраним ссылку на страницу в переменную и вытащим по ней контент."
   ]
  },
  {
   "cell_type": "code",
   "execution_count": 27,
   "metadata": {
    "id": "zOuKDQXzFugj"
   },
   "outputs": [],
   "source": [
    "vacancy_page = 'https://career.habr.com/vacancies/1000070949'\n",
    "\n",
    "response = requests.get(vacancy_page, headers={'User-Agent': UserAgent().chrome})\n",
    "\n",
    "html = response.content\n",
    "soup = BeautifulSoup(html,'html.parser')"
   ]
  },
  {
   "cell_type": "code",
   "execution_count": 28,
   "metadata": {},
   "outputs": [
    {
     "data": {
      "text/plain": [
       "<!DOCTYPE html>\n",
       "<html lang=\"ru\"><head><meta charset=\"utf-8\"/><meta content=\"width=device-width, initial-scale=1\" name=\"viewport\"/><title>Вакансия «Middle QA engineer », удаленно, работа в компании «BnBerry» — Хабр Карьера</title>\n",
       "<meta content=\"Вакансия «Middle QA engineer », удаленно, работа в компании «BnBerry». Полная занятость. Можно удаленно.\" name=\"description\"/>\n",
       "<meta content=\"Вакансия «Middle QA engineer », удаленно, работа в компании «BnBerry» — Хабр Карьера\" property=\"og:title\"/>\n",
       "<meta content=\"Вакансия «Middle QA engineer », удаленно, работа в компании «BnBerry». Полная занятость. Можно удаленно.\" property=\"og:description\"/>\n",
       "<meta content=\"https://habrastorage.org/getpro/moikrug/uploads/company/100/007/028/1/logo/medium_ecb79f4255fb4aa8fe1e03011b6d6055.png\" property=\"og:image\"/>\n",
       "<meta content=\"Вакансия «Middle QA engineer », удаленно, работа в компании «BnBerry» — Хабр Карьера\" name=\"twitter:title\"/>\n",
       "<meta content=\"Вакансия «Middle QA engineer », удаленно, работа в компании «BnBerry». Полная занятость. Можно удаленно.\" name=\"twitter:description\"/>\n",
       "<meta content=\"https://habrastorage.org/getpro/moikrug/uploads/company/100/007/028/1/logo/medium_ecb79f4255fb4aa8fe1e03011b6d6055.png\" name=\"twitter:image\"/>\n",
       "<meta content=\"https://career.habr.com/vacancies/1000070949\" name=\"twitter:url\"/>\n",
       "<meta content=\"@moikrug\" name=\"twitter:site\"/>\n",
       "<meta content=\"@moikrug\" name=\"twitter:creator\"/>\n",
       "<meta content=\"summary\" name=\"twitter:card\"/><link href=\"https://career.habr.com/assets/packs/js/_runtime-83c90331ed8de8df66cf.js\" rel=\"prefetch\"/><link href=\"https://career.habr.com/assets/packs/js/_vendors~application~landing~landings/hirer~landings/specialist~legacy~pages/arsenal/contacts~pages/c~ab871e06-8cf088438040e9239e04.chunk.js\" rel=\"prefetch\"/><link href=\"https://career.habr.com/assets/packs/js/_vendors~application~landing~landings/hirer~landings/specialist~legacy~pages/arsenal/contacts~pages/c~082fd02d-bf70581d0974181c4084.chunk.js\" rel=\"prefetch\"/><link href=\"https://career.habr.com/assets/packs/js/_application-369f1ed359024ec22492.chunk.js\" rel=\"prefetch\"/><link href=\"https://career.habr.com/assets/packs/js/_legacy-0dbf85e49ae7792433bf.chunk.js\" rel=\"prefetch\"/><link href=\"https://career.habr.com/assets/packs/js/_pages/vacancies/show-152a02b66719ab9b19d4.chunk.js\" rel=\"prefetch\"/><style>@font-face { font-family: 'PT Sans'; src: local('PT Sans Italic'), local('PTSans-Italic'), url('/images/fonts/pt-sans/ptsans-italic-webfont.woff2') format('woff2'), url('/images/fonts/pt-sans/ptsans-italic-webfont.woff') format('woff'); unicode-range: U+20-7E,U+A7,U+A9,U+AB,U+B1,U+B7,U+BB,U+2C6,U+401,U+410-44F,U+451,U+2013,U+2014,U+2018-201F,U+2022,U+2032,U+20AC,U+20B4,U+20B8,U+20BD,U+2116,U+2190-2193,U+2248,U+2260; font-weight: normal; font-style: italic; font-display: fallback; } @font-face { font-family: 'PT Sans'; src: local('PT Sans'), local('PTSans-Regular'), url('/images/fonts/pt-sans/ptsans-regular-webfont.woff2') format('woff2'), url('/images/fonts/pt-sans/ptsans-regular-webfont.woff') format('woff'); unicode-range: U+20-7E,U+A7,U+A9,U+AB,U+B1,U+B7,U+BB,U+2C6,U+401,U+410-44F,U+451,U+2013,U+2014,U+2018-201F,U+2022,U+2032,U+20AC,U+20B4,U+20B8,U+20BD,U+2116,U+2190-2193,U+2248,U+2260; font-weight: normal; font-style: normal; font-display: fallback; } @font-face { font-family: 'PT Sans'; src: local('PT Sans Bold'), local('PTSans-Bold'), url('/images/fonts/pt-sans/ptsans-bold-webfont.woff2') format('woff2'), url('/images/fonts/pt-sans/ptsans-bold-webfont.woff') format('woff'); unicode-range: U+20-7E,U+A7,U+A9,U+AB,U+B1,U+B7,U+BB,U+2C6,U+401,U+410-44F,U+451,U+2013,U+2014,U+2018-201F,U+2022,U+2032,U+20AC,U+20B4,U+20B8,U+20BD,U+2116,U+2190-2193,U+2248,U+2260; font-weight: bold; font-style: normal; font-display: fallback; } @font-face { font-family: 'icomoon'; src: url('/images/fonts/icomoon/icomoon.woff') format('woff'), url('/images/fonts/icomoon/icomoon.svg?#icomoon') format('svg'); font-weight: normal; font-style: normal; }</style><link href=\"https://career.habr.com/assets/packs/css/vendors~application~landing~landings/hirer~landings/specialist~legacy~pages/arsenal/contacts~pages/c~082fd02d-5713d386.chunk.css\" media=\"screen\" rel=\"stylesheet\"/>\n",
       "<link href=\"https://career.habr.com/assets/packs/css/application-c75dba27.chunk.css\" media=\"screen\" rel=\"stylesheet\"/>\n",
       "<link href=\"https://career.habr.com/assets/packs/css/legacy-8b366b50.chunk.css\" media=\"screen\" rel=\"stylesheet\"/><meta content=\"authenticity_token\" name=\"csrf-param\"/>\n",
       "<meta content=\"JI+LER52IkjwsutnaUFLabrUdgm9rQtQotHo+qwZD3sVdgUKAOjT8H9j96n3JwFpOyAGppegJkO5OdhqMetcbg==\" name=\"csrf-token\"/><meta content=\"https://effect.habr.com\" name=\"effect_url\"/><script>(function(i,s,o,g,r,a,m){i['GoogleAnalyticsObject']=r;i[r]=i[r]||function(){\n",
       "(i[r].q=i[r].q||[]).push(arguments)},i[r].l=1*new Date();a=s.createElement(o),\n",
       "m=s.getElementsByTagName(o)[0];a.async=1;a.src=g;m.parentNode.insertBefore(a,m)\n",
       "})(window,document,'script','//www.google-analytics.com/analytics.js','ga');\n",
       "\n",
       "var options = false ? { userId: 'false' } : null;\n",
       "ga('create', 'UA-726094-30', options);\n",
       "ga('require', 'displayfeatures');\n",
       "ga('require', 'linkid', 'linkid.js');\n",
       "ga('require', 'GTM-WTJMJ2H');\n",
       "\n",
       "ga('set', 'dimension1', 'guest');\n",
       "\n",
       "function removeUtms() {\n",
       "  if (history.replaceState) {\n",
       "    var location = window.location;\n",
       "    var url = location.toString();\n",
       "    var strippedUrl = getStrippedUrl(url);\n",
       "    if (strippedUrl === url) {\n",
       "      return;\n",
       "    }\n",
       "    history.replaceState(null, null, strippedUrl);\n",
       "  }\n",
       "}\n",
       "\n",
       "function getStrippedUrl(url) {\n",
       "  if (url.indexOf('utm_') > url.indexOf('?')) {\n",
       "    url = url.replace(/([\\?\\&]utm_(reader|source|medium|campaign|content|term)=[^&#]+)/ig, '');\n",
       "  }\n",
       "  if (url.indexOf('&') !== -1 && url.indexOf('?') === -1) {\n",
       "    url = url.replace('&', '?');\n",
       "  }\n",
       "  return url;\n",
       "}\n",
       "\n",
       "ga('send', 'pageview', { 'hitCallback': removeUtms });</script><meta content=\"4480533c5a4f5ebe\" name=\"yandex-verification\"/><script type=\"application/ld+json\"> {\n",
       "  \"@context\" : \"https://schema.org/\",\n",
       "  \"@type\" : \"JobPosting\",\n",
       "  \"datePosted\" : \"2022-09-19\",\n",
       "  \"title\" : \"Middle QA engineer \",\n",
       "  \"description\" : \"<p>Навыки: Git, SQL, Базы данных, Английский язык, REST. Квалификация: Middle. Специализации: Инженер по ручному тестированию.</p><p>Американская компания BnBerry ищет инженера по контролю качества среднего уровня для работы над передовым проектом бронирования отелей.</p>\\n<p>Мы создаем инновационные продукты в индустрии туристических технологий, которые помогают отелям подключать новые каналы продаж, общаться с гостями и управлять контентом. Среди наших клиентов - крупные международные отели и курорты, а также независимые отели в США. В 2022 году мы выходим на рынки Латинской Америки, Канады и Европы.</p>\\n<p>Инструменты и сервисы BnBerry используются отелями для подключения к гостиничным рынкам, управления распределением запасов, бронированиями, доходами и обслуживанием клиентов. В нашем портфолио представлены лучшие международные отели и курорты, а также независимые и франчайзинговые отели.</p>\\n<p><strong>Основные обязанности</strong></p>\\n<p>Помощь в определении методологии тестирования, критерий и тестовых примеров, необходимых для проверки критической функциональности</p>\\n<p>Выявление дефектов и написание четких и воспроизводимых отчетов об ошибках в соответствии со стандартами команды в отношении дефектов</p>\\n<p>Подготовка планов тестирования, разработка тестовых примеров и выполнение тестов с акцентом на охват пользовательских историй</p>\\n<p>Исследование и анализ данных с помощью инструкций SQL</p>\\n<p>Работа в гибкой и быстро меняющейся среде</p>\\n<p>Обмен лучшими практиками контроля качества с коллегами</p>\\n<p><strong>Необходимые Навыки и Умения</strong></p>\\n<p>Более 3 лет в области обеспечения качества программного обеспечения<br>Опыт работы с веб-тестированием и тестированием API<br>Позитивное мышление, ориентация на качество, надежность, способность к организации, исключительное внимание к деталям<br>Уровень В1 по письменному техническому английскому языку<br>Опыт работы в качестве инженера по контролю качества, работающего с серверными технологиями, такими как API, DB (включая знание SQL) и сервисы</p>\\n<p></p><p>Мы предлагаем:<br>1. Это удаленная должность на полный рабочий день<br>2. Оплачиваемый отпуск и выходные<br>3. Ежеквартальный бонус за результативность<br>4. Годовой бюджет на профессиональный рост (образование, тренинги)</p>\",\n",
       "  \"identifier\": {\n",
       "    \"@type\": \"PropertyValue\",\n",
       "    \"name\": \"BnBerry\",\n",
       "    \"value\": \"1000070949\"\n",
       "  },\n",
       "  \"validThrough\" : \"2022-10-19\",\n",
       "  \"hiringOrganization\" : {\n",
       "    \"@type\" : \"Organization\",\n",
       "    \"name\" : \"BnBerry\",\n",
       "      \"logo\" : \"https://habrastorage.org/getpro/moikrug/uploads/company/100/007/028/1/logo/ecb79f4255fb4aa8fe1e03011b6d6055.png\",\n",
       "    \"sameAs\" : \"https://bnberry.com\"\n",
       "  },\n",
       "    \"jobLocation\": {\n",
       "      \"@type\": \"Place\",\n",
       "      \"address\": \"Russia\"\n",
       "    },\n",
       "  \"jobLocationType\": \"TELECOMMUTE\",\n",
       " \"baseSalary\": {\n",
       "    \"@type\": \"MonetaryAmount\",\n",
       "    \"currency\": \"USD\",\n",
       "    \"value\": {\n",
       "      \"@type\": \"QuantitativeValue\",\n",
       "        \"minValue\": 2000.0,\n",
       "        \"maxValue\": 2000.0,\n",
       "      \"unitText\": \"MONTH\"\n",
       "    }\n",
       "  },\n",
       "  \"employmentType\": \"FULL_TIME\"\n",
       "}\n",
       "</script><meta content=\"https://habrastorage.org/getpro/moikrug/uploads/company/100/007/028/1/logo/medium_ecb79f4255fb4aa8fe1e03011b6d6055.png\" property=\"vk:image\"/><link href=\"https://career.habr.com/vacancies/1000070949\" rel=\"canonical\"/><link href=\"https://career.habr.com/images/career_share.png\" rel=\"image_src\"/><link href=\"/images/favicons/apple-touch-icon-76.png\" rel=\"apple-touch-icon\" sizes=\"76x76\" type=\"image/png\"/><link href=\"/images/favicons/apple-touch-icon-120.png\" rel=\"apple-touch-icon\" sizes=\"120x120\" type=\"image/png\"/><link href=\"/images/favicons/apple-touch-icon-152.png\" rel=\"apple-touch-icon\" sizes=\"152x152\" type=\"image/png\"/><link href=\"/images/favicons/apple-touch-icon-180.png\" rel=\"apple-touch-icon\" sizes=\"180x180\" type=\"image/png\"/><link href=\"/images/favicons/favicon-16.png\" rel=\"icon\" sizes=\"16x16\" type=\"image/png\"/><link href=\"/images/favicons/favicon-32.png\" rel=\"icon\" sizes=\"32x32\" type=\"image/png\"/><link href=\"/images/favicons/mask-icon.png\" rel=\"icon\" type=\"image/png\"/></head><body class=\"vacancies_show_page\" data-responsive=\"\"><div class=\"page-container\"><header class=\"page-container__header\"><div class=\"tm-panel\" data-featured=\"\"><div class=\"page-width\"><div class=\"tm-panel__container\"><button aria-label=\"Открыть меню проектов Хабра\" class=\"tm-panel__burger mq-mobile-only\" data-overlay-trigger=\"burger-overlay\"><span class=\"tm-panel__burger-stripes\"></span></button><div class=\"tm-panel__logo-wrapper\" data-tm-dropdown-boundary=\"\"><a class=\"tm-panel__logo\" href=\"https://career.habr.com/\" rel=\"nofollow\" title=\"Хабр Карьера\"><svg fill=\"none\" height=\"24\" id=\"logo\" viewbox=\"0 0 164 24\" width=\"164\" xmlns=\"http://www.w3.org/2000/svg\">\n",
       "<path d=\"M16.875 19L11.075 10.225L16.825 1.4H12.6L8.75 7.4L4.94999 1.4H0.574994L6.32499 10.15L0.524994 19H4.79999L8.64999 12.975L12.525 19H16.875Z\" fill=\"white\"></path>\n",
       "<path d=\"M24.2607 5.775C20.8857 5.775 18.9607 7.625 18.6107 9.85H22.0107C22.2107 9.175 22.8607 8.6 24.1107 8.6C25.3357 8.6 26.2357 9.225 26.2357 10.425V11.025H23.4107C20.1107 11.025 18.1107 12.55 18.1107 15.2C18.1107 17.8 20.1107 19.3 22.6107 19.3C24.2857 19.3 25.6357 18.65 26.4357 17.6V19H29.8107V10.55C29.8107 7.4 27.5857 5.775 24.2607 5.775ZM23.6107 16.475C22.4857 16.475 21.7607 15.925 21.7607 15.025C21.7607 14.1 22.5607 13.55 23.6857 13.55H26.2357V14.125C26.2357 15.625 25.0107 16.475 23.6107 16.475Z\" fill=\"white\"></path>\n",
       "<path d=\"M39.925 6.3C38.125 6.3 36.65 6.95 35.7 8.275C35.95 5.85 36.925 4.65 39.375 4.275L44.3 3.55V0.375L39.025 1.25C33.925 2.1 32.35 5.5 32.35 11.175C32.35 16.275 34.825 19.3 39.2 19.3C43.125 19.3 45.55 16.3 45.55 12.7C45.55 8.825 43.3 6.3 39.925 6.3ZM39.025 16.25C37.125 16.25 36.075 14.725 36.075 12.675C36.075 10.7 37.175 9.275 39.05 9.275C40.875 9.275 41.9 10.75 41.9 12.7C41.9 14.65 40.9 16.25 39.025 16.25Z\" fill=\"white\"></path>\n",
       "<path d=\"M55.2855 5.775C53.3855 5.775 52.1605 6.6 51.5105 7.575V6.075H48.0105V23.775H51.6605V17.75C52.3105 18.65 53.5355 19.3 55.1855 19.3C58.3605 19.3 60.8855 16.8 60.8855 12.55C60.8855 8.225 58.3605 5.775 55.2855 5.775ZM54.4105 16.15C52.7105 16.15 51.5855 14.775 51.5855 12.6V12.5C51.5855 10.325 52.7105 8.925 54.4105 8.925C56.1105 8.925 57.2105 10.35 57.2105 12.55C57.2105 14.75 56.1105 16.15 54.4105 16.15Z\" fill=\"white\"></path>\n",
       "<path d=\"M82.5357 19L74.0357 9.825L82.3857 1.4H79.5107L71.6857 9.25V1.4H69.4607V19H71.6857V10.6L79.5857 19H82.5357Z\" fill=\"white\"></path>\n",
       "<path d=\"M89.266 6.125C86.391 6.125 84.641 7.75 84.241 9.7H86.316C86.666 8.775 87.566 8.025 89.216 8.025C90.841 8.025 92.066 8.9 92.066 10.65V11.5H88.716C85.641 11.5 83.766 12.975 83.766 15.4C83.766 17.8 85.666 19.275 88.116 19.275C89.716 19.275 91.216 18.675 92.166 17.5V19H94.191V10.65C94.191 7.825 92.216 6.125 89.266 6.125ZM88.391 17.4C86.991 17.4 85.941 16.7 85.941 15.375C85.941 14.025 87.116 13.325 88.841 13.325H92.066V14.25C92.066 16.175 90.391 17.4 88.391 17.4Z\" fill=\"white\"></path>\n",
       "<path d=\"M104.022 6.125C101.847 6.125 100.522 7.125 99.8973 8.2V6.4H97.8223V23.775H99.9723V17.45C100.572 18.375 101.922 19.275 103.947 19.275C106.847 19.275 109.697 17.15 109.697 12.7C109.697 8.275 106.872 6.125 104.022 6.125ZM103.747 17.325C101.422 17.325 99.8973 15.55 99.8973 12.75V12.65C99.8973 9.85 101.422 8.075 103.747 8.075C105.997 8.075 107.497 9.95 107.497 12.7C107.497 15.45 105.997 17.325 103.747 17.325Z\" fill=\"white\"></path>\n",
       "<path d=\"M117.665 10.475H114.84V6.4H112.69V19H117.64C120.34 19 122.09 17.15 122.09 14.7C122.09 12.25 120.34 10.475 117.665 10.475ZM117.39 17.1H114.84V12.375H117.39C119.04 12.375 119.94 13.35 119.94 14.7C119.94 16.05 119.04 17.1 117.39 17.1Z\" fill=\"white\"></path>\n",
       "<path d=\"M135.646 13.35V12.25C135.646 8.5 133.496 6.125 130.146 6.125C126.696 6.125 124.221 8.625 124.221 12.7C124.221 16.75 126.671 19.275 130.321 19.275C133.596 19.275 135.171 17.225 135.496 15.75H133.321C133.096 16.4 132.096 17.35 130.346 17.35C128.021 17.35 126.471 15.65 126.471 13.4V13.35H135.646ZM130.096 8.05C132.121 8.05 133.371 9.35 133.471 11.525H126.496C126.671 9.45 127.996 8.05 130.096 8.05Z\" fill=\"white\"></path>\n",
       "<path d=\"M144.843 6.125C142.668 6.125 141.343 7.125 140.718 8.2V6.4H138.643V23.775H140.793V17.45C141.393 18.375 142.743 19.275 144.768 19.275C147.668 19.275 150.518 17.15 150.518 12.7C150.518 8.275 147.693 6.125 144.843 6.125ZM144.568 17.325C142.243 17.325 140.718 15.55 140.718 12.75V12.65C140.718 9.85 142.243 8.075 144.568 8.075C146.818 8.075 148.318 9.95 148.318 12.7C148.318 15.45 146.818 17.325 144.568 17.325Z\" fill=\"white\"></path>\n",
       "<path d=\"M158.236 6.125C155.361 6.125 153.611 7.75 153.211 9.7H155.286C155.636 8.775 156.536 8.025 158.186 8.025C159.811 8.025 161.036 8.9 161.036 10.65V11.5H157.686C154.611 11.5 152.736 12.975 152.736 15.4C152.736 17.8 154.636 19.275 157.086 19.275C158.686 19.275 160.186 18.675 161.136 17.5V19H163.161V10.65C163.161 7.825 161.186 6.125 158.236 6.125ZM157.361 17.4C155.961 17.4 154.911 16.7 154.911 15.375C154.911 14.025 156.086 13.325 157.811 13.325H161.036V14.25C161.036 16.175 159.361 17.4 157.361 17.4Z\" fill=\"white\"></path>\n",
       "</svg>\n",
       "</a><button class=\"tm-panel__projects-dropdown mq-not-mobile\" data-tm-dropdown-control=\"\"><svg fill=\"none\" height=\"6\" viewbox=\"0 0 10 6\" width=\"10\" xmlns=\"http://www.w3.org/2000/svg\">\n",
       "<path clip-rule=\"evenodd\" d=\"M5.70711 5.70711C5.31658 6.09763 4.68342 6.09763 4.29289 5.70711L0.292892 1.70711C-0.097632 1.31658 -0.0976319 0.683417 0.292892 0.292893C0.683417 -0.0976308 1.31658 -0.0976308 1.70711 0.292893L5 3.58579L8.29289 0.292894C8.68342 -0.0976301 9.31658 -0.0976301 9.70711 0.292894C10.0976 0.683418 10.0976 1.31658 9.70711 1.70711L5.70711 5.70711Z\" fill-rule=\"evenodd\"></path>\n",
       "</svg>\n",
       "</button><div class=\"tm-panel__dropdown hidden\" data-tm-dropdown=\"\"><div class=\"tm-panel__dropdown-heading\">Все сервисы Хабра</div><a class=\"tm-panel__service\" href=\"https://habr.com/?utm_source=habr_career&amp;utm_medium=habr_top_panel\" rel=\"nofollow\"><div class=\"tm-panel__service-title\"><svg fill=\"none\" height=\"22\" viewbox=\"0 0 52 22\" width=\"52\" xmlns=\"http://www.w3.org/2000/svg\">\n",
       "<path d=\"M13.86 17.0001L8.514 9.23405L13.816 1.51205H11.528L7.26 7.76005L2.97 1.51205H0.659997L5.984 9.19005L0.615997 17.0001H2.926L7.194 10.6861L11.528 17.0001H13.86Z\" fill=\"#333333\"></path>\n",
       "<path d=\"M20.181 5.67005C17.651 5.67005 16.111 7.10005 15.759 8.81605H17.585C17.893 8.00205 18.685 7.34205 20.137 7.34205C21.567 7.34205 22.645 8.11205 22.645 9.65205V10.4001H19.697C16.991 10.4001 15.341 11.6981 15.341 13.8321C15.341 15.9441 17.013 17.2421 19.169 17.2421C20.577 17.2421 21.897 16.7141 22.733 15.6801V17.0001H24.515V9.65205C24.515 7.16605 22.777 5.67005 20.181 5.67005ZM19.411 15.5921C18.179 15.5921 17.255 14.9761 17.255 13.8101C17.255 12.6221 18.289 12.0061 19.807 12.0061H22.645V12.8201C22.645 14.5141 21.171 15.5921 19.411 15.5921Z\" fill=\"#333333\"></path>\n",
       "<path d=\"M32.9685 5.91205C31.2965 5.91205 29.9545 6.55005 29.1185 7.78205C29.3825 5.27405 30.3945 3.88805 32.9025 3.42605L36.9505 2.67805V0.852051L32.5065 1.75405C28.7665 2.52405 27.2045 4.96605 27.2045 10.5101C27.2045 14.8001 29.4045 17.2421 32.7925 17.2421C36.0265 17.2421 38.0505 14.7121 38.0505 11.5441C38.0505 7.91405 35.8285 5.91205 32.9685 5.91205ZM32.7045 15.5261C30.6145 15.5261 29.2065 13.9641 29.2065 11.4561C29.2065 8.97005 30.7685 7.60605 32.7265 7.60605C34.7725 7.60605 36.1145 9.23405 36.1145 11.5441C36.1145 13.8541 34.7945 15.5261 32.7045 15.5261Z\" fill=\"#333333\"></path>\n",
       "<path d=\"M46.1431 5.67005C44.2291 5.67005 43.0631 6.55005 42.5131 7.49605V5.91205H40.6871V21.2021H42.5791V15.6361C43.1071 16.4501 44.2951 17.2421 46.0771 17.2421C48.6291 17.2421 51.1371 15.3721 51.1371 11.4561C51.1371 7.56205 48.6511 5.67005 46.1431 5.67005ZM45.9011 15.5261C43.8551 15.5261 42.5131 13.9641 42.5131 11.5001V11.4121C42.5131 8.94805 43.8551 7.38605 45.9011 7.38605C47.8811 7.38605 49.2011 9.03605 49.2011 11.4561C49.2011 13.8761 47.8811 15.5261 45.9011 15.5261Z\" fill=\"#333333\"></path>\n",
       "</svg>\n",
       "</div><p class=\"tm-panel__service-description\">Сообщество IT-специалистов</p></a><a class=\"tm-panel__service\" href=\"https://qna.habr.com/?utm_source=habr_career&amp;utm_medium=habr_top_panel\" rel=\"nofollow\"><div class=\"tm-panel__service-title\"><svg fill=\"none\" height=\"18\" viewbox=\"0 0 46 18\" width=\"46\" xmlns=\"http://www.w3.org/2000/svg\">\n",
       "<path d=\"M14.4 8.25602C14.4 3.65802 11.606 0.27002 7.27201 0.27002C2.93801 0.27002 0.144012 3.65802 0.144012 8.25602C0.144012 12.854 2.93801 16.242 7.27201 16.242C8.41601 16.242 9.45001 16.022 10.352 15.604L11.518 17.342H13.696L11.848 14.614C13.476 13.184 14.4 10.918 14.4 8.25602ZM7.27201 14.416C4.10401 14.416 2.14601 11.864 2.14601 8.25602C2.14601 4.64802 4.10401 2.09602 7.27201 2.09602C10.44 2.09602 12.398 4.64802 12.398 8.25602C12.398 10.236 11.826 11.908 10.77 12.986L9.64801 11.314H7.47001L9.29601 14.02C8.70201 14.284 8.02001 14.416 7.27201 14.416Z\" fill=\"#333333\"></path>\n",
       "<path d=\"M30.965 16L27.973 12.766L30.921 9.11402H28.699L26.829 11.534L23.331 7.77202C25.377 6.80402 26.455 5.59402 26.455 3.85602C26.455 1.78802 24.871 0.27002 22.583 0.27002C20.207 0.27002 18.535 1.89802 18.535 3.87802C18.535 5.19802 19.305 6.12202 20.163 7.00202L20.427 7.26602C17.985 8.25602 16.753 9.73002 16.753 11.732C16.753 14.196 18.667 16.242 21.835 16.242C23.749 16.242 25.311 15.494 26.565 14.24L26.763 14.042L28.567 16H30.965ZM22.539 1.92002C23.705 1.92002 24.629 2.62402 24.629 3.83402C24.629 5.00002 23.793 5.90202 22.187 6.62802L21.571 6.01202C21.109 5.55002 20.405 4.82402 20.405 3.81202C20.405 2.66802 21.329 1.92002 22.539 1.92002ZM21.945 14.504C19.877 14.504 18.755 13.316 18.755 11.666C18.755 10.258 19.591 9.20202 21.593 8.43202L25.641 12.832L25.509 12.964C24.541 13.976 23.309 14.504 21.945 14.504Z\" fill=\"#333333\"></path>\n",
       "<path d=\"M43.5619 16H45.6739L39.8219 0.512019H37.7979L31.9459 16H34.0579L35.5539 11.908H42.0439L43.5619 16ZM38.7879 2.97602L41.3839 10.104H36.2139L38.7879 2.97602Z\" fill=\"#333333\"></path>\n",
       "</svg>\n",
       "</div><p class=\"tm-panel__service-description\">Ответы на любые вопросы об IT</p></a><a class=\"tm-panel__service\" href=\"https://career.habr.com/\" rel=\"nofollow\"><div class=\"tm-panel__service-title\"><svg fill=\"none\" height=\"21\" viewbox=\"0 0 84 21\" width=\"84\" xmlns=\"http://www.w3.org/2000/svg\">\n",
       "<path d=\"M12.442 16L4.96201 7.92596L12.31 0.511963H9.78001L2.894 7.41996V0.511963H0.936005V16H2.894V8.60796L9.84601 16H12.442Z\" fill=\"#333333\"></path>\n",
       "<path d=\"M18.3646 4.66996C15.8346 4.66996 14.2946 6.09996 13.9426 7.81596H15.7686C16.0766 7.00196 16.8686 6.34196 18.3206 6.34196C19.7506 6.34196 20.8286 7.11196 20.8286 8.65196V9.39996H17.8806C15.1746 9.39996 13.5246 10.698 13.5246 12.832C13.5246 14.944 15.1966 16.242 17.3526 16.242C18.7606 16.242 20.0806 15.714 20.9166 14.68V16H22.6986V8.65196C22.6986 6.16596 20.9606 4.66996 18.3646 4.66996ZM17.5946 14.592C16.3626 14.592 15.4386 13.976 15.4386 12.81C15.4386 11.622 16.4726 11.006 17.9906 11.006H20.8286V11.82C20.8286 13.514 19.3546 14.592 17.5946 14.592Z\" fill=\"#333333\"></path>\n",
       "<path d=\"M31.3501 4.66996C29.4361 4.66996 28.2701 5.54996 27.7201 6.49596V4.91196H25.8941V20.202H27.7861V14.636C28.3141 15.45 29.5021 16.242 31.2841 16.242C33.8361 16.242 36.3441 14.372 36.3441 10.456C36.3441 6.56196 33.8581 4.66996 31.3501 4.66996ZM31.1081 14.526C29.0621 14.526 27.7201 12.964 27.7201 10.5V10.412C27.7201 7.94796 29.0621 6.38596 31.1081 6.38596C33.0881 6.38596 34.4081 8.03596 34.4081 10.456C34.4081 12.876 33.0881 14.526 31.1081 14.526Z\" fill=\"#333333\"></path>\n",
       "<path d=\"M43.3561 8.49796H40.8701V4.91196H38.9781V16H43.3341C45.7101 16 47.2501 14.372 47.2501 12.216C47.2501 10.06 45.7101 8.49796 43.3561 8.49796ZM43.1141 14.328H40.8701V10.17H43.1141C44.5661 10.17 45.3581 11.028 45.3581 12.216C45.3581 13.404 44.5661 14.328 43.1141 14.328Z\" fill=\"#333333\"></path>\n",
       "<path d=\"M59.1788 11.028V10.06C59.1788 6.75996 57.2868 4.66996 54.3388 4.66996C51.3028 4.66996 49.1248 6.86996 49.1248 10.456C49.1248 14.02 51.2808 16.242 54.4928 16.242C57.3748 16.242 58.7608 14.438 59.0468 13.14H57.1328C56.9348 13.712 56.0548 14.548 54.5148 14.548C52.4688 14.548 51.1048 13.052 51.1048 11.072V11.028H59.1788ZM54.2948 6.36396C56.0768 6.36396 57.1768 7.50796 57.2648 9.42196H51.1268C51.2808 7.59596 52.4468 6.36396 54.2948 6.36396Z\" fill=\"#333333\"></path>\n",
       "<path d=\"M67.272 4.66996C65.358 4.66996 64.192 5.54996 63.642 6.49596V4.91196H61.816V20.202H63.708V14.636C64.236 15.45 65.424 16.242 67.206 16.242C69.758 16.242 72.266 14.372 72.266 10.456C72.266 6.56196 69.78 4.66996 67.272 4.66996ZM67.03 14.526C64.984 14.526 63.642 12.964 63.642 10.5V10.412C63.642 7.94796 64.984 6.38596 67.03 6.38596C69.01 6.38596 70.33 8.03596 70.33 10.456C70.33 12.876 69.01 14.526 67.03 14.526Z\" fill=\"#333333\"></path>\n",
       "<path d=\"M79.058 4.66996C76.528 4.66996 74.988 6.09996 74.636 7.81596H76.462C76.77 7.00196 77.562 6.34196 79.014 6.34196C80.444 6.34196 81.522 7.11196 81.522 8.65196V9.39996H78.574C75.868 9.39996 74.218 10.698 74.218 12.832C74.218 14.944 75.89 16.242 78.046 16.242C79.454 16.242 80.774 15.714 81.61 14.68V16H83.392V8.65196C83.392 6.16596 81.654 4.66996 79.058 4.66996ZM78.288 14.592C77.056 14.592 76.132 13.976 76.132 12.81C76.132 11.622 77.166 11.006 78.684 11.006H81.522V11.82C81.522 13.514 80.048 14.592 78.288 14.592Z\" fill=\"#333333\"></path>\n",
       "</svg>\n",
       "</div><p class=\"tm-panel__service-description\">Профессиональное развитие в IT</p></a><a class=\"tm-panel__service\" href=\"https://freelance.habr.com/?utm_source=habr_career&amp;utm_medium=habr_top_panel\" rel=\"nofollow\"><div class=\"tm-panel__service-title\"><svg fill=\"none\" height=\"21\" viewbox=\"0 0 91 21\" width=\"91\" xmlns=\"http://www.w3.org/2000/svg\">\n",
       "<path d=\"M9.032 1.65602V0.0720215H7.118V1.65602C3.268 1.72202 0.0339966 4.01002 0.0339966 8.16802C0.0339966 12.304 3.268 14.592 7.118 14.658V16.242H9.032V14.658C12.882 14.592 16.116 12.304 16.116 8.16802C16.116 4.01002 12.882 1.72202 9.032 1.65602ZM7.118 12.898C4.082 12.832 2.014 11.05 2.014 8.16802C2.014 5.26402 4.082 3.48202 7.118 3.41602V12.898ZM9.032 12.898V3.41602C12.068 3.48202 14.136 5.26402 14.136 8.16802C14.136 11.05 12.068 12.832 9.032 12.898Z\" fill=\"#333333\"></path>\n",
       "<path d=\"M24.2603 4.67002C22.3463 4.67002 21.1803 5.55002 20.6303 6.49602V4.91202H18.8043V20.202H20.6963V14.636C21.2243 15.45 22.4123 16.242 24.1943 16.242C26.7463 16.242 29.2543 14.372 29.2543 10.456C29.2543 6.56202 26.7683 4.67002 24.2603 4.67002ZM24.0183 14.526C21.9723 14.526 20.6303 12.964 20.6303 10.5V10.412C20.6303 7.94802 21.9723 6.38602 24.0183 6.38602C25.9983 6.38602 27.3183 8.03602 27.3183 10.456C27.3183 12.876 25.9983 14.526 24.0183 14.526Z\" fill=\"#333333\"></path>\n",
       "<path d=\"M39.4123 4.91202L33.7583 13.074V4.91202H31.8883V16H33.7583L39.4123 7.83802V16H41.2823V4.91202H39.4123Z\" fill=\"#333333\"></path>\n",
       "<path d=\"M46.0815 4.91202L45.5095 11.71C45.3555 13.624 44.9595 14.328 43.5735 14.328H43.2655V16.044H43.7935C46.0595 16.044 47.0935 14.856 47.3355 11.842L47.7755 6.60602H51.8455V16H53.7375V4.91202H46.0815Z\" fill=\"#333333\"></path>\n",
       "<path d=\"M61.2045 4.67002C58.6745 4.67002 57.1345 6.10002 56.7825 7.81602H58.6085C58.9165 7.00202 59.7085 6.34202 61.1605 6.34202C62.5905 6.34202 63.6685 7.11202 63.6685 8.65202V9.40002H60.7205C58.0145 9.40002 56.3645 10.698 56.3645 12.832C56.3645 14.944 58.0365 16.242 60.1925 16.242C61.6005 16.242 62.9205 15.714 63.7565 14.68V16H65.5385V8.65202C65.5385 6.16602 63.8005 4.67002 61.2045 4.67002ZM60.4345 14.592C59.2025 14.592 58.2785 13.976 58.2785 12.81C58.2785 11.622 59.3125 11.006 60.8305 11.006H63.6685V11.82C63.6685 13.514 62.1945 14.592 60.4345 14.592Z\" fill=\"#333333\"></path>\n",
       "<path d=\"M76.104 4.91202V9.37802H70.626V4.91202H68.734V16H70.626V11.094H76.104V16H77.996V4.91202H76.104Z\" fill=\"#333333\"></path>\n",
       "<path d=\"M85.9003 14.526C83.8983 14.526 82.5783 12.876 82.5783 10.456C82.5783 8.05802 83.8543 6.38602 85.8783 6.38602C87.6383 6.38602 88.4523 7.53002 88.7383 8.45402H90.6303C90.3443 6.69402 88.8263 4.67002 85.8783 4.67002C82.6883 4.67002 80.6423 7.13402 80.6423 10.456C80.6423 13.844 82.7323 16.242 85.8783 16.242C88.6283 16.242 90.3883 14.394 90.6303 12.414H88.7383C88.4963 13.36 87.7483 14.526 85.9003 14.526Z\" fill=\"#333333\"></path>\n",
       "</svg>\n",
       "</div><p class=\"tm-panel__service-description\">Удаленная работа для IT-специалистов</p></a></div></div><div data-feature=\"\"></div><div class=\"tm-panel__visitor\"><div data-megaposts=\"\"></div><div class=\"tm-panel__user-auth mq-mobile-only\"><div class=\"user-auth-menu user-auth-menu--appearance-mobile\"><button class=\"user-auth-menu__toggle user-auth-menu__toggle--appearance-mobile\" data-header-dropdown-toggle=\"user-auth-menu-mobile\"><svg class=\"svg-icon svg-icon--icon-person svg-icon--color-white\" style=\"--svg-icon--size: 24\"><use xlink:href=\"/images/icons-13.svg#person\"></use></svg></button><div class=\"user-auth-menu__popup\" data-header-dropdown=\"user-auth-menu-mobile\"><a class=\"button-comp button-comp--appearance-primary button-comp--size-l user-auth-menu__sign_in\" data-sign-in=\"header\" href=\"https://career.habr.com/users/auth/tmid\" rel=\"nofollow\">Войти через Хабр Аккаунт</a><a class=\"button-comp button-comp--appearance-secondary button-comp--size-l user-auth-menu__sign_up\" data-sign-up=\"header\" href=\"https://career.habr.com/users/auth/tmid/register\" rel=\"nofollow\">Зарегистрироваться</a></div></div></div></div></div></div></div><div class=\"header\"><div class=\"header__inner\"><div class=\"header__right mq-not-mobile\"><div class=\"user-auth-menu user-auth-menu--appearance-desktop\"><button class=\"user-auth-menu__toggle user-auth-menu__toggle--appearance-desktop\" data-header-dropdown-toggle=\"user-auth-menu-desktop\"><svg class=\"svg-icon svg-icon--icon-person svg-icon--color-muted-blue\" style=\"--svg-icon--size: 24\"><use xlink:href=\"/images/icons-13.svg#person\"></use></svg></button><div class=\"user-auth-menu__popup\" data-header-dropdown=\"user-auth-menu-desktop\"><a class=\"button-comp button-comp--appearance-primary button-comp--size-l user-auth-menu__sign_in\" data-sign-in=\"header\" href=\"https://career.habr.com/users/auth/tmid\" rel=\"nofollow\">Войти через Хабр Аккаунт</a><a class=\"button-comp button-comp--appearance-secondary button-comp--size-l user-auth-menu__sign_up\" data-sign-up=\"header\" href=\"https://career.habr.com/users/auth/tmid/register\" rel=\"nofollow\">Зарегистрироваться</a></div></div></div><div class=\"header__top-menu-wrapper\"><div class=\"header__top_main_menu\" data-scroll-to-active-link=\"\"><a href=\"https://career.habr.com/vacancies\">Вакансии</a><a href=\"https://career.habr.com/resumes\">Специалисты</a><a href=\"https://career.habr.com/companies\">Компании</a><a href=\"https://career.habr.com/companies/ratings\">Рейтинг</a><a href=\"https://career.habr.com/salaries\">Зарплаты</a><a href=\"https://career.habr.com/courses\">Образование</a><a href=\"https://career.habr.com/journal\">Журнал</a></div></div></div></div></header><div class=\"page-container__main\"><div class=\"page-width page-width--responsive\"><div class=\"content-wrapper\"><div class=\"content-wrapper__main content-wrapper__main--left\"><article class=\"vacancy-show\" data-vacancy-show=\"\"><article class=\"vacancy-show\"><section class=\"page-section\"><div class=\"section-box\"><div class=\"basic-section\"><div class=\"vacancy-header__title\"><div class=\"page-title\"><h1 class=\"page-title__title\">Middle QA engineer </h1></div><div class=\"vacancy-header__date\"><span class=\"basic-text basic-text--color-muted\"><time class=\"basic-date\" datetime=\"2022-10-10T08:49:17+03:00\">10 октября</time></span></div></div><div class=\"content-section\"><div class=\"content-section__header\"><h2 class=\"content-section__title\">Зарплата</h2><div class=\"content-section__aside\"></div></div><div class=\"basic-salary basic-salary--appearance-vacancy-header\">до 2000 $</div></div><div class=\"content-section\"><div class=\"content-section__header\"><h2 class=\"content-section__title\">Требования</h2><div class=\"content-section__aside\"></div></div><span class=\"inline-list\"><span><span class=\"inline-list\"><span><span class=\"preserve-line\"><a class=\"link-comp link-comp--appearance-dark\" href=\"/vacancies?s%5B%5D=12\">Инженер по ручному тестированию</a></span>, </span><span><span class=\"preserve-line\"><a class=\"link-comp link-comp--appearance-dark\" href=\"/vacancies?qid=4\">Средний (Middle)</a></span></span></span><span class=\"inline-separator\"> • </span></span><span><span class=\"preserve-line\"><a class=\"link-comp link-comp--appearance-dark\" href=\"/vacancies?skills%5B%5D=947\">Git</a></span><span class=\"inline-separator\"> • </span></span><span><span class=\"preserve-line\"><a class=\"link-comp link-comp--appearance-dark\" href=\"/vacancies?skills%5B%5D=322\">SQL</a></span><span class=\"inline-separator\"> • </span></span><span><span class=\"preserve-line\"><a class=\"link-comp link-comp--appearance-dark\" href=\"/vacancies?skills%5B%5D=30\">Базы данных</a></span><span class=\"inline-separator\"> • </span></span><span><span class=\"preserve-line\"><a class=\"link-comp link-comp--appearance-dark\" href=\"/vacancies?skills%5B%5D=989\">Английский язык</a></span><span class=\"inline-separator\"> • </span></span><span><span class=\"preserve-line\"><a class=\"link-comp link-comp--appearance-dark\" href=\"/vacancies?skills%5B%5D=173\">REST</a></span></span></span></div><div class=\"content-section\"><div class=\"content-section__header\"><h2 class=\"content-section__title\">Местоположение и тип занятости</h2><div class=\"content-section__aside\"></div></div><span class=\"inline-list\"><span><span class=\"inline-list\"></span><span class=\"inline-separator\"> • </span></span><span><span class=\"preserve-line\">Полный рабочий день</span><span class=\"inline-separator\"> • </span></span><span><span class=\"preserve-line\">Можно удаленно</span></span></span></div><div class=\"mq-mobile-only\"><div class=\"content-section\"><div class=\"content-section__header\"><h2 class=\"content-section__title\">Компания</h2><div class=\"content-section__aside\"></div></div><div class=\"vacancy-company\"><div class=\"vacancy-company__title\"><a class=\"basic-avatar basic-avatar--size-extra-small basic-avatar--roundness-small\" href=\"/companies/bnberry\"><img alt=\"Логотип компании «BnBerry»\" class=\"basic-avatar__image\" src=\"https://habrastorage.org/getpro/moikrug/uploads/company/100/007/028/1/logo/ecb79f4255fb4aa8fe1e03011b6d6055.png\"/></a><a class=\"link-comp link-comp--appearance-dark\" href=\"/companies/bnberry\">BnBerry</a></div><div class=\"vacancy-company__sub-title\">Connecting hotels to the new market of Lodging Marketplaces</div><div class=\"vacancy-company__footer\"><a class=\"link-comp\" href=\"https://bnberry.com\" rel=\"noreferrer nofollow\" target=\"_blank\">bnberry.com</a><a class=\"link-comp link-comp--appearance-dimmed\" href=\"/companies/bnberry/vacancies\">Все вакансии (3)</a></div></div></div></div></div></div></section><section class=\"page-section\"><div class=\"section-box\"><div class=\"basic-section basic-section--appearance-vacancy-description\"><h2 class=\"section-title section-title--divider\"><span class=\"section-title__title\">Описание вакансии</span><span class=\"section-title__right\"></span></h2><div class=\"collapsible-description\"><div class=\"collapsible-description__content\"><div><div class=\"style-ugc\"><p>Американская компания BnBerry ищет инженера по контролю качества среднего уровня для работы над передовым проектом бронирования отелей.</p>\n",
       "<p>Мы создаем инновационные продукты в индустрии туристических технологий, которые помогают отелям подключать новые каналы продаж, общаться с гостями и управлять контентом. Среди наших клиентов - крупные международные отели и курорты, а также независимые отели в США. В 2022 году мы выходим на рынки Латинской Америки, Канады и Европы.</p>\n",
       "<p>Инструменты и сервисы BnBerry используются отелями для подключения к гостиничным рынкам, управления распределением запасов, бронированиями, доходами и обслуживанием клиентов. В нашем портфолио представлены лучшие международные отели и курорты, а также независимые и франчайзинговые отели.</p>\n",
       "<p><strong>Основные обязанности</strong></p>\n",
       "<p>Помощь в определении методологии тестирования, критерий и тестовых примеров, необходимых для проверки критической функциональности</p>\n",
       "<p>Выявление дефектов и написание четких и воспроизводимых отчетов об ошибках в соответствии со стандартами команды в отношении дефектов</p>\n",
       "<p>Подготовка планов тестирования, разработка тестовых примеров и выполнение тестов с акцентом на охват пользовательских историй</p>\n",
       "<p>Исследование и анализ данных с помощью инструкций SQL</p>\n",
       "<p>Работа в гибкой и быстро меняющейся среде</p>\n",
       "<p>Обмен лучшими практиками контроля качества с коллегами</p>\n",
       "<p><strong>Необходимые Навыки и Умения</strong></p>\n",
       "<p>Более 3 лет в области обеспечения качества программного обеспечения<br/>Опыт работы с веб-тестированием и тестированием API<br/>Позитивное мышление, ориентация на качество, надежность, способность к организации, исключительное внимание к деталям<br/>Уровень В1 по письменному техническому английскому языку<br/>Опыт работы в качестве инженера по контролю качества, работающего с серверными технологиями, такими как API, DB (включая знание SQL) и сервисы</p>\n",
       "<p></p></div><h3>Бонусы</h3><div class=\"style-ugc\"><p>Мы предлагаем:<br/>1. Это удаленная должность на полный рабочий день<br/>2. Оплачиваемый отпуск и выходные<br/>3. Ежеквартальный бонус за результативность<br/>4. Годовой бюджет на профессиональный рост (образование, тренинги)</p></div></div></div></div><div class=\"basic-section basic-section--appearance-footer\"><div class=\"opposing-items\"><div class=\"opposing-items__side opposing-items__side--left\"><div class=\"share-buttons\"><span class=\"share-buttons__label mq-not-mobile\">Поделиться:</span><a class=\"button-comp\" href=\"https://vk.com/share.php?url=https://career.habr.com/vacancies/1000070949\"><svg class=\"svg-icon svg-icon--icon-vk\" style=\"--svg-icon--size: 24\"><use xlink:href=\"/images/social-v2.svg#vk\"></use></svg></a><a class=\"button-comp\" href=\"http://twitter.com/intent/tweet?text=Требуется «Middle QA engineer » (до 2 000 $)+https://career.habr.com/vacancies/1000070949+via+%40moikrug\"><svg class=\"svg-icon svg-icon--icon-twitter\" style=\"--svg-icon--size: 24\"><use xlink:href=\"/images/social-v2.svg#twitter\"></use></svg></a><a class=\"button-comp\" href=\"https://www.facebook.com/sharer/sharer.php?u=https://career.habr.com/vacancies/1000070949\"><svg class=\"svg-icon svg-icon--icon-facebook\" style=\"--svg-icon--size: 24\"><use xlink:href=\"/images/social-v2.svg#facebook\"></use></svg></a></div></div><div class=\"opposing-items__side opposing-items__side--right\"><button class=\"vacancy-favorite-btn\" data-active=\"\" data-active-title=\"Удалить из избранного\" data-inactive-title=\"Добавить в избранное\" data-vacancy-favorite-for=\"1000070949\" title=\"Добавить в избранное\" type=\"button\"><svg height=\"24\" id=\"favorite\" viewbox=\"0 0 24 24\" width=\"24\" xmlns=\"http://www.w3.org/2000/svg\"><path d=\"M12.6402 16.2318L12 15.6983L11.3598 16.2318L5.76822 20.8914C5.68405 20.9616 5.57795 21 5.46837 21C5.2097 21 5 20.7903 5 20.5316V6C5 4.34315 6.34315 3 8 3H16C17.6569 3 19 4.34315 19 6V20.5316C19 20.7903 18.7903 21 18.5316 21C18.4221 21 18.316 20.9616 18.2318 20.8914L12.6402 16.2318Z\" stroke=\"#929CA5\" stroke-width=\"2\"></path></svg>\n",
       "</button></div></div></div></div></div></section></article><div class=\"mq-mobile-only\"><section class=\"page-section\"><div class=\"similar_vacancies\"><div class=\"section-box\"><div class=\"basic-section\"><h2 class=\"section-title section-title--divider\"><span class=\"section-title__title\">Смотреть ещё вакансии</span><span class=\"section-title__right\"></span></h2><div class=\"block-landing-links\"><div class=\"landing-link\"><div class=\"landing-link_body\"><a class=\"landing-link_body-title js-vacancy-landing-link\" href=\"/vacancies/testirovschik_qa\" target=\"_blank\">QA тестировщик</a><div class=\"landing-link_body-counter\">280</div></div></div><div class=\"landing-link\"><div class=\"landing-link_body\"><a class=\"landing-link_body-title js-vacancy-landing-link\" href=\"/vacancies/testirovschik_qa/remote\" target=\"_blank\">QA тестировщик  удаленно</a><div class=\"landing-link_body-counter\">166</div></div></div><div class=\"landing-link\"><div class=\"landing-link_body\"><a class=\"landing-link_body-title js-vacancy-landing-link\" href=\"/vacancies/testirovschik_qa/remote/full_time\" target=\"_blank\">QA тестировщик на полный рабочий день удаленно</a><div class=\"landing-link_body-counter\">156</div></div></div><div class=\"landing-link\"><div class=\"landing-link_body\"><a class=\"landing-link_body-title js-vacancy-landing-link\" href=\"/vacancies/testirovschik_qa/full_time\" target=\"_blank\">QA тестировщик на полный рабочий день </a><div class=\"landing-link_body-counter\">233</div></div></div></div></div></div></div></section></div></article></div><aside class=\"content-wrapper__sidebar content-wrapper__sidebar--right\" data-sidebar=\"\"><div class=\"mq-not-mobile\"><div class=\"section company_info section--rounded\"><a class=\"logo\" href=\"/companies/bnberry\"><img alt=\"Логотип компании «BnBerry»\" src=\"https://habrastorage.org/getpro/moikrug/uploads/company/100/007/028/1/logo/medium_ecb79f4255fb4aa8fe1e03011b6d6055.png\"/></a><div class=\"company_name\"><a href=\"/companies/bnberry\">BnBerry</a></div><div class=\"company_about\">Connecting hotels to the new market of Lodging Marketplaces</div><div class=\"company_site\"><a href=\"https://bnberry.com\" rel=\"nofollow\">bnberry.com</a></div><div class=\"company_vacancies\"><div class=\"vacancies_list\"><div class=\"vacancies_list__item\"><a class=\"vacancies_list__job_icon\" href=\"/vacancies/1000092135\" style=\"background-image: url('https://habrastorage.org/getpro/moikrug/uploads/company/100/007/028/1/logo/medium_ecb79f4255fb4aa8fe1e03011b6d6055.png')\"></a><div class=\"vacancies_list__info\"><div class=\"vacancies_list__title\"><a class=\"vacancies_list__vacancy-link\" href=\"/vacancies/1000092135\">Tech Lead (Team Lead)</a></div><div class=\"vacancies_list__meta mq-mobile-only\"><a class=\"vacancies_list__company-link\" href=\"/companies/bnberry\">BnBerry</a></div><div class=\"vacancies_list__salary\">От 5000 до 5200 $</div></div></div><div class=\"vacancies_list__item\"><a class=\"vacancies_list__job_icon\" href=\"/vacancies/1000088216\" style=\"background-image: url('https://habrastorage.org/getpro/moikrug/uploads/company/100/007/028/1/logo/medium_ecb79f4255fb4aa8fe1e03011b6d6055.png')\"></a><div class=\"vacancies_list__info\"><div class=\"vacancies_list__title\"><a class=\"vacancies_list__vacancy-link\" href=\"/vacancies/1000088216\">Middle PHP developer (Laravel) </a></div><div class=\"vacancies_list__meta mq-mobile-only\"><a class=\"vacancies_list__company-link\" href=\"/companies/bnberry\">BnBerry</a></div><div class=\"vacancies_list__salary\">От 2500 до 2500 $</div></div></div></div><div class=\"load_more\"><a href=\"/companies/bnberry/vacancies\">ВСЕ ВАКАНСИИ (3)</a></div></div></div></div><section class=\"page-section\"><div class=\"similar_vacancies\"><div class=\"section-box\"><div class=\"basic-section\"><h2 class=\"section-title section-title--divider\"><span class=\"section-title__title\">Похожие вакансии</span><span class=\"section-title__right\"></span></h2><div class=\"vacancies_list\"><div class=\"vacancies_list__item\"><a class=\"vacancies_list__job_icon\" href=\"/vacancies/1000112046\" style=\"background-image: url('https://habrastorage.org/getpro/moikrug/uploads/company/100/008/147/3/logo/medium_4a735d59d3317c23508fb88ebf00b2b4.png')\"></a><div class=\"vacancies_list__info\"><div class=\"vacancies_list__title\"><a class=\"vacancies_list__vacancy-link\" href=\"/vacancies/1000112046\">Junior Backend Developer</a></div><div class=\"vacancies_list__meta mq-mobile-only\"><a class=\"vacancies_list__company-link\" href=\"/companies/bg\">Banksia Global</a></div><div class=\"vacancies_list__company_name mq-not-mobile\"><a class=\"vacancies_list__company-link\" href=\"/companies/bg\">Banksia Global</a></div><div class=\"vacancies_list__salary\">От 1000 до 1500 $</div></div></div><div class=\"vacancies_list__item\"><a class=\"vacancies_list__job_icon\" href=\"/vacancies/1000112360\" style=\"background-image: url('https://habrastorage.org/getpro/moikrug/uploads/company/355/898/672/logo/medium_05b538efb8d684647f044b420180fb12.png')\"></a><div class=\"vacancies_list__info\"><div class=\"vacancies_list__title\"><a class=\"vacancies_list__vacancy-link\" href=\"/vacancies/1000112360\">Системный аналитик</a></div><div class=\"vacancies_list__meta mq-mobile-only\"><a class=\"vacancies_list__company-link\" href=\"/companies/mts\">МТС</a></div><div class=\"vacancies_list__company_name mq-not-mobile\"><a class=\"vacancies_list__company-link\" href=\"/companies/mts\">МТС</a></div></div></div><div class=\"vacancies_list__item\"><a class=\"vacancies_list__job_icon\" href=\"/vacancies/1000100573\" style=\"background-image: url('https://habrastorage.org/getpro/moikrug/uploads/company/100/006/318/5/logo/medium_11f28af8e2b678c213b9674379563ba0.png')\"></a><div class=\"vacancies_list__info\"><div class=\"vacancies_list__title\"><a class=\"vacancies_list__vacancy-link\" href=\"/vacancies/1000100573\">Ведущий аналитик</a></div><div class=\"vacancies_list__meta mq-mobile-only\"><a class=\"vacancies_list__company-link\" href=\"/companies/rt-labs\">РТЛабс</a></div><div class=\"vacancies_list__company_name mq-not-mobile\"><a class=\"vacancies_list__company-link\" href=\"/companies/rt-labs\">РТЛабс</a></div></div></div><div class=\"vacancies_list__item\"><a class=\"vacancies_list__job_icon\" href=\"/vacancies/1000111294\" style=\"background-image: url('https://habrastorage.org/getpro/moikrug/uploads/company/554/016/917/logo/medium_fdc6311963bd608c027cc7bc179c0ee3.png')\"></a><div class=\"vacancies_list__info\"><div class=\"vacancies_list__title\"><a class=\"vacancies_list__vacancy-link\" href=\"/vacancies/1000111294\">Senior Python разработчик</a></div><div class=\"vacancies_list__meta mq-mobile-only\"><a class=\"vacancies_list__company-link\" href=\"/companies/glowbyte\">GlowByte</a><span class=\"inline-separator\"> • </span><a class=\"vacancies_list__location-link\" href=\"/vacancies?city_id=678\">Москва</a></div><div class=\"vacancies_list__company_name mq-not-mobile\"><a class=\"vacancies_list__company-link\" href=\"/companies/glowbyte\">GlowByte</a></div><div class=\"vacancies_list__location mq-not-mobile\"><a class=\"vacancies_list__location-link\" href=\"/vacancies?city_id=678\">Москва</a></div></div></div><div class=\"vacancies_list__item\"><a class=\"vacancies_list__job_icon\" href=\"/vacancies/1000109846\" style=\"background-image: url('https://habrastorage.org/getpro/moikrug/uploads/company/355/898/672/logo/medium_05b538efb8d684647f044b420180fb12.png')\"></a><div class=\"vacancies_list__info\"><div class=\"vacancies_list__title\"><a class=\"vacancies_list__vacancy-link\" href=\"/vacancies/1000109846\">Go developer</a></div><div class=\"vacancies_list__meta mq-mobile-only\"><a class=\"vacancies_list__company-link\" href=\"/companies/mts\">МТС</a></div><div class=\"vacancies_list__company_name mq-not-mobile\"><a class=\"vacancies_list__company-link\" href=\"/companies/mts\">МТС</a></div></div></div><div class=\"vacancies_list__item\"><a class=\"vacancies_list__job_icon\" href=\"/vacancies/1000110933\" style=\"background-image: url('https://habrastorage.org/getpro/moikrug/uploads/company/100/006/216/9/logo/medium_064594126fdb56a072761ad36408c548.png')\"></a><div class=\"vacancies_list__info\"><div class=\"vacancies_list__title\"><a class=\"vacancies_list__vacancy-link\" href=\"/vacancies/1000110933\">Data Manager / Data Analyst</a></div><div class=\"vacancies_list__meta mq-mobile-only\"><a class=\"vacancies_list__company-link\" href=\"/companies/antaltalent\">Antal Talent</a><span class=\"inline-separator\"> • </span><a class=\"vacancies_list__location-link\" href=\"/vacancies?city_id=678\">Москва</a></div><div class=\"vacancies_list__company_name mq-not-mobile\"><a class=\"vacancies_list__company-link\" href=\"/companies/antaltalent\">Antal Talent</a></div><div class=\"vacancies_list__location mq-not-mobile\"><a class=\"vacancies_list__location-link\" href=\"/vacancies?city_id=678\">Москва</a></div><div class=\"vacancies_list__salary\">До 250 000 ₽</div></div></div></div></div></div></div></section><section class=\"page-section\"><div class=\"similar_vacancies\"><div class=\"section-box\"><div class=\"basic-section\"><h2 class=\"section-title section-title--divider\"><span class=\"section-title__title\">Смотреть ещё вакансии</span><span class=\"section-title__right\"></span></h2><div class=\"block-landing-links\"><div class=\"landing-link\"><div class=\"landing-link_body\"><a class=\"landing-link_body-title js-vacancy-landing-link\" href=\"/vacancies/testirovschik_qa\" target=\"_blank\">QA тестировщик</a><div class=\"landing-link_body-counter\">280</div></div></div><div class=\"landing-link\"><div class=\"landing-link_body\"><a class=\"landing-link_body-title js-vacancy-landing-link\" href=\"/vacancies/testirovschik_qa/remote\" target=\"_blank\">QA тестировщик  удаленно</a><div class=\"landing-link_body-counter\">166</div></div></div><div class=\"landing-link\"><div class=\"landing-link_body\"><a class=\"landing-link_body-title js-vacancy-landing-link\" href=\"/vacancies/testirovschik_qa/remote/full_time\" target=\"_blank\">QA тестировщик на полный рабочий день удаленно</a><div class=\"landing-link_body-counter\">156</div></div></div><div class=\"landing-link\"><div class=\"landing-link_body\"><a class=\"landing-link_body-title js-vacancy-landing-link\" href=\"/vacancies/testirovschik_qa/full_time\" target=\"_blank\">QA тестировщик на полный рабочий день </a><div class=\"landing-link_body-counter\">233</div></div></div></div></div></div></div></section></aside></div></div><footer class=\"footer\"><div class=\"page-width\"><div class=\"footer__links\"><div class=\"footer__section\"><p class=\"footer__section-title\">Хабр Карьера</p><ul class=\"footer__list\"><li class=\"footer__list-item\"><a href=\"https://career.habr.com/info/employee\">О сервисе</a></li><li class=\"footer__list-item\"><a href=\"https://career.habr.com/info/employer\">Услуги и цены</a></li><li class=\"footer__list-item\"><a href=\"/journal\">Журнал</a></li><li class=\"footer__list-item\"><a href=\"https://career.habr.com/catalog\">Каталог профессий</a></li><li class=\"footer__list-item\"><a href=\"https://career.habr.com/info/contacts\">Контакты</a></li></ul></div><div class=\"footer__section\"><p class=\"footer__section-title\">Помощь</p><ul class=\"footer__list\"><li class=\"footer__list-item\"><a href=\"https://career.habr.com/info/help_user\">Для соискателя</a></li><li class=\"footer__list-item\"><a href=\"https://career.habr.com/info/help_hr\">Для работодателя</a></li><li class=\"footer__list-item\"><a href=\"https://career.habr.com/info/api\">API сервиса</a></li><li class=\"footer__list-item\"><a href=\"https://career.habr.com/feedback\">Служба поддержки</a></li></ul></div><div class=\"footer__section footer__section--before-social\"><p class=\"footer__section-title\">Документы</p><ul class=\"footer__list\"><li class=\"footer__list-item\"><a href=\"https://career.habr.com/info/legal/agreement\">Соглашение с пользователем</a></li><li class=\"footer__list-item\"><a href=\"https://career.habr.com/info/legal/rules\">Правила оказания услуг</a></li><li class=\"footer__list-item\"><a href=\"/info/price\" target=\"blank\">Прайс-лист</a></li><li class=\"footer__list-item\"><a href=\"https://career.habr.com/info/partners\">Наши партнеры</a></li></ul></div><div class=\"footer__section footer__section--social\"><p class=\"footer__section-title\">Следите за нами в соцсетях</p><div class=\"footer__social\"><a class=\"footer__social-link footer__social-link--appearance-twitter\" href=\"https://twitter.com/habr_career\" rel=\"nofollow noopener noreferrer\" title=\"Мы в Twitter\"><svg class=\"svg-icon svg-icon--icon-twitter\" style=\"--svg-icon--size: 24\"><use xlink:href=\"/images/social-v2.svg#twitter\"></use></svg></a><a class=\"footer__social-link footer__social-link--appearance-facebook\" href=\"https://www.facebook.com/career.habr\" rel=\"nofollow noopener noreferrer\" title=\"Мы в Facebook\"><svg class=\"svg-icon svg-icon--icon-facebook\" style=\"--svg-icon--size: 24\"><use xlink:href=\"/images/social-v2.svg#facebook\"></use></svg></a><a class=\"footer__social-link footer__social-link--appearance-vk\" href=\"https://vk.com/habr_career\" rel=\"nofollow noopener noreferrer\" title=\"Мы во Вконтакте\"><svg class=\"svg-icon svg-icon--icon-vk\" style=\"--svg-icon--size: 24\"><use xlink:href=\"/images/social-v2.svg#vk\"></use></svg></a><a class=\"footer__social-link footer__social-link--appearance-instagram\" href=\"https://www.instagram.com/habr_career/\" rel=\"nofollow noopener noreferrer\" title=\"Мы в Instagram\"><svg class=\"svg-icon svg-icon--icon-instagram\" style=\"--svg-icon--size: 24\"><use xlink:href=\"/images/social-v2.svg#instagram\"></use></svg></a><a class=\"footer__social-link footer__social-link--appearance-telegram\" href=\"https://telegram.me/habr_career\" rel=\"nofollow noopener noreferrer\" title=\"Мы в Telegram\"><svg class=\"svg-icon svg-icon--icon-telegram\" style=\"--svg-icon--size: 24\"><use xlink:href=\"/images/social-v2.svg#telegram\"></use></svg></a><a class=\"footer__social-link footer__social-link--appearance-telegram-bot\" href=\"https://t.me/MoikrugBot\" rel=\"nofollow noopener noreferrer\" title=\"Наш телеграм-бот\"><svg class=\"svg-icon svg-icon--icon-telegram-bot\" style=\"--svg-icon--size: 24\"><use xlink:href=\"/images/social-v2.svg#telegram-bot\"></use></svg></a></div></div></div><div class=\"footer__meta\"><div class=\"footer__statistics\">Сейчас на сайте <a href=\"/vacancies\">3291</a> вакансия и <a href=\"/resumes\">258139</a> резюме, в среднем 12 откликов на вакансию</div><div class=\"footer__copyright\"><a class=\"simple\" href=\"https://company.habr.com/\">© Habr</a>, +7-499-653-59-61, <a class=\"simple\" href=\"mailto:hr@habr.team\">hr@habr.team</a></div></div></div></footer></div></div><div data-dropdowns=\"\"></div><div data-overlays=\"\"><div class=\"overlay\" data-overlay=\"burger-overlay\"><div class=\"overlay__wrapper overlay__wrapper--transition-slide-from-left\" data-overlay-wrapper=\"\"><div class=\"burger-overlay\"><div class=\"burger-overlay__section\"><a class=\"burger-overlay__action\" href=\"https://career.habr.com/info/employee\">О сервисе</a><a class=\"burger-overlay__action\" href=\"https://career.habr.com/info/employer\">Услуги и цены</a></div><div class=\"burger-overlay__section\"><div class=\"burger-overlay__heading\">Помощь</div><a class=\"burger-overlay__action\" href=\"https://career.habr.com/info/help_user\">Для соискателя</a><a class=\"burger-overlay__action\" href=\"https://career.habr.com/info/help_hr\">Для работодателя</a><a class=\"burger-overlay__action\" href=\"https://career.habr.com/info/api\">API сервиса</a><a class=\"burger-overlay__action\" href=\"https://career.habr.com/feedback\">Служба поддержки</a></div><div class=\"burger-overlay__section\"><div class=\"burger-overlay__heading\">Другие проекты Хабра</div><a class=\"burger-overlay__action\" href=\"https://habr.com/?utm_source=habr_career&amp;utm_medium=habr_top_panel\">Хабр</a><a class=\"burger-overlay__action\" href=\"https://qna.habr.com/?utm_source=habr_career&amp;utm_medium=habr_top_panel\">Q&amp;A</a><a class=\"burger-overlay__action\" href=\"https://freelance.habr.com/?utm_source=habr_career&amp;utm_medium=habr_top_panel\">Фриланс</a></div></div></div></div></div><div data-popups=\"\"></div><script data-ssr-state=\"true\" type=\"application/json\">{\"placeholder\":{\"title\":\"Авторизуйтесь\",\"description\":\"Откликаться на вакансии могут только зарегистрированные пользователи.\",\"actions\":[{\"title\":\"Войдите\",\"href\":\"https://career.habr.com/users/auth/tmid\",\"appearance\":\"primary\",\"attrs\":{\"rel\":\"nofollow\"}},{\"title\":\"Зарегистрируйтесь\",\"href\":\"https://career.habr.com/users/auth/tmid/register\",\"appearance\":\"primary\",\"attrs\":{\"rel\":\"nofollow\"}}]},\"createResponse\":null,\"responses\":null,\"currencies\":[{\"title\":\"₽\",\"value\":\"rur\"},{\"title\":\"$\",\"value\":\"usd\"},{\"title\":\"€\",\"value\":\"eur\"},{\"title\":\"₴\",\"value\":\"uah\"},{\"title\":\"₸\",\"value\":\"kzt\"}],\"favorite\":false,\"vacancy\":{\"id\":1000070949,\"href\":\"/vacancies/1000070949\",\"title\":\"Middle QA engineer \",\"isMarked\":false,\"remoteWork\":true,\"salaryQualification\":{\"title\":\"Средний (Middle)\",\"href\":\"/vacancies?qid=4\"},\"publishedDate\":{\"date\":\"2022-10-10T08:49:17+03:00\",\"title\":\"10 октября\"},\"location\":null,\"company\":{\"alias_name\":\"bnberry\",\"href\":\"/companies/bnberry\",\"title\":\"BnBerry\",\"logo\":{\"src\":\"https://habrastorage.org/getpro/moikrug/uploads/company/100/007/028/1/logo/medium_ecb79f4255fb4aa8fe1e03011b6d6055.png\"},\"rating\":null},\"employment\":\"full_time\",\"salary\":{\"from\":2000,\"to\":2000,\"currency\":\"usd\",\"formatted\":\"от 2000 до 2000 $\"},\"divisions\":[{\"title\":\"Инженер по ручному тестированию\",\"href\":\"/vacancies?s%5B%5D=12\"}],\"skills\":[{\"title\":\"Git\",\"href\":\"/vacancies?rel=nofollow\\u0026skills%5B%5D=947\"},{\"title\":\"SQL\",\"href\":\"/vacancies?rel=nofollow\\u0026skills%5B%5D=322\"},{\"title\":\"Базы данных\",\"href\":\"/vacancies?rel=nofollow\\u0026skills%5B%5D=30\"},{\"title\":\"Английский язык\",\"href\":\"/vacancies?rel=nofollow\\u0026skills%5B%5D=989\"},{\"title\":\"REST\",\"href\":\"/vacancies?rel=nofollow\\u0026skills%5B%5D=173\"}],\"media\":null,\"locations\":null,\"favorite\":false,\"archived\":false,\"hidden\":false,\"can_edit\":false,\"description\":\"\\u003cp\\u003eАмериканская компания BnBerry ищет инженера по контролю качества среднего уровня для работы над передовым проектом бронирования отелей.\\u003c/p\\u003e\\n\\u003cp\\u003eМы создаем инновационные продукты в индустрии туристических технологий, которые помогают отелям подключать новые каналы продаж, общаться с гостями и управлять контентом. Среди наших клиентов - крупные международные отели и курорты, а также независимые отели в США. В 2022 году мы выходим на рынки Латинской Америки, Канады и Европы.\\u003c/p\\u003e\\n\\u003cp\\u003eИнструменты и сервисы BnBerry используются отелями для подключения к гостиничным рынкам, управления распределением запасов, бронированиями, доходами и обслуживанием клиентов. В нашем портфолио представлены лучшие международные отели и курорты, а также независимые и франчайзинговые отели.\\u003c/p\\u003e\\n\\u003cp\\u003e\\u003cstrong\\u003eОсновные обязанности\\u003c/strong\\u003e\\u003c/p\\u003e\\n\\u003cp\\u003eПомощь в определении методологии тестирования, критерий и тестовых примеров, необходимых для проверки критической функциональности\\u003c/p\\u003e\\n\\u003cp\\u003eВыявление дефектов и написание четких и воспроизводимых отчетов об ошибках в соответствии со стандартами команды в отношении дефектов\\u003c/p\\u003e\\n\\u003cp\\u003eПодготовка планов тестирования, разработка тестовых примеров и выполнение тестов с акцентом на охват пользовательских историй\\u003c/p\\u003e\\n\\u003cp\\u003eИсследование и анализ данных с помощью инструкций SQL\\u003c/p\\u003e\\n\\u003cp\\u003eРабота в гибкой и быстро меняющейся среде\\u003c/p\\u003e\\n\\u003cp\\u003eОбмен лучшими практиками контроля качества с коллегами\\u003c/p\\u003e\\n\\u003cp\\u003e\\u003cstrong\\u003eНеобходимые Навыки и Умения\\u003c/strong\\u003e\\u003c/p\\u003e\\n\\u003cp\\u003eБолее 3 лет в области обеспечения качества программного обеспечения\\u003cbr\\u003eОпыт работы с веб-тестированием и тестированием API\\u003cbr\\u003eПозитивное мышление, ориентация на качество, надежность, способность к организации, исключительное внимание к деталям\\u003cbr\\u003eУровень В1 по письменному техническому английскому языку\\u003cbr\\u003eОпыт работы в качестве инженера по контролю качества, работающего с серверными технологиями, такими как API, DB (включая знание SQL) и сервисы\\u003c/p\\u003e\\n\\u003cp\\u003e\\u003c/p\\u003e\",\"humanCityNames\":\"\",\"shortGeo\":\"\",\"employmentType\":\"Полный рабочий день\",\"bonuses\":\"\\u003cp\\u003eМы предлагаем:\\u003cbr\\u003e1. Это удаленная должность на полный рабочий день\\u003cbr\\u003e2. Оплачиваемый отпуск и выходные\\u003cbr\\u003e3. Ежеквартальный бонус за результативность\\u003cbr\\u003e4. Годовой бюджет на профессиональный рост (образование, тренинги)\\u003c/p\\u003e\",\"instructions\":\"\",\"bannerDescription\":\"Американская компания BnBerry ищет инженера по контролю качества среднего уровня для работы над передовым проектом бронирования отелей. Мы создаем инновационные продукты в индустрии туристических технологий, которые помогают отелям подключать новые каналы продаж, общаться с гостями и управлять контентом. Среди наших клиентов - крупные международные отели и курорты, а также независимые отели в С...\"},\"company\":{\"name\":\"BnBerry\",\"url\":{\"text\":\"bnberry.com\",\"href\":\"https://bnberry.com\"},\"href\":\"/companies/bnberry\",\"logo\":\"https://habrastorage.org/getpro/moikrug/uploads/company/100/007/028/1/logo/medium_ecb79f4255fb4aa8fe1e03011b6d6055.png\",\"description\":\"Connecting hotels to the new market of Lodging Marketplaces\",\"habrahabr\":null,\"rating\":null,\"vacancies\":{\"active\":3,\"inactive\":9,\"href\":\"/companies/bnberry/vacancies\",\"list\":[{\"href\":\"/vacancies/1000092135\",\"title\":\"Tech Lead (Team Lead)\",\"city\":null,\"salary\":\"От 5000 до 5200 $\"},{\"href\":\"/vacancies/1000088216\",\"title\":\"Middle PHP developer (Laravel) \",\"city\":null,\"salary\":\"От 2500 до 2500 $\"}]}},\"similar\":[{\"href\":\"/vacancies/1000112046\",\"title\":\"Junior Backend Developer\",\"city\":null,\"salary\":\"От 1000 до 1500 $\",\"company\":{\"name\":\"Banksia Global\",\"href\":\"/companies/bg\",\"logo\":\"https://habrastorage.org/getpro/moikrug/uploads/company/100/008/147/3/logo/medium_4a735d59d3317c23508fb88ebf00b2b4.png\"}},{\"href\":\"/vacancies/1000112360\",\"title\":\"Системный аналитик\",\"city\":null,\"salary\":null,\"company\":{\"name\":\"МТС\",\"href\":\"/companies/mts\",\"logo\":\"https://habrastorage.org/getpro/moikrug/uploads/company/355/898/672/logo/medium_05b538efb8d684647f044b420180fb12.png\"}},{\"href\":\"/vacancies/1000100573\",\"title\":\"Ведущий аналитик\",\"city\":null,\"salary\":null,\"company\":{\"name\":\"РТЛабс\",\"href\":\"/companies/rt-labs\",\"logo\":\"https://habrastorage.org/getpro/moikrug/uploads/company/100/006/318/5/logo/medium_11f28af8e2b678c213b9674379563ba0.png\"}},{\"href\":\"/vacancies/1000111294\",\"title\":\"Senior Python разработчик\",\"city\":{\"href\":\"/vacancies?city_id=678\",\"title\":\"Москва\"},\"salary\":null,\"company\":{\"name\":\"GlowByte\",\"href\":\"/companies/glowbyte\",\"logo\":\"https://habrastorage.org/getpro/moikrug/uploads/company/554/016/917/logo/medium_fdc6311963bd608c027cc7bc179c0ee3.png\"}},{\"href\":\"/vacancies/1000109846\",\"title\":\"Go developer\",\"city\":null,\"salary\":null,\"company\":{\"name\":\"МТС\",\"href\":\"/companies/mts\",\"logo\":\"https://habrastorage.org/getpro/moikrug/uploads/company/355/898/672/logo/medium_05b538efb8d684647f044b420180fb12.png\"}},{\"href\":\"/vacancies/1000110933\",\"title\":\"Data Manager / Data Analyst\",\"city\":{\"href\":\"/vacancies?city_id=678\",\"title\":\"Москва\"},\"salary\":\"До 250 000 ₽\",\"company\":{\"name\":\"Antal Talent\",\"href\":\"/companies/antaltalent\",\"logo\":\"https://habrastorage.org/getpro/moikrug/uploads/company/100/006/216/9/logo/medium_064594126fdb56a072761ad36408c548.png\"}}],\"landingLinks\":[]}</script><script async=\"\" crossorigin=\"anonymous\" onload=\"Sentry.setUser({ username: '' }); Sentry.init({ release: 'production', dsn: 'https://7a7f74125bde47d29daf4a4836807517@sentry.srv.habr.com/20', ignoreErrors: [/AMP_TOP/, /ucweb\\.com/, /extension:\\/\\//, /timeout of 0ms exceeded/], ignoreUrls: [ /graph\\.facebook\\.com/i, /connect\\.facebook\\.net\\/en_US\\/all\\.js/i, /extensions\\//i, /^chrome:\\/\\//i, ], });\" src=\"https://browser.sentry-cdn.com/5.5.0/bundle.min.js\"></script><script src=\"https://career.habr.com/assets/packs/js/_runtime-83c90331ed8de8df66cf.js\"></script>\n",
       "<script src=\"https://career.habr.com/assets/packs/js/_vendors~application~landing~landings/hirer~landings/specialist~legacy~pages/arsenal/contacts~pages/c~ab871e06-8cf088438040e9239e04.chunk.js\"></script>\n",
       "<script src=\"https://career.habr.com/assets/packs/js/_vendors~application~landing~landings/hirer~landings/specialist~legacy~pages/arsenal/contacts~pages/c~082fd02d-bf70581d0974181c4084.chunk.js\"></script>\n",
       "<script src=\"https://career.habr.com/assets/packs/js/_application-369f1ed359024ec22492.chunk.js\"></script>\n",
       "<script src=\"https://career.habr.com/assets/packs/js/_legacy-0dbf85e49ae7792433bf.chunk.js\"></script>\n",
       "<script src=\"https://career.habr.com/assets/packs/js/_pages/vacancies/show-152a02b66719ab9b19d4.chunk.js\"></script><script>(function (d, w, c) {\n",
       "  (w[c] = w[c] || []).push(function() {\n",
       "    w.yaCounter38498795 = new Ya.Metrika({\n",
       "      id: 38498795,\n",
       "      clickmap:true,\n",
       "      trackLinks:true,\n",
       "      accurateTrackBounce:true,\n",
       "      webvisor:true\n",
       "    });\n",
       "  });\n",
       "\n",
       "  var n = d.getElementsByTagName(\"script\")[0],\n",
       "    s = d.createElement(\"script\"),\n",
       "    f = function () { n.parentNode.insertBefore(s, n); };\n",
       "  s.type = \"text/javascript\";\n",
       "  s.async = true;\n",
       "  s.src = \"https://mc.yandex.ru/metrika/watch.js\";\n",
       "\n",
       "  f();\n",
       "})(document, window, \"yandex_metrika_callbacks\");</script><noscript><img alt=\"\" src=\"https://mc.yandex.ru/watch/38498795\" style=\"position:absolute; left:-9999px;\"/></noscript><script async=\"\" src=\"https://vk.com/js/api/openapi.js?162\"></script><script>var oldFn = window.vkAsyncInit;\n",
       "window.vkAsyncInit = function() {\n",
       "  if (typeof oldFn === 'function') { oldFn(); }\n",
       "  VK.Retargeting.Init(\"VK-RTRG-421349-eZNO\");\n",
       "  VK.Retargeting.Hit();\n",
       "};</script><noscript><img alt=\"\" src=\"https://vk.com/rtrg?p=VK-RTRG-421349-eZNO\" style=\"position:fixed; left:-999px;\"/></noscript><script>!function(f,b,e,v,n,t,s){if(f.fbq)return;n=f.fbq=function(){n.callMethod?\n",
       "n.callMethod.apply(n,arguments):n.queue.push(arguments)};if(!f._fbq)f._fbq=n;\n",
       "n.push=n;n.loaded=!0;n.version='2.0';n.queue=[];t=b.createElement(e);t.async=!0;\n",
       "t.src=v;s=b.getElementsByTagName(e)[0];s.parentNode.insertBefore(t,s)}(window,\n",
       "document,'script','//connect.facebook.net/en_US/fbevents.js');\n",
       "fbq('init', '317458588730613');\n",
       "fbq('track', \"PageView\");</script><noscript><img alt=\"\" height=\"1\" src=\"https://www.facebook.com/tr?id=317458588730613&amp;ev=PageView&amp;noscript=1\" style=\"position:absolute; left:-9999px;\" width=\"1\"/></noscript><script async=\"\" src=\"https://code.jivosite.com/script/widget/baDiD33Ffd\"></script></body></html>"
      ]
     },
     "execution_count": 28,
     "metadata": {},
     "output_type": "execute_result"
    }
   ],
   "source": [
    "soup"
   ]
  },
  {
   "cell_type": "markdown",
   "metadata": {},
   "source": [
    "найдем информацию о названии вакансии"
   ]
  },
  {
   "cell_type": "code",
   "execution_count": 29,
   "metadata": {
    "colab": {
     "base_uri": "https://localhost:8080/"
    },
    "id": "EElJ6Qh-Fugj",
    "outputId": "2c983431-a0f3-4680-abba-4a46c427adce"
   },
   "outputs": [
    {
     "data": {
      "text/plain": [
       "<h1 class=\"page-title__title\">Middle QA engineer </h1>"
      ]
     },
     "execution_count": 29,
     "metadata": {},
     "output_type": "execute_result"
    }
   ],
   "source": [
    "vacancy = soup.find('h1', attrs={'class':'page-title__title'})\n",
    "vacancy"
   ]
  },
  {
   "cell_type": "code",
   "execution_count": 30,
   "metadata": {
    "colab": {
     "base_uri": "https://localhost:8080/"
    },
    "id": "grO3KfulFugj",
    "outputId": "78b7dada-ebc9-4845-e5aa-8e5636fd99e3"
   },
   "outputs": [
    {
     "data": {
      "text/plain": [
       "bs4.element.Tag"
      ]
     },
     "execution_count": 30,
     "metadata": {},
     "output_type": "execute_result"
    }
   ],
   "source": [
    "type(vacancy)"
   ]
  },
  {
   "cell_type": "code",
   "execution_count": 31,
   "metadata": {},
   "outputs": [
    {
     "data": {
      "text/plain": [
       "'Middle QA engineer '"
      ]
     },
     "execution_count": 31,
     "metadata": {},
     "output_type": "execute_result"
    }
   ],
   "source": [
    "vacancy.text"
   ]
  },
  {
   "cell_type": "markdown",
   "metadata": {},
   "source": [
    "возьием информацию о нашем целевом признаке - зарплате"
   ]
  },
  {
   "cell_type": "code",
   "execution_count": 32,
   "metadata": {},
   "outputs": [
    {
     "data": {
      "text/plain": [
       "<div class=\"basic-salary basic-salary--appearance-vacancy-header\">до 2000 $</div>"
      ]
     },
     "execution_count": 32,
     "metadata": {},
     "output_type": "execute_result"
    }
   ],
   "source": [
    "salary = soup.find('div', attrs={'class':'basic-salary--appearance-vacancy-header'})\n",
    "salary "
   ]
  },
  {
   "cell_type": "code",
   "execution_count": 33,
   "metadata": {},
   "outputs": [],
   "source": [
    "salary = salary.text"
   ]
  },
  {
   "cell_type": "code",
   "execution_count": 34,
   "metadata": {},
   "outputs": [
    {
     "data": {
      "text/plain": [
       "'до 2000 $'"
      ]
     },
     "execution_count": 34,
     "metadata": {},
     "output_type": "execute_result"
    }
   ],
   "source": [
    "salary"
   ]
  },
  {
   "cell_type": "markdown",
   "metadata": {},
   "source": [
    "перейдем к описанию вакансии, в данном проекте это будет основным признаком, на основании которого мы будем строить наше предсказание"
   ]
  },
  {
   "cell_type": "code",
   "execution_count": 62,
   "metadata": {},
   "outputs": [
    {
     "data": {
      "text/plain": [
       "<div class=\"style-ugc\"><p>Американская компания BnBerry ищет инженера по контролю качества среднего уровня для работы над передовым проектом бронирования отелей.</p>\n",
       "<p>Мы создаем инновационные продукты в индустрии туристических технологий, которые помогают отелям подключать новые каналы продаж, общаться с гостями и управлять контентом. Среди наших клиентов - крупные международные отели и курорты, а также независимые отели в США. В 2022 году мы выходим на рынки Латинской Америки, Канады и Европы.</p>\n",
       "<p>Инструменты и сервисы BnBerry используются отелями для подключения к гостиничным рынкам, управления распределением запасов, бронированиями, доходами и обслуживанием клиентов. В нашем портфолио представлены лучшие международные отели и курорты, а также независимые и франчайзинговые отели.</p>\n",
       "<p><strong>Основные обязанности</strong></p>\n",
       "<p>Помощь в определении методологии тестирования, критерий и тестовых примеров, необходимых для проверки критической функциональности</p>\n",
       "<p>Выявление дефектов и написание четких и воспроизводимых отчетов об ошибках в соответствии со стандартами команды в отношении дефектов</p>\n",
       "<p>Подготовка планов тестирования, разработка тестовых примеров и выполнение тестов с акцентом на охват пользовательских историй</p>\n",
       "<p>Исследование и анализ данных с помощью инструкций SQL</p>\n",
       "<p>Работа в гибкой и быстро меняющейся среде</p>\n",
       "<p>Обмен лучшими практиками контроля качества с коллегами</p>\n",
       "<p><strong>Необходимые Навыки и Умения</strong></p>\n",
       "<p>Более 3 лет в области обеспечения качества программного обеспечения<br>     </br>Опыт работы с веб-тестированием и тестированием API<br/>Позитивное мышление, ориентация на качество, надежность, способность к организации, исключительное внимание к деталям<br/>Уровень В1 по письменному техническому английскому языку<br/>Опыт работы в качестве инженера по контролю качества, работающего с серверными технологиями, такими как API, DB (включая знание SQL) и сервисы</p>\n",
       "<p></p></div>"
      ]
     },
     "execution_count": 62,
     "metadata": {},
     "output_type": "execute_result"
    }
   ],
   "source": [
    "requirements = soup.find('div', attrs={'class':'style-ugc'})\n",
    "requirements"
   ]
  },
  {
   "cell_type": "code",
   "execution_count": 63,
   "metadata": {},
   "outputs": [],
   "source": [
    "for br in requirements('br'):\n",
    "    br.replace_with('\\n')"
   ]
  },
  {
   "cell_type": "code",
   "execution_count": 64,
   "metadata": {},
   "outputs": [
    {
     "data": {
      "text/plain": [
       "bs4.element.Tag"
      ]
     },
     "execution_count": 64,
     "metadata": {},
     "output_type": "execute_result"
    }
   ],
   "source": [
    "type(requirements)"
   ]
  },
  {
   "cell_type": "code",
   "execution_count": 65,
   "metadata": {},
   "outputs": [],
   "source": [
    "#requirements.br.extend(\" \")"
   ]
  },
  {
   "cell_type": "code",
   "execution_count": 66,
   "metadata": {},
   "outputs": [
    {
     "data": {
      "text/plain": [
       "<div class=\"style-ugc\"><p>Американская компания BnBerry ищет инженера по контролю качества среднего уровня для работы над передовым проектом бронирования отелей.</p>\n",
       "<p>Мы создаем инновационные продукты в индустрии туристических технологий, которые помогают отелям подключать новые каналы продаж, общаться с гостями и управлять контентом. Среди наших клиентов - крупные международные отели и курорты, а также независимые отели в США. В 2022 году мы выходим на рынки Латинской Америки, Канады и Европы.</p>\n",
       "<p>Инструменты и сервисы BnBerry используются отелями для подключения к гостиничным рынкам, управления распределением запасов, бронированиями, доходами и обслуживанием клиентов. В нашем портфолио представлены лучшие международные отели и курорты, а также независимые и франчайзинговые отели.</p>\n",
       "<p><strong>Основные обязанности</strong></p>\n",
       "<p>Помощь в определении методологии тестирования, критерий и тестовых примеров, необходимых для проверки критической функциональности</p>\n",
       "<p>Выявление дефектов и написание четких и воспроизводимых отчетов об ошибках в соответствии со стандартами команды в отношении дефектов</p>\n",
       "<p>Подготовка планов тестирования, разработка тестовых примеров и выполнение тестов с акцентом на охват пользовательских историй</p>\n",
       "<p>Исследование и анализ данных с помощью инструкций SQL</p>\n",
       "<p>Работа в гибкой и быстро меняющейся среде</p>\n",
       "<p>Обмен лучшими практиками контроля качества с коллегами</p>\n",
       "<p><strong>Необходимые Навыки и Умения</strong></p>\n",
       "<p>Более 3 лет в области обеспечения качества программного обеспечения\n",
       "Опыт работы с веб-тестированием и тестированием API\n",
       "Позитивное мышление, ориентация на качество, надежность, способность к организации, исключительное внимание к деталям\n",
       "Уровень В1 по письменному техническому английскому языку\n",
       "Опыт работы в качестве инженера по контролю качества, работающего с серверными технологиями, такими как API, DB (включая знание SQL) и сервисы</p>\n",
       "<p></p></div>"
      ]
     },
     "execution_count": 66,
     "metadata": {},
     "output_type": "execute_result"
    }
   ],
   "source": [
    "requirements"
   ]
  },
  {
   "cell_type": "code",
   "execution_count": 67,
   "metadata": {},
   "outputs": [],
   "source": [
    "requirements = requirements.text.replace('\\n', ' ')"
   ]
  },
  {
   "cell_type": "code",
   "execution_count": 68,
   "metadata": {},
   "outputs": [
    {
     "data": {
      "text/plain": [
       "'Американская компания BnBerry ищет инженера по контролю качества среднего уровня для работы над передовым проектом бронирования отелей. Мы создаем инновационные продукты в индустрии туристических технологий, которые помогают отелям подключать новые каналы продаж, общаться с гостями и управлять контентом. Среди наших клиентов - крупные международные отели и курорты, а также независимые отели в США. В 2022 году мы выходим на рынки Латинской Америки, Канады и Европы. Инструменты и сервисы BnBerry используются отелями для подключения к гостиничным рынкам, управления распределением запасов, бронированиями, доходами и обслуживанием клиентов. В нашем портфолио представлены лучшие международные отели и курорты, а также независимые и франчайзинговые отели. Основные обязанности Помощь в определении методологии тестирования, критерий и тестовых примеров, необходимых для проверки критической функциональности Выявление дефектов и написание четких и воспроизводимых отчетов об ошибках в соответствии со стандартами команды в отношении дефектов Подготовка планов тестирования, разработка тестовых примеров и выполнение тестов с акцентом на охват пользовательских историй Исследование и анализ данных с помощью инструкций SQL Работа в гибкой и быстро меняющейся среде Обмен лучшими практиками контроля качества с коллегами Необходимые Навыки и Умения Более 3 лет в области обеспечения качества программного обеспечения Опыт работы с веб-тестированием и тестированием API Позитивное мышление, ориентация на качество, надежность, способность к организации, исключительное внимание к деталям Уровень В1 по письменному техническому английскому языку Опыт работы в качестве инженера по контролю качества, работающего с серверными технологиями, такими как API, DB (включая знание SQL) и сервисы '"
      ]
     },
     "execution_count": 68,
     "metadata": {},
     "output_type": "execute_result"
    }
   ],
   "source": [
    "requirements"
   ]
  },
  {
   "cell_type": "markdown",
   "metadata": {},
   "source": [
    "также добавим информацию о компании"
   ]
  },
  {
   "cell_type": "code",
   "execution_count": 69,
   "metadata": {},
   "outputs": [
    {
     "data": {
      "text/plain": [
       "<div class=\"vacancy-company__title\"><a class=\"basic-avatar basic-avatar--size-extra-small basic-avatar--roundness-small\" href=\"/companies/bnberry\"><img alt=\"Логотип компании «BnBerry»\" class=\"basic-avatar__image\" src=\"https://habrastorage.org/getpro/moikrug/uploads/company/100/007/028/1/logo/ecb79f4255fb4aa8fe1e03011b6d6055.png\"/></a><a class=\"link-comp link-comp--appearance-dark\" href=\"/companies/bnberry\">BnBerry</a></div>"
      ]
     },
     "execution_count": 69,
     "metadata": {},
     "output_type": "execute_result"
    }
   ],
   "source": [
    "company = soup.find('div', attrs={'class':'vacancy-company__title'})\n",
    "company"
   ]
  },
  {
   "cell_type": "code",
   "execution_count": 70,
   "metadata": {},
   "outputs": [],
   "source": [
    "company = company.text"
   ]
  },
  {
   "cell_type": "code",
   "execution_count": 71,
   "metadata": {},
   "outputs": [
    {
     "data": {
      "text/plain": [
       "'BnBerry'"
      ]
     },
     "execution_count": 71,
     "metadata": {},
     "output_type": "execute_result"
    }
   ],
   "source": [
    "company"
   ]
  },
  {
   "cell_type": "markdown",
   "metadata": {},
   "source": [
    "объединим все в общую функцию"
   ]
  },
  {
   "cell_type": "code",
   "execution_count": 73,
   "metadata": {},
   "outputs": [],
   "source": [
    "def getVacancyData(vacancy_page):\n",
    "    \"\"\"\n",
    "        Запрашивает данные по странице, возвращает обработанный словарь с данными\n",
    "        \n",
    "        vacancy_page: string\n",
    "            ссылка на страницу с вакансией\n",
    "    \n",
    "    \"\"\"\n",
    "    \n",
    "    # запрашиваем данные по ссылке\n",
    "    response = requests.get(vacancy_page, headers={'User-Agent': UserAgent().chrome})\n",
    "    \n",
    "    if not response.ok:\n",
    "        # если сервер нам отказал, вернем статус ошибки \n",
    "        return response.status_code\n",
    "    \n",
    "    # получаем содержимое страницы и переводим в суп\n",
    "    html = response.content\n",
    "    soup = BeautifulSoup(html,'html.parser')\n",
    "\n",
    "    # используя ранее написанные функции парсим информацию\n",
    "    vacancy = (soup.find('h1', attrs={'class':'page-title__title'})).text\n",
    "    salary = (soup.find('div', attrs={'class':'basic-salary--appearance-vacancy-header'})).text\n",
    "    requirements = (soup.find('div', attrs={'class':'style-ugc'}))\n",
    "    for br in requirements('br'):\n",
    "        br.replace_with('\\n')\n",
    "    requirements = requirements.text.replace('\\n', ' ')\n",
    "    company = (soup.find('div', attrs={'class':'vacancy-company__title'})).text\n",
    "\n",
    "    # составляем словарь, в котором будут хранится все полученные и обработанные данные\n",
    "    data_row = {\"vacancy\":vacancy, \"salary\":salary, \n",
    "                \"requirements\":requirements, \"company\":company}\n",
    "\n",
    "\n",
    "    return data_row"
   ]
  },
  {
   "cell_type": "code",
   "execution_count": 74,
   "metadata": {},
   "outputs": [],
   "source": [
    "data_row = getVacancyData('https://career.habr.com/vacancies/1000070949')"
   ]
  },
  {
   "cell_type": "code",
   "execution_count": 75,
   "metadata": {},
   "outputs": [
    {
     "data": {
      "text/plain": [
       "{'vacancy': 'Middle QA engineer ',\n",
       " 'salary': 'до 2000 $',\n",
       " 'requirements': 'Американская компания BnBerry ищет инженера по контролю качества среднего уровня для работы над передовым проектом бронирования отелей. Мы создаем инновационные продукты в индустрии туристических технологий, которые помогают отелям подключать новые каналы продаж, общаться с гостями и управлять контентом. Среди наших клиентов - крупные международные отели и курорты, а также независимые отели в США. В 2022 году мы выходим на рынки Латинской Америки, Канады и Европы. Инструменты и сервисы BnBerry используются отелями для подключения к гостиничным рынкам, управления распределением запасов, бронированиями, доходами и обслуживанием клиентов. В нашем портфолио представлены лучшие международные отели и курорты, а также независимые и франчайзинговые отели. Основные обязанности Помощь в определении методологии тестирования, критерий и тестовых примеров, необходимых для проверки критической функциональности Выявление дефектов и написание четких и воспроизводимых отчетов об ошибках в соответствии со стандартами команды в отношении дефектов Подготовка планов тестирования, разработка тестовых примеров и выполнение тестов с акцентом на охват пользовательских историй Исследование и анализ данных с помощью инструкций SQL Работа в гибкой и быстро меняющейся среде Обмен лучшими практиками контроля качества с коллегами Необходимые Навыки и Умения Более 3 лет в области обеспечения качества программного обеспечения Опыт работы с веб-тестированием и тестированием API Позитивное мышление, ориентация на качество, надежность, способность к организации, исключительное внимание к деталям Уровень В1 по письменному техническому английскому языку Опыт работы в качестве инженера по контролю качества, работающего с серверными технологиями, такими как API, DB (включая знание SQL) и сервисы ',\n",
       " 'company': 'BnBerry'}"
      ]
     },
     "execution_count": 75,
     "metadata": {},
     "output_type": "execute_result"
    }
   ],
   "source": [
    "data_row"
   ]
  },
  {
   "cell_type": "markdown",
   "metadata": {},
   "source": [
    "подготовим датафрейм, куда будем добавлять всю полученную информацию"
   ]
  },
  {
   "cell_type": "code",
   "execution_count": 76,
   "metadata": {},
   "outputs": [],
   "source": [
    "final_df = pd.DataFrame(columns=['vacancy', 'salary', 'requirements', 'company'])"
   ]
  },
  {
   "cell_type": "code",
   "execution_count": 77,
   "metadata": {},
   "outputs": [
    {
     "name": "stderr",
     "output_type": "stream",
     "text": [
      "<ipython-input-77-d7ed244fc475>:1: FutureWarning: The frame.append method is deprecated and will be removed from pandas in a future version. Use pandas.concat instead.\n",
      "  final_df = final_df.append(data_row, ignore_index=True)\n"
     ]
    }
   ],
   "source": [
    "final_df = final_df.append(data_row, ignore_index=True)"
   ]
  },
  {
   "cell_type": "code",
   "execution_count": 78,
   "metadata": {},
   "outputs": [
    {
     "data": {
      "text/html": [
       "<div>\n",
       "<style scoped>\n",
       "    .dataframe tbody tr th:only-of-type {\n",
       "        vertical-align: middle;\n",
       "    }\n",
       "\n",
       "    .dataframe tbody tr th {\n",
       "        vertical-align: top;\n",
       "    }\n",
       "\n",
       "    .dataframe thead th {\n",
       "        text-align: right;\n",
       "    }\n",
       "</style>\n",
       "<table border=\"1\" class=\"dataframe\">\n",
       "  <thead>\n",
       "    <tr style=\"text-align: right;\">\n",
       "      <th></th>\n",
       "      <th>vacancy</th>\n",
       "      <th>salary</th>\n",
       "      <th>requirements</th>\n",
       "      <th>company</th>\n",
       "    </tr>\n",
       "  </thead>\n",
       "  <tbody>\n",
       "    <tr>\n",
       "      <th>0</th>\n",
       "      <td>Middle QA engineer</td>\n",
       "      <td>до 2000 $</td>\n",
       "      <td>Американская компания BnBerry ищет инженера по...</td>\n",
       "      <td>BnBerry</td>\n",
       "    </tr>\n",
       "  </tbody>\n",
       "</table>\n",
       "</div>"
      ],
      "text/plain": [
       "               vacancy     salary  \\\n",
       "0  Middle QA engineer   до 2000 $   \n",
       "\n",
       "                                        requirements  company  \n",
       "0  Американская компания BnBerry ищет инженера по...  BnBerry  "
      ]
     },
     "execution_count": 78,
     "metadata": {},
     "output_type": "execute_result"
    }
   ],
   "source": [
    "final_df"
   ]
  },
  {
   "cell_type": "markdown",
   "metadata": {
    "id": "_pC_HY8mFugp"
   },
   "source": [
    "Еще раз убедимся что всё работает — пройдемся по списку из ссылок на вакансии, полученных ранее в перменной `vacancy_links`."
   ]
  },
  {
   "cell_type": "code",
   "execution_count": 79,
   "metadata": {
    "id": "pn2888z-Fugp"
   },
   "outputs": [],
   "source": [
    "from tqdm import tqdm_notebook"
   ]
  },
  {
   "cell_type": "code",
   "execution_count": 80,
   "metadata": {
    "colab": {
     "base_uri": "https://localhost:8080/"
    },
    "id": "2FSWcLpsFugp",
    "outputId": "a23a297c-cb70-48d6-f53c-d68ec0dc77d4"
   },
   "outputs": [
    {
     "data": {
      "text/plain": [
       "['https://career.habr.com/vacancies/1000084899',\n",
       " 'https://career.habr.com/vacancies/1000101124',\n",
       " 'https://career.habr.com/vacancies/1000053016',\n",
       " 'https://career.habr.com/vacancies/1000077160',\n",
       " 'https://career.habr.com/vacancies/1000060050',\n",
       " 'https://career.habr.com/vacancies/1000111329',\n",
       " 'https://career.habr.com/vacancies/1000111326',\n",
       " 'https://career.habr.com/vacancies/1000112338',\n",
       " 'https://career.habr.com/vacancies/1000111866',\n",
       " 'https://career.habr.com/vacancies/1000111865',\n",
       " 'https://career.habr.com/vacancies/1000111862',\n",
       " 'https://career.habr.com/vacancies/1000111475',\n",
       " 'https://career.habr.com/vacancies/1000107505',\n",
       " 'https://career.habr.com/vacancies/1000098844',\n",
       " 'https://career.habr.com/vacancies/1000108401',\n",
       " 'https://career.habr.com/vacancies/1000111851',\n",
       " 'https://career.habr.com/vacancies/1000108874',\n",
       " 'https://career.habr.com/vacancies/1000112331',\n",
       " 'https://career.habr.com/vacancies/1000112330',\n",
       " 'https://career.habr.com/vacancies/1000110778',\n",
       " 'https://career.habr.com/vacancies/1000110777',\n",
       " 'https://career.habr.com/vacancies/1000104369',\n",
       " 'https://career.habr.com/vacancies/1000096511',\n",
       " 'https://career.habr.com/vacancies/1000112316',\n",
       " 'https://career.habr.com/vacancies/1000112326']"
      ]
     },
     "execution_count": 80,
     "metadata": {},
     "output_type": "execute_result"
    }
   ],
   "source": [
    "vacansy_links"
   ]
  },
  {
   "cell_type": "code",
   "execution_count": 81,
   "metadata": {
    "colab": {
     "base_uri": "https://localhost:8080/",
     "height": 101,
     "referenced_widgets": [
      "5c00ebe06c5c48888279f68212a35e3d",
      "710579be53d04fd0abb1b72ce2d7b6d2",
      "108ab67793f04157b5aefc10af6a4e2f",
      "8dfb6e621f39463096fdb813787518db",
      "f3c5512f5fa44035a9c372fa6c1c1787",
      "78a4e9adc65642f49a16df5f54b6ebba",
      "2e3e103dfc0b4fd8b15bd675f4a56b41",
      "8cbcf48cec23454bbcc5d9fdcafcf285",
      "88429ec8dbd14723b9e7e9f877944e0a",
      "5a14662aa2c74ddfa63167395beb5c75",
      "f95b655614304d6292b6572e084f53b6"
     ]
    },
    "id": "srOVa1nHFugp",
    "outputId": "ffc80b00-be67-42e1-d7d4-c496d5024b6d",
    "scrolled": false
   },
   "outputs": [
    {
     "name": "stderr",
     "output_type": "stream",
     "text": [
      "<ipython-input-81-5387d6e42254>:1: TqdmDeprecationWarning: This function will be removed in tqdm==5.0.0\n",
      "Please use `tqdm.notebook.tqdm` instead of `tqdm.tqdm_notebook`\n",
      "  for vacansy_link in tqdm_notebook(vacansy_links):\n"
     ]
    },
    {
     "data": {
      "application/vnd.jupyter.widget-view+json": {
       "model_id": "ca13ef86a05649b996caa490965eaea7",
       "version_major": 2,
       "version_minor": 0
      },
      "text/plain": [
       "  0%|          | 0/25 [00:00<?, ?it/s]"
      ]
     },
     "metadata": {},
     "output_type": "display_data"
    },
    {
     "name": "stderr",
     "output_type": "stream",
     "text": [
      "<ipython-input-81-5387d6e42254>:4: FutureWarning: The frame.append method is deprecated and will be removed from pandas in a future version. Use pandas.concat instead.\n",
      "  final_df = final_df.append(data_row, ignore_index=True)\n",
      "<ipython-input-81-5387d6e42254>:4: FutureWarning: The frame.append method is deprecated and will be removed from pandas in a future version. Use pandas.concat instead.\n",
      "  final_df = final_df.append(data_row, ignore_index=True)\n",
      "<ipython-input-81-5387d6e42254>:4: FutureWarning: The frame.append method is deprecated and will be removed from pandas in a future version. Use pandas.concat instead.\n",
      "  final_df = final_df.append(data_row, ignore_index=True)\n",
      "<ipython-input-81-5387d6e42254>:4: FutureWarning: The frame.append method is deprecated and will be removed from pandas in a future version. Use pandas.concat instead.\n",
      "  final_df = final_df.append(data_row, ignore_index=True)\n",
      "<ipython-input-81-5387d6e42254>:4: FutureWarning: The frame.append method is deprecated and will be removed from pandas in a future version. Use pandas.concat instead.\n",
      "  final_df = final_df.append(data_row, ignore_index=True)\n",
      "<ipython-input-81-5387d6e42254>:4: FutureWarning: The frame.append method is deprecated and will be removed from pandas in a future version. Use pandas.concat instead.\n",
      "  final_df = final_df.append(data_row, ignore_index=True)\n",
      "<ipython-input-81-5387d6e42254>:4: FutureWarning: The frame.append method is deprecated and will be removed from pandas in a future version. Use pandas.concat instead.\n",
      "  final_df = final_df.append(data_row, ignore_index=True)\n",
      "<ipython-input-81-5387d6e42254>:4: FutureWarning: The frame.append method is deprecated and will be removed from pandas in a future version. Use pandas.concat instead.\n",
      "  final_df = final_df.append(data_row, ignore_index=True)\n",
      "<ipython-input-81-5387d6e42254>:4: FutureWarning: The frame.append method is deprecated and will be removed from pandas in a future version. Use pandas.concat instead.\n",
      "  final_df = final_df.append(data_row, ignore_index=True)\n",
      "<ipython-input-81-5387d6e42254>:4: FutureWarning: The frame.append method is deprecated and will be removed from pandas in a future version. Use pandas.concat instead.\n",
      "  final_df = final_df.append(data_row, ignore_index=True)\n",
      "<ipython-input-81-5387d6e42254>:4: FutureWarning: The frame.append method is deprecated and will be removed from pandas in a future version. Use pandas.concat instead.\n",
      "  final_df = final_df.append(data_row, ignore_index=True)\n",
      "<ipython-input-81-5387d6e42254>:4: FutureWarning: The frame.append method is deprecated and will be removed from pandas in a future version. Use pandas.concat instead.\n",
      "  final_df = final_df.append(data_row, ignore_index=True)\n",
      "<ipython-input-81-5387d6e42254>:4: FutureWarning: The frame.append method is deprecated and will be removed from pandas in a future version. Use pandas.concat instead.\n",
      "  final_df = final_df.append(data_row, ignore_index=True)\n",
      "<ipython-input-81-5387d6e42254>:4: FutureWarning: The frame.append method is deprecated and will be removed from pandas in a future version. Use pandas.concat instead.\n",
      "  final_df = final_df.append(data_row, ignore_index=True)\n",
      "<ipython-input-81-5387d6e42254>:4: FutureWarning: The frame.append method is deprecated and will be removed from pandas in a future version. Use pandas.concat instead.\n",
      "  final_df = final_df.append(data_row, ignore_index=True)\n",
      "<ipython-input-81-5387d6e42254>:4: FutureWarning: The frame.append method is deprecated and will be removed from pandas in a future version. Use pandas.concat instead.\n",
      "  final_df = final_df.append(data_row, ignore_index=True)\n",
      "<ipython-input-81-5387d6e42254>:4: FutureWarning: The frame.append method is deprecated and will be removed from pandas in a future version. Use pandas.concat instead.\n",
      "  final_df = final_df.append(data_row, ignore_index=True)\n",
      "<ipython-input-81-5387d6e42254>:4: FutureWarning: The frame.append method is deprecated and will be removed from pandas in a future version. Use pandas.concat instead.\n",
      "  final_df = final_df.append(data_row, ignore_index=True)\n",
      "<ipython-input-81-5387d6e42254>:4: FutureWarning: The frame.append method is deprecated and will be removed from pandas in a future version. Use pandas.concat instead.\n",
      "  final_df = final_df.append(data_row, ignore_index=True)\n",
      "<ipython-input-81-5387d6e42254>:4: FutureWarning: The frame.append method is deprecated and will be removed from pandas in a future version. Use pandas.concat instead.\n",
      "  final_df = final_df.append(data_row, ignore_index=True)\n",
      "<ipython-input-81-5387d6e42254>:4: FutureWarning: The frame.append method is deprecated and will be removed from pandas in a future version. Use pandas.concat instead.\n",
      "  final_df = final_df.append(data_row, ignore_index=True)\n",
      "<ipython-input-81-5387d6e42254>:4: FutureWarning: The frame.append method is deprecated and will be removed from pandas in a future version. Use pandas.concat instead.\n",
      "  final_df = final_df.append(data_row, ignore_index=True)\n",
      "<ipython-input-81-5387d6e42254>:4: FutureWarning: The frame.append method is deprecated and will be removed from pandas in a future version. Use pandas.concat instead.\n",
      "  final_df = final_df.append(data_row, ignore_index=True)\n",
      "<ipython-input-81-5387d6e42254>:4: FutureWarning: The frame.append method is deprecated and will be removed from pandas in a future version. Use pandas.concat instead.\n",
      "  final_df = final_df.append(data_row, ignore_index=True)\n",
      "<ipython-input-81-5387d6e42254>:4: FutureWarning: The frame.append method is deprecated and will be removed from pandas in a future version. Use pandas.concat instead.\n",
      "  final_df = final_df.append(data_row, ignore_index=True)\n"
     ]
    }
   ],
   "source": [
    "for vacansy_link in tqdm_notebook(vacansy_links):\n",
    "    try: \n",
    "        data_row = getVacancyData(vacansy_link)\n",
    "        final_df = final_df.append(data_row, ignore_index=True)\n",
    "        time.sleep(0.4)\n",
    "    except:\n",
    "        continue"
   ]
  },
  {
   "cell_type": "code",
   "execution_count": 82,
   "metadata": {
    "id": "MMJStcOlFugp"
   },
   "outputs": [],
   "source": [
    "final_df.drop_duplicates(inplace=True)"
   ]
  },
  {
   "cell_type": "code",
   "execution_count": 83,
   "metadata": {
    "colab": {
     "base_uri": "https://localhost:8080/"
    },
    "id": "dOU6TZQIFugp",
    "outputId": "c2862446-dd3b-4199-ef76-e73d2467d92b"
   },
   "outputs": [
    {
     "data": {
      "text/plain": [
       "(26, 4)"
      ]
     },
     "execution_count": 83,
     "metadata": {},
     "output_type": "execute_result"
    }
   ],
   "source": [
    "final_df.shape"
   ]
  },
  {
   "cell_type": "code",
   "execution_count": 84,
   "metadata": {
    "colab": {
     "base_uri": "https://localhost:8080/",
     "height": 424
    },
    "id": "jL3_7JwVFugq",
    "outputId": "efb7730b-bc08-450f-b182-3eb936980fc5"
   },
   "outputs": [
    {
     "data": {
      "text/html": [
       "<div>\n",
       "<style scoped>\n",
       "    .dataframe tbody tr th:only-of-type {\n",
       "        vertical-align: middle;\n",
       "    }\n",
       "\n",
       "    .dataframe tbody tr th {\n",
       "        vertical-align: top;\n",
       "    }\n",
       "\n",
       "    .dataframe thead th {\n",
       "        text-align: right;\n",
       "    }\n",
       "</style>\n",
       "<table border=\"1\" class=\"dataframe\">\n",
       "  <thead>\n",
       "    <tr style=\"text-align: right;\">\n",
       "      <th></th>\n",
       "      <th>vacancy</th>\n",
       "      <th>salary</th>\n",
       "      <th>requirements</th>\n",
       "      <th>company</th>\n",
       "    </tr>\n",
       "  </thead>\n",
       "  <tbody>\n",
       "    <tr>\n",
       "      <th>0</th>\n",
       "      <td>Middle QA engineer</td>\n",
       "      <td>до 2000 $</td>\n",
       "      <td>Американская компания BnBerry ищет инженера по...</td>\n",
       "      <td>BnBerry</td>\n",
       "    </tr>\n",
       "    <tr>\n",
       "      <th>1</th>\n",
       "      <td>Fullstack Node.js / Vue.js Developer 🔥</td>\n",
       "      <td>от 2500 до 4500 $</td>\n",
       "      <td>Ищем Fullstack Node.js/Vue.js Developer (верст...</td>\n",
       "      <td>Fundraise Up</td>\n",
       "    </tr>\n",
       "    <tr>\n",
       "      <th>2</th>\n",
       "      <td>Data Analyst (middle/senior) (удаленно) 🔥</td>\n",
       "      <td>от 2500 до 3500 $</td>\n",
       "      <td>Ищем дата-аналитика с 3+ годами опыта на удале...</td>\n",
       "      <td>Fundraise Up</td>\n",
       "    </tr>\n",
       "    <tr>\n",
       "      <th>3</th>\n",
       "      <td>Senior Frontend-разработчик (React)</td>\n",
       "      <td>от 200 000  ₽</td>\n",
       "      <td>Мы DNA Team — команда, которая предоставляет у...</td>\n",
       "      <td>DNA Team</td>\n",
       "    </tr>\n",
       "    <tr>\n",
       "      <th>4</th>\n",
       "      <td>Программист Oracle + Delphi</td>\n",
       "      <td>от 190 000  ₽</td>\n",
       "      <td>Мы сейчас ищем Старших/ Ведущих разработчиков ...</td>\n",
       "      <td>Sportmaster Lab</td>\n",
       "    </tr>\n",
       "  </tbody>\n",
       "</table>\n",
       "</div>"
      ],
      "text/plain": [
       "                                     vacancy             salary  \\\n",
       "0                        Middle QA engineer           до 2000 $   \n",
       "1     Fullstack Node.js / Vue.js Developer 🔥  от 2500 до 4500 $   \n",
       "2  Data Analyst (middle/senior) (удаленно) 🔥  от 2500 до 3500 $   \n",
       "3        Senior Frontend-разработчик (React)      от 200 000  ₽   \n",
       "4                Программист Oracle + Delphi      от 190 000  ₽   \n",
       "\n",
       "                                        requirements          company  \n",
       "0  Американская компания BnBerry ищет инженера по...          BnBerry  \n",
       "1  Ищем Fullstack Node.js/Vue.js Developer (верст...     Fundraise Up  \n",
       "2  Ищем дата-аналитика с 3+ годами опыта на удале...     Fundraise Up  \n",
       "3  Мы DNA Team — команда, которая предоставляет у...         DNA Team  \n",
       "4  Мы сейчас ищем Старших/ Ведущих разработчиков ...  Sportmaster Lab  "
      ]
     },
     "execution_count": 84,
     "metadata": {},
     "output_type": "execute_result"
    }
   ],
   "source": [
    "final_df.head()"
   ]
  },
  {
   "cell_type": "code",
   "execution_count": 85,
   "metadata": {
    "colab": {
     "referenced_widgets": [
      "a5263ce6b8654260bc756b90386ae7cb",
      "c2a35b14ed964682a56fc1d304c41ffe",
      "2c3c506efe534b65bcd320ff44133eff",
      "636c21d4e6914af39e2dae52db540da6",
      "8dd1180d5ff44b5186151a617d71d7e7",
      "2aec2758655c4af4a7b5c80f2886b40d"
     ]
    },
    "id": "iGcDu4bmFugq",
    "outputId": "6892d997-b09b-4203-fb73-0a7852e481da",
    "scrolled": true
   },
   "outputs": [
    {
     "name": "stderr",
     "output_type": "stream",
     "text": [
      "<ipython-input-85-8708ee457813>:6: TqdmDeprecationWarning: This function will be removed in tqdm==5.0.0\n",
      "Please use `tqdm.notebook.tqdm` instead of `tqdm.tqdm_notebook`\n",
      "  for page_number in tqdm_notebook(range(29), desc='Pages'):\n"
     ]
    },
    {
     "data": {
      "application/vnd.jupyter.widget-view+json": {
       "model_id": "ca37e86dfd534f439e46874e4785c1cc",
       "version_major": 2,
       "version_minor": 0
      },
      "text/plain": [
       "Pages:   0%|          | 0/29 [00:00<?, ?it/s]"
      ]
     },
     "metadata": {},
     "output_type": "display_data"
    },
    {
     "name": "stderr",
     "output_type": "stream",
     "text": [
      "<ipython-input-85-8708ee457813>:8: TqdmDeprecationWarning: This function will be removed in tqdm==5.0.0\n",
      "Please use `tqdm.notebook.tqdm` instead of `tqdm.tqdm_notebook`\n",
      "  for vacancy_link in tqdm_notebook(vacancy_links, leave=False):\n"
     ]
    },
    {
     "data": {
      "application/vnd.jupyter.widget-view+json": {
       "model_id": "",
       "version_major": 2,
       "version_minor": 0
      },
      "text/plain": [
       "  0%|          | 0/25 [00:00<?, ?it/s]"
      ]
     },
     "metadata": {},
     "output_type": "display_data"
    },
    {
     "name": "stderr",
     "output_type": "stream",
     "text": [
      "<ipython-input-85-8708ee457813>:15: FutureWarning: The frame.append method is deprecated and will be removed from pandas in a future version. Use pandas.concat instead.\n",
      "  final_df = final_df.append(data_row, ignore_index=True)\n",
      "<ipython-input-85-8708ee457813>:15: FutureWarning: The frame.append method is deprecated and will be removed from pandas in a future version. Use pandas.concat instead.\n",
      "  final_df = final_df.append(data_row, ignore_index=True)\n",
      "<ipython-input-85-8708ee457813>:15: FutureWarning: The frame.append method is deprecated and will be removed from pandas in a future version. Use pandas.concat instead.\n",
      "  final_df = final_df.append(data_row, ignore_index=True)\n",
      "<ipython-input-85-8708ee457813>:15: FutureWarning: The frame.append method is deprecated and will be removed from pandas in a future version. Use pandas.concat instead.\n",
      "  final_df = final_df.append(data_row, ignore_index=True)\n",
      "<ipython-input-85-8708ee457813>:15: FutureWarning: The frame.append method is deprecated and will be removed from pandas in a future version. Use pandas.concat instead.\n",
      "  final_df = final_df.append(data_row, ignore_index=True)\n",
      "<ipython-input-85-8708ee457813>:15: FutureWarning: The frame.append method is deprecated and will be removed from pandas in a future version. Use pandas.concat instead.\n",
      "  final_df = final_df.append(data_row, ignore_index=True)\n",
      "<ipython-input-85-8708ee457813>:15: FutureWarning: The frame.append method is deprecated and will be removed from pandas in a future version. Use pandas.concat instead.\n",
      "  final_df = final_df.append(data_row, ignore_index=True)\n",
      "<ipython-input-85-8708ee457813>:15: FutureWarning: The frame.append method is deprecated and will be removed from pandas in a future version. Use pandas.concat instead.\n",
      "  final_df = final_df.append(data_row, ignore_index=True)\n",
      "<ipython-input-85-8708ee457813>:15: FutureWarning: The frame.append method is deprecated and will be removed from pandas in a future version. Use pandas.concat instead.\n",
      "  final_df = final_df.append(data_row, ignore_index=True)\n",
      "<ipython-input-85-8708ee457813>:15: FutureWarning: The frame.append method is deprecated and will be removed from pandas in a future version. Use pandas.concat instead.\n",
      "  final_df = final_df.append(data_row, ignore_index=True)\n",
      "<ipython-input-85-8708ee457813>:15: FutureWarning: The frame.append method is deprecated and will be removed from pandas in a future version. Use pandas.concat instead.\n",
      "  final_df = final_df.append(data_row, ignore_index=True)\n",
      "<ipython-input-85-8708ee457813>:15: FutureWarning: The frame.append method is deprecated and will be removed from pandas in a future version. Use pandas.concat instead.\n",
      "  final_df = final_df.append(data_row, ignore_index=True)\n",
      "<ipython-input-85-8708ee457813>:15: FutureWarning: The frame.append method is deprecated and will be removed from pandas in a future version. Use pandas.concat instead.\n",
      "  final_df = final_df.append(data_row, ignore_index=True)\n",
      "<ipython-input-85-8708ee457813>:15: FutureWarning: The frame.append method is deprecated and will be removed from pandas in a future version. Use pandas.concat instead.\n",
      "  final_df = final_df.append(data_row, ignore_index=True)\n",
      "<ipython-input-85-8708ee457813>:15: FutureWarning: The frame.append method is deprecated and will be removed from pandas in a future version. Use pandas.concat instead.\n",
      "  final_df = final_df.append(data_row, ignore_index=True)\n",
      "<ipython-input-85-8708ee457813>:15: FutureWarning: The frame.append method is deprecated and will be removed from pandas in a future version. Use pandas.concat instead.\n",
      "  final_df = final_df.append(data_row, ignore_index=True)\n",
      "<ipython-input-85-8708ee457813>:15: FutureWarning: The frame.append method is deprecated and will be removed from pandas in a future version. Use pandas.concat instead.\n",
      "  final_df = final_df.append(data_row, ignore_index=True)\n",
      "<ipython-input-85-8708ee457813>:15: FutureWarning: The frame.append method is deprecated and will be removed from pandas in a future version. Use pandas.concat instead.\n",
      "  final_df = final_df.append(data_row, ignore_index=True)\n",
      "<ipython-input-85-8708ee457813>:15: FutureWarning: The frame.append method is deprecated and will be removed from pandas in a future version. Use pandas.concat instead.\n",
      "  final_df = final_df.append(data_row, ignore_index=True)\n",
      "<ipython-input-85-8708ee457813>:15: FutureWarning: The frame.append method is deprecated and will be removed from pandas in a future version. Use pandas.concat instead.\n",
      "  final_df = final_df.append(data_row, ignore_index=True)\n",
      "<ipython-input-85-8708ee457813>:15: FutureWarning: The frame.append method is deprecated and will be removed from pandas in a future version. Use pandas.concat instead.\n",
      "  final_df = final_df.append(data_row, ignore_index=True)\n",
      "<ipython-input-85-8708ee457813>:15: FutureWarning: The frame.append method is deprecated and will be removed from pandas in a future version. Use pandas.concat instead.\n",
      "  final_df = final_df.append(data_row, ignore_index=True)\n",
      "<ipython-input-85-8708ee457813>:15: FutureWarning: The frame.append method is deprecated and will be removed from pandas in a future version. Use pandas.concat instead.\n",
      "  final_df = final_df.append(data_row, ignore_index=True)\n",
      "<ipython-input-85-8708ee457813>:15: FutureWarning: The frame.append method is deprecated and will be removed from pandas in a future version. Use pandas.concat instead.\n",
      "  final_df = final_df.append(data_row, ignore_index=True)\n",
      "<ipython-input-85-8708ee457813>:15: FutureWarning: The frame.append method is deprecated and will be removed from pandas in a future version. Use pandas.concat instead.\n",
      "  final_df = final_df.append(data_row, ignore_index=True)\n",
      "<ipython-input-85-8708ee457813>:8: TqdmDeprecationWarning: This function will be removed in tqdm==5.0.0\n",
      "Please use `tqdm.notebook.tqdm` instead of `tqdm.tqdm_notebook`\n",
      "  for vacancy_link in tqdm_notebook(vacancy_links, leave=False):\n"
     ]
    },
    {
     "data": {
      "application/vnd.jupyter.widget-view+json": {
       "model_id": "",
       "version_major": 2,
       "version_minor": 0
      },
      "text/plain": [
       "  0%|          | 0/25 [00:00<?, ?it/s]"
      ]
     },
     "metadata": {},
     "output_type": "display_data"
    },
    {
     "name": "stderr",
     "output_type": "stream",
     "text": [
      "<ipython-input-85-8708ee457813>:15: FutureWarning: The frame.append method is deprecated and will be removed from pandas in a future version. Use pandas.concat instead.\n",
      "  final_df = final_df.append(data_row, ignore_index=True)\n",
      "<ipython-input-85-8708ee457813>:15: FutureWarning: The frame.append method is deprecated and will be removed from pandas in a future version. Use pandas.concat instead.\n",
      "  final_df = final_df.append(data_row, ignore_index=True)\n",
      "<ipython-input-85-8708ee457813>:15: FutureWarning: The frame.append method is deprecated and will be removed from pandas in a future version. Use pandas.concat instead.\n",
      "  final_df = final_df.append(data_row, ignore_index=True)\n",
      "<ipython-input-85-8708ee457813>:15: FutureWarning: The frame.append method is deprecated and will be removed from pandas in a future version. Use pandas.concat instead.\n",
      "  final_df = final_df.append(data_row, ignore_index=True)\n",
      "<ipython-input-85-8708ee457813>:15: FutureWarning: The frame.append method is deprecated and will be removed from pandas in a future version. Use pandas.concat instead.\n",
      "  final_df = final_df.append(data_row, ignore_index=True)\n",
      "<ipython-input-85-8708ee457813>:15: FutureWarning: The frame.append method is deprecated and will be removed from pandas in a future version. Use pandas.concat instead.\n",
      "  final_df = final_df.append(data_row, ignore_index=True)\n",
      "<ipython-input-85-8708ee457813>:15: FutureWarning: The frame.append method is deprecated and will be removed from pandas in a future version. Use pandas.concat instead.\n",
      "  final_df = final_df.append(data_row, ignore_index=True)\n",
      "<ipython-input-85-8708ee457813>:15: FutureWarning: The frame.append method is deprecated and will be removed from pandas in a future version. Use pandas.concat instead.\n",
      "  final_df = final_df.append(data_row, ignore_index=True)\n",
      "<ipython-input-85-8708ee457813>:15: FutureWarning: The frame.append method is deprecated and will be removed from pandas in a future version. Use pandas.concat instead.\n",
      "  final_df = final_df.append(data_row, ignore_index=True)\n",
      "<ipython-input-85-8708ee457813>:15: FutureWarning: The frame.append method is deprecated and will be removed from pandas in a future version. Use pandas.concat instead.\n",
      "  final_df = final_df.append(data_row, ignore_index=True)\n",
      "<ipython-input-85-8708ee457813>:15: FutureWarning: The frame.append method is deprecated and will be removed from pandas in a future version. Use pandas.concat instead.\n",
      "  final_df = final_df.append(data_row, ignore_index=True)\n",
      "<ipython-input-85-8708ee457813>:15: FutureWarning: The frame.append method is deprecated and will be removed from pandas in a future version. Use pandas.concat instead.\n",
      "  final_df = final_df.append(data_row, ignore_index=True)\n",
      "<ipython-input-85-8708ee457813>:15: FutureWarning: The frame.append method is deprecated and will be removed from pandas in a future version. Use pandas.concat instead.\n",
      "  final_df = final_df.append(data_row, ignore_index=True)\n",
      "<ipython-input-85-8708ee457813>:15: FutureWarning: The frame.append method is deprecated and will be removed from pandas in a future version. Use pandas.concat instead.\n",
      "  final_df = final_df.append(data_row, ignore_index=True)\n",
      "<ipython-input-85-8708ee457813>:15: FutureWarning: The frame.append method is deprecated and will be removed from pandas in a future version. Use pandas.concat instead.\n",
      "  final_df = final_df.append(data_row, ignore_index=True)\n",
      "<ipython-input-85-8708ee457813>:15: FutureWarning: The frame.append method is deprecated and will be removed from pandas in a future version. Use pandas.concat instead.\n",
      "  final_df = final_df.append(data_row, ignore_index=True)\n",
      "<ipython-input-85-8708ee457813>:15: FutureWarning: The frame.append method is deprecated and will be removed from pandas in a future version. Use pandas.concat instead.\n",
      "  final_df = final_df.append(data_row, ignore_index=True)\n",
      "<ipython-input-85-8708ee457813>:15: FutureWarning: The frame.append method is deprecated and will be removed from pandas in a future version. Use pandas.concat instead.\n",
      "  final_df = final_df.append(data_row, ignore_index=True)\n",
      "<ipython-input-85-8708ee457813>:15: FutureWarning: The frame.append method is deprecated and will be removed from pandas in a future version. Use pandas.concat instead.\n",
      "  final_df = final_df.append(data_row, ignore_index=True)\n",
      "<ipython-input-85-8708ee457813>:15: FutureWarning: The frame.append method is deprecated and will be removed from pandas in a future version. Use pandas.concat instead.\n",
      "  final_df = final_df.append(data_row, ignore_index=True)\n",
      "<ipython-input-85-8708ee457813>:15: FutureWarning: The frame.append method is deprecated and will be removed from pandas in a future version. Use pandas.concat instead.\n",
      "  final_df = final_df.append(data_row, ignore_index=True)\n",
      "<ipython-input-85-8708ee457813>:15: FutureWarning: The frame.append method is deprecated and will be removed from pandas in a future version. Use pandas.concat instead.\n",
      "  final_df = final_df.append(data_row, ignore_index=True)\n",
      "<ipython-input-85-8708ee457813>:15: FutureWarning: The frame.append method is deprecated and will be removed from pandas in a future version. Use pandas.concat instead.\n",
      "  final_df = final_df.append(data_row, ignore_index=True)\n",
      "<ipython-input-85-8708ee457813>:15: FutureWarning: The frame.append method is deprecated and will be removed from pandas in a future version. Use pandas.concat instead.\n",
      "  final_df = final_df.append(data_row, ignore_index=True)\n",
      "<ipython-input-85-8708ee457813>:15: FutureWarning: The frame.append method is deprecated and will be removed from pandas in a future version. Use pandas.concat instead.\n",
      "  final_df = final_df.append(data_row, ignore_index=True)\n",
      "<ipython-input-85-8708ee457813>:8: TqdmDeprecationWarning: This function will be removed in tqdm==5.0.0\n",
      "Please use `tqdm.notebook.tqdm` instead of `tqdm.tqdm_notebook`\n",
      "  for vacancy_link in tqdm_notebook(vacancy_links, leave=False):\n"
     ]
    },
    {
     "data": {
      "application/vnd.jupyter.widget-view+json": {
       "model_id": "",
       "version_major": 2,
       "version_minor": 0
      },
      "text/plain": [
       "  0%|          | 0/25 [00:00<?, ?it/s]"
      ]
     },
     "metadata": {},
     "output_type": "display_data"
    },
    {
     "name": "stderr",
     "output_type": "stream",
     "text": [
      "<ipython-input-85-8708ee457813>:15: FutureWarning: The frame.append method is deprecated and will be removed from pandas in a future version. Use pandas.concat instead.\n",
      "  final_df = final_df.append(data_row, ignore_index=True)\n",
      "<ipython-input-85-8708ee457813>:15: FutureWarning: The frame.append method is deprecated and will be removed from pandas in a future version. Use pandas.concat instead.\n",
      "  final_df = final_df.append(data_row, ignore_index=True)\n",
      "<ipython-input-85-8708ee457813>:15: FutureWarning: The frame.append method is deprecated and will be removed from pandas in a future version. Use pandas.concat instead.\n",
      "  final_df = final_df.append(data_row, ignore_index=True)\n",
      "<ipython-input-85-8708ee457813>:15: FutureWarning: The frame.append method is deprecated and will be removed from pandas in a future version. Use pandas.concat instead.\n",
      "  final_df = final_df.append(data_row, ignore_index=True)\n",
      "<ipython-input-85-8708ee457813>:15: FutureWarning: The frame.append method is deprecated and will be removed from pandas in a future version. Use pandas.concat instead.\n",
      "  final_df = final_df.append(data_row, ignore_index=True)\n",
      "<ipython-input-85-8708ee457813>:15: FutureWarning: The frame.append method is deprecated and will be removed from pandas in a future version. Use pandas.concat instead.\n",
      "  final_df = final_df.append(data_row, ignore_index=True)\n",
      "<ipython-input-85-8708ee457813>:15: FutureWarning: The frame.append method is deprecated and will be removed from pandas in a future version. Use pandas.concat instead.\n",
      "  final_df = final_df.append(data_row, ignore_index=True)\n",
      "<ipython-input-85-8708ee457813>:15: FutureWarning: The frame.append method is deprecated and will be removed from pandas in a future version. Use pandas.concat instead.\n",
      "  final_df = final_df.append(data_row, ignore_index=True)\n",
      "<ipython-input-85-8708ee457813>:15: FutureWarning: The frame.append method is deprecated and will be removed from pandas in a future version. Use pandas.concat instead.\n",
      "  final_df = final_df.append(data_row, ignore_index=True)\n",
      "<ipython-input-85-8708ee457813>:15: FutureWarning: The frame.append method is deprecated and will be removed from pandas in a future version. Use pandas.concat instead.\n",
      "  final_df = final_df.append(data_row, ignore_index=True)\n",
      "<ipython-input-85-8708ee457813>:15: FutureWarning: The frame.append method is deprecated and will be removed from pandas in a future version. Use pandas.concat instead.\n",
      "  final_df = final_df.append(data_row, ignore_index=True)\n",
      "<ipython-input-85-8708ee457813>:15: FutureWarning: The frame.append method is deprecated and will be removed from pandas in a future version. Use pandas.concat instead.\n",
      "  final_df = final_df.append(data_row, ignore_index=True)\n",
      "<ipython-input-85-8708ee457813>:15: FutureWarning: The frame.append method is deprecated and will be removed from pandas in a future version. Use pandas.concat instead.\n",
      "  final_df = final_df.append(data_row, ignore_index=True)\n",
      "<ipython-input-85-8708ee457813>:15: FutureWarning: The frame.append method is deprecated and will be removed from pandas in a future version. Use pandas.concat instead.\n",
      "  final_df = final_df.append(data_row, ignore_index=True)\n",
      "<ipython-input-85-8708ee457813>:15: FutureWarning: The frame.append method is deprecated and will be removed from pandas in a future version. Use pandas.concat instead.\n",
      "  final_df = final_df.append(data_row, ignore_index=True)\n",
      "<ipython-input-85-8708ee457813>:15: FutureWarning: The frame.append method is deprecated and will be removed from pandas in a future version. Use pandas.concat instead.\n",
      "  final_df = final_df.append(data_row, ignore_index=True)\n",
      "<ipython-input-85-8708ee457813>:15: FutureWarning: The frame.append method is deprecated and will be removed from pandas in a future version. Use pandas.concat instead.\n",
      "  final_df = final_df.append(data_row, ignore_index=True)\n",
      "<ipython-input-85-8708ee457813>:15: FutureWarning: The frame.append method is deprecated and will be removed from pandas in a future version. Use pandas.concat instead.\n",
      "  final_df = final_df.append(data_row, ignore_index=True)\n",
      "<ipython-input-85-8708ee457813>:15: FutureWarning: The frame.append method is deprecated and will be removed from pandas in a future version. Use pandas.concat instead.\n",
      "  final_df = final_df.append(data_row, ignore_index=True)\n",
      "<ipython-input-85-8708ee457813>:15: FutureWarning: The frame.append method is deprecated and will be removed from pandas in a future version. Use pandas.concat instead.\n",
      "  final_df = final_df.append(data_row, ignore_index=True)\n",
      "<ipython-input-85-8708ee457813>:15: FutureWarning: The frame.append method is deprecated and will be removed from pandas in a future version. Use pandas.concat instead.\n",
      "  final_df = final_df.append(data_row, ignore_index=True)\n",
      "<ipython-input-85-8708ee457813>:15: FutureWarning: The frame.append method is deprecated and will be removed from pandas in a future version. Use pandas.concat instead.\n",
      "  final_df = final_df.append(data_row, ignore_index=True)\n",
      "<ipython-input-85-8708ee457813>:15: FutureWarning: The frame.append method is deprecated and will be removed from pandas in a future version. Use pandas.concat instead.\n",
      "  final_df = final_df.append(data_row, ignore_index=True)\n",
      "<ipython-input-85-8708ee457813>:15: FutureWarning: The frame.append method is deprecated and will be removed from pandas in a future version. Use pandas.concat instead.\n",
      "  final_df = final_df.append(data_row, ignore_index=True)\n",
      "<ipython-input-85-8708ee457813>:15: FutureWarning: The frame.append method is deprecated and will be removed from pandas in a future version. Use pandas.concat instead.\n",
      "  final_df = final_df.append(data_row, ignore_index=True)\n",
      "<ipython-input-85-8708ee457813>:8: TqdmDeprecationWarning: This function will be removed in tqdm==5.0.0\n",
      "Please use `tqdm.notebook.tqdm` instead of `tqdm.tqdm_notebook`\n",
      "  for vacancy_link in tqdm_notebook(vacancy_links, leave=False):\n"
     ]
    },
    {
     "data": {
      "application/vnd.jupyter.widget-view+json": {
       "model_id": "",
       "version_major": 2,
       "version_minor": 0
      },
      "text/plain": [
       "  0%|          | 0/25 [00:00<?, ?it/s]"
      ]
     },
     "metadata": {},
     "output_type": "display_data"
    },
    {
     "name": "stderr",
     "output_type": "stream",
     "text": [
      "<ipython-input-85-8708ee457813>:15: FutureWarning: The frame.append method is deprecated and will be removed from pandas in a future version. Use pandas.concat instead.\n",
      "  final_df = final_df.append(data_row, ignore_index=True)\n",
      "<ipython-input-85-8708ee457813>:15: FutureWarning: The frame.append method is deprecated and will be removed from pandas in a future version. Use pandas.concat instead.\n",
      "  final_df = final_df.append(data_row, ignore_index=True)\n",
      "<ipython-input-85-8708ee457813>:15: FutureWarning: The frame.append method is deprecated and will be removed from pandas in a future version. Use pandas.concat instead.\n",
      "  final_df = final_df.append(data_row, ignore_index=True)\n",
      "<ipython-input-85-8708ee457813>:15: FutureWarning: The frame.append method is deprecated and will be removed from pandas in a future version. Use pandas.concat instead.\n",
      "  final_df = final_df.append(data_row, ignore_index=True)\n",
      "<ipython-input-85-8708ee457813>:15: FutureWarning: The frame.append method is deprecated and will be removed from pandas in a future version. Use pandas.concat instead.\n",
      "  final_df = final_df.append(data_row, ignore_index=True)\n",
      "<ipython-input-85-8708ee457813>:15: FutureWarning: The frame.append method is deprecated and will be removed from pandas in a future version. Use pandas.concat instead.\n",
      "  final_df = final_df.append(data_row, ignore_index=True)\n",
      "<ipython-input-85-8708ee457813>:15: FutureWarning: The frame.append method is deprecated and will be removed from pandas in a future version. Use pandas.concat instead.\n",
      "  final_df = final_df.append(data_row, ignore_index=True)\n",
      "<ipython-input-85-8708ee457813>:15: FutureWarning: The frame.append method is deprecated and will be removed from pandas in a future version. Use pandas.concat instead.\n",
      "  final_df = final_df.append(data_row, ignore_index=True)\n",
      "<ipython-input-85-8708ee457813>:15: FutureWarning: The frame.append method is deprecated and will be removed from pandas in a future version. Use pandas.concat instead.\n",
      "  final_df = final_df.append(data_row, ignore_index=True)\n",
      "<ipython-input-85-8708ee457813>:15: FutureWarning: The frame.append method is deprecated and will be removed from pandas in a future version. Use pandas.concat instead.\n",
      "  final_df = final_df.append(data_row, ignore_index=True)\n",
      "<ipython-input-85-8708ee457813>:15: FutureWarning: The frame.append method is deprecated and will be removed from pandas in a future version. Use pandas.concat instead.\n",
      "  final_df = final_df.append(data_row, ignore_index=True)\n",
      "<ipython-input-85-8708ee457813>:15: FutureWarning: The frame.append method is deprecated and will be removed from pandas in a future version. Use pandas.concat instead.\n",
      "  final_df = final_df.append(data_row, ignore_index=True)\n",
      "<ipython-input-85-8708ee457813>:15: FutureWarning: The frame.append method is deprecated and will be removed from pandas in a future version. Use pandas.concat instead.\n",
      "  final_df = final_df.append(data_row, ignore_index=True)\n",
      "<ipython-input-85-8708ee457813>:15: FutureWarning: The frame.append method is deprecated and will be removed from pandas in a future version. Use pandas.concat instead.\n",
      "  final_df = final_df.append(data_row, ignore_index=True)\n",
      "<ipython-input-85-8708ee457813>:15: FutureWarning: The frame.append method is deprecated and will be removed from pandas in a future version. Use pandas.concat instead.\n",
      "  final_df = final_df.append(data_row, ignore_index=True)\n",
      "<ipython-input-85-8708ee457813>:15: FutureWarning: The frame.append method is deprecated and will be removed from pandas in a future version. Use pandas.concat instead.\n",
      "  final_df = final_df.append(data_row, ignore_index=True)\n",
      "<ipython-input-85-8708ee457813>:15: FutureWarning: The frame.append method is deprecated and will be removed from pandas in a future version. Use pandas.concat instead.\n",
      "  final_df = final_df.append(data_row, ignore_index=True)\n",
      "<ipython-input-85-8708ee457813>:15: FutureWarning: The frame.append method is deprecated and will be removed from pandas in a future version. Use pandas.concat instead.\n",
      "  final_df = final_df.append(data_row, ignore_index=True)\n",
      "<ipython-input-85-8708ee457813>:15: FutureWarning: The frame.append method is deprecated and will be removed from pandas in a future version. Use pandas.concat instead.\n",
      "  final_df = final_df.append(data_row, ignore_index=True)\n",
      "<ipython-input-85-8708ee457813>:15: FutureWarning: The frame.append method is deprecated and will be removed from pandas in a future version. Use pandas.concat instead.\n",
      "  final_df = final_df.append(data_row, ignore_index=True)\n",
      "<ipython-input-85-8708ee457813>:15: FutureWarning: The frame.append method is deprecated and will be removed from pandas in a future version. Use pandas.concat instead.\n",
      "  final_df = final_df.append(data_row, ignore_index=True)\n",
      "<ipython-input-85-8708ee457813>:15: FutureWarning: The frame.append method is deprecated and will be removed from pandas in a future version. Use pandas.concat instead.\n",
      "  final_df = final_df.append(data_row, ignore_index=True)\n",
      "<ipython-input-85-8708ee457813>:15: FutureWarning: The frame.append method is deprecated and will be removed from pandas in a future version. Use pandas.concat instead.\n",
      "  final_df = final_df.append(data_row, ignore_index=True)\n",
      "<ipython-input-85-8708ee457813>:15: FutureWarning: The frame.append method is deprecated and will be removed from pandas in a future version. Use pandas.concat instead.\n",
      "  final_df = final_df.append(data_row, ignore_index=True)\n",
      "<ipython-input-85-8708ee457813>:15: FutureWarning: The frame.append method is deprecated and will be removed from pandas in a future version. Use pandas.concat instead.\n",
      "  final_df = final_df.append(data_row, ignore_index=True)\n",
      "<ipython-input-85-8708ee457813>:8: TqdmDeprecationWarning: This function will be removed in tqdm==5.0.0\n",
      "Please use `tqdm.notebook.tqdm` instead of `tqdm.tqdm_notebook`\n",
      "  for vacancy_link in tqdm_notebook(vacancy_links, leave=False):\n"
     ]
    },
    {
     "data": {
      "application/vnd.jupyter.widget-view+json": {
       "model_id": "",
       "version_major": 2,
       "version_minor": 0
      },
      "text/plain": [
       "  0%|          | 0/25 [00:00<?, ?it/s]"
      ]
     },
     "metadata": {},
     "output_type": "display_data"
    },
    {
     "name": "stderr",
     "output_type": "stream",
     "text": [
      "<ipython-input-85-8708ee457813>:15: FutureWarning: The frame.append method is deprecated and will be removed from pandas in a future version. Use pandas.concat instead.\n",
      "  final_df = final_df.append(data_row, ignore_index=True)\n",
      "<ipython-input-85-8708ee457813>:15: FutureWarning: The frame.append method is deprecated and will be removed from pandas in a future version. Use pandas.concat instead.\n",
      "  final_df = final_df.append(data_row, ignore_index=True)\n",
      "<ipython-input-85-8708ee457813>:15: FutureWarning: The frame.append method is deprecated and will be removed from pandas in a future version. Use pandas.concat instead.\n",
      "  final_df = final_df.append(data_row, ignore_index=True)\n",
      "<ipython-input-85-8708ee457813>:15: FutureWarning: The frame.append method is deprecated and will be removed from pandas in a future version. Use pandas.concat instead.\n",
      "  final_df = final_df.append(data_row, ignore_index=True)\n",
      "<ipython-input-85-8708ee457813>:15: FutureWarning: The frame.append method is deprecated and will be removed from pandas in a future version. Use pandas.concat instead.\n",
      "  final_df = final_df.append(data_row, ignore_index=True)\n",
      "<ipython-input-85-8708ee457813>:15: FutureWarning: The frame.append method is deprecated and will be removed from pandas in a future version. Use pandas.concat instead.\n",
      "  final_df = final_df.append(data_row, ignore_index=True)\n",
      "<ipython-input-85-8708ee457813>:15: FutureWarning: The frame.append method is deprecated and will be removed from pandas in a future version. Use pandas.concat instead.\n",
      "  final_df = final_df.append(data_row, ignore_index=True)\n",
      "<ipython-input-85-8708ee457813>:15: FutureWarning: The frame.append method is deprecated and will be removed from pandas in a future version. Use pandas.concat instead.\n",
      "  final_df = final_df.append(data_row, ignore_index=True)\n",
      "<ipython-input-85-8708ee457813>:15: FutureWarning: The frame.append method is deprecated and will be removed from pandas in a future version. Use pandas.concat instead.\n",
      "  final_df = final_df.append(data_row, ignore_index=True)\n",
      "<ipython-input-85-8708ee457813>:15: FutureWarning: The frame.append method is deprecated and will be removed from pandas in a future version. Use pandas.concat instead.\n",
      "  final_df = final_df.append(data_row, ignore_index=True)\n",
      "<ipython-input-85-8708ee457813>:15: FutureWarning: The frame.append method is deprecated and will be removed from pandas in a future version. Use pandas.concat instead.\n",
      "  final_df = final_df.append(data_row, ignore_index=True)\n",
      "<ipython-input-85-8708ee457813>:15: FutureWarning: The frame.append method is deprecated and will be removed from pandas in a future version. Use pandas.concat instead.\n",
      "  final_df = final_df.append(data_row, ignore_index=True)\n",
      "<ipython-input-85-8708ee457813>:15: FutureWarning: The frame.append method is deprecated and will be removed from pandas in a future version. Use pandas.concat instead.\n",
      "  final_df = final_df.append(data_row, ignore_index=True)\n",
      "<ipython-input-85-8708ee457813>:15: FutureWarning: The frame.append method is deprecated and will be removed from pandas in a future version. Use pandas.concat instead.\n",
      "  final_df = final_df.append(data_row, ignore_index=True)\n",
      "<ipython-input-85-8708ee457813>:15: FutureWarning: The frame.append method is deprecated and will be removed from pandas in a future version. Use pandas.concat instead.\n",
      "  final_df = final_df.append(data_row, ignore_index=True)\n",
      "<ipython-input-85-8708ee457813>:15: FutureWarning: The frame.append method is deprecated and will be removed from pandas in a future version. Use pandas.concat instead.\n",
      "  final_df = final_df.append(data_row, ignore_index=True)\n",
      "<ipython-input-85-8708ee457813>:15: FutureWarning: The frame.append method is deprecated and will be removed from pandas in a future version. Use pandas.concat instead.\n",
      "  final_df = final_df.append(data_row, ignore_index=True)\n",
      "<ipython-input-85-8708ee457813>:15: FutureWarning: The frame.append method is deprecated and will be removed from pandas in a future version. Use pandas.concat instead.\n",
      "  final_df = final_df.append(data_row, ignore_index=True)\n",
      "<ipython-input-85-8708ee457813>:15: FutureWarning: The frame.append method is deprecated and will be removed from pandas in a future version. Use pandas.concat instead.\n",
      "  final_df = final_df.append(data_row, ignore_index=True)\n",
      "<ipython-input-85-8708ee457813>:15: FutureWarning: The frame.append method is deprecated and will be removed from pandas in a future version. Use pandas.concat instead.\n",
      "  final_df = final_df.append(data_row, ignore_index=True)\n",
      "<ipython-input-85-8708ee457813>:15: FutureWarning: The frame.append method is deprecated and will be removed from pandas in a future version. Use pandas.concat instead.\n",
      "  final_df = final_df.append(data_row, ignore_index=True)\n",
      "<ipython-input-85-8708ee457813>:15: FutureWarning: The frame.append method is deprecated and will be removed from pandas in a future version. Use pandas.concat instead.\n",
      "  final_df = final_df.append(data_row, ignore_index=True)\n",
      "<ipython-input-85-8708ee457813>:15: FutureWarning: The frame.append method is deprecated and will be removed from pandas in a future version. Use pandas.concat instead.\n",
      "  final_df = final_df.append(data_row, ignore_index=True)\n",
      "<ipython-input-85-8708ee457813>:15: FutureWarning: The frame.append method is deprecated and will be removed from pandas in a future version. Use pandas.concat instead.\n",
      "  final_df = final_df.append(data_row, ignore_index=True)\n",
      "<ipython-input-85-8708ee457813>:15: FutureWarning: The frame.append method is deprecated and will be removed from pandas in a future version. Use pandas.concat instead.\n",
      "  final_df = final_df.append(data_row, ignore_index=True)\n",
      "<ipython-input-85-8708ee457813>:8: TqdmDeprecationWarning: This function will be removed in tqdm==5.0.0\n",
      "Please use `tqdm.notebook.tqdm` instead of `tqdm.tqdm_notebook`\n",
      "  for vacancy_link in tqdm_notebook(vacancy_links, leave=False):\n"
     ]
    },
    {
     "data": {
      "application/vnd.jupyter.widget-view+json": {
       "model_id": "",
       "version_major": 2,
       "version_minor": 0
      },
      "text/plain": [
       "  0%|          | 0/25 [00:00<?, ?it/s]"
      ]
     },
     "metadata": {},
     "output_type": "display_data"
    },
    {
     "name": "stderr",
     "output_type": "stream",
     "text": [
      "<ipython-input-85-8708ee457813>:15: FutureWarning: The frame.append method is deprecated and will be removed from pandas in a future version. Use pandas.concat instead.\n",
      "  final_df = final_df.append(data_row, ignore_index=True)\n",
      "<ipython-input-85-8708ee457813>:15: FutureWarning: The frame.append method is deprecated and will be removed from pandas in a future version. Use pandas.concat instead.\n",
      "  final_df = final_df.append(data_row, ignore_index=True)\n",
      "<ipython-input-85-8708ee457813>:15: FutureWarning: The frame.append method is deprecated and will be removed from pandas in a future version. Use pandas.concat instead.\n",
      "  final_df = final_df.append(data_row, ignore_index=True)\n",
      "<ipython-input-85-8708ee457813>:15: FutureWarning: The frame.append method is deprecated and will be removed from pandas in a future version. Use pandas.concat instead.\n",
      "  final_df = final_df.append(data_row, ignore_index=True)\n",
      "<ipython-input-85-8708ee457813>:15: FutureWarning: The frame.append method is deprecated and will be removed from pandas in a future version. Use pandas.concat instead.\n",
      "  final_df = final_df.append(data_row, ignore_index=True)\n",
      "<ipython-input-85-8708ee457813>:15: FutureWarning: The frame.append method is deprecated and will be removed from pandas in a future version. Use pandas.concat instead.\n",
      "  final_df = final_df.append(data_row, ignore_index=True)\n",
      "<ipython-input-85-8708ee457813>:15: FutureWarning: The frame.append method is deprecated and will be removed from pandas in a future version. Use pandas.concat instead.\n",
      "  final_df = final_df.append(data_row, ignore_index=True)\n",
      "<ipython-input-85-8708ee457813>:15: FutureWarning: The frame.append method is deprecated and will be removed from pandas in a future version. Use pandas.concat instead.\n",
      "  final_df = final_df.append(data_row, ignore_index=True)\n",
      "<ipython-input-85-8708ee457813>:15: FutureWarning: The frame.append method is deprecated and will be removed from pandas in a future version. Use pandas.concat instead.\n",
      "  final_df = final_df.append(data_row, ignore_index=True)\n",
      "<ipython-input-85-8708ee457813>:15: FutureWarning: The frame.append method is deprecated and will be removed from pandas in a future version. Use pandas.concat instead.\n",
      "  final_df = final_df.append(data_row, ignore_index=True)\n",
      "<ipython-input-85-8708ee457813>:15: FutureWarning: The frame.append method is deprecated and will be removed from pandas in a future version. Use pandas.concat instead.\n",
      "  final_df = final_df.append(data_row, ignore_index=True)\n",
      "<ipython-input-85-8708ee457813>:15: FutureWarning: The frame.append method is deprecated and will be removed from pandas in a future version. Use pandas.concat instead.\n",
      "  final_df = final_df.append(data_row, ignore_index=True)\n",
      "<ipython-input-85-8708ee457813>:15: FutureWarning: The frame.append method is deprecated and will be removed from pandas in a future version. Use pandas.concat instead.\n",
      "  final_df = final_df.append(data_row, ignore_index=True)\n",
      "<ipython-input-85-8708ee457813>:15: FutureWarning: The frame.append method is deprecated and will be removed from pandas in a future version. Use pandas.concat instead.\n",
      "  final_df = final_df.append(data_row, ignore_index=True)\n",
      "<ipython-input-85-8708ee457813>:15: FutureWarning: The frame.append method is deprecated and will be removed from pandas in a future version. Use pandas.concat instead.\n",
      "  final_df = final_df.append(data_row, ignore_index=True)\n",
      "<ipython-input-85-8708ee457813>:15: FutureWarning: The frame.append method is deprecated and will be removed from pandas in a future version. Use pandas.concat instead.\n",
      "  final_df = final_df.append(data_row, ignore_index=True)\n",
      "<ipython-input-85-8708ee457813>:15: FutureWarning: The frame.append method is deprecated and will be removed from pandas in a future version. Use pandas.concat instead.\n",
      "  final_df = final_df.append(data_row, ignore_index=True)\n",
      "<ipython-input-85-8708ee457813>:15: FutureWarning: The frame.append method is deprecated and will be removed from pandas in a future version. Use pandas.concat instead.\n",
      "  final_df = final_df.append(data_row, ignore_index=True)\n",
      "<ipython-input-85-8708ee457813>:15: FutureWarning: The frame.append method is deprecated and will be removed from pandas in a future version. Use pandas.concat instead.\n",
      "  final_df = final_df.append(data_row, ignore_index=True)\n",
      "<ipython-input-85-8708ee457813>:15: FutureWarning: The frame.append method is deprecated and will be removed from pandas in a future version. Use pandas.concat instead.\n",
      "  final_df = final_df.append(data_row, ignore_index=True)\n",
      "<ipython-input-85-8708ee457813>:15: FutureWarning: The frame.append method is deprecated and will be removed from pandas in a future version. Use pandas.concat instead.\n",
      "  final_df = final_df.append(data_row, ignore_index=True)\n",
      "<ipython-input-85-8708ee457813>:15: FutureWarning: The frame.append method is deprecated and will be removed from pandas in a future version. Use pandas.concat instead.\n",
      "  final_df = final_df.append(data_row, ignore_index=True)\n",
      "<ipython-input-85-8708ee457813>:15: FutureWarning: The frame.append method is deprecated and will be removed from pandas in a future version. Use pandas.concat instead.\n",
      "  final_df = final_df.append(data_row, ignore_index=True)\n",
      "<ipython-input-85-8708ee457813>:15: FutureWarning: The frame.append method is deprecated and will be removed from pandas in a future version. Use pandas.concat instead.\n",
      "  final_df = final_df.append(data_row, ignore_index=True)\n",
      "<ipython-input-85-8708ee457813>:15: FutureWarning: The frame.append method is deprecated and will be removed from pandas in a future version. Use pandas.concat instead.\n",
      "  final_df = final_df.append(data_row, ignore_index=True)\n",
      "<ipython-input-85-8708ee457813>:8: TqdmDeprecationWarning: This function will be removed in tqdm==5.0.0\n",
      "Please use `tqdm.notebook.tqdm` instead of `tqdm.tqdm_notebook`\n",
      "  for vacancy_link in tqdm_notebook(vacancy_links, leave=False):\n"
     ]
    },
    {
     "data": {
      "application/vnd.jupyter.widget-view+json": {
       "model_id": "",
       "version_major": 2,
       "version_minor": 0
      },
      "text/plain": [
       "  0%|          | 0/25 [00:00<?, ?it/s]"
      ]
     },
     "metadata": {},
     "output_type": "display_data"
    },
    {
     "name": "stderr",
     "output_type": "stream",
     "text": [
      "<ipython-input-85-8708ee457813>:15: FutureWarning: The frame.append method is deprecated and will be removed from pandas in a future version. Use pandas.concat instead.\n",
      "  final_df = final_df.append(data_row, ignore_index=True)\n",
      "<ipython-input-85-8708ee457813>:15: FutureWarning: The frame.append method is deprecated and will be removed from pandas in a future version. Use pandas.concat instead.\n",
      "  final_df = final_df.append(data_row, ignore_index=True)\n",
      "<ipython-input-85-8708ee457813>:15: FutureWarning: The frame.append method is deprecated and will be removed from pandas in a future version. Use pandas.concat instead.\n",
      "  final_df = final_df.append(data_row, ignore_index=True)\n",
      "<ipython-input-85-8708ee457813>:15: FutureWarning: The frame.append method is deprecated and will be removed from pandas in a future version. Use pandas.concat instead.\n",
      "  final_df = final_df.append(data_row, ignore_index=True)\n",
      "<ipython-input-85-8708ee457813>:15: FutureWarning: The frame.append method is deprecated and will be removed from pandas in a future version. Use pandas.concat instead.\n",
      "  final_df = final_df.append(data_row, ignore_index=True)\n",
      "<ipython-input-85-8708ee457813>:15: FutureWarning: The frame.append method is deprecated and will be removed from pandas in a future version. Use pandas.concat instead.\n",
      "  final_df = final_df.append(data_row, ignore_index=True)\n",
      "<ipython-input-85-8708ee457813>:15: FutureWarning: The frame.append method is deprecated and will be removed from pandas in a future version. Use pandas.concat instead.\n",
      "  final_df = final_df.append(data_row, ignore_index=True)\n",
      "<ipython-input-85-8708ee457813>:15: FutureWarning: The frame.append method is deprecated and will be removed from pandas in a future version. Use pandas.concat instead.\n",
      "  final_df = final_df.append(data_row, ignore_index=True)\n",
      "<ipython-input-85-8708ee457813>:15: FutureWarning: The frame.append method is deprecated and will be removed from pandas in a future version. Use pandas.concat instead.\n",
      "  final_df = final_df.append(data_row, ignore_index=True)\n",
      "<ipython-input-85-8708ee457813>:15: FutureWarning: The frame.append method is deprecated and will be removed from pandas in a future version. Use pandas.concat instead.\n",
      "  final_df = final_df.append(data_row, ignore_index=True)\n",
      "<ipython-input-85-8708ee457813>:15: FutureWarning: The frame.append method is deprecated and will be removed from pandas in a future version. Use pandas.concat instead.\n",
      "  final_df = final_df.append(data_row, ignore_index=True)\n",
      "<ipython-input-85-8708ee457813>:15: FutureWarning: The frame.append method is deprecated and will be removed from pandas in a future version. Use pandas.concat instead.\n",
      "  final_df = final_df.append(data_row, ignore_index=True)\n",
      "<ipython-input-85-8708ee457813>:15: FutureWarning: The frame.append method is deprecated and will be removed from pandas in a future version. Use pandas.concat instead.\n",
      "  final_df = final_df.append(data_row, ignore_index=True)\n",
      "<ipython-input-85-8708ee457813>:15: FutureWarning: The frame.append method is deprecated and will be removed from pandas in a future version. Use pandas.concat instead.\n",
      "  final_df = final_df.append(data_row, ignore_index=True)\n",
      "<ipython-input-85-8708ee457813>:15: FutureWarning: The frame.append method is deprecated and will be removed from pandas in a future version. Use pandas.concat instead.\n",
      "  final_df = final_df.append(data_row, ignore_index=True)\n",
      "<ipython-input-85-8708ee457813>:15: FutureWarning: The frame.append method is deprecated and will be removed from pandas in a future version. Use pandas.concat instead.\n",
      "  final_df = final_df.append(data_row, ignore_index=True)\n",
      "<ipython-input-85-8708ee457813>:15: FutureWarning: The frame.append method is deprecated and will be removed from pandas in a future version. Use pandas.concat instead.\n",
      "  final_df = final_df.append(data_row, ignore_index=True)\n",
      "<ipython-input-85-8708ee457813>:15: FutureWarning: The frame.append method is deprecated and will be removed from pandas in a future version. Use pandas.concat instead.\n",
      "  final_df = final_df.append(data_row, ignore_index=True)\n",
      "<ipython-input-85-8708ee457813>:15: FutureWarning: The frame.append method is deprecated and will be removed from pandas in a future version. Use pandas.concat instead.\n",
      "  final_df = final_df.append(data_row, ignore_index=True)\n",
      "<ipython-input-85-8708ee457813>:15: FutureWarning: The frame.append method is deprecated and will be removed from pandas in a future version. Use pandas.concat instead.\n",
      "  final_df = final_df.append(data_row, ignore_index=True)\n",
      "<ipython-input-85-8708ee457813>:15: FutureWarning: The frame.append method is deprecated and will be removed from pandas in a future version. Use pandas.concat instead.\n",
      "  final_df = final_df.append(data_row, ignore_index=True)\n",
      "<ipython-input-85-8708ee457813>:15: FutureWarning: The frame.append method is deprecated and will be removed from pandas in a future version. Use pandas.concat instead.\n",
      "  final_df = final_df.append(data_row, ignore_index=True)\n",
      "<ipython-input-85-8708ee457813>:15: FutureWarning: The frame.append method is deprecated and will be removed from pandas in a future version. Use pandas.concat instead.\n",
      "  final_df = final_df.append(data_row, ignore_index=True)\n",
      "<ipython-input-85-8708ee457813>:15: FutureWarning: The frame.append method is deprecated and will be removed from pandas in a future version. Use pandas.concat instead.\n",
      "  final_df = final_df.append(data_row, ignore_index=True)\n",
      "<ipython-input-85-8708ee457813>:15: FutureWarning: The frame.append method is deprecated and will be removed from pandas in a future version. Use pandas.concat instead.\n",
      "  final_df = final_df.append(data_row, ignore_index=True)\n",
      "<ipython-input-85-8708ee457813>:8: TqdmDeprecationWarning: This function will be removed in tqdm==5.0.0\n",
      "Please use `tqdm.notebook.tqdm` instead of `tqdm.tqdm_notebook`\n",
      "  for vacancy_link in tqdm_notebook(vacancy_links, leave=False):\n"
     ]
    },
    {
     "data": {
      "application/vnd.jupyter.widget-view+json": {
       "model_id": "",
       "version_major": 2,
       "version_minor": 0
      },
      "text/plain": [
       "  0%|          | 0/25 [00:00<?, ?it/s]"
      ]
     },
     "metadata": {},
     "output_type": "display_data"
    },
    {
     "name": "stderr",
     "output_type": "stream",
     "text": [
      "<ipython-input-85-8708ee457813>:15: FutureWarning: The frame.append method is deprecated and will be removed from pandas in a future version. Use pandas.concat instead.\n",
      "  final_df = final_df.append(data_row, ignore_index=True)\n",
      "<ipython-input-85-8708ee457813>:15: FutureWarning: The frame.append method is deprecated and will be removed from pandas in a future version. Use pandas.concat instead.\n",
      "  final_df = final_df.append(data_row, ignore_index=True)\n",
      "<ipython-input-85-8708ee457813>:15: FutureWarning: The frame.append method is deprecated and will be removed from pandas in a future version. Use pandas.concat instead.\n",
      "  final_df = final_df.append(data_row, ignore_index=True)\n",
      "<ipython-input-85-8708ee457813>:15: FutureWarning: The frame.append method is deprecated and will be removed from pandas in a future version. Use pandas.concat instead.\n",
      "  final_df = final_df.append(data_row, ignore_index=True)\n",
      "<ipython-input-85-8708ee457813>:15: FutureWarning: The frame.append method is deprecated and will be removed from pandas in a future version. Use pandas.concat instead.\n",
      "  final_df = final_df.append(data_row, ignore_index=True)\n",
      "<ipython-input-85-8708ee457813>:15: FutureWarning: The frame.append method is deprecated and will be removed from pandas in a future version. Use pandas.concat instead.\n",
      "  final_df = final_df.append(data_row, ignore_index=True)\n",
      "<ipython-input-85-8708ee457813>:15: FutureWarning: The frame.append method is deprecated and will be removed from pandas in a future version. Use pandas.concat instead.\n",
      "  final_df = final_df.append(data_row, ignore_index=True)\n",
      "<ipython-input-85-8708ee457813>:15: FutureWarning: The frame.append method is deprecated and will be removed from pandas in a future version. Use pandas.concat instead.\n",
      "  final_df = final_df.append(data_row, ignore_index=True)\n",
      "<ipython-input-85-8708ee457813>:15: FutureWarning: The frame.append method is deprecated and will be removed from pandas in a future version. Use pandas.concat instead.\n",
      "  final_df = final_df.append(data_row, ignore_index=True)\n",
      "<ipython-input-85-8708ee457813>:15: FutureWarning: The frame.append method is deprecated and will be removed from pandas in a future version. Use pandas.concat instead.\n",
      "  final_df = final_df.append(data_row, ignore_index=True)\n",
      "<ipython-input-85-8708ee457813>:15: FutureWarning: The frame.append method is deprecated and will be removed from pandas in a future version. Use pandas.concat instead.\n",
      "  final_df = final_df.append(data_row, ignore_index=True)\n",
      "<ipython-input-85-8708ee457813>:15: FutureWarning: The frame.append method is deprecated and will be removed from pandas in a future version. Use pandas.concat instead.\n",
      "  final_df = final_df.append(data_row, ignore_index=True)\n",
      "<ipython-input-85-8708ee457813>:15: FutureWarning: The frame.append method is deprecated and will be removed from pandas in a future version. Use pandas.concat instead.\n",
      "  final_df = final_df.append(data_row, ignore_index=True)\n",
      "<ipython-input-85-8708ee457813>:15: FutureWarning: The frame.append method is deprecated and will be removed from pandas in a future version. Use pandas.concat instead.\n",
      "  final_df = final_df.append(data_row, ignore_index=True)\n",
      "<ipython-input-85-8708ee457813>:15: FutureWarning: The frame.append method is deprecated and will be removed from pandas in a future version. Use pandas.concat instead.\n",
      "  final_df = final_df.append(data_row, ignore_index=True)\n",
      "<ipython-input-85-8708ee457813>:15: FutureWarning: The frame.append method is deprecated and will be removed from pandas in a future version. Use pandas.concat instead.\n",
      "  final_df = final_df.append(data_row, ignore_index=True)\n",
      "<ipython-input-85-8708ee457813>:15: FutureWarning: The frame.append method is deprecated and will be removed from pandas in a future version. Use pandas.concat instead.\n",
      "  final_df = final_df.append(data_row, ignore_index=True)\n",
      "<ipython-input-85-8708ee457813>:15: FutureWarning: The frame.append method is deprecated and will be removed from pandas in a future version. Use pandas.concat instead.\n",
      "  final_df = final_df.append(data_row, ignore_index=True)\n",
      "<ipython-input-85-8708ee457813>:15: FutureWarning: The frame.append method is deprecated and will be removed from pandas in a future version. Use pandas.concat instead.\n",
      "  final_df = final_df.append(data_row, ignore_index=True)\n",
      "<ipython-input-85-8708ee457813>:15: FutureWarning: The frame.append method is deprecated and will be removed from pandas in a future version. Use pandas.concat instead.\n",
      "  final_df = final_df.append(data_row, ignore_index=True)\n",
      "<ipython-input-85-8708ee457813>:15: FutureWarning: The frame.append method is deprecated and will be removed from pandas in a future version. Use pandas.concat instead.\n",
      "  final_df = final_df.append(data_row, ignore_index=True)\n",
      "<ipython-input-85-8708ee457813>:15: FutureWarning: The frame.append method is deprecated and will be removed from pandas in a future version. Use pandas.concat instead.\n",
      "  final_df = final_df.append(data_row, ignore_index=True)\n",
      "<ipython-input-85-8708ee457813>:15: FutureWarning: The frame.append method is deprecated and will be removed from pandas in a future version. Use pandas.concat instead.\n",
      "  final_df = final_df.append(data_row, ignore_index=True)\n",
      "<ipython-input-85-8708ee457813>:15: FutureWarning: The frame.append method is deprecated and will be removed from pandas in a future version. Use pandas.concat instead.\n",
      "  final_df = final_df.append(data_row, ignore_index=True)\n",
      "<ipython-input-85-8708ee457813>:15: FutureWarning: The frame.append method is deprecated and will be removed from pandas in a future version. Use pandas.concat instead.\n",
      "  final_df = final_df.append(data_row, ignore_index=True)\n",
      "<ipython-input-85-8708ee457813>:8: TqdmDeprecationWarning: This function will be removed in tqdm==5.0.0\n",
      "Please use `tqdm.notebook.tqdm` instead of `tqdm.tqdm_notebook`\n",
      "  for vacancy_link in tqdm_notebook(vacancy_links, leave=False):\n"
     ]
    },
    {
     "data": {
      "application/vnd.jupyter.widget-view+json": {
       "model_id": "",
       "version_major": 2,
       "version_minor": 0
      },
      "text/plain": [
       "  0%|          | 0/25 [00:00<?, ?it/s]"
      ]
     },
     "metadata": {},
     "output_type": "display_data"
    },
    {
     "name": "stderr",
     "output_type": "stream",
     "text": [
      "<ipython-input-85-8708ee457813>:15: FutureWarning: The frame.append method is deprecated and will be removed from pandas in a future version. Use pandas.concat instead.\n",
      "  final_df = final_df.append(data_row, ignore_index=True)\n",
      "<ipython-input-85-8708ee457813>:15: FutureWarning: The frame.append method is deprecated and will be removed from pandas in a future version. Use pandas.concat instead.\n",
      "  final_df = final_df.append(data_row, ignore_index=True)\n",
      "<ipython-input-85-8708ee457813>:15: FutureWarning: The frame.append method is deprecated and will be removed from pandas in a future version. Use pandas.concat instead.\n",
      "  final_df = final_df.append(data_row, ignore_index=True)\n",
      "<ipython-input-85-8708ee457813>:15: FutureWarning: The frame.append method is deprecated and will be removed from pandas in a future version. Use pandas.concat instead.\n",
      "  final_df = final_df.append(data_row, ignore_index=True)\n",
      "<ipython-input-85-8708ee457813>:15: FutureWarning: The frame.append method is deprecated and will be removed from pandas in a future version. Use pandas.concat instead.\n",
      "  final_df = final_df.append(data_row, ignore_index=True)\n",
      "<ipython-input-85-8708ee457813>:15: FutureWarning: The frame.append method is deprecated and will be removed from pandas in a future version. Use pandas.concat instead.\n",
      "  final_df = final_df.append(data_row, ignore_index=True)\n",
      "<ipython-input-85-8708ee457813>:15: FutureWarning: The frame.append method is deprecated and will be removed from pandas in a future version. Use pandas.concat instead.\n",
      "  final_df = final_df.append(data_row, ignore_index=True)\n",
      "<ipython-input-85-8708ee457813>:15: FutureWarning: The frame.append method is deprecated and will be removed from pandas in a future version. Use pandas.concat instead.\n",
      "  final_df = final_df.append(data_row, ignore_index=True)\n",
      "<ipython-input-85-8708ee457813>:15: FutureWarning: The frame.append method is deprecated and will be removed from pandas in a future version. Use pandas.concat instead.\n",
      "  final_df = final_df.append(data_row, ignore_index=True)\n",
      "<ipython-input-85-8708ee457813>:15: FutureWarning: The frame.append method is deprecated and will be removed from pandas in a future version. Use pandas.concat instead.\n",
      "  final_df = final_df.append(data_row, ignore_index=True)\n",
      "<ipython-input-85-8708ee457813>:15: FutureWarning: The frame.append method is deprecated and will be removed from pandas in a future version. Use pandas.concat instead.\n",
      "  final_df = final_df.append(data_row, ignore_index=True)\n",
      "<ipython-input-85-8708ee457813>:15: FutureWarning: The frame.append method is deprecated and will be removed from pandas in a future version. Use pandas.concat instead.\n",
      "  final_df = final_df.append(data_row, ignore_index=True)\n",
      "<ipython-input-85-8708ee457813>:15: FutureWarning: The frame.append method is deprecated and will be removed from pandas in a future version. Use pandas.concat instead.\n",
      "  final_df = final_df.append(data_row, ignore_index=True)\n",
      "<ipython-input-85-8708ee457813>:15: FutureWarning: The frame.append method is deprecated and will be removed from pandas in a future version. Use pandas.concat instead.\n",
      "  final_df = final_df.append(data_row, ignore_index=True)\n",
      "<ipython-input-85-8708ee457813>:15: FutureWarning: The frame.append method is deprecated and will be removed from pandas in a future version. Use pandas.concat instead.\n",
      "  final_df = final_df.append(data_row, ignore_index=True)\n",
      "<ipython-input-85-8708ee457813>:15: FutureWarning: The frame.append method is deprecated and will be removed from pandas in a future version. Use pandas.concat instead.\n",
      "  final_df = final_df.append(data_row, ignore_index=True)\n",
      "<ipython-input-85-8708ee457813>:15: FutureWarning: The frame.append method is deprecated and will be removed from pandas in a future version. Use pandas.concat instead.\n",
      "  final_df = final_df.append(data_row, ignore_index=True)\n",
      "<ipython-input-85-8708ee457813>:15: FutureWarning: The frame.append method is deprecated and will be removed from pandas in a future version. Use pandas.concat instead.\n",
      "  final_df = final_df.append(data_row, ignore_index=True)\n",
      "<ipython-input-85-8708ee457813>:15: FutureWarning: The frame.append method is deprecated and will be removed from pandas in a future version. Use pandas.concat instead.\n",
      "  final_df = final_df.append(data_row, ignore_index=True)\n",
      "<ipython-input-85-8708ee457813>:15: FutureWarning: The frame.append method is deprecated and will be removed from pandas in a future version. Use pandas.concat instead.\n",
      "  final_df = final_df.append(data_row, ignore_index=True)\n",
      "<ipython-input-85-8708ee457813>:15: FutureWarning: The frame.append method is deprecated and will be removed from pandas in a future version. Use pandas.concat instead.\n",
      "  final_df = final_df.append(data_row, ignore_index=True)\n",
      "<ipython-input-85-8708ee457813>:15: FutureWarning: The frame.append method is deprecated and will be removed from pandas in a future version. Use pandas.concat instead.\n",
      "  final_df = final_df.append(data_row, ignore_index=True)\n",
      "<ipython-input-85-8708ee457813>:15: FutureWarning: The frame.append method is deprecated and will be removed from pandas in a future version. Use pandas.concat instead.\n",
      "  final_df = final_df.append(data_row, ignore_index=True)\n",
      "<ipython-input-85-8708ee457813>:15: FutureWarning: The frame.append method is deprecated and will be removed from pandas in a future version. Use pandas.concat instead.\n",
      "  final_df = final_df.append(data_row, ignore_index=True)\n",
      "<ipython-input-85-8708ee457813>:15: FutureWarning: The frame.append method is deprecated and will be removed from pandas in a future version. Use pandas.concat instead.\n",
      "  final_df = final_df.append(data_row, ignore_index=True)\n",
      "<ipython-input-85-8708ee457813>:8: TqdmDeprecationWarning: This function will be removed in tqdm==5.0.0\n",
      "Please use `tqdm.notebook.tqdm` instead of `tqdm.tqdm_notebook`\n",
      "  for vacancy_link in tqdm_notebook(vacancy_links, leave=False):\n"
     ]
    },
    {
     "data": {
      "application/vnd.jupyter.widget-view+json": {
       "model_id": "",
       "version_major": 2,
       "version_minor": 0
      },
      "text/plain": [
       "  0%|          | 0/25 [00:00<?, ?it/s]"
      ]
     },
     "metadata": {},
     "output_type": "display_data"
    },
    {
     "name": "stderr",
     "output_type": "stream",
     "text": [
      "<ipython-input-85-8708ee457813>:15: FutureWarning: The frame.append method is deprecated and will be removed from pandas in a future version. Use pandas.concat instead.\n",
      "  final_df = final_df.append(data_row, ignore_index=True)\n",
      "<ipython-input-85-8708ee457813>:15: FutureWarning: The frame.append method is deprecated and will be removed from pandas in a future version. Use pandas.concat instead.\n",
      "  final_df = final_df.append(data_row, ignore_index=True)\n",
      "<ipython-input-85-8708ee457813>:15: FutureWarning: The frame.append method is deprecated and will be removed from pandas in a future version. Use pandas.concat instead.\n",
      "  final_df = final_df.append(data_row, ignore_index=True)\n",
      "<ipython-input-85-8708ee457813>:15: FutureWarning: The frame.append method is deprecated and will be removed from pandas in a future version. Use pandas.concat instead.\n",
      "  final_df = final_df.append(data_row, ignore_index=True)\n",
      "<ipython-input-85-8708ee457813>:15: FutureWarning: The frame.append method is deprecated and will be removed from pandas in a future version. Use pandas.concat instead.\n",
      "  final_df = final_df.append(data_row, ignore_index=True)\n",
      "<ipython-input-85-8708ee457813>:15: FutureWarning: The frame.append method is deprecated and will be removed from pandas in a future version. Use pandas.concat instead.\n",
      "  final_df = final_df.append(data_row, ignore_index=True)\n",
      "<ipython-input-85-8708ee457813>:15: FutureWarning: The frame.append method is deprecated and will be removed from pandas in a future version. Use pandas.concat instead.\n",
      "  final_df = final_df.append(data_row, ignore_index=True)\n",
      "<ipython-input-85-8708ee457813>:15: FutureWarning: The frame.append method is deprecated and will be removed from pandas in a future version. Use pandas.concat instead.\n",
      "  final_df = final_df.append(data_row, ignore_index=True)\n",
      "<ipython-input-85-8708ee457813>:15: FutureWarning: The frame.append method is deprecated and will be removed from pandas in a future version. Use pandas.concat instead.\n",
      "  final_df = final_df.append(data_row, ignore_index=True)\n",
      "<ipython-input-85-8708ee457813>:15: FutureWarning: The frame.append method is deprecated and will be removed from pandas in a future version. Use pandas.concat instead.\n",
      "  final_df = final_df.append(data_row, ignore_index=True)\n",
      "<ipython-input-85-8708ee457813>:15: FutureWarning: The frame.append method is deprecated and will be removed from pandas in a future version. Use pandas.concat instead.\n",
      "  final_df = final_df.append(data_row, ignore_index=True)\n",
      "<ipython-input-85-8708ee457813>:15: FutureWarning: The frame.append method is deprecated and will be removed from pandas in a future version. Use pandas.concat instead.\n",
      "  final_df = final_df.append(data_row, ignore_index=True)\n",
      "<ipython-input-85-8708ee457813>:15: FutureWarning: The frame.append method is deprecated and will be removed from pandas in a future version. Use pandas.concat instead.\n",
      "  final_df = final_df.append(data_row, ignore_index=True)\n",
      "<ipython-input-85-8708ee457813>:15: FutureWarning: The frame.append method is deprecated and will be removed from pandas in a future version. Use pandas.concat instead.\n",
      "  final_df = final_df.append(data_row, ignore_index=True)\n",
      "<ipython-input-85-8708ee457813>:15: FutureWarning: The frame.append method is deprecated and will be removed from pandas in a future version. Use pandas.concat instead.\n",
      "  final_df = final_df.append(data_row, ignore_index=True)\n",
      "<ipython-input-85-8708ee457813>:15: FutureWarning: The frame.append method is deprecated and will be removed from pandas in a future version. Use pandas.concat instead.\n",
      "  final_df = final_df.append(data_row, ignore_index=True)\n",
      "<ipython-input-85-8708ee457813>:15: FutureWarning: The frame.append method is deprecated and will be removed from pandas in a future version. Use pandas.concat instead.\n",
      "  final_df = final_df.append(data_row, ignore_index=True)\n",
      "<ipython-input-85-8708ee457813>:15: FutureWarning: The frame.append method is deprecated and will be removed from pandas in a future version. Use pandas.concat instead.\n",
      "  final_df = final_df.append(data_row, ignore_index=True)\n",
      "<ipython-input-85-8708ee457813>:15: FutureWarning: The frame.append method is deprecated and will be removed from pandas in a future version. Use pandas.concat instead.\n",
      "  final_df = final_df.append(data_row, ignore_index=True)\n",
      "<ipython-input-85-8708ee457813>:15: FutureWarning: The frame.append method is deprecated and will be removed from pandas in a future version. Use pandas.concat instead.\n",
      "  final_df = final_df.append(data_row, ignore_index=True)\n",
      "<ipython-input-85-8708ee457813>:15: FutureWarning: The frame.append method is deprecated and will be removed from pandas in a future version. Use pandas.concat instead.\n",
      "  final_df = final_df.append(data_row, ignore_index=True)\n",
      "<ipython-input-85-8708ee457813>:15: FutureWarning: The frame.append method is deprecated and will be removed from pandas in a future version. Use pandas.concat instead.\n",
      "  final_df = final_df.append(data_row, ignore_index=True)\n",
      "<ipython-input-85-8708ee457813>:15: FutureWarning: The frame.append method is deprecated and will be removed from pandas in a future version. Use pandas.concat instead.\n",
      "  final_df = final_df.append(data_row, ignore_index=True)\n",
      "<ipython-input-85-8708ee457813>:15: FutureWarning: The frame.append method is deprecated and will be removed from pandas in a future version. Use pandas.concat instead.\n",
      "  final_df = final_df.append(data_row, ignore_index=True)\n",
      "<ipython-input-85-8708ee457813>:15: FutureWarning: The frame.append method is deprecated and will be removed from pandas in a future version. Use pandas.concat instead.\n",
      "  final_df = final_df.append(data_row, ignore_index=True)\n",
      "<ipython-input-85-8708ee457813>:8: TqdmDeprecationWarning: This function will be removed in tqdm==5.0.0\n",
      "Please use `tqdm.notebook.tqdm` instead of `tqdm.tqdm_notebook`\n",
      "  for vacancy_link in tqdm_notebook(vacancy_links, leave=False):\n"
     ]
    },
    {
     "data": {
      "application/vnd.jupyter.widget-view+json": {
       "model_id": "",
       "version_major": 2,
       "version_minor": 0
      },
      "text/plain": [
       "  0%|          | 0/25 [00:00<?, ?it/s]"
      ]
     },
     "metadata": {},
     "output_type": "display_data"
    },
    {
     "name": "stderr",
     "output_type": "stream",
     "text": [
      "<ipython-input-85-8708ee457813>:15: FutureWarning: The frame.append method is deprecated and will be removed from pandas in a future version. Use pandas.concat instead.\n",
      "  final_df = final_df.append(data_row, ignore_index=True)\n",
      "<ipython-input-85-8708ee457813>:15: FutureWarning: The frame.append method is deprecated and will be removed from pandas in a future version. Use pandas.concat instead.\n",
      "  final_df = final_df.append(data_row, ignore_index=True)\n",
      "<ipython-input-85-8708ee457813>:15: FutureWarning: The frame.append method is deprecated and will be removed from pandas in a future version. Use pandas.concat instead.\n",
      "  final_df = final_df.append(data_row, ignore_index=True)\n",
      "<ipython-input-85-8708ee457813>:15: FutureWarning: The frame.append method is deprecated and will be removed from pandas in a future version. Use pandas.concat instead.\n",
      "  final_df = final_df.append(data_row, ignore_index=True)\n",
      "<ipython-input-85-8708ee457813>:15: FutureWarning: The frame.append method is deprecated and will be removed from pandas in a future version. Use pandas.concat instead.\n",
      "  final_df = final_df.append(data_row, ignore_index=True)\n",
      "<ipython-input-85-8708ee457813>:15: FutureWarning: The frame.append method is deprecated and will be removed from pandas in a future version. Use pandas.concat instead.\n",
      "  final_df = final_df.append(data_row, ignore_index=True)\n",
      "<ipython-input-85-8708ee457813>:15: FutureWarning: The frame.append method is deprecated and will be removed from pandas in a future version. Use pandas.concat instead.\n",
      "  final_df = final_df.append(data_row, ignore_index=True)\n",
      "<ipython-input-85-8708ee457813>:15: FutureWarning: The frame.append method is deprecated and will be removed from pandas in a future version. Use pandas.concat instead.\n",
      "  final_df = final_df.append(data_row, ignore_index=True)\n",
      "<ipython-input-85-8708ee457813>:15: FutureWarning: The frame.append method is deprecated and will be removed from pandas in a future version. Use pandas.concat instead.\n",
      "  final_df = final_df.append(data_row, ignore_index=True)\n",
      "<ipython-input-85-8708ee457813>:15: FutureWarning: The frame.append method is deprecated and will be removed from pandas in a future version. Use pandas.concat instead.\n",
      "  final_df = final_df.append(data_row, ignore_index=True)\n",
      "<ipython-input-85-8708ee457813>:15: FutureWarning: The frame.append method is deprecated and will be removed from pandas in a future version. Use pandas.concat instead.\n",
      "  final_df = final_df.append(data_row, ignore_index=True)\n",
      "<ipython-input-85-8708ee457813>:15: FutureWarning: The frame.append method is deprecated and will be removed from pandas in a future version. Use pandas.concat instead.\n",
      "  final_df = final_df.append(data_row, ignore_index=True)\n",
      "<ipython-input-85-8708ee457813>:15: FutureWarning: The frame.append method is deprecated and will be removed from pandas in a future version. Use pandas.concat instead.\n",
      "  final_df = final_df.append(data_row, ignore_index=True)\n",
      "<ipython-input-85-8708ee457813>:15: FutureWarning: The frame.append method is deprecated and will be removed from pandas in a future version. Use pandas.concat instead.\n",
      "  final_df = final_df.append(data_row, ignore_index=True)\n",
      "<ipython-input-85-8708ee457813>:15: FutureWarning: The frame.append method is deprecated and will be removed from pandas in a future version. Use pandas.concat instead.\n",
      "  final_df = final_df.append(data_row, ignore_index=True)\n",
      "<ipython-input-85-8708ee457813>:15: FutureWarning: The frame.append method is deprecated and will be removed from pandas in a future version. Use pandas.concat instead.\n",
      "  final_df = final_df.append(data_row, ignore_index=True)\n",
      "<ipython-input-85-8708ee457813>:15: FutureWarning: The frame.append method is deprecated and will be removed from pandas in a future version. Use pandas.concat instead.\n",
      "  final_df = final_df.append(data_row, ignore_index=True)\n",
      "<ipython-input-85-8708ee457813>:15: FutureWarning: The frame.append method is deprecated and will be removed from pandas in a future version. Use pandas.concat instead.\n",
      "  final_df = final_df.append(data_row, ignore_index=True)\n",
      "<ipython-input-85-8708ee457813>:15: FutureWarning: The frame.append method is deprecated and will be removed from pandas in a future version. Use pandas.concat instead.\n",
      "  final_df = final_df.append(data_row, ignore_index=True)\n",
      "<ipython-input-85-8708ee457813>:15: FutureWarning: The frame.append method is deprecated and will be removed from pandas in a future version. Use pandas.concat instead.\n",
      "  final_df = final_df.append(data_row, ignore_index=True)\n",
      "<ipython-input-85-8708ee457813>:15: FutureWarning: The frame.append method is deprecated and will be removed from pandas in a future version. Use pandas.concat instead.\n",
      "  final_df = final_df.append(data_row, ignore_index=True)\n",
      "<ipython-input-85-8708ee457813>:15: FutureWarning: The frame.append method is deprecated and will be removed from pandas in a future version. Use pandas.concat instead.\n",
      "  final_df = final_df.append(data_row, ignore_index=True)\n",
      "<ipython-input-85-8708ee457813>:15: FutureWarning: The frame.append method is deprecated and will be removed from pandas in a future version. Use pandas.concat instead.\n",
      "  final_df = final_df.append(data_row, ignore_index=True)\n",
      "<ipython-input-85-8708ee457813>:15: FutureWarning: The frame.append method is deprecated and will be removed from pandas in a future version. Use pandas.concat instead.\n",
      "  final_df = final_df.append(data_row, ignore_index=True)\n",
      "<ipython-input-85-8708ee457813>:15: FutureWarning: The frame.append method is deprecated and will be removed from pandas in a future version. Use pandas.concat instead.\n",
      "  final_df = final_df.append(data_row, ignore_index=True)\n",
      "<ipython-input-85-8708ee457813>:8: TqdmDeprecationWarning: This function will be removed in tqdm==5.0.0\n",
      "Please use `tqdm.notebook.tqdm` instead of `tqdm.tqdm_notebook`\n",
      "  for vacancy_link in tqdm_notebook(vacancy_links, leave=False):\n"
     ]
    },
    {
     "data": {
      "application/vnd.jupyter.widget-view+json": {
       "model_id": "",
       "version_major": 2,
       "version_minor": 0
      },
      "text/plain": [
       "  0%|          | 0/25 [00:00<?, ?it/s]"
      ]
     },
     "metadata": {},
     "output_type": "display_data"
    },
    {
     "name": "stderr",
     "output_type": "stream",
     "text": [
      "<ipython-input-85-8708ee457813>:15: FutureWarning: The frame.append method is deprecated and will be removed from pandas in a future version. Use pandas.concat instead.\n",
      "  final_df = final_df.append(data_row, ignore_index=True)\n",
      "<ipython-input-85-8708ee457813>:15: FutureWarning: The frame.append method is deprecated and will be removed from pandas in a future version. Use pandas.concat instead.\n",
      "  final_df = final_df.append(data_row, ignore_index=True)\n",
      "<ipython-input-85-8708ee457813>:15: FutureWarning: The frame.append method is deprecated and will be removed from pandas in a future version. Use pandas.concat instead.\n",
      "  final_df = final_df.append(data_row, ignore_index=True)\n",
      "<ipython-input-85-8708ee457813>:15: FutureWarning: The frame.append method is deprecated and will be removed from pandas in a future version. Use pandas.concat instead.\n",
      "  final_df = final_df.append(data_row, ignore_index=True)\n",
      "<ipython-input-85-8708ee457813>:15: FutureWarning: The frame.append method is deprecated and will be removed from pandas in a future version. Use pandas.concat instead.\n",
      "  final_df = final_df.append(data_row, ignore_index=True)\n",
      "<ipython-input-85-8708ee457813>:15: FutureWarning: The frame.append method is deprecated and will be removed from pandas in a future version. Use pandas.concat instead.\n",
      "  final_df = final_df.append(data_row, ignore_index=True)\n",
      "<ipython-input-85-8708ee457813>:15: FutureWarning: The frame.append method is deprecated and will be removed from pandas in a future version. Use pandas.concat instead.\n",
      "  final_df = final_df.append(data_row, ignore_index=True)\n",
      "<ipython-input-85-8708ee457813>:15: FutureWarning: The frame.append method is deprecated and will be removed from pandas in a future version. Use pandas.concat instead.\n",
      "  final_df = final_df.append(data_row, ignore_index=True)\n",
      "<ipython-input-85-8708ee457813>:15: FutureWarning: The frame.append method is deprecated and will be removed from pandas in a future version. Use pandas.concat instead.\n",
      "  final_df = final_df.append(data_row, ignore_index=True)\n",
      "<ipython-input-85-8708ee457813>:15: FutureWarning: The frame.append method is deprecated and will be removed from pandas in a future version. Use pandas.concat instead.\n",
      "  final_df = final_df.append(data_row, ignore_index=True)\n",
      "<ipython-input-85-8708ee457813>:15: FutureWarning: The frame.append method is deprecated and will be removed from pandas in a future version. Use pandas.concat instead.\n",
      "  final_df = final_df.append(data_row, ignore_index=True)\n",
      "<ipython-input-85-8708ee457813>:15: FutureWarning: The frame.append method is deprecated and will be removed from pandas in a future version. Use pandas.concat instead.\n",
      "  final_df = final_df.append(data_row, ignore_index=True)\n",
      "<ipython-input-85-8708ee457813>:15: FutureWarning: The frame.append method is deprecated and will be removed from pandas in a future version. Use pandas.concat instead.\n",
      "  final_df = final_df.append(data_row, ignore_index=True)\n",
      "<ipython-input-85-8708ee457813>:15: FutureWarning: The frame.append method is deprecated and will be removed from pandas in a future version. Use pandas.concat instead.\n",
      "  final_df = final_df.append(data_row, ignore_index=True)\n",
      "<ipython-input-85-8708ee457813>:15: FutureWarning: The frame.append method is deprecated and will be removed from pandas in a future version. Use pandas.concat instead.\n",
      "  final_df = final_df.append(data_row, ignore_index=True)\n",
      "<ipython-input-85-8708ee457813>:15: FutureWarning: The frame.append method is deprecated and will be removed from pandas in a future version. Use pandas.concat instead.\n",
      "  final_df = final_df.append(data_row, ignore_index=True)\n",
      "<ipython-input-85-8708ee457813>:15: FutureWarning: The frame.append method is deprecated and will be removed from pandas in a future version. Use pandas.concat instead.\n",
      "  final_df = final_df.append(data_row, ignore_index=True)\n",
      "<ipython-input-85-8708ee457813>:15: FutureWarning: The frame.append method is deprecated and will be removed from pandas in a future version. Use pandas.concat instead.\n",
      "  final_df = final_df.append(data_row, ignore_index=True)\n",
      "<ipython-input-85-8708ee457813>:15: FutureWarning: The frame.append method is deprecated and will be removed from pandas in a future version. Use pandas.concat instead.\n",
      "  final_df = final_df.append(data_row, ignore_index=True)\n",
      "<ipython-input-85-8708ee457813>:15: FutureWarning: The frame.append method is deprecated and will be removed from pandas in a future version. Use pandas.concat instead.\n",
      "  final_df = final_df.append(data_row, ignore_index=True)\n",
      "<ipython-input-85-8708ee457813>:15: FutureWarning: The frame.append method is deprecated and will be removed from pandas in a future version. Use pandas.concat instead.\n",
      "  final_df = final_df.append(data_row, ignore_index=True)\n",
      "<ipython-input-85-8708ee457813>:15: FutureWarning: The frame.append method is deprecated and will be removed from pandas in a future version. Use pandas.concat instead.\n",
      "  final_df = final_df.append(data_row, ignore_index=True)\n",
      "<ipython-input-85-8708ee457813>:15: FutureWarning: The frame.append method is deprecated and will be removed from pandas in a future version. Use pandas.concat instead.\n",
      "  final_df = final_df.append(data_row, ignore_index=True)\n",
      "<ipython-input-85-8708ee457813>:15: FutureWarning: The frame.append method is deprecated and will be removed from pandas in a future version. Use pandas.concat instead.\n",
      "  final_df = final_df.append(data_row, ignore_index=True)\n",
      "<ipython-input-85-8708ee457813>:15: FutureWarning: The frame.append method is deprecated and will be removed from pandas in a future version. Use pandas.concat instead.\n",
      "  final_df = final_df.append(data_row, ignore_index=True)\n",
      "<ipython-input-85-8708ee457813>:8: TqdmDeprecationWarning: This function will be removed in tqdm==5.0.0\n",
      "Please use `tqdm.notebook.tqdm` instead of `tqdm.tqdm_notebook`\n",
      "  for vacancy_link in tqdm_notebook(vacancy_links, leave=False):\n"
     ]
    },
    {
     "data": {
      "application/vnd.jupyter.widget-view+json": {
       "model_id": "",
       "version_major": 2,
       "version_minor": 0
      },
      "text/plain": [
       "  0%|          | 0/25 [00:00<?, ?it/s]"
      ]
     },
     "metadata": {},
     "output_type": "display_data"
    },
    {
     "name": "stderr",
     "output_type": "stream",
     "text": [
      "<ipython-input-85-8708ee457813>:15: FutureWarning: The frame.append method is deprecated and will be removed from pandas in a future version. Use pandas.concat instead.\n",
      "  final_df = final_df.append(data_row, ignore_index=True)\n",
      "<ipython-input-85-8708ee457813>:15: FutureWarning: The frame.append method is deprecated and will be removed from pandas in a future version. Use pandas.concat instead.\n",
      "  final_df = final_df.append(data_row, ignore_index=True)\n",
      "<ipython-input-85-8708ee457813>:15: FutureWarning: The frame.append method is deprecated and will be removed from pandas in a future version. Use pandas.concat instead.\n",
      "  final_df = final_df.append(data_row, ignore_index=True)\n",
      "<ipython-input-85-8708ee457813>:15: FutureWarning: The frame.append method is deprecated and will be removed from pandas in a future version. Use pandas.concat instead.\n",
      "  final_df = final_df.append(data_row, ignore_index=True)\n",
      "<ipython-input-85-8708ee457813>:15: FutureWarning: The frame.append method is deprecated and will be removed from pandas in a future version. Use pandas.concat instead.\n",
      "  final_df = final_df.append(data_row, ignore_index=True)\n",
      "<ipython-input-85-8708ee457813>:15: FutureWarning: The frame.append method is deprecated and will be removed from pandas in a future version. Use pandas.concat instead.\n",
      "  final_df = final_df.append(data_row, ignore_index=True)\n",
      "<ipython-input-85-8708ee457813>:15: FutureWarning: The frame.append method is deprecated and will be removed from pandas in a future version. Use pandas.concat instead.\n",
      "  final_df = final_df.append(data_row, ignore_index=True)\n",
      "<ipython-input-85-8708ee457813>:15: FutureWarning: The frame.append method is deprecated and will be removed from pandas in a future version. Use pandas.concat instead.\n",
      "  final_df = final_df.append(data_row, ignore_index=True)\n",
      "<ipython-input-85-8708ee457813>:15: FutureWarning: The frame.append method is deprecated and will be removed from pandas in a future version. Use pandas.concat instead.\n",
      "  final_df = final_df.append(data_row, ignore_index=True)\n",
      "<ipython-input-85-8708ee457813>:15: FutureWarning: The frame.append method is deprecated and will be removed from pandas in a future version. Use pandas.concat instead.\n",
      "  final_df = final_df.append(data_row, ignore_index=True)\n",
      "<ipython-input-85-8708ee457813>:15: FutureWarning: The frame.append method is deprecated and will be removed from pandas in a future version. Use pandas.concat instead.\n",
      "  final_df = final_df.append(data_row, ignore_index=True)\n",
      "<ipython-input-85-8708ee457813>:15: FutureWarning: The frame.append method is deprecated and will be removed from pandas in a future version. Use pandas.concat instead.\n",
      "  final_df = final_df.append(data_row, ignore_index=True)\n",
      "<ipython-input-85-8708ee457813>:15: FutureWarning: The frame.append method is deprecated and will be removed from pandas in a future version. Use pandas.concat instead.\n",
      "  final_df = final_df.append(data_row, ignore_index=True)\n",
      "<ipython-input-85-8708ee457813>:15: FutureWarning: The frame.append method is deprecated and will be removed from pandas in a future version. Use pandas.concat instead.\n",
      "  final_df = final_df.append(data_row, ignore_index=True)\n",
      "<ipython-input-85-8708ee457813>:15: FutureWarning: The frame.append method is deprecated and will be removed from pandas in a future version. Use pandas.concat instead.\n",
      "  final_df = final_df.append(data_row, ignore_index=True)\n",
      "<ipython-input-85-8708ee457813>:15: FutureWarning: The frame.append method is deprecated and will be removed from pandas in a future version. Use pandas.concat instead.\n",
      "  final_df = final_df.append(data_row, ignore_index=True)\n",
      "<ipython-input-85-8708ee457813>:15: FutureWarning: The frame.append method is deprecated and will be removed from pandas in a future version. Use pandas.concat instead.\n",
      "  final_df = final_df.append(data_row, ignore_index=True)\n",
      "<ipython-input-85-8708ee457813>:15: FutureWarning: The frame.append method is deprecated and will be removed from pandas in a future version. Use pandas.concat instead.\n",
      "  final_df = final_df.append(data_row, ignore_index=True)\n",
      "<ipython-input-85-8708ee457813>:15: FutureWarning: The frame.append method is deprecated and will be removed from pandas in a future version. Use pandas.concat instead.\n",
      "  final_df = final_df.append(data_row, ignore_index=True)\n",
      "<ipython-input-85-8708ee457813>:15: FutureWarning: The frame.append method is deprecated and will be removed from pandas in a future version. Use pandas.concat instead.\n",
      "  final_df = final_df.append(data_row, ignore_index=True)\n",
      "<ipython-input-85-8708ee457813>:15: FutureWarning: The frame.append method is deprecated and will be removed from pandas in a future version. Use pandas.concat instead.\n",
      "  final_df = final_df.append(data_row, ignore_index=True)\n",
      "<ipython-input-85-8708ee457813>:15: FutureWarning: The frame.append method is deprecated and will be removed from pandas in a future version. Use pandas.concat instead.\n",
      "  final_df = final_df.append(data_row, ignore_index=True)\n",
      "<ipython-input-85-8708ee457813>:15: FutureWarning: The frame.append method is deprecated and will be removed from pandas in a future version. Use pandas.concat instead.\n",
      "  final_df = final_df.append(data_row, ignore_index=True)\n",
      "<ipython-input-85-8708ee457813>:15: FutureWarning: The frame.append method is deprecated and will be removed from pandas in a future version. Use pandas.concat instead.\n",
      "  final_df = final_df.append(data_row, ignore_index=True)\n",
      "<ipython-input-85-8708ee457813>:15: FutureWarning: The frame.append method is deprecated and will be removed from pandas in a future version. Use pandas.concat instead.\n",
      "  final_df = final_df.append(data_row, ignore_index=True)\n",
      "<ipython-input-85-8708ee457813>:8: TqdmDeprecationWarning: This function will be removed in tqdm==5.0.0\n",
      "Please use `tqdm.notebook.tqdm` instead of `tqdm.tqdm_notebook`\n",
      "  for vacancy_link in tqdm_notebook(vacancy_links, leave=False):\n"
     ]
    },
    {
     "data": {
      "application/vnd.jupyter.widget-view+json": {
       "model_id": "",
       "version_major": 2,
       "version_minor": 0
      },
      "text/plain": [
       "  0%|          | 0/25 [00:00<?, ?it/s]"
      ]
     },
     "metadata": {},
     "output_type": "display_data"
    },
    {
     "name": "stderr",
     "output_type": "stream",
     "text": [
      "<ipython-input-85-8708ee457813>:15: FutureWarning: The frame.append method is deprecated and will be removed from pandas in a future version. Use pandas.concat instead.\n",
      "  final_df = final_df.append(data_row, ignore_index=True)\n",
      "<ipython-input-85-8708ee457813>:15: FutureWarning: The frame.append method is deprecated and will be removed from pandas in a future version. Use pandas.concat instead.\n",
      "  final_df = final_df.append(data_row, ignore_index=True)\n",
      "<ipython-input-85-8708ee457813>:15: FutureWarning: The frame.append method is deprecated and will be removed from pandas in a future version. Use pandas.concat instead.\n",
      "  final_df = final_df.append(data_row, ignore_index=True)\n",
      "<ipython-input-85-8708ee457813>:15: FutureWarning: The frame.append method is deprecated and will be removed from pandas in a future version. Use pandas.concat instead.\n",
      "  final_df = final_df.append(data_row, ignore_index=True)\n",
      "<ipython-input-85-8708ee457813>:15: FutureWarning: The frame.append method is deprecated and will be removed from pandas in a future version. Use pandas.concat instead.\n",
      "  final_df = final_df.append(data_row, ignore_index=True)\n",
      "<ipython-input-85-8708ee457813>:15: FutureWarning: The frame.append method is deprecated and will be removed from pandas in a future version. Use pandas.concat instead.\n",
      "  final_df = final_df.append(data_row, ignore_index=True)\n",
      "<ipython-input-85-8708ee457813>:15: FutureWarning: The frame.append method is deprecated and will be removed from pandas in a future version. Use pandas.concat instead.\n",
      "  final_df = final_df.append(data_row, ignore_index=True)\n",
      "<ipython-input-85-8708ee457813>:15: FutureWarning: The frame.append method is deprecated and will be removed from pandas in a future version. Use pandas.concat instead.\n",
      "  final_df = final_df.append(data_row, ignore_index=True)\n",
      "<ipython-input-85-8708ee457813>:15: FutureWarning: The frame.append method is deprecated and will be removed from pandas in a future version. Use pandas.concat instead.\n",
      "  final_df = final_df.append(data_row, ignore_index=True)\n",
      "<ipython-input-85-8708ee457813>:15: FutureWarning: The frame.append method is deprecated and will be removed from pandas in a future version. Use pandas.concat instead.\n",
      "  final_df = final_df.append(data_row, ignore_index=True)\n",
      "<ipython-input-85-8708ee457813>:15: FutureWarning: The frame.append method is deprecated and will be removed from pandas in a future version. Use pandas.concat instead.\n",
      "  final_df = final_df.append(data_row, ignore_index=True)\n",
      "<ipython-input-85-8708ee457813>:15: FutureWarning: The frame.append method is deprecated and will be removed from pandas in a future version. Use pandas.concat instead.\n",
      "  final_df = final_df.append(data_row, ignore_index=True)\n",
      "<ipython-input-85-8708ee457813>:15: FutureWarning: The frame.append method is deprecated and will be removed from pandas in a future version. Use pandas.concat instead.\n",
      "  final_df = final_df.append(data_row, ignore_index=True)\n",
      "<ipython-input-85-8708ee457813>:15: FutureWarning: The frame.append method is deprecated and will be removed from pandas in a future version. Use pandas.concat instead.\n",
      "  final_df = final_df.append(data_row, ignore_index=True)\n",
      "<ipython-input-85-8708ee457813>:15: FutureWarning: The frame.append method is deprecated and will be removed from pandas in a future version. Use pandas.concat instead.\n",
      "  final_df = final_df.append(data_row, ignore_index=True)\n",
      "<ipython-input-85-8708ee457813>:15: FutureWarning: The frame.append method is deprecated and will be removed from pandas in a future version. Use pandas.concat instead.\n",
      "  final_df = final_df.append(data_row, ignore_index=True)\n",
      "<ipython-input-85-8708ee457813>:15: FutureWarning: The frame.append method is deprecated and will be removed from pandas in a future version. Use pandas.concat instead.\n",
      "  final_df = final_df.append(data_row, ignore_index=True)\n",
      "<ipython-input-85-8708ee457813>:15: FutureWarning: The frame.append method is deprecated and will be removed from pandas in a future version. Use pandas.concat instead.\n",
      "  final_df = final_df.append(data_row, ignore_index=True)\n",
      "<ipython-input-85-8708ee457813>:15: FutureWarning: The frame.append method is deprecated and will be removed from pandas in a future version. Use pandas.concat instead.\n",
      "  final_df = final_df.append(data_row, ignore_index=True)\n",
      "<ipython-input-85-8708ee457813>:15: FutureWarning: The frame.append method is deprecated and will be removed from pandas in a future version. Use pandas.concat instead.\n",
      "  final_df = final_df.append(data_row, ignore_index=True)\n",
      "<ipython-input-85-8708ee457813>:15: FutureWarning: The frame.append method is deprecated and will be removed from pandas in a future version. Use pandas.concat instead.\n",
      "  final_df = final_df.append(data_row, ignore_index=True)\n",
      "<ipython-input-85-8708ee457813>:15: FutureWarning: The frame.append method is deprecated and will be removed from pandas in a future version. Use pandas.concat instead.\n",
      "  final_df = final_df.append(data_row, ignore_index=True)\n",
      "<ipython-input-85-8708ee457813>:15: FutureWarning: The frame.append method is deprecated and will be removed from pandas in a future version. Use pandas.concat instead.\n",
      "  final_df = final_df.append(data_row, ignore_index=True)\n",
      "<ipython-input-85-8708ee457813>:15: FutureWarning: The frame.append method is deprecated and will be removed from pandas in a future version. Use pandas.concat instead.\n",
      "  final_df = final_df.append(data_row, ignore_index=True)\n",
      "<ipython-input-85-8708ee457813>:15: FutureWarning: The frame.append method is deprecated and will be removed from pandas in a future version. Use pandas.concat instead.\n",
      "  final_df = final_df.append(data_row, ignore_index=True)\n",
      "<ipython-input-85-8708ee457813>:8: TqdmDeprecationWarning: This function will be removed in tqdm==5.0.0\n",
      "Please use `tqdm.notebook.tqdm` instead of `tqdm.tqdm_notebook`\n",
      "  for vacancy_link in tqdm_notebook(vacancy_links, leave=False):\n"
     ]
    },
    {
     "data": {
      "application/vnd.jupyter.widget-view+json": {
       "model_id": "",
       "version_major": 2,
       "version_minor": 0
      },
      "text/plain": [
       "  0%|          | 0/25 [00:00<?, ?it/s]"
      ]
     },
     "metadata": {},
     "output_type": "display_data"
    },
    {
     "name": "stderr",
     "output_type": "stream",
     "text": [
      "<ipython-input-85-8708ee457813>:15: FutureWarning: The frame.append method is deprecated and will be removed from pandas in a future version. Use pandas.concat instead.\n",
      "  final_df = final_df.append(data_row, ignore_index=True)\n",
      "<ipython-input-85-8708ee457813>:15: FutureWarning: The frame.append method is deprecated and will be removed from pandas in a future version. Use pandas.concat instead.\n",
      "  final_df = final_df.append(data_row, ignore_index=True)\n",
      "<ipython-input-85-8708ee457813>:15: FutureWarning: The frame.append method is deprecated and will be removed from pandas in a future version. Use pandas.concat instead.\n",
      "  final_df = final_df.append(data_row, ignore_index=True)\n",
      "<ipython-input-85-8708ee457813>:15: FutureWarning: The frame.append method is deprecated and will be removed from pandas in a future version. Use pandas.concat instead.\n",
      "  final_df = final_df.append(data_row, ignore_index=True)\n",
      "<ipython-input-85-8708ee457813>:15: FutureWarning: The frame.append method is deprecated and will be removed from pandas in a future version. Use pandas.concat instead.\n",
      "  final_df = final_df.append(data_row, ignore_index=True)\n",
      "<ipython-input-85-8708ee457813>:15: FutureWarning: The frame.append method is deprecated and will be removed from pandas in a future version. Use pandas.concat instead.\n",
      "  final_df = final_df.append(data_row, ignore_index=True)\n",
      "<ipython-input-85-8708ee457813>:15: FutureWarning: The frame.append method is deprecated and will be removed from pandas in a future version. Use pandas.concat instead.\n",
      "  final_df = final_df.append(data_row, ignore_index=True)\n",
      "<ipython-input-85-8708ee457813>:15: FutureWarning: The frame.append method is deprecated and will be removed from pandas in a future version. Use pandas.concat instead.\n",
      "  final_df = final_df.append(data_row, ignore_index=True)\n",
      "<ipython-input-85-8708ee457813>:15: FutureWarning: The frame.append method is deprecated and will be removed from pandas in a future version. Use pandas.concat instead.\n",
      "  final_df = final_df.append(data_row, ignore_index=True)\n",
      "<ipython-input-85-8708ee457813>:15: FutureWarning: The frame.append method is deprecated and will be removed from pandas in a future version. Use pandas.concat instead.\n",
      "  final_df = final_df.append(data_row, ignore_index=True)\n",
      "<ipython-input-85-8708ee457813>:15: FutureWarning: The frame.append method is deprecated and will be removed from pandas in a future version. Use pandas.concat instead.\n",
      "  final_df = final_df.append(data_row, ignore_index=True)\n",
      "<ipython-input-85-8708ee457813>:15: FutureWarning: The frame.append method is deprecated and will be removed from pandas in a future version. Use pandas.concat instead.\n",
      "  final_df = final_df.append(data_row, ignore_index=True)\n",
      "<ipython-input-85-8708ee457813>:15: FutureWarning: The frame.append method is deprecated and will be removed from pandas in a future version. Use pandas.concat instead.\n",
      "  final_df = final_df.append(data_row, ignore_index=True)\n",
      "<ipython-input-85-8708ee457813>:15: FutureWarning: The frame.append method is deprecated and will be removed from pandas in a future version. Use pandas.concat instead.\n",
      "  final_df = final_df.append(data_row, ignore_index=True)\n",
      "<ipython-input-85-8708ee457813>:15: FutureWarning: The frame.append method is deprecated and will be removed from pandas in a future version. Use pandas.concat instead.\n",
      "  final_df = final_df.append(data_row, ignore_index=True)\n",
      "<ipython-input-85-8708ee457813>:15: FutureWarning: The frame.append method is deprecated and will be removed from pandas in a future version. Use pandas.concat instead.\n",
      "  final_df = final_df.append(data_row, ignore_index=True)\n",
      "<ipython-input-85-8708ee457813>:15: FutureWarning: The frame.append method is deprecated and will be removed from pandas in a future version. Use pandas.concat instead.\n",
      "  final_df = final_df.append(data_row, ignore_index=True)\n",
      "<ipython-input-85-8708ee457813>:15: FutureWarning: The frame.append method is deprecated and will be removed from pandas in a future version. Use pandas.concat instead.\n",
      "  final_df = final_df.append(data_row, ignore_index=True)\n",
      "<ipython-input-85-8708ee457813>:15: FutureWarning: The frame.append method is deprecated and will be removed from pandas in a future version. Use pandas.concat instead.\n",
      "  final_df = final_df.append(data_row, ignore_index=True)\n",
      "<ipython-input-85-8708ee457813>:15: FutureWarning: The frame.append method is deprecated and will be removed from pandas in a future version. Use pandas.concat instead.\n",
      "  final_df = final_df.append(data_row, ignore_index=True)\n",
      "<ipython-input-85-8708ee457813>:15: FutureWarning: The frame.append method is deprecated and will be removed from pandas in a future version. Use pandas.concat instead.\n",
      "  final_df = final_df.append(data_row, ignore_index=True)\n",
      "<ipython-input-85-8708ee457813>:15: FutureWarning: The frame.append method is deprecated and will be removed from pandas in a future version. Use pandas.concat instead.\n",
      "  final_df = final_df.append(data_row, ignore_index=True)\n",
      "<ipython-input-85-8708ee457813>:15: FutureWarning: The frame.append method is deprecated and will be removed from pandas in a future version. Use pandas.concat instead.\n",
      "  final_df = final_df.append(data_row, ignore_index=True)\n",
      "<ipython-input-85-8708ee457813>:15: FutureWarning: The frame.append method is deprecated and will be removed from pandas in a future version. Use pandas.concat instead.\n",
      "  final_df = final_df.append(data_row, ignore_index=True)\n",
      "<ipython-input-85-8708ee457813>:15: FutureWarning: The frame.append method is deprecated and will be removed from pandas in a future version. Use pandas.concat instead.\n",
      "  final_df = final_df.append(data_row, ignore_index=True)\n",
      "<ipython-input-85-8708ee457813>:8: TqdmDeprecationWarning: This function will be removed in tqdm==5.0.0\n",
      "Please use `tqdm.notebook.tqdm` instead of `tqdm.tqdm_notebook`\n",
      "  for vacancy_link in tqdm_notebook(vacancy_links, leave=False):\n"
     ]
    },
    {
     "data": {
      "application/vnd.jupyter.widget-view+json": {
       "model_id": "",
       "version_major": 2,
       "version_minor": 0
      },
      "text/plain": [
       "  0%|          | 0/25 [00:00<?, ?it/s]"
      ]
     },
     "metadata": {},
     "output_type": "display_data"
    },
    {
     "name": "stderr",
     "output_type": "stream",
     "text": [
      "<ipython-input-85-8708ee457813>:15: FutureWarning: The frame.append method is deprecated and will be removed from pandas in a future version. Use pandas.concat instead.\n",
      "  final_df = final_df.append(data_row, ignore_index=True)\n",
      "<ipython-input-85-8708ee457813>:15: FutureWarning: The frame.append method is deprecated and will be removed from pandas in a future version. Use pandas.concat instead.\n",
      "  final_df = final_df.append(data_row, ignore_index=True)\n",
      "<ipython-input-85-8708ee457813>:15: FutureWarning: The frame.append method is deprecated and will be removed from pandas in a future version. Use pandas.concat instead.\n",
      "  final_df = final_df.append(data_row, ignore_index=True)\n",
      "<ipython-input-85-8708ee457813>:15: FutureWarning: The frame.append method is deprecated and will be removed from pandas in a future version. Use pandas.concat instead.\n",
      "  final_df = final_df.append(data_row, ignore_index=True)\n",
      "<ipython-input-85-8708ee457813>:15: FutureWarning: The frame.append method is deprecated and will be removed from pandas in a future version. Use pandas.concat instead.\n",
      "  final_df = final_df.append(data_row, ignore_index=True)\n",
      "<ipython-input-85-8708ee457813>:15: FutureWarning: The frame.append method is deprecated and will be removed from pandas in a future version. Use pandas.concat instead.\n",
      "  final_df = final_df.append(data_row, ignore_index=True)\n",
      "<ipython-input-85-8708ee457813>:15: FutureWarning: The frame.append method is deprecated and will be removed from pandas in a future version. Use pandas.concat instead.\n",
      "  final_df = final_df.append(data_row, ignore_index=True)\n",
      "<ipython-input-85-8708ee457813>:15: FutureWarning: The frame.append method is deprecated and will be removed from pandas in a future version. Use pandas.concat instead.\n",
      "  final_df = final_df.append(data_row, ignore_index=True)\n",
      "<ipython-input-85-8708ee457813>:15: FutureWarning: The frame.append method is deprecated and will be removed from pandas in a future version. Use pandas.concat instead.\n",
      "  final_df = final_df.append(data_row, ignore_index=True)\n",
      "<ipython-input-85-8708ee457813>:15: FutureWarning: The frame.append method is deprecated and will be removed from pandas in a future version. Use pandas.concat instead.\n",
      "  final_df = final_df.append(data_row, ignore_index=True)\n",
      "<ipython-input-85-8708ee457813>:15: FutureWarning: The frame.append method is deprecated and will be removed from pandas in a future version. Use pandas.concat instead.\n",
      "  final_df = final_df.append(data_row, ignore_index=True)\n",
      "<ipython-input-85-8708ee457813>:15: FutureWarning: The frame.append method is deprecated and will be removed from pandas in a future version. Use pandas.concat instead.\n",
      "  final_df = final_df.append(data_row, ignore_index=True)\n",
      "<ipython-input-85-8708ee457813>:15: FutureWarning: The frame.append method is deprecated and will be removed from pandas in a future version. Use pandas.concat instead.\n",
      "  final_df = final_df.append(data_row, ignore_index=True)\n",
      "<ipython-input-85-8708ee457813>:15: FutureWarning: The frame.append method is deprecated and will be removed from pandas in a future version. Use pandas.concat instead.\n",
      "  final_df = final_df.append(data_row, ignore_index=True)\n",
      "<ipython-input-85-8708ee457813>:15: FutureWarning: The frame.append method is deprecated and will be removed from pandas in a future version. Use pandas.concat instead.\n",
      "  final_df = final_df.append(data_row, ignore_index=True)\n",
      "<ipython-input-85-8708ee457813>:15: FutureWarning: The frame.append method is deprecated and will be removed from pandas in a future version. Use pandas.concat instead.\n",
      "  final_df = final_df.append(data_row, ignore_index=True)\n",
      "<ipython-input-85-8708ee457813>:15: FutureWarning: The frame.append method is deprecated and will be removed from pandas in a future version. Use pandas.concat instead.\n",
      "  final_df = final_df.append(data_row, ignore_index=True)\n",
      "<ipython-input-85-8708ee457813>:15: FutureWarning: The frame.append method is deprecated and will be removed from pandas in a future version. Use pandas.concat instead.\n",
      "  final_df = final_df.append(data_row, ignore_index=True)\n",
      "<ipython-input-85-8708ee457813>:15: FutureWarning: The frame.append method is deprecated and will be removed from pandas in a future version. Use pandas.concat instead.\n",
      "  final_df = final_df.append(data_row, ignore_index=True)\n",
      "<ipython-input-85-8708ee457813>:15: FutureWarning: The frame.append method is deprecated and will be removed from pandas in a future version. Use pandas.concat instead.\n",
      "  final_df = final_df.append(data_row, ignore_index=True)\n",
      "<ipython-input-85-8708ee457813>:15: FutureWarning: The frame.append method is deprecated and will be removed from pandas in a future version. Use pandas.concat instead.\n",
      "  final_df = final_df.append(data_row, ignore_index=True)\n",
      "<ipython-input-85-8708ee457813>:15: FutureWarning: The frame.append method is deprecated and will be removed from pandas in a future version. Use pandas.concat instead.\n",
      "  final_df = final_df.append(data_row, ignore_index=True)\n",
      "<ipython-input-85-8708ee457813>:15: FutureWarning: The frame.append method is deprecated and will be removed from pandas in a future version. Use pandas.concat instead.\n",
      "  final_df = final_df.append(data_row, ignore_index=True)\n",
      "<ipython-input-85-8708ee457813>:15: FutureWarning: The frame.append method is deprecated and will be removed from pandas in a future version. Use pandas.concat instead.\n",
      "  final_df = final_df.append(data_row, ignore_index=True)\n",
      "<ipython-input-85-8708ee457813>:15: FutureWarning: The frame.append method is deprecated and will be removed from pandas in a future version. Use pandas.concat instead.\n",
      "  final_df = final_df.append(data_row, ignore_index=True)\n",
      "<ipython-input-85-8708ee457813>:8: TqdmDeprecationWarning: This function will be removed in tqdm==5.0.0\n",
      "Please use `tqdm.notebook.tqdm` instead of `tqdm.tqdm_notebook`\n",
      "  for vacancy_link in tqdm_notebook(vacancy_links, leave=False):\n"
     ]
    },
    {
     "data": {
      "application/vnd.jupyter.widget-view+json": {
       "model_id": "",
       "version_major": 2,
       "version_minor": 0
      },
      "text/plain": [
       "  0%|          | 0/25 [00:00<?, ?it/s]"
      ]
     },
     "metadata": {},
     "output_type": "display_data"
    },
    {
     "name": "stderr",
     "output_type": "stream",
     "text": [
      "<ipython-input-85-8708ee457813>:15: FutureWarning: The frame.append method is deprecated and will be removed from pandas in a future version. Use pandas.concat instead.\n",
      "  final_df = final_df.append(data_row, ignore_index=True)\n",
      "<ipython-input-85-8708ee457813>:15: FutureWarning: The frame.append method is deprecated and will be removed from pandas in a future version. Use pandas.concat instead.\n",
      "  final_df = final_df.append(data_row, ignore_index=True)\n",
      "<ipython-input-85-8708ee457813>:15: FutureWarning: The frame.append method is deprecated and will be removed from pandas in a future version. Use pandas.concat instead.\n",
      "  final_df = final_df.append(data_row, ignore_index=True)\n",
      "<ipython-input-85-8708ee457813>:15: FutureWarning: The frame.append method is deprecated and will be removed from pandas in a future version. Use pandas.concat instead.\n",
      "  final_df = final_df.append(data_row, ignore_index=True)\n",
      "<ipython-input-85-8708ee457813>:15: FutureWarning: The frame.append method is deprecated and will be removed from pandas in a future version. Use pandas.concat instead.\n",
      "  final_df = final_df.append(data_row, ignore_index=True)\n",
      "<ipython-input-85-8708ee457813>:15: FutureWarning: The frame.append method is deprecated and will be removed from pandas in a future version. Use pandas.concat instead.\n",
      "  final_df = final_df.append(data_row, ignore_index=True)\n",
      "<ipython-input-85-8708ee457813>:15: FutureWarning: The frame.append method is deprecated and will be removed from pandas in a future version. Use pandas.concat instead.\n",
      "  final_df = final_df.append(data_row, ignore_index=True)\n",
      "<ipython-input-85-8708ee457813>:15: FutureWarning: The frame.append method is deprecated and will be removed from pandas in a future version. Use pandas.concat instead.\n",
      "  final_df = final_df.append(data_row, ignore_index=True)\n",
      "<ipython-input-85-8708ee457813>:15: FutureWarning: The frame.append method is deprecated and will be removed from pandas in a future version. Use pandas.concat instead.\n",
      "  final_df = final_df.append(data_row, ignore_index=True)\n",
      "<ipython-input-85-8708ee457813>:15: FutureWarning: The frame.append method is deprecated and will be removed from pandas in a future version. Use pandas.concat instead.\n",
      "  final_df = final_df.append(data_row, ignore_index=True)\n",
      "<ipython-input-85-8708ee457813>:15: FutureWarning: The frame.append method is deprecated and will be removed from pandas in a future version. Use pandas.concat instead.\n",
      "  final_df = final_df.append(data_row, ignore_index=True)\n",
      "<ipython-input-85-8708ee457813>:15: FutureWarning: The frame.append method is deprecated and will be removed from pandas in a future version. Use pandas.concat instead.\n",
      "  final_df = final_df.append(data_row, ignore_index=True)\n",
      "<ipython-input-85-8708ee457813>:15: FutureWarning: The frame.append method is deprecated and will be removed from pandas in a future version. Use pandas.concat instead.\n",
      "  final_df = final_df.append(data_row, ignore_index=True)\n",
      "<ipython-input-85-8708ee457813>:15: FutureWarning: The frame.append method is deprecated and will be removed from pandas in a future version. Use pandas.concat instead.\n",
      "  final_df = final_df.append(data_row, ignore_index=True)\n",
      "<ipython-input-85-8708ee457813>:15: FutureWarning: The frame.append method is deprecated and will be removed from pandas in a future version. Use pandas.concat instead.\n",
      "  final_df = final_df.append(data_row, ignore_index=True)\n",
      "<ipython-input-85-8708ee457813>:15: FutureWarning: The frame.append method is deprecated and will be removed from pandas in a future version. Use pandas.concat instead.\n",
      "  final_df = final_df.append(data_row, ignore_index=True)\n",
      "<ipython-input-85-8708ee457813>:15: FutureWarning: The frame.append method is deprecated and will be removed from pandas in a future version. Use pandas.concat instead.\n",
      "  final_df = final_df.append(data_row, ignore_index=True)\n",
      "<ipython-input-85-8708ee457813>:15: FutureWarning: The frame.append method is deprecated and will be removed from pandas in a future version. Use pandas.concat instead.\n",
      "  final_df = final_df.append(data_row, ignore_index=True)\n",
      "<ipython-input-85-8708ee457813>:15: FutureWarning: The frame.append method is deprecated and will be removed from pandas in a future version. Use pandas.concat instead.\n",
      "  final_df = final_df.append(data_row, ignore_index=True)\n",
      "<ipython-input-85-8708ee457813>:15: FutureWarning: The frame.append method is deprecated and will be removed from pandas in a future version. Use pandas.concat instead.\n",
      "  final_df = final_df.append(data_row, ignore_index=True)\n",
      "<ipython-input-85-8708ee457813>:15: FutureWarning: The frame.append method is deprecated and will be removed from pandas in a future version. Use pandas.concat instead.\n",
      "  final_df = final_df.append(data_row, ignore_index=True)\n",
      "<ipython-input-85-8708ee457813>:15: FutureWarning: The frame.append method is deprecated and will be removed from pandas in a future version. Use pandas.concat instead.\n",
      "  final_df = final_df.append(data_row, ignore_index=True)\n",
      "<ipython-input-85-8708ee457813>:15: FutureWarning: The frame.append method is deprecated and will be removed from pandas in a future version. Use pandas.concat instead.\n",
      "  final_df = final_df.append(data_row, ignore_index=True)\n",
      "<ipython-input-85-8708ee457813>:15: FutureWarning: The frame.append method is deprecated and will be removed from pandas in a future version. Use pandas.concat instead.\n",
      "  final_df = final_df.append(data_row, ignore_index=True)\n",
      "<ipython-input-85-8708ee457813>:15: FutureWarning: The frame.append method is deprecated and will be removed from pandas in a future version. Use pandas.concat instead.\n",
      "  final_df = final_df.append(data_row, ignore_index=True)\n",
      "<ipython-input-85-8708ee457813>:8: TqdmDeprecationWarning: This function will be removed in tqdm==5.0.0\n",
      "Please use `tqdm.notebook.tqdm` instead of `tqdm.tqdm_notebook`\n",
      "  for vacancy_link in tqdm_notebook(vacancy_links, leave=False):\n"
     ]
    },
    {
     "data": {
      "application/vnd.jupyter.widget-view+json": {
       "model_id": "",
       "version_major": 2,
       "version_minor": 0
      },
      "text/plain": [
       "  0%|          | 0/25 [00:00<?, ?it/s]"
      ]
     },
     "metadata": {},
     "output_type": "display_data"
    },
    {
     "name": "stderr",
     "output_type": "stream",
     "text": [
      "<ipython-input-85-8708ee457813>:15: FutureWarning: The frame.append method is deprecated and will be removed from pandas in a future version. Use pandas.concat instead.\n",
      "  final_df = final_df.append(data_row, ignore_index=True)\n",
      "<ipython-input-85-8708ee457813>:15: FutureWarning: The frame.append method is deprecated and will be removed from pandas in a future version. Use pandas.concat instead.\n",
      "  final_df = final_df.append(data_row, ignore_index=True)\n",
      "<ipython-input-85-8708ee457813>:15: FutureWarning: The frame.append method is deprecated and will be removed from pandas in a future version. Use pandas.concat instead.\n",
      "  final_df = final_df.append(data_row, ignore_index=True)\n",
      "<ipython-input-85-8708ee457813>:15: FutureWarning: The frame.append method is deprecated and will be removed from pandas in a future version. Use pandas.concat instead.\n",
      "  final_df = final_df.append(data_row, ignore_index=True)\n",
      "<ipython-input-85-8708ee457813>:15: FutureWarning: The frame.append method is deprecated and will be removed from pandas in a future version. Use pandas.concat instead.\n",
      "  final_df = final_df.append(data_row, ignore_index=True)\n",
      "<ipython-input-85-8708ee457813>:15: FutureWarning: The frame.append method is deprecated and will be removed from pandas in a future version. Use pandas.concat instead.\n",
      "  final_df = final_df.append(data_row, ignore_index=True)\n",
      "<ipython-input-85-8708ee457813>:15: FutureWarning: The frame.append method is deprecated and will be removed from pandas in a future version. Use pandas.concat instead.\n",
      "  final_df = final_df.append(data_row, ignore_index=True)\n",
      "<ipython-input-85-8708ee457813>:15: FutureWarning: The frame.append method is deprecated and will be removed from pandas in a future version. Use pandas.concat instead.\n",
      "  final_df = final_df.append(data_row, ignore_index=True)\n",
      "<ipython-input-85-8708ee457813>:15: FutureWarning: The frame.append method is deprecated and will be removed from pandas in a future version. Use pandas.concat instead.\n",
      "  final_df = final_df.append(data_row, ignore_index=True)\n",
      "<ipython-input-85-8708ee457813>:15: FutureWarning: The frame.append method is deprecated and will be removed from pandas in a future version. Use pandas.concat instead.\n",
      "  final_df = final_df.append(data_row, ignore_index=True)\n",
      "<ipython-input-85-8708ee457813>:15: FutureWarning: The frame.append method is deprecated and will be removed from pandas in a future version. Use pandas.concat instead.\n",
      "  final_df = final_df.append(data_row, ignore_index=True)\n",
      "<ipython-input-85-8708ee457813>:15: FutureWarning: The frame.append method is deprecated and will be removed from pandas in a future version. Use pandas.concat instead.\n",
      "  final_df = final_df.append(data_row, ignore_index=True)\n",
      "<ipython-input-85-8708ee457813>:15: FutureWarning: The frame.append method is deprecated and will be removed from pandas in a future version. Use pandas.concat instead.\n",
      "  final_df = final_df.append(data_row, ignore_index=True)\n",
      "<ipython-input-85-8708ee457813>:15: FutureWarning: The frame.append method is deprecated and will be removed from pandas in a future version. Use pandas.concat instead.\n",
      "  final_df = final_df.append(data_row, ignore_index=True)\n",
      "<ipython-input-85-8708ee457813>:15: FutureWarning: The frame.append method is deprecated and will be removed from pandas in a future version. Use pandas.concat instead.\n",
      "  final_df = final_df.append(data_row, ignore_index=True)\n",
      "<ipython-input-85-8708ee457813>:15: FutureWarning: The frame.append method is deprecated and will be removed from pandas in a future version. Use pandas.concat instead.\n",
      "  final_df = final_df.append(data_row, ignore_index=True)\n",
      "<ipython-input-85-8708ee457813>:15: FutureWarning: The frame.append method is deprecated and will be removed from pandas in a future version. Use pandas.concat instead.\n",
      "  final_df = final_df.append(data_row, ignore_index=True)\n",
      "<ipython-input-85-8708ee457813>:15: FutureWarning: The frame.append method is deprecated and will be removed from pandas in a future version. Use pandas.concat instead.\n",
      "  final_df = final_df.append(data_row, ignore_index=True)\n",
      "<ipython-input-85-8708ee457813>:15: FutureWarning: The frame.append method is deprecated and will be removed from pandas in a future version. Use pandas.concat instead.\n",
      "  final_df = final_df.append(data_row, ignore_index=True)\n",
      "<ipython-input-85-8708ee457813>:15: FutureWarning: The frame.append method is deprecated and will be removed from pandas in a future version. Use pandas.concat instead.\n",
      "  final_df = final_df.append(data_row, ignore_index=True)\n",
      "<ipython-input-85-8708ee457813>:15: FutureWarning: The frame.append method is deprecated and will be removed from pandas in a future version. Use pandas.concat instead.\n",
      "  final_df = final_df.append(data_row, ignore_index=True)\n",
      "<ipython-input-85-8708ee457813>:15: FutureWarning: The frame.append method is deprecated and will be removed from pandas in a future version. Use pandas.concat instead.\n",
      "  final_df = final_df.append(data_row, ignore_index=True)\n",
      "<ipython-input-85-8708ee457813>:15: FutureWarning: The frame.append method is deprecated and will be removed from pandas in a future version. Use pandas.concat instead.\n",
      "  final_df = final_df.append(data_row, ignore_index=True)\n",
      "<ipython-input-85-8708ee457813>:15: FutureWarning: The frame.append method is deprecated and will be removed from pandas in a future version. Use pandas.concat instead.\n",
      "  final_df = final_df.append(data_row, ignore_index=True)\n",
      "<ipython-input-85-8708ee457813>:15: FutureWarning: The frame.append method is deprecated and will be removed from pandas in a future version. Use pandas.concat instead.\n",
      "  final_df = final_df.append(data_row, ignore_index=True)\n",
      "<ipython-input-85-8708ee457813>:8: TqdmDeprecationWarning: This function will be removed in tqdm==5.0.0\n",
      "Please use `tqdm.notebook.tqdm` instead of `tqdm.tqdm_notebook`\n",
      "  for vacancy_link in tqdm_notebook(vacancy_links, leave=False):\n"
     ]
    },
    {
     "data": {
      "application/vnd.jupyter.widget-view+json": {
       "model_id": "",
       "version_major": 2,
       "version_minor": 0
      },
      "text/plain": [
       "  0%|          | 0/25 [00:00<?, ?it/s]"
      ]
     },
     "metadata": {},
     "output_type": "display_data"
    },
    {
     "name": "stderr",
     "output_type": "stream",
     "text": [
      "<ipython-input-85-8708ee457813>:15: FutureWarning: The frame.append method is deprecated and will be removed from pandas in a future version. Use pandas.concat instead.\n",
      "  final_df = final_df.append(data_row, ignore_index=True)\n",
      "<ipython-input-85-8708ee457813>:15: FutureWarning: The frame.append method is deprecated and will be removed from pandas in a future version. Use pandas.concat instead.\n",
      "  final_df = final_df.append(data_row, ignore_index=True)\n",
      "<ipython-input-85-8708ee457813>:15: FutureWarning: The frame.append method is deprecated and will be removed from pandas in a future version. Use pandas.concat instead.\n",
      "  final_df = final_df.append(data_row, ignore_index=True)\n",
      "<ipython-input-85-8708ee457813>:15: FutureWarning: The frame.append method is deprecated and will be removed from pandas in a future version. Use pandas.concat instead.\n",
      "  final_df = final_df.append(data_row, ignore_index=True)\n",
      "<ipython-input-85-8708ee457813>:15: FutureWarning: The frame.append method is deprecated and will be removed from pandas in a future version. Use pandas.concat instead.\n",
      "  final_df = final_df.append(data_row, ignore_index=True)\n",
      "<ipython-input-85-8708ee457813>:15: FutureWarning: The frame.append method is deprecated and will be removed from pandas in a future version. Use pandas.concat instead.\n",
      "  final_df = final_df.append(data_row, ignore_index=True)\n",
      "<ipython-input-85-8708ee457813>:15: FutureWarning: The frame.append method is deprecated and will be removed from pandas in a future version. Use pandas.concat instead.\n",
      "  final_df = final_df.append(data_row, ignore_index=True)\n",
      "<ipython-input-85-8708ee457813>:15: FutureWarning: The frame.append method is deprecated and will be removed from pandas in a future version. Use pandas.concat instead.\n",
      "  final_df = final_df.append(data_row, ignore_index=True)\n",
      "<ipython-input-85-8708ee457813>:15: FutureWarning: The frame.append method is deprecated and will be removed from pandas in a future version. Use pandas.concat instead.\n",
      "  final_df = final_df.append(data_row, ignore_index=True)\n",
      "<ipython-input-85-8708ee457813>:15: FutureWarning: The frame.append method is deprecated and will be removed from pandas in a future version. Use pandas.concat instead.\n",
      "  final_df = final_df.append(data_row, ignore_index=True)\n",
      "<ipython-input-85-8708ee457813>:15: FutureWarning: The frame.append method is deprecated and will be removed from pandas in a future version. Use pandas.concat instead.\n",
      "  final_df = final_df.append(data_row, ignore_index=True)\n",
      "<ipython-input-85-8708ee457813>:15: FutureWarning: The frame.append method is deprecated and will be removed from pandas in a future version. Use pandas.concat instead.\n",
      "  final_df = final_df.append(data_row, ignore_index=True)\n",
      "<ipython-input-85-8708ee457813>:15: FutureWarning: The frame.append method is deprecated and will be removed from pandas in a future version. Use pandas.concat instead.\n",
      "  final_df = final_df.append(data_row, ignore_index=True)\n",
      "<ipython-input-85-8708ee457813>:15: FutureWarning: The frame.append method is deprecated and will be removed from pandas in a future version. Use pandas.concat instead.\n",
      "  final_df = final_df.append(data_row, ignore_index=True)\n",
      "<ipython-input-85-8708ee457813>:15: FutureWarning: The frame.append method is deprecated and will be removed from pandas in a future version. Use pandas.concat instead.\n",
      "  final_df = final_df.append(data_row, ignore_index=True)\n",
      "<ipython-input-85-8708ee457813>:15: FutureWarning: The frame.append method is deprecated and will be removed from pandas in a future version. Use pandas.concat instead.\n",
      "  final_df = final_df.append(data_row, ignore_index=True)\n",
      "<ipython-input-85-8708ee457813>:15: FutureWarning: The frame.append method is deprecated and will be removed from pandas in a future version. Use pandas.concat instead.\n",
      "  final_df = final_df.append(data_row, ignore_index=True)\n",
      "<ipython-input-85-8708ee457813>:15: FutureWarning: The frame.append method is deprecated and will be removed from pandas in a future version. Use pandas.concat instead.\n",
      "  final_df = final_df.append(data_row, ignore_index=True)\n",
      "<ipython-input-85-8708ee457813>:15: FutureWarning: The frame.append method is deprecated and will be removed from pandas in a future version. Use pandas.concat instead.\n",
      "  final_df = final_df.append(data_row, ignore_index=True)\n",
      "<ipython-input-85-8708ee457813>:15: FutureWarning: The frame.append method is deprecated and will be removed from pandas in a future version. Use pandas.concat instead.\n",
      "  final_df = final_df.append(data_row, ignore_index=True)\n",
      "<ipython-input-85-8708ee457813>:15: FutureWarning: The frame.append method is deprecated and will be removed from pandas in a future version. Use pandas.concat instead.\n",
      "  final_df = final_df.append(data_row, ignore_index=True)\n",
      "<ipython-input-85-8708ee457813>:15: FutureWarning: The frame.append method is deprecated and will be removed from pandas in a future version. Use pandas.concat instead.\n",
      "  final_df = final_df.append(data_row, ignore_index=True)\n",
      "<ipython-input-85-8708ee457813>:15: FutureWarning: The frame.append method is deprecated and will be removed from pandas in a future version. Use pandas.concat instead.\n",
      "  final_df = final_df.append(data_row, ignore_index=True)\n",
      "<ipython-input-85-8708ee457813>:15: FutureWarning: The frame.append method is deprecated and will be removed from pandas in a future version. Use pandas.concat instead.\n",
      "  final_df = final_df.append(data_row, ignore_index=True)\n",
      "<ipython-input-85-8708ee457813>:15: FutureWarning: The frame.append method is deprecated and will be removed from pandas in a future version. Use pandas.concat instead.\n",
      "  final_df = final_df.append(data_row, ignore_index=True)\n",
      "<ipython-input-85-8708ee457813>:8: TqdmDeprecationWarning: This function will be removed in tqdm==5.0.0\n",
      "Please use `tqdm.notebook.tqdm` instead of `tqdm.tqdm_notebook`\n",
      "  for vacancy_link in tqdm_notebook(vacancy_links, leave=False):\n"
     ]
    },
    {
     "data": {
      "application/vnd.jupyter.widget-view+json": {
       "model_id": "",
       "version_major": 2,
       "version_minor": 0
      },
      "text/plain": [
       "  0%|          | 0/25 [00:00<?, ?it/s]"
      ]
     },
     "metadata": {},
     "output_type": "display_data"
    },
    {
     "name": "stderr",
     "output_type": "stream",
     "text": [
      "<ipython-input-85-8708ee457813>:15: FutureWarning: The frame.append method is deprecated and will be removed from pandas in a future version. Use pandas.concat instead.\n",
      "  final_df = final_df.append(data_row, ignore_index=True)\n",
      "<ipython-input-85-8708ee457813>:15: FutureWarning: The frame.append method is deprecated and will be removed from pandas in a future version. Use pandas.concat instead.\n",
      "  final_df = final_df.append(data_row, ignore_index=True)\n",
      "<ipython-input-85-8708ee457813>:15: FutureWarning: The frame.append method is deprecated and will be removed from pandas in a future version. Use pandas.concat instead.\n",
      "  final_df = final_df.append(data_row, ignore_index=True)\n",
      "<ipython-input-85-8708ee457813>:15: FutureWarning: The frame.append method is deprecated and will be removed from pandas in a future version. Use pandas.concat instead.\n",
      "  final_df = final_df.append(data_row, ignore_index=True)\n",
      "<ipython-input-85-8708ee457813>:15: FutureWarning: The frame.append method is deprecated and will be removed from pandas in a future version. Use pandas.concat instead.\n",
      "  final_df = final_df.append(data_row, ignore_index=True)\n",
      "<ipython-input-85-8708ee457813>:15: FutureWarning: The frame.append method is deprecated and will be removed from pandas in a future version. Use pandas.concat instead.\n",
      "  final_df = final_df.append(data_row, ignore_index=True)\n",
      "<ipython-input-85-8708ee457813>:15: FutureWarning: The frame.append method is deprecated and will be removed from pandas in a future version. Use pandas.concat instead.\n",
      "  final_df = final_df.append(data_row, ignore_index=True)\n",
      "<ipython-input-85-8708ee457813>:15: FutureWarning: The frame.append method is deprecated and will be removed from pandas in a future version. Use pandas.concat instead.\n",
      "  final_df = final_df.append(data_row, ignore_index=True)\n",
      "<ipython-input-85-8708ee457813>:15: FutureWarning: The frame.append method is deprecated and will be removed from pandas in a future version. Use pandas.concat instead.\n",
      "  final_df = final_df.append(data_row, ignore_index=True)\n",
      "<ipython-input-85-8708ee457813>:15: FutureWarning: The frame.append method is deprecated and will be removed from pandas in a future version. Use pandas.concat instead.\n",
      "  final_df = final_df.append(data_row, ignore_index=True)\n",
      "<ipython-input-85-8708ee457813>:15: FutureWarning: The frame.append method is deprecated and will be removed from pandas in a future version. Use pandas.concat instead.\n",
      "  final_df = final_df.append(data_row, ignore_index=True)\n",
      "<ipython-input-85-8708ee457813>:15: FutureWarning: The frame.append method is deprecated and will be removed from pandas in a future version. Use pandas.concat instead.\n",
      "  final_df = final_df.append(data_row, ignore_index=True)\n",
      "<ipython-input-85-8708ee457813>:15: FutureWarning: The frame.append method is deprecated and will be removed from pandas in a future version. Use pandas.concat instead.\n",
      "  final_df = final_df.append(data_row, ignore_index=True)\n",
      "<ipython-input-85-8708ee457813>:15: FutureWarning: The frame.append method is deprecated and will be removed from pandas in a future version. Use pandas.concat instead.\n",
      "  final_df = final_df.append(data_row, ignore_index=True)\n",
      "<ipython-input-85-8708ee457813>:15: FutureWarning: The frame.append method is deprecated and will be removed from pandas in a future version. Use pandas.concat instead.\n",
      "  final_df = final_df.append(data_row, ignore_index=True)\n",
      "<ipython-input-85-8708ee457813>:15: FutureWarning: The frame.append method is deprecated and will be removed from pandas in a future version. Use pandas.concat instead.\n",
      "  final_df = final_df.append(data_row, ignore_index=True)\n",
      "<ipython-input-85-8708ee457813>:15: FutureWarning: The frame.append method is deprecated and will be removed from pandas in a future version. Use pandas.concat instead.\n",
      "  final_df = final_df.append(data_row, ignore_index=True)\n",
      "<ipython-input-85-8708ee457813>:15: FutureWarning: The frame.append method is deprecated and will be removed from pandas in a future version. Use pandas.concat instead.\n",
      "  final_df = final_df.append(data_row, ignore_index=True)\n",
      "<ipython-input-85-8708ee457813>:15: FutureWarning: The frame.append method is deprecated and will be removed from pandas in a future version. Use pandas.concat instead.\n",
      "  final_df = final_df.append(data_row, ignore_index=True)\n",
      "<ipython-input-85-8708ee457813>:15: FutureWarning: The frame.append method is deprecated and will be removed from pandas in a future version. Use pandas.concat instead.\n",
      "  final_df = final_df.append(data_row, ignore_index=True)\n",
      "<ipython-input-85-8708ee457813>:15: FutureWarning: The frame.append method is deprecated and will be removed from pandas in a future version. Use pandas.concat instead.\n",
      "  final_df = final_df.append(data_row, ignore_index=True)\n",
      "<ipython-input-85-8708ee457813>:15: FutureWarning: The frame.append method is deprecated and will be removed from pandas in a future version. Use pandas.concat instead.\n",
      "  final_df = final_df.append(data_row, ignore_index=True)\n",
      "<ipython-input-85-8708ee457813>:15: FutureWarning: The frame.append method is deprecated and will be removed from pandas in a future version. Use pandas.concat instead.\n",
      "  final_df = final_df.append(data_row, ignore_index=True)\n",
      "<ipython-input-85-8708ee457813>:15: FutureWarning: The frame.append method is deprecated and will be removed from pandas in a future version. Use pandas.concat instead.\n",
      "  final_df = final_df.append(data_row, ignore_index=True)\n",
      "<ipython-input-85-8708ee457813>:15: FutureWarning: The frame.append method is deprecated and will be removed from pandas in a future version. Use pandas.concat instead.\n",
      "  final_df = final_df.append(data_row, ignore_index=True)\n",
      "<ipython-input-85-8708ee457813>:8: TqdmDeprecationWarning: This function will be removed in tqdm==5.0.0\n",
      "Please use `tqdm.notebook.tqdm` instead of `tqdm.tqdm_notebook`\n",
      "  for vacancy_link in tqdm_notebook(vacancy_links, leave=False):\n"
     ]
    },
    {
     "data": {
      "application/vnd.jupyter.widget-view+json": {
       "model_id": "",
       "version_major": 2,
       "version_minor": 0
      },
      "text/plain": [
       "  0%|          | 0/25 [00:00<?, ?it/s]"
      ]
     },
     "metadata": {},
     "output_type": "display_data"
    },
    {
     "name": "stderr",
     "output_type": "stream",
     "text": [
      "<ipython-input-85-8708ee457813>:15: FutureWarning: The frame.append method is deprecated and will be removed from pandas in a future version. Use pandas.concat instead.\n",
      "  final_df = final_df.append(data_row, ignore_index=True)\n",
      "<ipython-input-85-8708ee457813>:15: FutureWarning: The frame.append method is deprecated and will be removed from pandas in a future version. Use pandas.concat instead.\n",
      "  final_df = final_df.append(data_row, ignore_index=True)\n",
      "<ipython-input-85-8708ee457813>:15: FutureWarning: The frame.append method is deprecated and will be removed from pandas in a future version. Use pandas.concat instead.\n",
      "  final_df = final_df.append(data_row, ignore_index=True)\n",
      "<ipython-input-85-8708ee457813>:15: FutureWarning: The frame.append method is deprecated and will be removed from pandas in a future version. Use pandas.concat instead.\n",
      "  final_df = final_df.append(data_row, ignore_index=True)\n",
      "<ipython-input-85-8708ee457813>:15: FutureWarning: The frame.append method is deprecated and will be removed from pandas in a future version. Use pandas.concat instead.\n",
      "  final_df = final_df.append(data_row, ignore_index=True)\n",
      "<ipython-input-85-8708ee457813>:15: FutureWarning: The frame.append method is deprecated and will be removed from pandas in a future version. Use pandas.concat instead.\n",
      "  final_df = final_df.append(data_row, ignore_index=True)\n",
      "<ipython-input-85-8708ee457813>:15: FutureWarning: The frame.append method is deprecated and will be removed from pandas in a future version. Use pandas.concat instead.\n",
      "  final_df = final_df.append(data_row, ignore_index=True)\n",
      "<ipython-input-85-8708ee457813>:15: FutureWarning: The frame.append method is deprecated and will be removed from pandas in a future version. Use pandas.concat instead.\n",
      "  final_df = final_df.append(data_row, ignore_index=True)\n",
      "<ipython-input-85-8708ee457813>:15: FutureWarning: The frame.append method is deprecated and will be removed from pandas in a future version. Use pandas.concat instead.\n",
      "  final_df = final_df.append(data_row, ignore_index=True)\n",
      "<ipython-input-85-8708ee457813>:15: FutureWarning: The frame.append method is deprecated and will be removed from pandas in a future version. Use pandas.concat instead.\n",
      "  final_df = final_df.append(data_row, ignore_index=True)\n",
      "<ipython-input-85-8708ee457813>:15: FutureWarning: The frame.append method is deprecated and will be removed from pandas in a future version. Use pandas.concat instead.\n",
      "  final_df = final_df.append(data_row, ignore_index=True)\n",
      "<ipython-input-85-8708ee457813>:15: FutureWarning: The frame.append method is deprecated and will be removed from pandas in a future version. Use pandas.concat instead.\n",
      "  final_df = final_df.append(data_row, ignore_index=True)\n",
      "<ipython-input-85-8708ee457813>:15: FutureWarning: The frame.append method is deprecated and will be removed from pandas in a future version. Use pandas.concat instead.\n",
      "  final_df = final_df.append(data_row, ignore_index=True)\n",
      "<ipython-input-85-8708ee457813>:15: FutureWarning: The frame.append method is deprecated and will be removed from pandas in a future version. Use pandas.concat instead.\n",
      "  final_df = final_df.append(data_row, ignore_index=True)\n",
      "<ipython-input-85-8708ee457813>:15: FutureWarning: The frame.append method is deprecated and will be removed from pandas in a future version. Use pandas.concat instead.\n",
      "  final_df = final_df.append(data_row, ignore_index=True)\n",
      "<ipython-input-85-8708ee457813>:15: FutureWarning: The frame.append method is deprecated and will be removed from pandas in a future version. Use pandas.concat instead.\n",
      "  final_df = final_df.append(data_row, ignore_index=True)\n",
      "<ipython-input-85-8708ee457813>:15: FutureWarning: The frame.append method is deprecated and will be removed from pandas in a future version. Use pandas.concat instead.\n",
      "  final_df = final_df.append(data_row, ignore_index=True)\n",
      "<ipython-input-85-8708ee457813>:15: FutureWarning: The frame.append method is deprecated and will be removed from pandas in a future version. Use pandas.concat instead.\n",
      "  final_df = final_df.append(data_row, ignore_index=True)\n",
      "<ipython-input-85-8708ee457813>:15: FutureWarning: The frame.append method is deprecated and will be removed from pandas in a future version. Use pandas.concat instead.\n",
      "  final_df = final_df.append(data_row, ignore_index=True)\n",
      "<ipython-input-85-8708ee457813>:15: FutureWarning: The frame.append method is deprecated and will be removed from pandas in a future version. Use pandas.concat instead.\n",
      "  final_df = final_df.append(data_row, ignore_index=True)\n",
      "<ipython-input-85-8708ee457813>:15: FutureWarning: The frame.append method is deprecated and will be removed from pandas in a future version. Use pandas.concat instead.\n",
      "  final_df = final_df.append(data_row, ignore_index=True)\n",
      "<ipython-input-85-8708ee457813>:15: FutureWarning: The frame.append method is deprecated and will be removed from pandas in a future version. Use pandas.concat instead.\n",
      "  final_df = final_df.append(data_row, ignore_index=True)\n",
      "<ipython-input-85-8708ee457813>:15: FutureWarning: The frame.append method is deprecated and will be removed from pandas in a future version. Use pandas.concat instead.\n",
      "  final_df = final_df.append(data_row, ignore_index=True)\n",
      "<ipython-input-85-8708ee457813>:15: FutureWarning: The frame.append method is deprecated and will be removed from pandas in a future version. Use pandas.concat instead.\n",
      "  final_df = final_df.append(data_row, ignore_index=True)\n",
      "<ipython-input-85-8708ee457813>:15: FutureWarning: The frame.append method is deprecated and will be removed from pandas in a future version. Use pandas.concat instead.\n",
      "  final_df = final_df.append(data_row, ignore_index=True)\n",
      "<ipython-input-85-8708ee457813>:8: TqdmDeprecationWarning: This function will be removed in tqdm==5.0.0\n",
      "Please use `tqdm.notebook.tqdm` instead of `tqdm.tqdm_notebook`\n",
      "  for vacancy_link in tqdm_notebook(vacancy_links, leave=False):\n"
     ]
    },
    {
     "data": {
      "application/vnd.jupyter.widget-view+json": {
       "model_id": "",
       "version_major": 2,
       "version_minor": 0
      },
      "text/plain": [
       "  0%|          | 0/25 [00:00<?, ?it/s]"
      ]
     },
     "metadata": {},
     "output_type": "display_data"
    },
    {
     "name": "stderr",
     "output_type": "stream",
     "text": [
      "<ipython-input-85-8708ee457813>:15: FutureWarning: The frame.append method is deprecated and will be removed from pandas in a future version. Use pandas.concat instead.\n",
      "  final_df = final_df.append(data_row, ignore_index=True)\n",
      "<ipython-input-85-8708ee457813>:15: FutureWarning: The frame.append method is deprecated and will be removed from pandas in a future version. Use pandas.concat instead.\n",
      "  final_df = final_df.append(data_row, ignore_index=True)\n",
      "<ipython-input-85-8708ee457813>:15: FutureWarning: The frame.append method is deprecated and will be removed from pandas in a future version. Use pandas.concat instead.\n",
      "  final_df = final_df.append(data_row, ignore_index=True)\n",
      "<ipython-input-85-8708ee457813>:15: FutureWarning: The frame.append method is deprecated and will be removed from pandas in a future version. Use pandas.concat instead.\n",
      "  final_df = final_df.append(data_row, ignore_index=True)\n",
      "<ipython-input-85-8708ee457813>:15: FutureWarning: The frame.append method is deprecated and will be removed from pandas in a future version. Use pandas.concat instead.\n",
      "  final_df = final_df.append(data_row, ignore_index=True)\n",
      "<ipython-input-85-8708ee457813>:15: FutureWarning: The frame.append method is deprecated and will be removed from pandas in a future version. Use pandas.concat instead.\n",
      "  final_df = final_df.append(data_row, ignore_index=True)\n",
      "<ipython-input-85-8708ee457813>:15: FutureWarning: The frame.append method is deprecated and will be removed from pandas in a future version. Use pandas.concat instead.\n",
      "  final_df = final_df.append(data_row, ignore_index=True)\n",
      "<ipython-input-85-8708ee457813>:15: FutureWarning: The frame.append method is deprecated and will be removed from pandas in a future version. Use pandas.concat instead.\n",
      "  final_df = final_df.append(data_row, ignore_index=True)\n",
      "<ipython-input-85-8708ee457813>:15: FutureWarning: The frame.append method is deprecated and will be removed from pandas in a future version. Use pandas.concat instead.\n",
      "  final_df = final_df.append(data_row, ignore_index=True)\n",
      "<ipython-input-85-8708ee457813>:15: FutureWarning: The frame.append method is deprecated and will be removed from pandas in a future version. Use pandas.concat instead.\n",
      "  final_df = final_df.append(data_row, ignore_index=True)\n",
      "<ipython-input-85-8708ee457813>:15: FutureWarning: The frame.append method is deprecated and will be removed from pandas in a future version. Use pandas.concat instead.\n",
      "  final_df = final_df.append(data_row, ignore_index=True)\n",
      "<ipython-input-85-8708ee457813>:15: FutureWarning: The frame.append method is deprecated and will be removed from pandas in a future version. Use pandas.concat instead.\n",
      "  final_df = final_df.append(data_row, ignore_index=True)\n",
      "<ipython-input-85-8708ee457813>:15: FutureWarning: The frame.append method is deprecated and will be removed from pandas in a future version. Use pandas.concat instead.\n",
      "  final_df = final_df.append(data_row, ignore_index=True)\n",
      "<ipython-input-85-8708ee457813>:15: FutureWarning: The frame.append method is deprecated and will be removed from pandas in a future version. Use pandas.concat instead.\n",
      "  final_df = final_df.append(data_row, ignore_index=True)\n",
      "<ipython-input-85-8708ee457813>:15: FutureWarning: The frame.append method is deprecated and will be removed from pandas in a future version. Use pandas.concat instead.\n",
      "  final_df = final_df.append(data_row, ignore_index=True)\n",
      "<ipython-input-85-8708ee457813>:15: FutureWarning: The frame.append method is deprecated and will be removed from pandas in a future version. Use pandas.concat instead.\n",
      "  final_df = final_df.append(data_row, ignore_index=True)\n",
      "<ipython-input-85-8708ee457813>:15: FutureWarning: The frame.append method is deprecated and will be removed from pandas in a future version. Use pandas.concat instead.\n",
      "  final_df = final_df.append(data_row, ignore_index=True)\n",
      "<ipython-input-85-8708ee457813>:15: FutureWarning: The frame.append method is deprecated and will be removed from pandas in a future version. Use pandas.concat instead.\n",
      "  final_df = final_df.append(data_row, ignore_index=True)\n",
      "<ipython-input-85-8708ee457813>:15: FutureWarning: The frame.append method is deprecated and will be removed from pandas in a future version. Use pandas.concat instead.\n",
      "  final_df = final_df.append(data_row, ignore_index=True)\n",
      "<ipython-input-85-8708ee457813>:15: FutureWarning: The frame.append method is deprecated and will be removed from pandas in a future version. Use pandas.concat instead.\n",
      "  final_df = final_df.append(data_row, ignore_index=True)\n",
      "<ipython-input-85-8708ee457813>:15: FutureWarning: The frame.append method is deprecated and will be removed from pandas in a future version. Use pandas.concat instead.\n",
      "  final_df = final_df.append(data_row, ignore_index=True)\n",
      "<ipython-input-85-8708ee457813>:15: FutureWarning: The frame.append method is deprecated and will be removed from pandas in a future version. Use pandas.concat instead.\n",
      "  final_df = final_df.append(data_row, ignore_index=True)\n",
      "<ipython-input-85-8708ee457813>:15: FutureWarning: The frame.append method is deprecated and will be removed from pandas in a future version. Use pandas.concat instead.\n",
      "  final_df = final_df.append(data_row, ignore_index=True)\n",
      "<ipython-input-85-8708ee457813>:15: FutureWarning: The frame.append method is deprecated and will be removed from pandas in a future version. Use pandas.concat instead.\n",
      "  final_df = final_df.append(data_row, ignore_index=True)\n",
      "<ipython-input-85-8708ee457813>:15: FutureWarning: The frame.append method is deprecated and will be removed from pandas in a future version. Use pandas.concat instead.\n",
      "  final_df = final_df.append(data_row, ignore_index=True)\n",
      "<ipython-input-85-8708ee457813>:8: TqdmDeprecationWarning: This function will be removed in tqdm==5.0.0\n",
      "Please use `tqdm.notebook.tqdm` instead of `tqdm.tqdm_notebook`\n",
      "  for vacancy_link in tqdm_notebook(vacancy_links, leave=False):\n"
     ]
    },
    {
     "data": {
      "application/vnd.jupyter.widget-view+json": {
       "model_id": "",
       "version_major": 2,
       "version_minor": 0
      },
      "text/plain": [
       "  0%|          | 0/25 [00:00<?, ?it/s]"
      ]
     },
     "metadata": {},
     "output_type": "display_data"
    },
    {
     "name": "stderr",
     "output_type": "stream",
     "text": [
      "<ipython-input-85-8708ee457813>:15: FutureWarning: The frame.append method is deprecated and will be removed from pandas in a future version. Use pandas.concat instead.\n",
      "  final_df = final_df.append(data_row, ignore_index=True)\n",
      "<ipython-input-85-8708ee457813>:15: FutureWarning: The frame.append method is deprecated and will be removed from pandas in a future version. Use pandas.concat instead.\n",
      "  final_df = final_df.append(data_row, ignore_index=True)\n",
      "<ipython-input-85-8708ee457813>:15: FutureWarning: The frame.append method is deprecated and will be removed from pandas in a future version. Use pandas.concat instead.\n",
      "  final_df = final_df.append(data_row, ignore_index=True)\n",
      "<ipython-input-85-8708ee457813>:15: FutureWarning: The frame.append method is deprecated and will be removed from pandas in a future version. Use pandas.concat instead.\n",
      "  final_df = final_df.append(data_row, ignore_index=True)\n",
      "<ipython-input-85-8708ee457813>:15: FutureWarning: The frame.append method is deprecated and will be removed from pandas in a future version. Use pandas.concat instead.\n",
      "  final_df = final_df.append(data_row, ignore_index=True)\n",
      "<ipython-input-85-8708ee457813>:15: FutureWarning: The frame.append method is deprecated and will be removed from pandas in a future version. Use pandas.concat instead.\n",
      "  final_df = final_df.append(data_row, ignore_index=True)\n",
      "<ipython-input-85-8708ee457813>:15: FutureWarning: The frame.append method is deprecated and will be removed from pandas in a future version. Use pandas.concat instead.\n",
      "  final_df = final_df.append(data_row, ignore_index=True)\n",
      "<ipython-input-85-8708ee457813>:15: FutureWarning: The frame.append method is deprecated and will be removed from pandas in a future version. Use pandas.concat instead.\n",
      "  final_df = final_df.append(data_row, ignore_index=True)\n",
      "<ipython-input-85-8708ee457813>:15: FutureWarning: The frame.append method is deprecated and will be removed from pandas in a future version. Use pandas.concat instead.\n",
      "  final_df = final_df.append(data_row, ignore_index=True)\n",
      "<ipython-input-85-8708ee457813>:15: FutureWarning: The frame.append method is deprecated and will be removed from pandas in a future version. Use pandas.concat instead.\n",
      "  final_df = final_df.append(data_row, ignore_index=True)\n",
      "<ipython-input-85-8708ee457813>:15: FutureWarning: The frame.append method is deprecated and will be removed from pandas in a future version. Use pandas.concat instead.\n",
      "  final_df = final_df.append(data_row, ignore_index=True)\n",
      "<ipython-input-85-8708ee457813>:15: FutureWarning: The frame.append method is deprecated and will be removed from pandas in a future version. Use pandas.concat instead.\n",
      "  final_df = final_df.append(data_row, ignore_index=True)\n",
      "<ipython-input-85-8708ee457813>:15: FutureWarning: The frame.append method is deprecated and will be removed from pandas in a future version. Use pandas.concat instead.\n",
      "  final_df = final_df.append(data_row, ignore_index=True)\n",
      "<ipython-input-85-8708ee457813>:15: FutureWarning: The frame.append method is deprecated and will be removed from pandas in a future version. Use pandas.concat instead.\n",
      "  final_df = final_df.append(data_row, ignore_index=True)\n",
      "<ipython-input-85-8708ee457813>:15: FutureWarning: The frame.append method is deprecated and will be removed from pandas in a future version. Use pandas.concat instead.\n",
      "  final_df = final_df.append(data_row, ignore_index=True)\n",
      "<ipython-input-85-8708ee457813>:15: FutureWarning: The frame.append method is deprecated and will be removed from pandas in a future version. Use pandas.concat instead.\n",
      "  final_df = final_df.append(data_row, ignore_index=True)\n",
      "<ipython-input-85-8708ee457813>:15: FutureWarning: The frame.append method is deprecated and will be removed from pandas in a future version. Use pandas.concat instead.\n",
      "  final_df = final_df.append(data_row, ignore_index=True)\n",
      "<ipython-input-85-8708ee457813>:15: FutureWarning: The frame.append method is deprecated and will be removed from pandas in a future version. Use pandas.concat instead.\n",
      "  final_df = final_df.append(data_row, ignore_index=True)\n",
      "<ipython-input-85-8708ee457813>:15: FutureWarning: The frame.append method is deprecated and will be removed from pandas in a future version. Use pandas.concat instead.\n",
      "  final_df = final_df.append(data_row, ignore_index=True)\n",
      "<ipython-input-85-8708ee457813>:15: FutureWarning: The frame.append method is deprecated and will be removed from pandas in a future version. Use pandas.concat instead.\n",
      "  final_df = final_df.append(data_row, ignore_index=True)\n",
      "<ipython-input-85-8708ee457813>:15: FutureWarning: The frame.append method is deprecated and will be removed from pandas in a future version. Use pandas.concat instead.\n",
      "  final_df = final_df.append(data_row, ignore_index=True)\n",
      "<ipython-input-85-8708ee457813>:15: FutureWarning: The frame.append method is deprecated and will be removed from pandas in a future version. Use pandas.concat instead.\n",
      "  final_df = final_df.append(data_row, ignore_index=True)\n",
      "<ipython-input-85-8708ee457813>:15: FutureWarning: The frame.append method is deprecated and will be removed from pandas in a future version. Use pandas.concat instead.\n",
      "  final_df = final_df.append(data_row, ignore_index=True)\n",
      "<ipython-input-85-8708ee457813>:15: FutureWarning: The frame.append method is deprecated and will be removed from pandas in a future version. Use pandas.concat instead.\n",
      "  final_df = final_df.append(data_row, ignore_index=True)\n",
      "<ipython-input-85-8708ee457813>:15: FutureWarning: The frame.append method is deprecated and will be removed from pandas in a future version. Use pandas.concat instead.\n",
      "  final_df = final_df.append(data_row, ignore_index=True)\n",
      "<ipython-input-85-8708ee457813>:8: TqdmDeprecationWarning: This function will be removed in tqdm==5.0.0\n",
      "Please use `tqdm.notebook.tqdm` instead of `tqdm.tqdm_notebook`\n",
      "  for vacancy_link in tqdm_notebook(vacancy_links, leave=False):\n"
     ]
    },
    {
     "data": {
      "application/vnd.jupyter.widget-view+json": {
       "model_id": "",
       "version_major": 2,
       "version_minor": 0
      },
      "text/plain": [
       "  0%|          | 0/25 [00:00<?, ?it/s]"
      ]
     },
     "metadata": {},
     "output_type": "display_data"
    },
    {
     "name": "stderr",
     "output_type": "stream",
     "text": [
      "<ipython-input-85-8708ee457813>:15: FutureWarning: The frame.append method is deprecated and will be removed from pandas in a future version. Use pandas.concat instead.\n",
      "  final_df = final_df.append(data_row, ignore_index=True)\n",
      "<ipython-input-85-8708ee457813>:15: FutureWarning: The frame.append method is deprecated and will be removed from pandas in a future version. Use pandas.concat instead.\n",
      "  final_df = final_df.append(data_row, ignore_index=True)\n",
      "<ipython-input-85-8708ee457813>:15: FutureWarning: The frame.append method is deprecated and will be removed from pandas in a future version. Use pandas.concat instead.\n",
      "  final_df = final_df.append(data_row, ignore_index=True)\n",
      "<ipython-input-85-8708ee457813>:15: FutureWarning: The frame.append method is deprecated and will be removed from pandas in a future version. Use pandas.concat instead.\n",
      "  final_df = final_df.append(data_row, ignore_index=True)\n",
      "<ipython-input-85-8708ee457813>:15: FutureWarning: The frame.append method is deprecated and will be removed from pandas in a future version. Use pandas.concat instead.\n",
      "  final_df = final_df.append(data_row, ignore_index=True)\n",
      "<ipython-input-85-8708ee457813>:15: FutureWarning: The frame.append method is deprecated and will be removed from pandas in a future version. Use pandas.concat instead.\n",
      "  final_df = final_df.append(data_row, ignore_index=True)\n",
      "<ipython-input-85-8708ee457813>:15: FutureWarning: The frame.append method is deprecated and will be removed from pandas in a future version. Use pandas.concat instead.\n",
      "  final_df = final_df.append(data_row, ignore_index=True)\n",
      "<ipython-input-85-8708ee457813>:15: FutureWarning: The frame.append method is deprecated and will be removed from pandas in a future version. Use pandas.concat instead.\n",
      "  final_df = final_df.append(data_row, ignore_index=True)\n",
      "<ipython-input-85-8708ee457813>:15: FutureWarning: The frame.append method is deprecated and will be removed from pandas in a future version. Use pandas.concat instead.\n",
      "  final_df = final_df.append(data_row, ignore_index=True)\n",
      "<ipython-input-85-8708ee457813>:15: FutureWarning: The frame.append method is deprecated and will be removed from pandas in a future version. Use pandas.concat instead.\n",
      "  final_df = final_df.append(data_row, ignore_index=True)\n",
      "<ipython-input-85-8708ee457813>:15: FutureWarning: The frame.append method is deprecated and will be removed from pandas in a future version. Use pandas.concat instead.\n",
      "  final_df = final_df.append(data_row, ignore_index=True)\n",
      "<ipython-input-85-8708ee457813>:15: FutureWarning: The frame.append method is deprecated and will be removed from pandas in a future version. Use pandas.concat instead.\n",
      "  final_df = final_df.append(data_row, ignore_index=True)\n",
      "<ipython-input-85-8708ee457813>:15: FutureWarning: The frame.append method is deprecated and will be removed from pandas in a future version. Use pandas.concat instead.\n",
      "  final_df = final_df.append(data_row, ignore_index=True)\n",
      "<ipython-input-85-8708ee457813>:15: FutureWarning: The frame.append method is deprecated and will be removed from pandas in a future version. Use pandas.concat instead.\n",
      "  final_df = final_df.append(data_row, ignore_index=True)\n",
      "<ipython-input-85-8708ee457813>:15: FutureWarning: The frame.append method is deprecated and will be removed from pandas in a future version. Use pandas.concat instead.\n",
      "  final_df = final_df.append(data_row, ignore_index=True)\n",
      "<ipython-input-85-8708ee457813>:15: FutureWarning: The frame.append method is deprecated and will be removed from pandas in a future version. Use pandas.concat instead.\n",
      "  final_df = final_df.append(data_row, ignore_index=True)\n",
      "<ipython-input-85-8708ee457813>:15: FutureWarning: The frame.append method is deprecated and will be removed from pandas in a future version. Use pandas.concat instead.\n",
      "  final_df = final_df.append(data_row, ignore_index=True)\n",
      "<ipython-input-85-8708ee457813>:15: FutureWarning: The frame.append method is deprecated and will be removed from pandas in a future version. Use pandas.concat instead.\n",
      "  final_df = final_df.append(data_row, ignore_index=True)\n",
      "<ipython-input-85-8708ee457813>:15: FutureWarning: The frame.append method is deprecated and will be removed from pandas in a future version. Use pandas.concat instead.\n",
      "  final_df = final_df.append(data_row, ignore_index=True)\n",
      "<ipython-input-85-8708ee457813>:15: FutureWarning: The frame.append method is deprecated and will be removed from pandas in a future version. Use pandas.concat instead.\n",
      "  final_df = final_df.append(data_row, ignore_index=True)\n",
      "<ipython-input-85-8708ee457813>:15: FutureWarning: The frame.append method is deprecated and will be removed from pandas in a future version. Use pandas.concat instead.\n",
      "  final_df = final_df.append(data_row, ignore_index=True)\n",
      "<ipython-input-85-8708ee457813>:15: FutureWarning: The frame.append method is deprecated and will be removed from pandas in a future version. Use pandas.concat instead.\n",
      "  final_df = final_df.append(data_row, ignore_index=True)\n",
      "<ipython-input-85-8708ee457813>:15: FutureWarning: The frame.append method is deprecated and will be removed from pandas in a future version. Use pandas.concat instead.\n",
      "  final_df = final_df.append(data_row, ignore_index=True)\n",
      "<ipython-input-85-8708ee457813>:15: FutureWarning: The frame.append method is deprecated and will be removed from pandas in a future version. Use pandas.concat instead.\n",
      "  final_df = final_df.append(data_row, ignore_index=True)\n",
      "<ipython-input-85-8708ee457813>:15: FutureWarning: The frame.append method is deprecated and will be removed from pandas in a future version. Use pandas.concat instead.\n",
      "  final_df = final_df.append(data_row, ignore_index=True)\n",
      "<ipython-input-85-8708ee457813>:8: TqdmDeprecationWarning: This function will be removed in tqdm==5.0.0\n",
      "Please use `tqdm.notebook.tqdm` instead of `tqdm.tqdm_notebook`\n",
      "  for vacancy_link in tqdm_notebook(vacancy_links, leave=False):\n"
     ]
    },
    {
     "data": {
      "application/vnd.jupyter.widget-view+json": {
       "model_id": "",
       "version_major": 2,
       "version_minor": 0
      },
      "text/plain": [
       "  0%|          | 0/25 [00:00<?, ?it/s]"
      ]
     },
     "metadata": {},
     "output_type": "display_data"
    },
    {
     "name": "stderr",
     "output_type": "stream",
     "text": [
      "<ipython-input-85-8708ee457813>:15: FutureWarning: The frame.append method is deprecated and will be removed from pandas in a future version. Use pandas.concat instead.\n",
      "  final_df = final_df.append(data_row, ignore_index=True)\n",
      "<ipython-input-85-8708ee457813>:15: FutureWarning: The frame.append method is deprecated and will be removed from pandas in a future version. Use pandas.concat instead.\n",
      "  final_df = final_df.append(data_row, ignore_index=True)\n",
      "<ipython-input-85-8708ee457813>:15: FutureWarning: The frame.append method is deprecated and will be removed from pandas in a future version. Use pandas.concat instead.\n",
      "  final_df = final_df.append(data_row, ignore_index=True)\n",
      "<ipython-input-85-8708ee457813>:15: FutureWarning: The frame.append method is deprecated and will be removed from pandas in a future version. Use pandas.concat instead.\n",
      "  final_df = final_df.append(data_row, ignore_index=True)\n",
      "<ipython-input-85-8708ee457813>:15: FutureWarning: The frame.append method is deprecated and will be removed from pandas in a future version. Use pandas.concat instead.\n",
      "  final_df = final_df.append(data_row, ignore_index=True)\n",
      "<ipython-input-85-8708ee457813>:15: FutureWarning: The frame.append method is deprecated and will be removed from pandas in a future version. Use pandas.concat instead.\n",
      "  final_df = final_df.append(data_row, ignore_index=True)\n",
      "<ipython-input-85-8708ee457813>:15: FutureWarning: The frame.append method is deprecated and will be removed from pandas in a future version. Use pandas.concat instead.\n",
      "  final_df = final_df.append(data_row, ignore_index=True)\n",
      "<ipython-input-85-8708ee457813>:15: FutureWarning: The frame.append method is deprecated and will be removed from pandas in a future version. Use pandas.concat instead.\n",
      "  final_df = final_df.append(data_row, ignore_index=True)\n",
      "<ipython-input-85-8708ee457813>:15: FutureWarning: The frame.append method is deprecated and will be removed from pandas in a future version. Use pandas.concat instead.\n",
      "  final_df = final_df.append(data_row, ignore_index=True)\n",
      "<ipython-input-85-8708ee457813>:15: FutureWarning: The frame.append method is deprecated and will be removed from pandas in a future version. Use pandas.concat instead.\n",
      "  final_df = final_df.append(data_row, ignore_index=True)\n",
      "<ipython-input-85-8708ee457813>:15: FutureWarning: The frame.append method is deprecated and will be removed from pandas in a future version. Use pandas.concat instead.\n",
      "  final_df = final_df.append(data_row, ignore_index=True)\n",
      "<ipython-input-85-8708ee457813>:15: FutureWarning: The frame.append method is deprecated and will be removed from pandas in a future version. Use pandas.concat instead.\n",
      "  final_df = final_df.append(data_row, ignore_index=True)\n",
      "<ipython-input-85-8708ee457813>:15: FutureWarning: The frame.append method is deprecated and will be removed from pandas in a future version. Use pandas.concat instead.\n",
      "  final_df = final_df.append(data_row, ignore_index=True)\n",
      "<ipython-input-85-8708ee457813>:15: FutureWarning: The frame.append method is deprecated and will be removed from pandas in a future version. Use pandas.concat instead.\n",
      "  final_df = final_df.append(data_row, ignore_index=True)\n",
      "<ipython-input-85-8708ee457813>:15: FutureWarning: The frame.append method is deprecated and will be removed from pandas in a future version. Use pandas.concat instead.\n",
      "  final_df = final_df.append(data_row, ignore_index=True)\n",
      "<ipython-input-85-8708ee457813>:15: FutureWarning: The frame.append method is deprecated and will be removed from pandas in a future version. Use pandas.concat instead.\n",
      "  final_df = final_df.append(data_row, ignore_index=True)\n",
      "<ipython-input-85-8708ee457813>:15: FutureWarning: The frame.append method is deprecated and will be removed from pandas in a future version. Use pandas.concat instead.\n",
      "  final_df = final_df.append(data_row, ignore_index=True)\n",
      "<ipython-input-85-8708ee457813>:15: FutureWarning: The frame.append method is deprecated and will be removed from pandas in a future version. Use pandas.concat instead.\n",
      "  final_df = final_df.append(data_row, ignore_index=True)\n",
      "<ipython-input-85-8708ee457813>:15: FutureWarning: The frame.append method is deprecated and will be removed from pandas in a future version. Use pandas.concat instead.\n",
      "  final_df = final_df.append(data_row, ignore_index=True)\n",
      "<ipython-input-85-8708ee457813>:15: FutureWarning: The frame.append method is deprecated and will be removed from pandas in a future version. Use pandas.concat instead.\n",
      "  final_df = final_df.append(data_row, ignore_index=True)\n",
      "<ipython-input-85-8708ee457813>:15: FutureWarning: The frame.append method is deprecated and will be removed from pandas in a future version. Use pandas.concat instead.\n",
      "  final_df = final_df.append(data_row, ignore_index=True)\n",
      "<ipython-input-85-8708ee457813>:15: FutureWarning: The frame.append method is deprecated and will be removed from pandas in a future version. Use pandas.concat instead.\n",
      "  final_df = final_df.append(data_row, ignore_index=True)\n",
      "<ipython-input-85-8708ee457813>:15: FutureWarning: The frame.append method is deprecated and will be removed from pandas in a future version. Use pandas.concat instead.\n",
      "  final_df = final_df.append(data_row, ignore_index=True)\n",
      "<ipython-input-85-8708ee457813>:15: FutureWarning: The frame.append method is deprecated and will be removed from pandas in a future version. Use pandas.concat instead.\n",
      "  final_df = final_df.append(data_row, ignore_index=True)\n",
      "<ipython-input-85-8708ee457813>:15: FutureWarning: The frame.append method is deprecated and will be removed from pandas in a future version. Use pandas.concat instead.\n",
      "  final_df = final_df.append(data_row, ignore_index=True)\n",
      "<ipython-input-85-8708ee457813>:8: TqdmDeprecationWarning: This function will be removed in tqdm==5.0.0\n",
      "Please use `tqdm.notebook.tqdm` instead of `tqdm.tqdm_notebook`\n",
      "  for vacancy_link in tqdm_notebook(vacancy_links, leave=False):\n"
     ]
    },
    {
     "data": {
      "application/vnd.jupyter.widget-view+json": {
       "model_id": "",
       "version_major": 2,
       "version_minor": 0
      },
      "text/plain": [
       "  0%|          | 0/25 [00:00<?, ?it/s]"
      ]
     },
     "metadata": {},
     "output_type": "display_data"
    },
    {
     "name": "stderr",
     "output_type": "stream",
     "text": [
      "<ipython-input-85-8708ee457813>:15: FutureWarning: The frame.append method is deprecated and will be removed from pandas in a future version. Use pandas.concat instead.\n",
      "  final_df = final_df.append(data_row, ignore_index=True)\n",
      "<ipython-input-85-8708ee457813>:15: FutureWarning: The frame.append method is deprecated and will be removed from pandas in a future version. Use pandas.concat instead.\n",
      "  final_df = final_df.append(data_row, ignore_index=True)\n",
      "<ipython-input-85-8708ee457813>:15: FutureWarning: The frame.append method is deprecated and will be removed from pandas in a future version. Use pandas.concat instead.\n",
      "  final_df = final_df.append(data_row, ignore_index=True)\n",
      "<ipython-input-85-8708ee457813>:15: FutureWarning: The frame.append method is deprecated and will be removed from pandas in a future version. Use pandas.concat instead.\n",
      "  final_df = final_df.append(data_row, ignore_index=True)\n",
      "<ipython-input-85-8708ee457813>:15: FutureWarning: The frame.append method is deprecated and will be removed from pandas in a future version. Use pandas.concat instead.\n",
      "  final_df = final_df.append(data_row, ignore_index=True)\n",
      "<ipython-input-85-8708ee457813>:15: FutureWarning: The frame.append method is deprecated and will be removed from pandas in a future version. Use pandas.concat instead.\n",
      "  final_df = final_df.append(data_row, ignore_index=True)\n",
      "<ipython-input-85-8708ee457813>:15: FutureWarning: The frame.append method is deprecated and will be removed from pandas in a future version. Use pandas.concat instead.\n",
      "  final_df = final_df.append(data_row, ignore_index=True)\n",
      "<ipython-input-85-8708ee457813>:15: FutureWarning: The frame.append method is deprecated and will be removed from pandas in a future version. Use pandas.concat instead.\n",
      "  final_df = final_df.append(data_row, ignore_index=True)\n",
      "<ipython-input-85-8708ee457813>:15: FutureWarning: The frame.append method is deprecated and will be removed from pandas in a future version. Use pandas.concat instead.\n",
      "  final_df = final_df.append(data_row, ignore_index=True)\n",
      "<ipython-input-85-8708ee457813>:15: FutureWarning: The frame.append method is deprecated and will be removed from pandas in a future version. Use pandas.concat instead.\n",
      "  final_df = final_df.append(data_row, ignore_index=True)\n",
      "<ipython-input-85-8708ee457813>:15: FutureWarning: The frame.append method is deprecated and will be removed from pandas in a future version. Use pandas.concat instead.\n",
      "  final_df = final_df.append(data_row, ignore_index=True)\n",
      "<ipython-input-85-8708ee457813>:15: FutureWarning: The frame.append method is deprecated and will be removed from pandas in a future version. Use pandas.concat instead.\n",
      "  final_df = final_df.append(data_row, ignore_index=True)\n",
      "<ipython-input-85-8708ee457813>:15: FutureWarning: The frame.append method is deprecated and will be removed from pandas in a future version. Use pandas.concat instead.\n",
      "  final_df = final_df.append(data_row, ignore_index=True)\n",
      "<ipython-input-85-8708ee457813>:15: FutureWarning: The frame.append method is deprecated and will be removed from pandas in a future version. Use pandas.concat instead.\n",
      "  final_df = final_df.append(data_row, ignore_index=True)\n",
      "<ipython-input-85-8708ee457813>:15: FutureWarning: The frame.append method is deprecated and will be removed from pandas in a future version. Use pandas.concat instead.\n",
      "  final_df = final_df.append(data_row, ignore_index=True)\n",
      "<ipython-input-85-8708ee457813>:15: FutureWarning: The frame.append method is deprecated and will be removed from pandas in a future version. Use pandas.concat instead.\n",
      "  final_df = final_df.append(data_row, ignore_index=True)\n",
      "<ipython-input-85-8708ee457813>:15: FutureWarning: The frame.append method is deprecated and will be removed from pandas in a future version. Use pandas.concat instead.\n",
      "  final_df = final_df.append(data_row, ignore_index=True)\n",
      "<ipython-input-85-8708ee457813>:15: FutureWarning: The frame.append method is deprecated and will be removed from pandas in a future version. Use pandas.concat instead.\n",
      "  final_df = final_df.append(data_row, ignore_index=True)\n",
      "<ipython-input-85-8708ee457813>:15: FutureWarning: The frame.append method is deprecated and will be removed from pandas in a future version. Use pandas.concat instead.\n",
      "  final_df = final_df.append(data_row, ignore_index=True)\n",
      "<ipython-input-85-8708ee457813>:15: FutureWarning: The frame.append method is deprecated and will be removed from pandas in a future version. Use pandas.concat instead.\n",
      "  final_df = final_df.append(data_row, ignore_index=True)\n",
      "<ipython-input-85-8708ee457813>:15: FutureWarning: The frame.append method is deprecated and will be removed from pandas in a future version. Use pandas.concat instead.\n",
      "  final_df = final_df.append(data_row, ignore_index=True)\n",
      "<ipython-input-85-8708ee457813>:15: FutureWarning: The frame.append method is deprecated and will be removed from pandas in a future version. Use pandas.concat instead.\n",
      "  final_df = final_df.append(data_row, ignore_index=True)\n",
      "<ipython-input-85-8708ee457813>:15: FutureWarning: The frame.append method is deprecated and will be removed from pandas in a future version. Use pandas.concat instead.\n",
      "  final_df = final_df.append(data_row, ignore_index=True)\n",
      "<ipython-input-85-8708ee457813>:15: FutureWarning: The frame.append method is deprecated and will be removed from pandas in a future version. Use pandas.concat instead.\n",
      "  final_df = final_df.append(data_row, ignore_index=True)\n",
      "<ipython-input-85-8708ee457813>:15: FutureWarning: The frame.append method is deprecated and will be removed from pandas in a future version. Use pandas.concat instead.\n",
      "  final_df = final_df.append(data_row, ignore_index=True)\n",
      "<ipython-input-85-8708ee457813>:8: TqdmDeprecationWarning: This function will be removed in tqdm==5.0.0\n",
      "Please use `tqdm.notebook.tqdm` instead of `tqdm.tqdm_notebook`\n",
      "  for vacancy_link in tqdm_notebook(vacancy_links, leave=False):\n"
     ]
    },
    {
     "data": {
      "application/vnd.jupyter.widget-view+json": {
       "model_id": "",
       "version_major": 2,
       "version_minor": 0
      },
      "text/plain": [
       "  0%|          | 0/25 [00:00<?, ?it/s]"
      ]
     },
     "metadata": {},
     "output_type": "display_data"
    },
    {
     "name": "stderr",
     "output_type": "stream",
     "text": [
      "<ipython-input-85-8708ee457813>:15: FutureWarning: The frame.append method is deprecated and will be removed from pandas in a future version. Use pandas.concat instead.\n",
      "  final_df = final_df.append(data_row, ignore_index=True)\n",
      "<ipython-input-85-8708ee457813>:15: FutureWarning: The frame.append method is deprecated and will be removed from pandas in a future version. Use pandas.concat instead.\n",
      "  final_df = final_df.append(data_row, ignore_index=True)\n",
      "<ipython-input-85-8708ee457813>:15: FutureWarning: The frame.append method is deprecated and will be removed from pandas in a future version. Use pandas.concat instead.\n",
      "  final_df = final_df.append(data_row, ignore_index=True)\n",
      "<ipython-input-85-8708ee457813>:15: FutureWarning: The frame.append method is deprecated and will be removed from pandas in a future version. Use pandas.concat instead.\n",
      "  final_df = final_df.append(data_row, ignore_index=True)\n",
      "<ipython-input-85-8708ee457813>:15: FutureWarning: The frame.append method is deprecated and will be removed from pandas in a future version. Use pandas.concat instead.\n",
      "  final_df = final_df.append(data_row, ignore_index=True)\n",
      "<ipython-input-85-8708ee457813>:15: FutureWarning: The frame.append method is deprecated and will be removed from pandas in a future version. Use pandas.concat instead.\n",
      "  final_df = final_df.append(data_row, ignore_index=True)\n",
      "<ipython-input-85-8708ee457813>:15: FutureWarning: The frame.append method is deprecated and will be removed from pandas in a future version. Use pandas.concat instead.\n",
      "  final_df = final_df.append(data_row, ignore_index=True)\n",
      "<ipython-input-85-8708ee457813>:15: FutureWarning: The frame.append method is deprecated and will be removed from pandas in a future version. Use pandas.concat instead.\n",
      "  final_df = final_df.append(data_row, ignore_index=True)\n",
      "<ipython-input-85-8708ee457813>:15: FutureWarning: The frame.append method is deprecated and will be removed from pandas in a future version. Use pandas.concat instead.\n",
      "  final_df = final_df.append(data_row, ignore_index=True)\n",
      "<ipython-input-85-8708ee457813>:15: FutureWarning: The frame.append method is deprecated and will be removed from pandas in a future version. Use pandas.concat instead.\n",
      "  final_df = final_df.append(data_row, ignore_index=True)\n",
      "<ipython-input-85-8708ee457813>:15: FutureWarning: The frame.append method is deprecated and will be removed from pandas in a future version. Use pandas.concat instead.\n",
      "  final_df = final_df.append(data_row, ignore_index=True)\n",
      "<ipython-input-85-8708ee457813>:15: FutureWarning: The frame.append method is deprecated and will be removed from pandas in a future version. Use pandas.concat instead.\n",
      "  final_df = final_df.append(data_row, ignore_index=True)\n",
      "<ipython-input-85-8708ee457813>:15: FutureWarning: The frame.append method is deprecated and will be removed from pandas in a future version. Use pandas.concat instead.\n",
      "  final_df = final_df.append(data_row, ignore_index=True)\n",
      "<ipython-input-85-8708ee457813>:15: FutureWarning: The frame.append method is deprecated and will be removed from pandas in a future version. Use pandas.concat instead.\n",
      "  final_df = final_df.append(data_row, ignore_index=True)\n",
      "<ipython-input-85-8708ee457813>:15: FutureWarning: The frame.append method is deprecated and will be removed from pandas in a future version. Use pandas.concat instead.\n",
      "  final_df = final_df.append(data_row, ignore_index=True)\n",
      "<ipython-input-85-8708ee457813>:15: FutureWarning: The frame.append method is deprecated and will be removed from pandas in a future version. Use pandas.concat instead.\n",
      "  final_df = final_df.append(data_row, ignore_index=True)\n",
      "<ipython-input-85-8708ee457813>:15: FutureWarning: The frame.append method is deprecated and will be removed from pandas in a future version. Use pandas.concat instead.\n",
      "  final_df = final_df.append(data_row, ignore_index=True)\n",
      "<ipython-input-85-8708ee457813>:15: FutureWarning: The frame.append method is deprecated and will be removed from pandas in a future version. Use pandas.concat instead.\n",
      "  final_df = final_df.append(data_row, ignore_index=True)\n",
      "<ipython-input-85-8708ee457813>:15: FutureWarning: The frame.append method is deprecated and will be removed from pandas in a future version. Use pandas.concat instead.\n",
      "  final_df = final_df.append(data_row, ignore_index=True)\n",
      "<ipython-input-85-8708ee457813>:15: FutureWarning: The frame.append method is deprecated and will be removed from pandas in a future version. Use pandas.concat instead.\n",
      "  final_df = final_df.append(data_row, ignore_index=True)\n",
      "<ipython-input-85-8708ee457813>:15: FutureWarning: The frame.append method is deprecated and will be removed from pandas in a future version. Use pandas.concat instead.\n",
      "  final_df = final_df.append(data_row, ignore_index=True)\n",
      "<ipython-input-85-8708ee457813>:15: FutureWarning: The frame.append method is deprecated and will be removed from pandas in a future version. Use pandas.concat instead.\n",
      "  final_df = final_df.append(data_row, ignore_index=True)\n",
      "<ipython-input-85-8708ee457813>:15: FutureWarning: The frame.append method is deprecated and will be removed from pandas in a future version. Use pandas.concat instead.\n",
      "  final_df = final_df.append(data_row, ignore_index=True)\n",
      "<ipython-input-85-8708ee457813>:15: FutureWarning: The frame.append method is deprecated and will be removed from pandas in a future version. Use pandas.concat instead.\n",
      "  final_df = final_df.append(data_row, ignore_index=True)\n",
      "<ipython-input-85-8708ee457813>:15: FutureWarning: The frame.append method is deprecated and will be removed from pandas in a future version. Use pandas.concat instead.\n",
      "  final_df = final_df.append(data_row, ignore_index=True)\n",
      "<ipython-input-85-8708ee457813>:8: TqdmDeprecationWarning: This function will be removed in tqdm==5.0.0\n",
      "Please use `tqdm.notebook.tqdm` instead of `tqdm.tqdm_notebook`\n",
      "  for vacancy_link in tqdm_notebook(vacancy_links, leave=False):\n"
     ]
    },
    {
     "data": {
      "application/vnd.jupyter.widget-view+json": {
       "model_id": "",
       "version_major": 2,
       "version_minor": 0
      },
      "text/plain": [
       "  0%|          | 0/25 [00:00<?, ?it/s]"
      ]
     },
     "metadata": {},
     "output_type": "display_data"
    },
    {
     "name": "stderr",
     "output_type": "stream",
     "text": [
      "<ipython-input-85-8708ee457813>:15: FutureWarning: The frame.append method is deprecated and will be removed from pandas in a future version. Use pandas.concat instead.\n",
      "  final_df = final_df.append(data_row, ignore_index=True)\n",
      "<ipython-input-85-8708ee457813>:15: FutureWarning: The frame.append method is deprecated and will be removed from pandas in a future version. Use pandas.concat instead.\n",
      "  final_df = final_df.append(data_row, ignore_index=True)\n",
      "<ipython-input-85-8708ee457813>:15: FutureWarning: The frame.append method is deprecated and will be removed from pandas in a future version. Use pandas.concat instead.\n",
      "  final_df = final_df.append(data_row, ignore_index=True)\n",
      "<ipython-input-85-8708ee457813>:15: FutureWarning: The frame.append method is deprecated and will be removed from pandas in a future version. Use pandas.concat instead.\n",
      "  final_df = final_df.append(data_row, ignore_index=True)\n",
      "<ipython-input-85-8708ee457813>:15: FutureWarning: The frame.append method is deprecated and will be removed from pandas in a future version. Use pandas.concat instead.\n",
      "  final_df = final_df.append(data_row, ignore_index=True)\n",
      "<ipython-input-85-8708ee457813>:15: FutureWarning: The frame.append method is deprecated and will be removed from pandas in a future version. Use pandas.concat instead.\n",
      "  final_df = final_df.append(data_row, ignore_index=True)\n",
      "<ipython-input-85-8708ee457813>:15: FutureWarning: The frame.append method is deprecated and will be removed from pandas in a future version. Use pandas.concat instead.\n",
      "  final_df = final_df.append(data_row, ignore_index=True)\n",
      "<ipython-input-85-8708ee457813>:15: FutureWarning: The frame.append method is deprecated and will be removed from pandas in a future version. Use pandas.concat instead.\n",
      "  final_df = final_df.append(data_row, ignore_index=True)\n",
      "<ipython-input-85-8708ee457813>:15: FutureWarning: The frame.append method is deprecated and will be removed from pandas in a future version. Use pandas.concat instead.\n",
      "  final_df = final_df.append(data_row, ignore_index=True)\n",
      "<ipython-input-85-8708ee457813>:15: FutureWarning: The frame.append method is deprecated and will be removed from pandas in a future version. Use pandas.concat instead.\n",
      "  final_df = final_df.append(data_row, ignore_index=True)\n",
      "<ipython-input-85-8708ee457813>:15: FutureWarning: The frame.append method is deprecated and will be removed from pandas in a future version. Use pandas.concat instead.\n",
      "  final_df = final_df.append(data_row, ignore_index=True)\n",
      "<ipython-input-85-8708ee457813>:15: FutureWarning: The frame.append method is deprecated and will be removed from pandas in a future version. Use pandas.concat instead.\n",
      "  final_df = final_df.append(data_row, ignore_index=True)\n",
      "<ipython-input-85-8708ee457813>:15: FutureWarning: The frame.append method is deprecated and will be removed from pandas in a future version. Use pandas.concat instead.\n",
      "  final_df = final_df.append(data_row, ignore_index=True)\n",
      "<ipython-input-85-8708ee457813>:15: FutureWarning: The frame.append method is deprecated and will be removed from pandas in a future version. Use pandas.concat instead.\n",
      "  final_df = final_df.append(data_row, ignore_index=True)\n",
      "<ipython-input-85-8708ee457813>:15: FutureWarning: The frame.append method is deprecated and will be removed from pandas in a future version. Use pandas.concat instead.\n",
      "  final_df = final_df.append(data_row, ignore_index=True)\n",
      "<ipython-input-85-8708ee457813>:15: FutureWarning: The frame.append method is deprecated and will be removed from pandas in a future version. Use pandas.concat instead.\n",
      "  final_df = final_df.append(data_row, ignore_index=True)\n",
      "<ipython-input-85-8708ee457813>:15: FutureWarning: The frame.append method is deprecated and will be removed from pandas in a future version. Use pandas.concat instead.\n",
      "  final_df = final_df.append(data_row, ignore_index=True)\n",
      "<ipython-input-85-8708ee457813>:15: FutureWarning: The frame.append method is deprecated and will be removed from pandas in a future version. Use pandas.concat instead.\n",
      "  final_df = final_df.append(data_row, ignore_index=True)\n",
      "<ipython-input-85-8708ee457813>:15: FutureWarning: The frame.append method is deprecated and will be removed from pandas in a future version. Use pandas.concat instead.\n",
      "  final_df = final_df.append(data_row, ignore_index=True)\n",
      "<ipython-input-85-8708ee457813>:15: FutureWarning: The frame.append method is deprecated and will be removed from pandas in a future version. Use pandas.concat instead.\n",
      "  final_df = final_df.append(data_row, ignore_index=True)\n",
      "<ipython-input-85-8708ee457813>:15: FutureWarning: The frame.append method is deprecated and will be removed from pandas in a future version. Use pandas.concat instead.\n",
      "  final_df = final_df.append(data_row, ignore_index=True)\n",
      "<ipython-input-85-8708ee457813>:15: FutureWarning: The frame.append method is deprecated and will be removed from pandas in a future version. Use pandas.concat instead.\n",
      "  final_df = final_df.append(data_row, ignore_index=True)\n",
      "<ipython-input-85-8708ee457813>:15: FutureWarning: The frame.append method is deprecated and will be removed from pandas in a future version. Use pandas.concat instead.\n",
      "  final_df = final_df.append(data_row, ignore_index=True)\n",
      "<ipython-input-85-8708ee457813>:15: FutureWarning: The frame.append method is deprecated and will be removed from pandas in a future version. Use pandas.concat instead.\n",
      "  final_df = final_df.append(data_row, ignore_index=True)\n",
      "<ipython-input-85-8708ee457813>:15: FutureWarning: The frame.append method is deprecated and will be removed from pandas in a future version. Use pandas.concat instead.\n",
      "  final_df = final_df.append(data_row, ignore_index=True)\n",
      "<ipython-input-85-8708ee457813>:8: TqdmDeprecationWarning: This function will be removed in tqdm==5.0.0\n",
      "Please use `tqdm.notebook.tqdm` instead of `tqdm.tqdm_notebook`\n",
      "  for vacancy_link in tqdm_notebook(vacancy_links, leave=False):\n"
     ]
    },
    {
     "data": {
      "application/vnd.jupyter.widget-view+json": {
       "model_id": "",
       "version_major": 2,
       "version_minor": 0
      },
      "text/plain": [
       "  0%|          | 0/25 [00:00<?, ?it/s]"
      ]
     },
     "metadata": {},
     "output_type": "display_data"
    },
    {
     "name": "stderr",
     "output_type": "stream",
     "text": [
      "<ipython-input-85-8708ee457813>:15: FutureWarning: The frame.append method is deprecated and will be removed from pandas in a future version. Use pandas.concat instead.\n",
      "  final_df = final_df.append(data_row, ignore_index=True)\n",
      "<ipython-input-85-8708ee457813>:15: FutureWarning: The frame.append method is deprecated and will be removed from pandas in a future version. Use pandas.concat instead.\n",
      "  final_df = final_df.append(data_row, ignore_index=True)\n",
      "<ipython-input-85-8708ee457813>:15: FutureWarning: The frame.append method is deprecated and will be removed from pandas in a future version. Use pandas.concat instead.\n",
      "  final_df = final_df.append(data_row, ignore_index=True)\n",
      "<ipython-input-85-8708ee457813>:15: FutureWarning: The frame.append method is deprecated and will be removed from pandas in a future version. Use pandas.concat instead.\n",
      "  final_df = final_df.append(data_row, ignore_index=True)\n",
      "<ipython-input-85-8708ee457813>:15: FutureWarning: The frame.append method is deprecated and will be removed from pandas in a future version. Use pandas.concat instead.\n",
      "  final_df = final_df.append(data_row, ignore_index=True)\n",
      "<ipython-input-85-8708ee457813>:15: FutureWarning: The frame.append method is deprecated and will be removed from pandas in a future version. Use pandas.concat instead.\n",
      "  final_df = final_df.append(data_row, ignore_index=True)\n",
      "<ipython-input-85-8708ee457813>:15: FutureWarning: The frame.append method is deprecated and will be removed from pandas in a future version. Use pandas.concat instead.\n",
      "  final_df = final_df.append(data_row, ignore_index=True)\n",
      "<ipython-input-85-8708ee457813>:15: FutureWarning: The frame.append method is deprecated and will be removed from pandas in a future version. Use pandas.concat instead.\n",
      "  final_df = final_df.append(data_row, ignore_index=True)\n",
      "<ipython-input-85-8708ee457813>:15: FutureWarning: The frame.append method is deprecated and will be removed from pandas in a future version. Use pandas.concat instead.\n",
      "  final_df = final_df.append(data_row, ignore_index=True)\n",
      "<ipython-input-85-8708ee457813>:15: FutureWarning: The frame.append method is deprecated and will be removed from pandas in a future version. Use pandas.concat instead.\n",
      "  final_df = final_df.append(data_row, ignore_index=True)\n",
      "<ipython-input-85-8708ee457813>:15: FutureWarning: The frame.append method is deprecated and will be removed from pandas in a future version. Use pandas.concat instead.\n",
      "  final_df = final_df.append(data_row, ignore_index=True)\n",
      "<ipython-input-85-8708ee457813>:15: FutureWarning: The frame.append method is deprecated and will be removed from pandas in a future version. Use pandas.concat instead.\n",
      "  final_df = final_df.append(data_row, ignore_index=True)\n",
      "<ipython-input-85-8708ee457813>:15: FutureWarning: The frame.append method is deprecated and will be removed from pandas in a future version. Use pandas.concat instead.\n",
      "  final_df = final_df.append(data_row, ignore_index=True)\n",
      "<ipython-input-85-8708ee457813>:15: FutureWarning: The frame.append method is deprecated and will be removed from pandas in a future version. Use pandas.concat instead.\n",
      "  final_df = final_df.append(data_row, ignore_index=True)\n",
      "<ipython-input-85-8708ee457813>:15: FutureWarning: The frame.append method is deprecated and will be removed from pandas in a future version. Use pandas.concat instead.\n",
      "  final_df = final_df.append(data_row, ignore_index=True)\n",
      "<ipython-input-85-8708ee457813>:15: FutureWarning: The frame.append method is deprecated and will be removed from pandas in a future version. Use pandas.concat instead.\n",
      "  final_df = final_df.append(data_row, ignore_index=True)\n",
      "<ipython-input-85-8708ee457813>:15: FutureWarning: The frame.append method is deprecated and will be removed from pandas in a future version. Use pandas.concat instead.\n",
      "  final_df = final_df.append(data_row, ignore_index=True)\n",
      "<ipython-input-85-8708ee457813>:15: FutureWarning: The frame.append method is deprecated and will be removed from pandas in a future version. Use pandas.concat instead.\n",
      "  final_df = final_df.append(data_row, ignore_index=True)\n",
      "<ipython-input-85-8708ee457813>:15: FutureWarning: The frame.append method is deprecated and will be removed from pandas in a future version. Use pandas.concat instead.\n",
      "  final_df = final_df.append(data_row, ignore_index=True)\n",
      "<ipython-input-85-8708ee457813>:15: FutureWarning: The frame.append method is deprecated and will be removed from pandas in a future version. Use pandas.concat instead.\n",
      "  final_df = final_df.append(data_row, ignore_index=True)\n",
      "<ipython-input-85-8708ee457813>:15: FutureWarning: The frame.append method is deprecated and will be removed from pandas in a future version. Use pandas.concat instead.\n",
      "  final_df = final_df.append(data_row, ignore_index=True)\n",
      "<ipython-input-85-8708ee457813>:15: FutureWarning: The frame.append method is deprecated and will be removed from pandas in a future version. Use pandas.concat instead.\n",
      "  final_df = final_df.append(data_row, ignore_index=True)\n",
      "<ipython-input-85-8708ee457813>:15: FutureWarning: The frame.append method is deprecated and will be removed from pandas in a future version. Use pandas.concat instead.\n",
      "  final_df = final_df.append(data_row, ignore_index=True)\n",
      "<ipython-input-85-8708ee457813>:15: FutureWarning: The frame.append method is deprecated and will be removed from pandas in a future version. Use pandas.concat instead.\n",
      "  final_df = final_df.append(data_row, ignore_index=True)\n",
      "<ipython-input-85-8708ee457813>:15: FutureWarning: The frame.append method is deprecated and will be removed from pandas in a future version. Use pandas.concat instead.\n",
      "  final_df = final_df.append(data_row, ignore_index=True)\n"
     ]
    }
   ],
   "source": [
    "from tqdm import tqdm_notebook\n",
    "\n",
    "\n",
    "final_df = pd.DataFrame(columns=['vacancy', 'salary', 'requirements', 'company'])\n",
    "\n",
    "for page_number in tqdm_notebook(range(29), desc='Pages'):\n",
    "    vacancy_links = getPageLinks(page_number)  \n",
    "    for vacancy_link in tqdm_notebook(vacancy_links, leave=False):\n",
    "        # иногда с первого раза страничка не парсится\n",
    "        for i in range(3):\n",
    "            try:\n",
    "                # пытаемся собрать по мему немного даты\n",
    "                data_row = getVacancyData(vacancy_link)           \n",
    "                # и закидываем её в таблицу\n",
    "                final_df = final_df.append(data_row, ignore_index=True)  \n",
    "                # если всё получилось - выходим из внутреннего цикла\n",
    "                break\n",
    "            except:\n",
    "                # Иначе, пробуем еще несколько раз, пока не закончатся попытки\n",
    "                print('AHTUNG! parsing once again:', vacancy_link)\n",
    "                continue"
   ]
  },
  {
   "cell_type": "code",
   "execution_count": 86,
   "metadata": {},
   "outputs": [
    {
     "data": {
      "text/html": [
       "<div>\n",
       "<style scoped>\n",
       "    .dataframe tbody tr th:only-of-type {\n",
       "        vertical-align: middle;\n",
       "    }\n",
       "\n",
       "    .dataframe tbody tr th {\n",
       "        vertical-align: top;\n",
       "    }\n",
       "\n",
       "    .dataframe thead th {\n",
       "        text-align: right;\n",
       "    }\n",
       "</style>\n",
       "<table border=\"1\" class=\"dataframe\">\n",
       "  <thead>\n",
       "    <tr style=\"text-align: right;\">\n",
       "      <th></th>\n",
       "      <th>vacancy</th>\n",
       "      <th>salary</th>\n",
       "      <th>requirements</th>\n",
       "      <th>company</th>\n",
       "    </tr>\n",
       "  </thead>\n",
       "  <tbody>\n",
       "    <tr>\n",
       "      <th>0</th>\n",
       "      <td>PHP разработчик (Senior)</td>\n",
       "      <td>от 300 000  ₽</td>\n",
       "      <td>Профессиональная команда, успешные проекты в с...</td>\n",
       "      <td>ZeroX</td>\n",
       "    </tr>\n",
       "    <tr>\n",
       "      <th>1</th>\n",
       "      <td>Senior Vue Developer</td>\n",
       "      <td>от 250 000  ₽</td>\n",
       "      <td>ZeroX - Мы занимаемся созданием развлекательны...</td>\n",
       "      <td>ZeroX</td>\n",
       "    </tr>\n",
       "    <tr>\n",
       "      <th>2</th>\n",
       "      <td>Smart Contract Developer/Solidity Developer (R...</td>\n",
       "      <td>от 3000  $</td>\n",
       "      <td>HashEx vision is to become the #1 DeFi Intelli...</td>\n",
       "      <td>HashEx</td>\n",
       "    </tr>\n",
       "    <tr>\n",
       "      <th>3</th>\n",
       "      <td>Frontend разработчик</td>\n",
       "      <td>от 100 000 до 150 000 ₽</td>\n",
       "      <td>О нас  По сути мы стартап, который совсем неда...</td>\n",
       "      <td>Almak IT</td>\n",
       "    </tr>\n",
       "    <tr>\n",
       "      <th>4</th>\n",
       "      <td>SRE (DevOps) Kubernetes</td>\n",
       "      <td>от 300 000  ₽</td>\n",
       "      <td>Мониторинг TerraSight — сервис для мониторинга...</td>\n",
       "      <td>Сбер</td>\n",
       "    </tr>\n",
       "    <tr>\n",
       "      <th>5</th>\n",
       "      <td>Java-разработчик</td>\n",
       "      <td>от 200 000 до 400 000 ₽</td>\n",
       "      <td>Группы разработки Sportmaster Lab ищут в свою...</td>\n",
       "      <td>Sportmaster Lab</td>\n",
       "    </tr>\n",
       "    <tr>\n",
       "      <th>6</th>\n",
       "      <td>Технический менеджер в сервис Compute</td>\n",
       "      <td>от 300 000  ₽</td>\n",
       "      <td>Облачная платформа SberInfra.Cloud является фу...</td>\n",
       "      <td>Сбер</td>\n",
       "    </tr>\n",
       "    <tr>\n",
       "      <th>7</th>\n",
       "      <td>Frontend-разработчик (Vue.js)</td>\n",
       "      <td>от 80 000 до 140 000 ₽</td>\n",
       "      <td>Требуемый опыт работы: 1–3 года Факт — аккреди...</td>\n",
       "      <td>Факт</td>\n",
       "    </tr>\n",
       "    <tr>\n",
       "      <th>8</th>\n",
       "      <td>Инженер технической поддержки</td>\n",
       "      <td>от 120 000 до 140 000 ₽</td>\n",
       "      <td>Компания \"АйТи Бастион\"- российский разработчи...</td>\n",
       "      <td>АйТи Бастион</td>\n",
       "    </tr>\n",
       "    <tr>\n",
       "      <th>9</th>\n",
       "      <td>Fullstack / Backend разработчик PHP/JS</td>\n",
       "      <td>от 100 000  ₽</td>\n",
       "      <td>Кто мы?  YOURNEEDS - это команда профессионало...</td>\n",
       "      <td>YOURNEEDS</td>\n",
       "    </tr>\n",
       "  </tbody>\n",
       "</table>\n",
       "</div>"
      ],
      "text/plain": [
       "                                             vacancy                   salary  \\\n",
       "0                           PHP разработчик (Senior)            от 300 000  ₽   \n",
       "1                               Senior Vue Developer            от 250 000  ₽   \n",
       "2  Smart Contract Developer/Solidity Developer (R...               от 3000  $   \n",
       "3                               Frontend разработчик  от 100 000 до 150 000 ₽   \n",
       "4                            SRE (DevOps) Kubernetes            от 300 000  ₽   \n",
       "5                                   Java-разработчик  от 200 000 до 400 000 ₽   \n",
       "6              Технический менеджер в сервис Compute            от 300 000  ₽   \n",
       "7                      Frontend-разработчик (Vue.js)   от 80 000 до 140 000 ₽   \n",
       "8                      Инженер технической поддержки  от 120 000 до 140 000 ₽   \n",
       "9             Fullstack / Backend разработчик PHP/JS            от 100 000  ₽   \n",
       "\n",
       "                                        requirements          company  \n",
       "0  Профессиональная команда, успешные проекты в с...            ZeroX  \n",
       "1  ZeroX - Мы занимаемся созданием развлекательны...            ZeroX  \n",
       "2  HashEx vision is to become the #1 DeFi Intelli...           HashEx  \n",
       "3  О нас  По сути мы стартап, который совсем неда...         Almak IT  \n",
       "4  Мониторинг TerraSight — сервис для мониторинга...             Сбер  \n",
       "5   Группы разработки Sportmaster Lab ищут в свою...  Sportmaster Lab  \n",
       "6  Облачная платформа SberInfra.Cloud является фу...             Сбер  \n",
       "7  Требуемый опыт работы: 1–3 года Факт — аккреди...             Факт  \n",
       "8  Компания \"АйТи Бастион\"- российский разработчи...     АйТи Бастион  \n",
       "9  Кто мы?  YOURNEEDS - это команда профессионало...        YOURNEEDS  "
      ]
     },
     "execution_count": 86,
     "metadata": {},
     "output_type": "execute_result"
    }
   ],
   "source": [
    "final_df.head(10)"
   ]
  },
  {
   "cell_type": "code",
   "execution_count": 87,
   "metadata": {},
   "outputs": [
    {
     "data": {
      "text/plain": [
       "725"
      ]
     },
     "execution_count": 87,
     "metadata": {},
     "output_type": "execute_result"
    }
   ],
   "source": [
    "len(final_df)"
   ]
  },
  {
   "cell_type": "markdown",
   "metadata": {},
   "source": [
    "Сохраним полученные данные в csv"
   ]
  },
  {
   "cell_type": "code",
   "execution_count": 88,
   "metadata": {},
   "outputs": [],
   "source": [
    "final_df.to_csv(\"habr_parsing2.csv\")"
   ]
  },
  {
   "cell_type": "code",
   "execution_count": 84,
   "metadata": {},
   "outputs": [],
   "source": [
    "final_df.to_csv(\"habr_parsing_1.csv\")"
   ]
  },
  {
   "cell_type": "markdown",
   "metadata": {
    "id": "9jDW-zBWFugt"
   },
   "source": [
    "## 2. Предобработка данных"
   ]
  },
  {
   "cell_type": "markdown",
   "metadata": {},
   "source": [
    "### 2.1 Предобработка целевого признака"
   ]
  },
  {
   "cell_type": "code",
   "execution_count": 3,
   "metadata": {},
   "outputs": [],
   "source": [
    "final_df = pd.read_csv('habr_parsing2.csv')"
   ]
  },
  {
   "cell_type": "code",
   "execution_count": 4,
   "metadata": {},
   "outputs": [
    {
     "name": "stdout",
     "output_type": "stream",
     "text": [
      "<class 'pandas.core.frame.DataFrame'>\n",
      "RangeIndex: 725 entries, 0 to 724\n",
      "Data columns (total 5 columns):\n",
      " #   Column        Non-Null Count  Dtype \n",
      "---  ------        --------------  ----- \n",
      " 0   Unnamed: 0    725 non-null    int64 \n",
      " 1   vacancy       725 non-null    object\n",
      " 2   salary        725 non-null    object\n",
      " 3   requirements  725 non-null    object\n",
      " 4   company       725 non-null    object\n",
      "dtypes: int64(1), object(4)\n",
      "memory usage: 28.4+ KB\n"
     ]
    }
   ],
   "source": [
    "final_df.info()"
   ]
  },
  {
   "cell_type": "code",
   "execution_count": 5,
   "metadata": {},
   "outputs": [
    {
     "data": {
      "text/html": [
       "<div>\n",
       "<style scoped>\n",
       "    .dataframe tbody tr th:only-of-type {\n",
       "        vertical-align: middle;\n",
       "    }\n",
       "\n",
       "    .dataframe tbody tr th {\n",
       "        vertical-align: top;\n",
       "    }\n",
       "\n",
       "    .dataframe thead th {\n",
       "        text-align: right;\n",
       "    }\n",
       "</style>\n",
       "<table border=\"1\" class=\"dataframe\">\n",
       "  <thead>\n",
       "    <tr style=\"text-align: right;\">\n",
       "      <th></th>\n",
       "      <th>Unnamed: 0</th>\n",
       "      <th>vacancy</th>\n",
       "      <th>salary</th>\n",
       "      <th>requirements</th>\n",
       "      <th>company</th>\n",
       "    </tr>\n",
       "  </thead>\n",
       "  <tbody>\n",
       "    <tr>\n",
       "      <th>0</th>\n",
       "      <td>0</td>\n",
       "      <td>PHP разработчик (Senior)</td>\n",
       "      <td>от 300 000  ₽</td>\n",
       "      <td>Профессиональная команда, успешные проекты в с...</td>\n",
       "      <td>ZeroX</td>\n",
       "    </tr>\n",
       "    <tr>\n",
       "      <th>1</th>\n",
       "      <td>1</td>\n",
       "      <td>Senior Vue Developer</td>\n",
       "      <td>от 250 000  ₽</td>\n",
       "      <td>ZeroX - Мы занимаемся созданием развлекательны...</td>\n",
       "      <td>ZeroX</td>\n",
       "    </tr>\n",
       "    <tr>\n",
       "      <th>2</th>\n",
       "      <td>2</td>\n",
       "      <td>Smart Contract Developer/Solidity Developer (R...</td>\n",
       "      <td>от 3000  $</td>\n",
       "      <td>HashEx vision is to become the #1 DeFi Intelli...</td>\n",
       "      <td>HashEx</td>\n",
       "    </tr>\n",
       "    <tr>\n",
       "      <th>3</th>\n",
       "      <td>3</td>\n",
       "      <td>Frontend разработчик</td>\n",
       "      <td>от 100 000 до 150 000 ₽</td>\n",
       "      <td>О нас  По сути мы стартап, который совсем неда...</td>\n",
       "      <td>Almak IT</td>\n",
       "    </tr>\n",
       "    <tr>\n",
       "      <th>4</th>\n",
       "      <td>4</td>\n",
       "      <td>SRE (DevOps) Kubernetes</td>\n",
       "      <td>от 300 000  ₽</td>\n",
       "      <td>Мониторинг TerraSight — сервис для мониторинга...</td>\n",
       "      <td>Сбер</td>\n",
       "    </tr>\n",
       "    <tr>\n",
       "      <th>5</th>\n",
       "      <td>5</td>\n",
       "      <td>Java-разработчик</td>\n",
       "      <td>от 200 000 до 400 000 ₽</td>\n",
       "      <td>Группы разработки Sportmaster Lab ищут в свою...</td>\n",
       "      <td>Sportmaster Lab</td>\n",
       "    </tr>\n",
       "    <tr>\n",
       "      <th>6</th>\n",
       "      <td>6</td>\n",
       "      <td>Технический менеджер в сервис Compute</td>\n",
       "      <td>от 300 000  ₽</td>\n",
       "      <td>Облачная платформа SberInfra.Cloud является фу...</td>\n",
       "      <td>Сбер</td>\n",
       "    </tr>\n",
       "    <tr>\n",
       "      <th>7</th>\n",
       "      <td>7</td>\n",
       "      <td>Frontend-разработчик (Vue.js)</td>\n",
       "      <td>от 80 000 до 140 000 ₽</td>\n",
       "      <td>Требуемый опыт работы: 1–3 года Факт — аккреди...</td>\n",
       "      <td>Факт</td>\n",
       "    </tr>\n",
       "    <tr>\n",
       "      <th>8</th>\n",
       "      <td>8</td>\n",
       "      <td>Инженер технической поддержки</td>\n",
       "      <td>от 120 000 до 140 000 ₽</td>\n",
       "      <td>Компания \"АйТи Бастион\"- российский разработчи...</td>\n",
       "      <td>АйТи Бастион</td>\n",
       "    </tr>\n",
       "    <tr>\n",
       "      <th>9</th>\n",
       "      <td>9</td>\n",
       "      <td>Fullstack / Backend разработчик PHP/JS</td>\n",
       "      <td>от 100 000  ₽</td>\n",
       "      <td>Кто мы?  YOURNEEDS - это команда профессионало...</td>\n",
       "      <td>YOURNEEDS</td>\n",
       "    </tr>\n",
       "    <tr>\n",
       "      <th>10</th>\n",
       "      <td>10</td>\n",
       "      <td>Frontend developer/Front-разработчик/Верстальщик</td>\n",
       "      <td>от 80 000  ₽</td>\n",
       "      <td>Требуемый опыт: от 3х лет Полная занятость, в ...</td>\n",
       "      <td>YOURNEEDS</td>\n",
       "    </tr>\n",
       "    <tr>\n",
       "      <th>11</th>\n",
       "      <td>11</td>\n",
       "      <td>Lead Go Developer</td>\n",
       "      <td>от 300 000 до 500 000 ₽</td>\n",
       "      <td>Кто мы: KazanExpress — это маркетплейс с беспл...</td>\n",
       "      <td>KazanExpress</td>\n",
       "    </tr>\n",
       "    <tr>\n",
       "      <th>12</th>\n",
       "      <td>12</td>\n",
       "      <td>Middle Разработчик C#</td>\n",
       "      <td>до 150 000 ₽</td>\n",
       "      <td>Обязанности: Наш стек: BackEnd: .net core 3.1,...</td>\n",
       "      <td>ЛАНИТ</td>\n",
       "    </tr>\n",
       "    <tr>\n",
       "      <th>13</th>\n",
       "      <td>13</td>\n",
       "      <td>Senior React Native developer (to Serbia/Canada)</td>\n",
       "      <td>от 5000  $</td>\n",
       "      <td>Bookedby is looking for an experienced React N...</td>\n",
       "      <td>BookedBy</td>\n",
       "    </tr>\n",
       "    <tr>\n",
       "      <th>14</th>\n",
       "      <td>14</td>\n",
       "      <td>GO разработчик</td>\n",
       "      <td>от 220 000  ₽</td>\n",
       "      <td>Новая динамично растущая команда разрабатывающ...</td>\n",
       "      <td>Сбер</td>\n",
       "    </tr>\n",
       "    <tr>\n",
       "      <th>15</th>\n",
       "      <td>15</td>\n",
       "      <td>Специалист по кибербезопасности</td>\n",
       "      <td>от 150 000 до 200 000 ₽</td>\n",
       "      <td>Обязанности: Экспертиза ИТ-решений в части про...</td>\n",
       "      <td>Сбер</td>\n",
       "    </tr>\n",
       "    <tr>\n",
       "      <th>16</th>\n",
       "      <td>16</td>\n",
       "      <td>Senior Java Developer (Cash Management)</td>\n",
       "      <td>от 250 000 до 300 000 ₽</td>\n",
       "      <td>В рамках стратегической программы «Создание пл...</td>\n",
       "      <td>Сбер</td>\n",
       "    </tr>\n",
       "    <tr>\n",
       "      <th>17</th>\n",
       "      <td>17</td>\n",
       "      <td>Back-End инженер (Рекомендательная система)</td>\n",
       "      <td>от 200 000  ₽</td>\n",
       "      <td>Новая динамично растущая команда разрабатывающ...</td>\n",
       "      <td>Сбер</td>\n",
       "    </tr>\n",
       "    <tr>\n",
       "      <th>18</th>\n",
       "      <td>18</td>\n",
       "      <td>Разработчик Kotlin</td>\n",
       "      <td>от 200 000 до 250 000 ₽</td>\n",
       "      <td>Мы предлагаем: Официальное оформление по Трудо...</td>\n",
       "      <td>Forum-Auto</td>\n",
       "    </tr>\n",
       "    <tr>\n",
       "      <th>19</th>\n",
       "      <td>19</td>\n",
       "      <td>Ведущий программист 1С</td>\n",
       "      <td>от 160 000  ₽</td>\n",
       "      <td>Разработка и внедрение функционала по ТЗ для р...</td>\n",
       "      <td>Мелодия здоровья</td>\n",
       "    </tr>\n",
       "    <tr>\n",
       "      <th>20</th>\n",
       "      <td>20</td>\n",
       "      <td>Backend разработчик (Ruby on Rails)</td>\n",
       "      <td>до 5500 $</td>\n",
       "      <td>Привет! Нам в команду Hoodies нужен сильный Ba...</td>\n",
       "      <td>Hoodies</td>\n",
       "    </tr>\n",
       "    <tr>\n",
       "      <th>21</th>\n",
       "      <td>21</td>\n",
       "      <td>DevOPS инженер</td>\n",
       "      <td>до 150 000 ₽</td>\n",
       "      <td>Legalbet – СМИ международного уровня. Мы пишем...</td>\n",
       "      <td>Legalbet</td>\n",
       "    </tr>\n",
       "    <tr>\n",
       "      <th>22</th>\n",
       "      <td>22</td>\n",
       "      <td>Специалист технической поддержки второй линии ...</td>\n",
       "      <td>от 50 000  ₽</td>\n",
       "      <td>В нашу команду требуется Специалист техническо...</td>\n",
       "      <td>АйтиДо</td>\n",
       "    </tr>\n",
       "    <tr>\n",
       "      <th>23</th>\n",
       "      <td>23</td>\n",
       "      <td>Golang разработчик</td>\n",
       "      <td>от 200 000 до 230 000 ₽</td>\n",
       "      <td>Обязанности: Разработка и сопровождение сервис...</td>\n",
       "      <td>Ютека</td>\n",
       "    </tr>\n",
       "    <tr>\n",
       "      <th>24</th>\n",
       "      <td>24</td>\n",
       "      <td>Разработчик</td>\n",
       "      <td>от 180 000  ₽</td>\n",
       "      <td>Кандидату предстоит: Проектирование структуры ...</td>\n",
       "      <td>АО «ГНИВЦ»</td>\n",
       "    </tr>\n",
       "    <tr>\n",
       "      <th>25</th>\n",
       "      <td>25</td>\n",
       "      <td>PHP разработчик (Senior)</td>\n",
       "      <td>от 300 000  ₽</td>\n",
       "      <td>Профессиональная команда, успешные проекты в с...</td>\n",
       "      <td>ZeroX</td>\n",
       "    </tr>\n",
       "    <tr>\n",
       "      <th>26</th>\n",
       "      <td>26</td>\n",
       "      <td>Senior Vue Developer</td>\n",
       "      <td>от 250 000  ₽</td>\n",
       "      <td>ZeroX - Мы занимаемся созданием развлекательны...</td>\n",
       "      <td>ZeroX</td>\n",
       "    </tr>\n",
       "    <tr>\n",
       "      <th>27</th>\n",
       "      <td>27</td>\n",
       "      <td>Smart Contract Developer/Solidity Developer (R...</td>\n",
       "      <td>от 3000  $</td>\n",
       "      <td>HashEx vision is to become the #1 DeFi Intelli...</td>\n",
       "      <td>HashEx</td>\n",
       "    </tr>\n",
       "    <tr>\n",
       "      <th>28</th>\n",
       "      <td>28</td>\n",
       "      <td>Frontend разработчик</td>\n",
       "      <td>от 100 000 до 150 000 ₽</td>\n",
       "      <td>О нас  По сути мы стартап, который совсем неда...</td>\n",
       "      <td>Almak IT</td>\n",
       "    </tr>\n",
       "    <tr>\n",
       "      <th>29</th>\n",
       "      <td>29</td>\n",
       "      <td>SRE (DevOps) Kubernetes</td>\n",
       "      <td>от 300 000  ₽</td>\n",
       "      <td>Мониторинг TerraSight — сервис для мониторинга...</td>\n",
       "      <td>Сбер</td>\n",
       "    </tr>\n",
       "    <tr>\n",
       "      <th>30</th>\n",
       "      <td>30</td>\n",
       "      <td>Java-разработчик</td>\n",
       "      <td>от 200 000 до 400 000 ₽</td>\n",
       "      <td>Группы разработки Sportmaster Lab ищут в свою...</td>\n",
       "      <td>Sportmaster Lab</td>\n",
       "    </tr>\n",
       "    <tr>\n",
       "      <th>31</th>\n",
       "      <td>31</td>\n",
       "      <td>Технический менеджер в сервис Compute</td>\n",
       "      <td>от 300 000  ₽</td>\n",
       "      <td>Облачная платформа SberInfra.Cloud является фу...</td>\n",
       "      <td>Сбер</td>\n",
       "    </tr>\n",
       "    <tr>\n",
       "      <th>32</th>\n",
       "      <td>32</td>\n",
       "      <td>Frontend-разработчик (Vue.js)</td>\n",
       "      <td>от 80 000 до 140 000 ₽</td>\n",
       "      <td>Требуемый опыт работы: 1–3 года Факт — аккреди...</td>\n",
       "      <td>Факт</td>\n",
       "    </tr>\n",
       "    <tr>\n",
       "      <th>33</th>\n",
       "      <td>33</td>\n",
       "      <td>Инженер технической поддержки</td>\n",
       "      <td>от 120 000 до 140 000 ₽</td>\n",
       "      <td>Компания \"АйТи Бастион\"- российский разработчи...</td>\n",
       "      <td>АйТи Бастион</td>\n",
       "    </tr>\n",
       "    <tr>\n",
       "      <th>34</th>\n",
       "      <td>34</td>\n",
       "      <td>Fullstack / Backend разработчик PHP/JS</td>\n",
       "      <td>от 100 000  ₽</td>\n",
       "      <td>Кто мы?  YOURNEEDS - это команда профессионало...</td>\n",
       "      <td>YOURNEEDS</td>\n",
       "    </tr>\n",
       "    <tr>\n",
       "      <th>35</th>\n",
       "      <td>35</td>\n",
       "      <td>Frontend developer/Front-разработчик/Верстальщик</td>\n",
       "      <td>от 80 000  ₽</td>\n",
       "      <td>Требуемый опыт: от 3х лет Полная занятость, в ...</td>\n",
       "      <td>YOURNEEDS</td>\n",
       "    </tr>\n",
       "    <tr>\n",
       "      <th>36</th>\n",
       "      <td>36</td>\n",
       "      <td>Lead Go Developer</td>\n",
       "      <td>от 300 000 до 500 000 ₽</td>\n",
       "      <td>Кто мы: KazanExpress — это маркетплейс с беспл...</td>\n",
       "      <td>KazanExpress</td>\n",
       "    </tr>\n",
       "    <tr>\n",
       "      <th>37</th>\n",
       "      <td>37</td>\n",
       "      <td>Middle Разработчик C#</td>\n",
       "      <td>до 150 000 ₽</td>\n",
       "      <td>Обязанности: Наш стек: BackEnd: .net core 3.1,...</td>\n",
       "      <td>ЛАНИТ</td>\n",
       "    </tr>\n",
       "    <tr>\n",
       "      <th>38</th>\n",
       "      <td>38</td>\n",
       "      <td>Senior React Native developer (to Serbia/Canada)</td>\n",
       "      <td>от 5000  $</td>\n",
       "      <td>Bookedby is looking for an experienced React N...</td>\n",
       "      <td>BookedBy</td>\n",
       "    </tr>\n",
       "    <tr>\n",
       "      <th>39</th>\n",
       "      <td>39</td>\n",
       "      <td>GO разработчик</td>\n",
       "      <td>от 220 000  ₽</td>\n",
       "      <td>Новая динамично растущая команда разрабатывающ...</td>\n",
       "      <td>Сбер</td>\n",
       "    </tr>\n",
       "    <tr>\n",
       "      <th>40</th>\n",
       "      <td>40</td>\n",
       "      <td>Специалист по кибербезопасности</td>\n",
       "      <td>от 150 000 до 200 000 ₽</td>\n",
       "      <td>Обязанности: Экспертиза ИТ-решений в части про...</td>\n",
       "      <td>Сбер</td>\n",
       "    </tr>\n",
       "    <tr>\n",
       "      <th>41</th>\n",
       "      <td>41</td>\n",
       "      <td>Senior Java Developer (Cash Management)</td>\n",
       "      <td>от 250 000 до 300 000 ₽</td>\n",
       "      <td>В рамках стратегической программы «Создание пл...</td>\n",
       "      <td>Сбер</td>\n",
       "    </tr>\n",
       "    <tr>\n",
       "      <th>42</th>\n",
       "      <td>42</td>\n",
       "      <td>Back-End инженер (Рекомендательная система)</td>\n",
       "      <td>от 200 000  ₽</td>\n",
       "      <td>Новая динамично растущая команда разрабатывающ...</td>\n",
       "      <td>Сбер</td>\n",
       "    </tr>\n",
       "    <tr>\n",
       "      <th>43</th>\n",
       "      <td>43</td>\n",
       "      <td>Разработчик Kotlin</td>\n",
       "      <td>от 200 000 до 250 000 ₽</td>\n",
       "      <td>Мы предлагаем: Официальное оформление по Трудо...</td>\n",
       "      <td>Forum-Auto</td>\n",
       "    </tr>\n",
       "    <tr>\n",
       "      <th>44</th>\n",
       "      <td>44</td>\n",
       "      <td>Ведущий программист 1С</td>\n",
       "      <td>от 160 000  ₽</td>\n",
       "      <td>Разработка и внедрение функционала по ТЗ для р...</td>\n",
       "      <td>Мелодия здоровья</td>\n",
       "    </tr>\n",
       "    <tr>\n",
       "      <th>45</th>\n",
       "      <td>45</td>\n",
       "      <td>Backend разработчик (Ruby on Rails)</td>\n",
       "      <td>до 5500 $</td>\n",
       "      <td>Привет! Нам в команду Hoodies нужен сильный Ba...</td>\n",
       "      <td>Hoodies</td>\n",
       "    </tr>\n",
       "    <tr>\n",
       "      <th>46</th>\n",
       "      <td>46</td>\n",
       "      <td>DevOPS инженер</td>\n",
       "      <td>до 150 000 ₽</td>\n",
       "      <td>Legalbet – СМИ международного уровня. Мы пишем...</td>\n",
       "      <td>Legalbet</td>\n",
       "    </tr>\n",
       "    <tr>\n",
       "      <th>47</th>\n",
       "      <td>47</td>\n",
       "      <td>Специалист технической поддержки второй линии ...</td>\n",
       "      <td>от 50 000  ₽</td>\n",
       "      <td>В нашу команду требуется Специалист техническо...</td>\n",
       "      <td>АйтиДо</td>\n",
       "    </tr>\n",
       "    <tr>\n",
       "      <th>48</th>\n",
       "      <td>48</td>\n",
       "      <td>Golang разработчик</td>\n",
       "      <td>от 200 000 до 230 000 ₽</td>\n",
       "      <td>Обязанности: Разработка и сопровождение сервис...</td>\n",
       "      <td>Ютека</td>\n",
       "    </tr>\n",
       "    <tr>\n",
       "      <th>49</th>\n",
       "      <td>49</td>\n",
       "      <td>Разработчик</td>\n",
       "      <td>от 180 000  ₽</td>\n",
       "      <td>Кандидату предстоит: Проектирование структуры ...</td>\n",
       "      <td>АО «ГНИВЦ»</td>\n",
       "    </tr>\n",
       "  </tbody>\n",
       "</table>\n",
       "</div>"
      ],
      "text/plain": [
       "    Unnamed: 0                                            vacancy  \\\n",
       "0            0                           PHP разработчик (Senior)   \n",
       "1            1                               Senior Vue Developer   \n",
       "2            2  Smart Contract Developer/Solidity Developer (R...   \n",
       "3            3                               Frontend разработчик   \n",
       "4            4                            SRE (DevOps) Kubernetes   \n",
       "5            5                                   Java-разработчик   \n",
       "6            6              Технический менеджер в сервис Compute   \n",
       "7            7                      Frontend-разработчик (Vue.js)   \n",
       "8            8                      Инженер технической поддержки   \n",
       "9            9             Fullstack / Backend разработчик PHP/JS   \n",
       "10          10   Frontend developer/Front-разработчик/Верстальщик   \n",
       "11          11                                  Lead Go Developer   \n",
       "12          12                              Middle Разработчик C#   \n",
       "13          13   Senior React Native developer (to Serbia/Canada)   \n",
       "14          14                                     GO разработчик   \n",
       "15          15                    Специалист по кибербезопасности   \n",
       "16          16            Senior Java Developer (Cash Management)   \n",
       "17          17        Back-End инженер (Рекомендательная система)   \n",
       "18          18                                 Разработчик Kotlin   \n",
       "19          19                             Ведущий программист 1С   \n",
       "20          20                Backend разработчик (Ruby on Rails)   \n",
       "21          21                                     DevOPS инженер   \n",
       "22          22  Специалист технической поддержки второй линии ...   \n",
       "23          23                                 Golang разработчик   \n",
       "24          24                                        Разработчик   \n",
       "25          25                           PHP разработчик (Senior)   \n",
       "26          26                               Senior Vue Developer   \n",
       "27          27  Smart Contract Developer/Solidity Developer (R...   \n",
       "28          28                               Frontend разработчик   \n",
       "29          29                            SRE (DevOps) Kubernetes   \n",
       "30          30                                   Java-разработчик   \n",
       "31          31              Технический менеджер в сервис Compute   \n",
       "32          32                      Frontend-разработчик (Vue.js)   \n",
       "33          33                      Инженер технической поддержки   \n",
       "34          34             Fullstack / Backend разработчик PHP/JS   \n",
       "35          35   Frontend developer/Front-разработчик/Верстальщик   \n",
       "36          36                                  Lead Go Developer   \n",
       "37          37                              Middle Разработчик C#   \n",
       "38          38   Senior React Native developer (to Serbia/Canada)   \n",
       "39          39                                     GO разработчик   \n",
       "40          40                    Специалист по кибербезопасности   \n",
       "41          41            Senior Java Developer (Cash Management)   \n",
       "42          42        Back-End инженер (Рекомендательная система)   \n",
       "43          43                                 Разработчик Kotlin   \n",
       "44          44                             Ведущий программист 1С   \n",
       "45          45                Backend разработчик (Ruby on Rails)   \n",
       "46          46                                     DevOPS инженер   \n",
       "47          47  Специалист технической поддержки второй линии ...   \n",
       "48          48                                 Golang разработчик   \n",
       "49          49                                        Разработчик   \n",
       "\n",
       "                     salary  \\\n",
       "0             от 300 000  ₽   \n",
       "1             от 250 000  ₽   \n",
       "2                от 3000  $   \n",
       "3   от 100 000 до 150 000 ₽   \n",
       "4             от 300 000  ₽   \n",
       "5   от 200 000 до 400 000 ₽   \n",
       "6             от 300 000  ₽   \n",
       "7    от 80 000 до 140 000 ₽   \n",
       "8   от 120 000 до 140 000 ₽   \n",
       "9             от 100 000  ₽   \n",
       "10             от 80 000  ₽   \n",
       "11  от 300 000 до 500 000 ₽   \n",
       "12             до 150 000 ₽   \n",
       "13               от 5000  $   \n",
       "14            от 220 000  ₽   \n",
       "15  от 150 000 до 200 000 ₽   \n",
       "16  от 250 000 до 300 000 ₽   \n",
       "17            от 200 000  ₽   \n",
       "18  от 200 000 до 250 000 ₽   \n",
       "19            от 160 000  ₽   \n",
       "20                до 5500 $   \n",
       "21             до 150 000 ₽   \n",
       "22             от 50 000  ₽   \n",
       "23  от 200 000 до 230 000 ₽   \n",
       "24            от 180 000  ₽   \n",
       "25            от 300 000  ₽   \n",
       "26            от 250 000  ₽   \n",
       "27               от 3000  $   \n",
       "28  от 100 000 до 150 000 ₽   \n",
       "29            от 300 000  ₽   \n",
       "30  от 200 000 до 400 000 ₽   \n",
       "31            от 300 000  ₽   \n",
       "32   от 80 000 до 140 000 ₽   \n",
       "33  от 120 000 до 140 000 ₽   \n",
       "34            от 100 000  ₽   \n",
       "35             от 80 000  ₽   \n",
       "36  от 300 000 до 500 000 ₽   \n",
       "37             до 150 000 ₽   \n",
       "38               от 5000  $   \n",
       "39            от 220 000  ₽   \n",
       "40  от 150 000 до 200 000 ₽   \n",
       "41  от 250 000 до 300 000 ₽   \n",
       "42            от 200 000  ₽   \n",
       "43  от 200 000 до 250 000 ₽   \n",
       "44            от 160 000  ₽   \n",
       "45                до 5500 $   \n",
       "46             до 150 000 ₽   \n",
       "47             от 50 000  ₽   \n",
       "48  от 200 000 до 230 000 ₽   \n",
       "49            от 180 000  ₽   \n",
       "\n",
       "                                         requirements           company  \n",
       "0   Профессиональная команда, успешные проекты в с...             ZeroX  \n",
       "1   ZeroX - Мы занимаемся созданием развлекательны...             ZeroX  \n",
       "2   HashEx vision is to become the #1 DeFi Intelli...            HashEx  \n",
       "3   О нас  По сути мы стартап, который совсем неда...          Almak IT  \n",
       "4   Мониторинг TerraSight — сервис для мониторинга...              Сбер  \n",
       "5    Группы разработки Sportmaster Lab ищут в свою...   Sportmaster Lab  \n",
       "6   Облачная платформа SberInfra.Cloud является фу...              Сбер  \n",
       "7   Требуемый опыт работы: 1–3 года Факт — аккреди...              Факт  \n",
       "8   Компания \"АйТи Бастион\"- российский разработчи...      АйТи Бастион  \n",
       "9   Кто мы?  YOURNEEDS - это команда профессионало...         YOURNEEDS  \n",
       "10  Требуемый опыт: от 3х лет Полная занятость, в ...         YOURNEEDS  \n",
       "11  Кто мы: KazanExpress — это маркетплейс с беспл...      KazanExpress  \n",
       "12  Обязанности: Наш стек: BackEnd: .net core 3.1,...             ЛАНИТ  \n",
       "13  Bookedby is looking for an experienced React N...          BookedBy  \n",
       "14  Новая динамично растущая команда разрабатывающ...              Сбер  \n",
       "15  Обязанности: Экспертиза ИТ-решений в части про...              Сбер  \n",
       "16  В рамках стратегической программы «Создание пл...              Сбер  \n",
       "17  Новая динамично растущая команда разрабатывающ...              Сбер  \n",
       "18  Мы предлагаем: Официальное оформление по Трудо...        Forum-Auto  \n",
       "19  Разработка и внедрение функционала по ТЗ для р...  Мелодия здоровья  \n",
       "20  Привет! Нам в команду Hoodies нужен сильный Ba...           Hoodies  \n",
       "21  Legalbet – СМИ международного уровня. Мы пишем...          Legalbet  \n",
       "22  В нашу команду требуется Специалист техническо...            АйтиДо  \n",
       "23  Обязанности: Разработка и сопровождение сервис...             Ютека  \n",
       "24  Кандидату предстоит: Проектирование структуры ...        АО «ГНИВЦ»  \n",
       "25  Профессиональная команда, успешные проекты в с...             ZeroX  \n",
       "26  ZeroX - Мы занимаемся созданием развлекательны...             ZeroX  \n",
       "27  HashEx vision is to become the #1 DeFi Intelli...            HashEx  \n",
       "28  О нас  По сути мы стартап, который совсем неда...          Almak IT  \n",
       "29  Мониторинг TerraSight — сервис для мониторинга...              Сбер  \n",
       "30   Группы разработки Sportmaster Lab ищут в свою...   Sportmaster Lab  \n",
       "31  Облачная платформа SberInfra.Cloud является фу...              Сбер  \n",
       "32  Требуемый опыт работы: 1–3 года Факт — аккреди...              Факт  \n",
       "33  Компания \"АйТи Бастион\"- российский разработчи...      АйТи Бастион  \n",
       "34  Кто мы?  YOURNEEDS - это команда профессионало...         YOURNEEDS  \n",
       "35  Требуемый опыт: от 3х лет Полная занятость, в ...         YOURNEEDS  \n",
       "36  Кто мы: KazanExpress — это маркетплейс с беспл...      KazanExpress  \n",
       "37  Обязанности: Наш стек: BackEnd: .net core 3.1,...             ЛАНИТ  \n",
       "38  Bookedby is looking for an experienced React N...          BookedBy  \n",
       "39  Новая динамично растущая команда разрабатывающ...              Сбер  \n",
       "40  Обязанности: Экспертиза ИТ-решений в части про...              Сбер  \n",
       "41  В рамках стратегической программы «Создание пл...              Сбер  \n",
       "42  Новая динамично растущая команда разрабатывающ...              Сбер  \n",
       "43  Мы предлагаем: Официальное оформление по Трудо...        Forum-Auto  \n",
       "44  Разработка и внедрение функционала по ТЗ для р...  Мелодия здоровья  \n",
       "45  Привет! Нам в команду Hoodies нужен сильный Ba...           Hoodies  \n",
       "46  Legalbet – СМИ международного уровня. Мы пишем...          Legalbet  \n",
       "47  В нашу команду требуется Специалист техническо...            АйтиДо  \n",
       "48  Обязанности: Разработка и сопровождение сервис...             Ютека  \n",
       "49  Кандидату предстоит: Проектирование структуры ...        АО «ГНИВЦ»  "
      ]
     },
     "execution_count": 5,
     "metadata": {},
     "output_type": "execute_result"
    }
   ],
   "source": [
    "final_df.head(50)"
   ]
  },
  {
   "cell_type": "markdown",
   "metadata": {},
   "source": [
    "Запралату указана как в рублях, так и в долларах. Приведем ее к рублям. Официальный курс на сегодня \n",
    "(11.10.2022) - 62,31. Кроме того воспользуемся регулярными выражениями, чтобы оставить только число. Если для зарплаты указан диапазон, возьмем только левую границу."
   ]
  },
  {
   "cell_type": "code",
   "execution_count": 6,
   "metadata": {},
   "outputs": [],
   "source": [
    "import re"
   ]
  },
  {
   "cell_type": "code",
   "execution_count": 7,
   "metadata": {},
   "outputs": [],
   "source": [
    "#напишем функцию, которая переводит доллары в рубли и оставляет только численные значения\n",
    "def total_salary(row):\n",
    "    row['salary'] = row['salary'].split(' ', maxsplit = 1)[1]\n",
    "    if '$' in row['salary']:\n",
    "        return round(int(re.sub(r'[^\\d/]', '', row['salary'].split('до')[0]))*62.31)\n",
    "    else:\n",
    "        return int(re.sub(r'[^\\d/]', '', row['salary'].split('до')[0]))"
   ]
  },
  {
   "cell_type": "code",
   "execution_count": 8,
   "metadata": {},
   "outputs": [
    {
     "data": {
      "text/html": [
       "<div>\n",
       "<style scoped>\n",
       "    .dataframe tbody tr th:only-of-type {\n",
       "        vertical-align: middle;\n",
       "    }\n",
       "\n",
       "    .dataframe tbody tr th {\n",
       "        vertical-align: top;\n",
       "    }\n",
       "\n",
       "    .dataframe thead th {\n",
       "        text-align: right;\n",
       "    }\n",
       "</style>\n",
       "<table border=\"1\" class=\"dataframe\">\n",
       "  <thead>\n",
       "    <tr style=\"text-align: right;\">\n",
       "      <th></th>\n",
       "      <th>Unnamed: 0</th>\n",
       "      <th>vacancy</th>\n",
       "      <th>salary</th>\n",
       "      <th>requirements</th>\n",
       "      <th>company</th>\n",
       "    </tr>\n",
       "  </thead>\n",
       "  <tbody>\n",
       "    <tr>\n",
       "      <th>0</th>\n",
       "      <td>0</td>\n",
       "      <td>PHP разработчик (Senior)</td>\n",
       "      <td>300000</td>\n",
       "      <td>Профессиональная команда, успешные проекты в с...</td>\n",
       "      <td>ZeroX</td>\n",
       "    </tr>\n",
       "    <tr>\n",
       "      <th>1</th>\n",
       "      <td>1</td>\n",
       "      <td>Senior Vue Developer</td>\n",
       "      <td>250000</td>\n",
       "      <td>ZeroX - Мы занимаемся созданием развлекательны...</td>\n",
       "      <td>ZeroX</td>\n",
       "    </tr>\n",
       "    <tr>\n",
       "      <th>2</th>\n",
       "      <td>2</td>\n",
       "      <td>Smart Contract Developer/Solidity Developer (R...</td>\n",
       "      <td>186930</td>\n",
       "      <td>HashEx vision is to become the #1 DeFi Intelli...</td>\n",
       "      <td>HashEx</td>\n",
       "    </tr>\n",
       "    <tr>\n",
       "      <th>3</th>\n",
       "      <td>3</td>\n",
       "      <td>Frontend разработчик</td>\n",
       "      <td>100000</td>\n",
       "      <td>О нас  По сути мы стартап, который совсем неда...</td>\n",
       "      <td>Almak IT</td>\n",
       "    </tr>\n",
       "    <tr>\n",
       "      <th>4</th>\n",
       "      <td>4</td>\n",
       "      <td>SRE (DevOps) Kubernetes</td>\n",
       "      <td>300000</td>\n",
       "      <td>Мониторинг TerraSight — сервис для мониторинга...</td>\n",
       "      <td>Сбер</td>\n",
       "    </tr>\n",
       "    <tr>\n",
       "      <th>5</th>\n",
       "      <td>5</td>\n",
       "      <td>Java-разработчик</td>\n",
       "      <td>200000</td>\n",
       "      <td>Группы разработки Sportmaster Lab ищут в свою...</td>\n",
       "      <td>Sportmaster Lab</td>\n",
       "    </tr>\n",
       "    <tr>\n",
       "      <th>6</th>\n",
       "      <td>6</td>\n",
       "      <td>Технический менеджер в сервис Compute</td>\n",
       "      <td>300000</td>\n",
       "      <td>Облачная платформа SberInfra.Cloud является фу...</td>\n",
       "      <td>Сбер</td>\n",
       "    </tr>\n",
       "    <tr>\n",
       "      <th>7</th>\n",
       "      <td>7</td>\n",
       "      <td>Frontend-разработчик (Vue.js)</td>\n",
       "      <td>80000</td>\n",
       "      <td>Требуемый опыт работы: 1–3 года Факт — аккреди...</td>\n",
       "      <td>Факт</td>\n",
       "    </tr>\n",
       "    <tr>\n",
       "      <th>8</th>\n",
       "      <td>8</td>\n",
       "      <td>Инженер технической поддержки</td>\n",
       "      <td>120000</td>\n",
       "      <td>Компания \"АйТи Бастион\"- российский разработчи...</td>\n",
       "      <td>АйТи Бастион</td>\n",
       "    </tr>\n",
       "    <tr>\n",
       "      <th>9</th>\n",
       "      <td>9</td>\n",
       "      <td>Fullstack / Backend разработчик PHP/JS</td>\n",
       "      <td>100000</td>\n",
       "      <td>Кто мы?  YOURNEEDS - это команда профессионало...</td>\n",
       "      <td>YOURNEEDS</td>\n",
       "    </tr>\n",
       "    <tr>\n",
       "      <th>10</th>\n",
       "      <td>10</td>\n",
       "      <td>Frontend developer/Front-разработчик/Верстальщик</td>\n",
       "      <td>80000</td>\n",
       "      <td>Требуемый опыт: от 3х лет Полная занятость, в ...</td>\n",
       "      <td>YOURNEEDS</td>\n",
       "    </tr>\n",
       "    <tr>\n",
       "      <th>11</th>\n",
       "      <td>11</td>\n",
       "      <td>Lead Go Developer</td>\n",
       "      <td>300000</td>\n",
       "      <td>Кто мы: KazanExpress — это маркетплейс с беспл...</td>\n",
       "      <td>KazanExpress</td>\n",
       "    </tr>\n",
       "    <tr>\n",
       "      <th>12</th>\n",
       "      <td>12</td>\n",
       "      <td>Middle Разработчик C#</td>\n",
       "      <td>150000</td>\n",
       "      <td>Обязанности: Наш стек: BackEnd: .net core 3.1,...</td>\n",
       "      <td>ЛАНИТ</td>\n",
       "    </tr>\n",
       "    <tr>\n",
       "      <th>13</th>\n",
       "      <td>13</td>\n",
       "      <td>Senior React Native developer (to Serbia/Canada)</td>\n",
       "      <td>311550</td>\n",
       "      <td>Bookedby is looking for an experienced React N...</td>\n",
       "      <td>BookedBy</td>\n",
       "    </tr>\n",
       "    <tr>\n",
       "      <th>14</th>\n",
       "      <td>14</td>\n",
       "      <td>GO разработчик</td>\n",
       "      <td>220000</td>\n",
       "      <td>Новая динамично растущая команда разрабатывающ...</td>\n",
       "      <td>Сбер</td>\n",
       "    </tr>\n",
       "    <tr>\n",
       "      <th>15</th>\n",
       "      <td>15</td>\n",
       "      <td>Специалист по кибербезопасности</td>\n",
       "      <td>150000</td>\n",
       "      <td>Обязанности: Экспертиза ИТ-решений в части про...</td>\n",
       "      <td>Сбер</td>\n",
       "    </tr>\n",
       "    <tr>\n",
       "      <th>16</th>\n",
       "      <td>16</td>\n",
       "      <td>Senior Java Developer (Cash Management)</td>\n",
       "      <td>250000</td>\n",
       "      <td>В рамках стратегической программы «Создание пл...</td>\n",
       "      <td>Сбер</td>\n",
       "    </tr>\n",
       "    <tr>\n",
       "      <th>17</th>\n",
       "      <td>17</td>\n",
       "      <td>Back-End инженер (Рекомендательная система)</td>\n",
       "      <td>200000</td>\n",
       "      <td>Новая динамично растущая команда разрабатывающ...</td>\n",
       "      <td>Сбер</td>\n",
       "    </tr>\n",
       "    <tr>\n",
       "      <th>18</th>\n",
       "      <td>18</td>\n",
       "      <td>Разработчик Kotlin</td>\n",
       "      <td>200000</td>\n",
       "      <td>Мы предлагаем: Официальное оформление по Трудо...</td>\n",
       "      <td>Forum-Auto</td>\n",
       "    </tr>\n",
       "    <tr>\n",
       "      <th>19</th>\n",
       "      <td>19</td>\n",
       "      <td>Ведущий программист 1С</td>\n",
       "      <td>160000</td>\n",
       "      <td>Разработка и внедрение функционала по ТЗ для р...</td>\n",
       "      <td>Мелодия здоровья</td>\n",
       "    </tr>\n",
       "  </tbody>\n",
       "</table>\n",
       "</div>"
      ],
      "text/plain": [
       "    Unnamed: 0                                            vacancy  salary  \\\n",
       "0            0                           PHP разработчик (Senior)  300000   \n",
       "1            1                               Senior Vue Developer  250000   \n",
       "2            2  Smart Contract Developer/Solidity Developer (R...  186930   \n",
       "3            3                               Frontend разработчик  100000   \n",
       "4            4                            SRE (DevOps) Kubernetes  300000   \n",
       "5            5                                   Java-разработчик  200000   \n",
       "6            6              Технический менеджер в сервис Compute  300000   \n",
       "7            7                      Frontend-разработчик (Vue.js)   80000   \n",
       "8            8                      Инженер технической поддержки  120000   \n",
       "9            9             Fullstack / Backend разработчик PHP/JS  100000   \n",
       "10          10   Frontend developer/Front-разработчик/Верстальщик   80000   \n",
       "11          11                                  Lead Go Developer  300000   \n",
       "12          12                              Middle Разработчик C#  150000   \n",
       "13          13   Senior React Native developer (to Serbia/Canada)  311550   \n",
       "14          14                                     GO разработчик  220000   \n",
       "15          15                    Специалист по кибербезопасности  150000   \n",
       "16          16            Senior Java Developer (Cash Management)  250000   \n",
       "17          17        Back-End инженер (Рекомендательная система)  200000   \n",
       "18          18                                 Разработчик Kotlin  200000   \n",
       "19          19                             Ведущий программист 1С  160000   \n",
       "\n",
       "                                         requirements           company  \n",
       "0   Профессиональная команда, успешные проекты в с...             ZeroX  \n",
       "1   ZeroX - Мы занимаемся созданием развлекательны...             ZeroX  \n",
       "2   HashEx vision is to become the #1 DeFi Intelli...            HashEx  \n",
       "3   О нас  По сути мы стартап, который совсем неда...          Almak IT  \n",
       "4   Мониторинг TerraSight — сервис для мониторинга...              Сбер  \n",
       "5    Группы разработки Sportmaster Lab ищут в свою...   Sportmaster Lab  \n",
       "6   Облачная платформа SberInfra.Cloud является фу...              Сбер  \n",
       "7   Требуемый опыт работы: 1–3 года Факт — аккреди...              Факт  \n",
       "8   Компания \"АйТи Бастион\"- российский разработчи...      АйТи Бастион  \n",
       "9   Кто мы?  YOURNEEDS - это команда профессионало...         YOURNEEDS  \n",
       "10  Требуемый опыт: от 3х лет Полная занятость, в ...         YOURNEEDS  \n",
       "11  Кто мы: KazanExpress — это маркетплейс с беспл...      KazanExpress  \n",
       "12  Обязанности: Наш стек: BackEnd: .net core 3.1,...             ЛАНИТ  \n",
       "13  Bookedby is looking for an experienced React N...          BookedBy  \n",
       "14  Новая динамично растущая команда разрабатывающ...              Сбер  \n",
       "15  Обязанности: Экспертиза ИТ-решений в части про...              Сбер  \n",
       "16  В рамках стратегической программы «Создание пл...              Сбер  \n",
       "17  Новая динамично растущая команда разрабатывающ...              Сбер  \n",
       "18  Мы предлагаем: Официальное оформление по Трудо...        Forum-Auto  \n",
       "19  Разработка и внедрение функционала по ТЗ для р...  Мелодия здоровья  "
      ]
     },
     "execution_count": 8,
     "metadata": {},
     "output_type": "execute_result"
    }
   ],
   "source": [
    "final_df['salary'] = final_df.apply(total_salary, axis = 1)\n",
    "final_df.head(20)"
   ]
  },
  {
   "cell_type": "code",
   "execution_count": 12,
   "metadata": {},
   "outputs": [
    {
     "data": {
      "text/plain": [
       "498480"
      ]
     },
     "execution_count": 12,
     "metadata": {},
     "output_type": "execute_result"
    }
   ],
   "source": [
    "final_df['salary'].unique().max()"
   ]
  },
  {
   "cell_type": "code",
   "execution_count": null,
   "metadata": {},
   "outputs": [],
   "source": []
  },
  {
   "cell_type": "markdown",
   "metadata": {},
   "source": [
    "### 2.2 Предобработка текста"
   ]
  },
  {
   "cell_type": "markdown",
   "metadata": {},
   "source": [
    "В данной работе мы будем предсказывать зарплату на основании описания вакансии - requirements. Для этого предобработаем полученный текст"
   ]
  },
  {
   "cell_type": "markdown",
   "metadata": {},
   "source": [
    "Для начала разобьем текст на токены - слова и удалим из него стопслова"
   ]
  },
  {
   "cell_type": "code",
   "execution_count": 93,
   "metadata": {},
   "outputs": [],
   "source": [
    "import string # библиотека для работы со строками\n",
    "import nltk   # Natural Language Toolkit"
   ]
  },
  {
   "cell_type": "code",
   "execution_count": 94,
   "metadata": {},
   "outputs": [
    {
     "name": "stderr",
     "output_type": "stream",
     "text": [
      "[nltk_data] Downloading package stopwords to\n",
      "[nltk_data]     C:\\Users\\Lenin\\AppData\\Roaming\\nltk_data...\n",
      "[nltk_data]   Package stopwords is already up-to-date!\n"
     ]
    }
   ],
   "source": [
    "# загружаем список стоп-слов для русского\n",
    "nltk.download('stopwords')\n",
    "stop_words = nltk.corpus.stopwords.words('russian')"
   ]
  },
  {
   "cell_type": "code",
   "execution_count": 95,
   "metadata": {},
   "outputs": [
    {
     "data": {
      "text/plain": [
       "'!\"#$%&\\'()*+,-./:;<=>?@[\\\\]^_`{|}~'"
      ]
     },
     "execution_count": 95,
     "metadata": {},
     "output_type": "execute_result"
    }
   ],
   "source": [
    "# знаки препинания\n",
    "string.punctuation"
   ]
  },
  {
   "cell_type": "markdown",
   "metadata": {},
   "source": [
    "Инициализируем WordPunctTokenizer, с помощью которого затем разобьем текст на слова"
   ]
  },
  {
   "cell_type": "code",
   "execution_count": 96,
   "metadata": {},
   "outputs": [],
   "source": [
    "word_tokenizer = nltk.WordPunctTokenizer()"
   ]
  },
  {
   "cell_type": "code",
   "execution_count": 97,
   "metadata": {},
   "outputs": [],
   "source": [
    "data = final_df[['salary', 'requirements']]"
   ]
  },
  {
   "cell_type": "markdown",
   "metadata": {},
   "source": [
    "Запишем предобработку текста в виде функции."
   ]
  },
  {
   "cell_type": "code",
   "execution_count": 98,
   "metadata": {},
   "outputs": [],
   "source": [
    "def process_data(row):\n",
    "    text_lower = row['requirements'].lower() # приводим все слова к нижнему регистру\n",
    "    tokens = word_tokenizer.tokenize(text_lower) #разбиваем текст на слова\n",
    "        \n",
    "    # удаляем пунктуацию и стоп-слова\n",
    "    tokens = [word for word in tokens if (word not in string.punctuation and word not in stop_words and word not in '—')]\n",
    "    return tokens\n",
    "        "
   ]
  },
  {
   "cell_type": "code",
   "execution_count": 99,
   "metadata": {},
   "outputs": [
    {
     "name": "stderr",
     "output_type": "stream",
     "text": [
      "<ipython-input-99-7be291111b96>:1: SettingWithCopyWarning: \n",
      "A value is trying to be set on a copy of a slice from a DataFrame.\n",
      "Try using .loc[row_indexer,col_indexer] = value instead\n",
      "\n",
      "See the caveats in the documentation: https://pandas.pydata.org/pandas-docs/stable/user_guide/indexing.html#returning-a-view-versus-a-copy\n",
      "  data['requirements'] = data.apply(process_data, axis = 1)\n"
     ]
    }
   ],
   "source": [
    "data['requirements'] = data.apply(process_data, axis = 1)"
   ]
  },
  {
   "cell_type": "code",
   "execution_count": 100,
   "metadata": {},
   "outputs": [
    {
     "data": {
      "text/html": [
       "<div>\n",
       "<style scoped>\n",
       "    .dataframe tbody tr th:only-of-type {\n",
       "        vertical-align: middle;\n",
       "    }\n",
       "\n",
       "    .dataframe tbody tr th {\n",
       "        vertical-align: top;\n",
       "    }\n",
       "\n",
       "    .dataframe thead th {\n",
       "        text-align: right;\n",
       "    }\n",
       "</style>\n",
       "<table border=\"1\" class=\"dataframe\">\n",
       "  <thead>\n",
       "    <tr style=\"text-align: right;\">\n",
       "      <th></th>\n",
       "      <th>salary</th>\n",
       "      <th>requirements</th>\n",
       "    </tr>\n",
       "  </thead>\n",
       "  <tbody>\n",
       "    <tr>\n",
       "      <th>0</th>\n",
       "      <td>300000</td>\n",
       "      <td>[профессиональная, команда, успешные, проекты,...</td>\n",
       "    </tr>\n",
       "    <tr>\n",
       "      <th>1</th>\n",
       "      <td>250000</td>\n",
       "      <td>[zerox, занимаемся, созданием, развлекательных...</td>\n",
       "    </tr>\n",
       "    <tr>\n",
       "      <th>2</th>\n",
       "      <td>186930</td>\n",
       "      <td>[hashex, vision, is, to, become, the, 1, defi,...</td>\n",
       "    </tr>\n",
       "    <tr>\n",
       "      <th>3</th>\n",
       "      <td>100000</td>\n",
       "      <td>[сути, стартап, который, недавно, образовался,...</td>\n",
       "    </tr>\n",
       "    <tr>\n",
       "      <th>4</th>\n",
       "      <td>300000</td>\n",
       "      <td>[мониторинг, terrasight, сервис, мониторинга, ...</td>\n",
       "    </tr>\n",
       "  </tbody>\n",
       "</table>\n",
       "</div>"
      ],
      "text/plain": [
       "   salary                                       requirements\n",
       "0  300000  [профессиональная, команда, успешные, проекты,...\n",
       "1  250000  [zerox, занимаемся, созданием, развлекательных...\n",
       "2  186930  [hashex, vision, is, to, become, the, 1, defi,...\n",
       "3  100000  [сути, стартап, который, недавно, образовался,...\n",
       "4  300000  [мониторинг, terrasight, сервис, мониторинга, ..."
      ]
     },
     "execution_count": 100,
     "metadata": {},
     "output_type": "execute_result"
    }
   ],
   "source": [
    "data.head(5)"
   ]
  },
  {
   "cell_type": "code",
   "execution_count": 202,
   "metadata": {},
   "outputs": [
    {
     "name": "stdout",
     "output_type": "stream",
     "text": [
      "Collecting pymorphy2\n",
      "  Downloading pymorphy2-0.9.1-py3-none-any.whl (55 kB)\n",
      "Collecting docopt>=0.6\n",
      "  Downloading docopt-0.6.2.tar.gz (25 kB)\n",
      "Collecting pymorphy2-dicts-ru<3.0,>=2.4\n",
      "  Downloading pymorphy2_dicts_ru-2.4.417127.4579844-py2.py3-none-any.whl (8.2 MB)\n",
      "Collecting dawg-python>=0.7.1\n",
      "  Downloading DAWG_Python-0.7.2-py2.py3-none-any.whl (11 kB)\n",
      "Building wheels for collected packages: docopt\n",
      "  Building wheel for docopt (setup.py): started\n",
      "  Building wheel for docopt (setup.py): finished with status 'done'\n",
      "  Created wheel for docopt: filename=docopt-0.6.2-py2.py3-none-any.whl size=13705 sha256=9f5c8c92dcc3d40c4b7fcaf63ee5fadeefd650403a26d3cfbde1476ccb67114f\n",
      "  Stored in directory: c:\\users\\lenin\\appdata\\local\\pip\\cache\\wheels\\56\\ea\\58\\ead137b087d9e326852a851351d1debf4ada529b6ac0ec4e8c\n",
      "Successfully built docopt\n",
      "Installing collected packages: pymorphy2-dicts-ru, docopt, dawg-python, pymorphy2\n",
      "Successfully installed dawg-python-0.7.2 docopt-0.6.2 pymorphy2-0.9.1 pymorphy2-dicts-ru-2.4.417127.4579844\n"
     ]
    }
   ],
   "source": [
    "!pip install pymorphy2"
   ]
  },
  {
   "cell_type": "code",
   "execution_count": 101,
   "metadata": {},
   "outputs": [],
   "source": [
    "# загружаем библиотеку для лемматизации\n",
    "import pymorphy2 # Морфологический анализатор\n",
    "\n",
    "# инициализируем лемматизатор :)\n",
    "morph = pymorphy2.MorphAnalyzer()"
   ]
  },
  {
   "cell_type": "code",
   "execution_count": 102,
   "metadata": {},
   "outputs": [
    {
     "data": {
      "text/plain": [
       "['zerox',\n",
       " 'занимаемся',\n",
       " 'созданием',\n",
       " 'развлекательных',\n",
       " 'платформ',\n",
       " 'международном',\n",
       " 'рынке',\n",
       " 'портфеле',\n",
       " '10',\n",
       " 'развитых',\n",
       " 'работающих',\n",
       " 'проектов',\n",
       " 'россии',\n",
       " 'снг',\n",
       " 'профессиональная',\n",
       " 'команда',\n",
       " 'успешные',\n",
       " 'проекты',\n",
       " 'сфере',\n",
       " 'геи',\n",
       " '̆',\n",
       " 'минга',\n",
       " 'гэмблинг',\n",
       " 'индустрии',\n",
       " 'имеем',\n",
       " '10',\n",
       " 'летнии',\n",
       " '̆',\n",
       " 'опыт',\n",
       " 'работы',\n",
       " 'игорнои',\n",
       " '̆',\n",
       " 'индустрии',\n",
       " 'сеи',\n",
       " '̆',\n",
       " 'час',\n",
       " 'ищем',\n",
       " 'сильного',\n",
       " 'senior',\n",
       " 'frontend',\n",
       " 'vue',\n",
       " 'новою',\n",
       " 'команду',\n",
       " 'проект',\n",
       " 'которыи',\n",
       " '̆',\n",
       " 'содержит',\n",
       " 'legacy',\n",
       " 'кода',\n",
       " 'обязанности',\n",
       " 'разработка',\n",
       " 'архитектуры',\n",
       " 'приложениянепосредственное',\n",
       " 'участие',\n",
       " 'создании',\n",
       " 'проектакод',\n",
       " 'ревью',\n",
       " 'остальных',\n",
       " 'разработчиков',\n",
       " 'фронтендапоиск',\n",
       " 'оптимальных',\n",
       " 'наилучших',\n",
       " 'решении',\n",
       " '̆',\n",
       " 'участие',\n",
       " 'планирование',\n",
       " 'требования',\n",
       " 'отличное',\n",
       " 'знание',\n",
       " 'фраи',\n",
       " '̆',\n",
       " 'мворков',\n",
       " 'vue',\n",
       " 'js',\n",
       " '2',\n",
       " '3умение',\n",
       " 'работы',\n",
       " 'websocketхорошее',\n",
       " 'знание',\n",
       " 'docker',\n",
       " 'плюсом',\n",
       " 'знание',\n",
       " 'backend',\n",
       " 'laravel',\n",
       " 'symfony',\n",
       " 'знание',\n",
       " 'nodejs',\n",
       " 'pythonзнание',\n",
       " 'англии',\n",
       " '̆',\n",
       " 'ского',\n",
       " 'используем',\n",
       " 'php',\n",
       " '7',\n",
       " '4',\n",
       " 'laravel',\n",
       " '8',\n",
       " '9',\n",
       " 'node',\n",
       " 'js',\n",
       " 'mysql',\n",
       " 'postgresql',\n",
       " 'vue',\n",
       " 'javascript',\n",
       " 'typescript',\n",
       " 'html',\n",
       " 'css3',\n",
       " 'figma',\n",
       " 'gitlab',\n",
       " 'kubernetes',\n",
       " 'apache',\n",
       " 'kafka',\n",
       " 'условия',\n",
       " 'работаем',\n",
       " 'условиям',\n",
       " 'тк',\n",
       " 'рфгибкии',\n",
       " '̆',\n",
       " 'график',\n",
       " 'работы',\n",
       " 'обязательное',\n",
       " 'время',\n",
       " '12',\n",
       " '18',\n",
       " 'часов',\n",
       " '),',\n",
       " 'главноерезультат']"
      ]
     },
     "execution_count": 102,
     "metadata": {},
     "output_type": "execute_result"
    }
   ],
   "source": [
    "yy = data['requirements'][1]\n",
    "yy"
   ]
  },
  {
   "cell_type": "code",
   "execution_count": 103,
   "metadata": {},
   "outputs": [],
   "source": [
    "xx = ' '.join([morph.parse(x)[0].normal_form for x in yy])"
   ]
  },
  {
   "cell_type": "code",
   "execution_count": 104,
   "metadata": {},
   "outputs": [
    {
     "data": {
      "text/plain": [
       "'zerox заниматься создание развлекательный платформа международный рынок портфель 10 развитой работать проект россия снг профессиональный команда успешный проект сфера гей ̆ минг гэмблинга индустрия иметь 10 летнии ̆ опыт работа игорной ̆ индустрия сеи ̆ час искать сильный senior frontend vue новый команда проект который ̆ содержать legacy код обязанность разработка архитектура приложениянепосредственный участие создание проектакод ревить остальной разработчик фронтендапоиск оптимальный хороший решение ̆ участие планирование требование отличный знание фрая ̆ мворк vue js 2 3умение работа websocketхорошеий знание docker плюс знание backend laravel symfony знание nodejs pythonзнание англия ̆ ский использовать php 7 4 laravel 8 9 node js mysql postgresql vue javascript typescript html css3 figma gitlab kubernetes apache kafka условие работать условие тк рфгибкия ̆ график работа обязательный время 12 18 час ), главноерезультат'"
      ]
     },
     "execution_count": 104,
     "metadata": {},
     "output_type": "execute_result"
    }
   ],
   "source": [
    "xx"
   ]
  },
  {
   "cell_type": "code",
   "execution_count": 241,
   "metadata": {},
   "outputs": [
    {
     "name": "stderr",
     "output_type": "stream",
     "text": [
      "<ipython-input-241-474ba84d507d>:1: SettingWithCopyWarning: \n",
      "A value is trying to be set on a copy of a slice from a DataFrame.\n",
      "Try using .loc[row_indexer,col_indexer] = value instead\n",
      "\n",
      "See the caveats in the documentation: https://pandas.pydata.org/pandas-docs/stable/user_guide/indexing.html#returning-a-view-versus-a-copy\n",
      "  data['requirements'] = ' '.join([morph.parse(x)[0].normal_form for x in data['requirements']])\n"
     ]
    }
   ],
   "source": [
    "#data['requirements'] = ' '.join([morph.parse(x)[0].normal_form for x in data['requirements']])"
   ]
  },
  {
   "cell_type": "code",
   "execution_count": 248,
   "metadata": {},
   "outputs": [
    {
     "data": {
      "text/html": [
       "<div>\n",
       "<style scoped>\n",
       "    .dataframe tbody tr th:only-of-type {\n",
       "        vertical-align: middle;\n",
       "    }\n",
       "\n",
       "    .dataframe tbody tr th {\n",
       "        vertical-align: top;\n",
       "    }\n",
       "\n",
       "    .dataframe thead th {\n",
       "        text-align: right;\n",
       "    }\n",
       "</style>\n",
       "<table border=\"1\" class=\"dataframe\">\n",
       "  <thead>\n",
       "    <tr style=\"text-align: right;\">\n",
       "      <th></th>\n",
       "      <th>salary</th>\n",
       "      <th>requirements</th>\n",
       "    </tr>\n",
       "  </thead>\n",
       "  <tbody>\n",
       "    <tr>\n",
       "      <th>0</th>\n",
       "      <td>249240</td>\n",
       "      <td>работа лондонской prop tech компании команде 1...</td>\n",
       "    </tr>\n",
       "    <tr>\n",
       "      <th>1</th>\n",
       "      <td>120000</td>\n",
       "      <td>привет компания html academy школа профессиона...</td>\n",
       "    </tr>\n",
       "    <tr>\n",
       "      <th>2</th>\n",
       "      <td>160000</td>\n",
       "      <td>наша компания занимается разработкой приборов ...</td>\n",
       "    </tr>\n",
       "  </tbody>\n",
       "</table>\n",
       "</div>"
      ],
      "text/plain": [
       "   salary                                       requirements\n",
       "0  249240  работа лондонской prop tech компании команде 1...\n",
       "1  120000  привет компания html academy школа профессиона...\n",
       "2  160000  наша компания занимается разработкой приборов ..."
      ]
     },
     "execution_count": 248,
     "metadata": {},
     "output_type": "execute_result"
    }
   ],
   "source": [
    "data.head(3)"
   ]
  },
  {
   "cell_type": "code",
   "execution_count": 105,
   "metadata": {},
   "outputs": [],
   "source": [
    "def lemmatized(row):\n",
    "    lem_row = ' '.join([morph.parse(x)[0].normal_form for x in row['requirements']])\n",
    "    return lem_row"
   ]
  },
  {
   "cell_type": "code",
   "execution_count": 106,
   "metadata": {},
   "outputs": [
    {
     "name": "stderr",
     "output_type": "stream",
     "text": [
      "<ipython-input-106-6ef2352ec966>:1: SettingWithCopyWarning: \n",
      "A value is trying to be set on a copy of a slice from a DataFrame.\n",
      "Try using .loc[row_indexer,col_indexer] = value instead\n",
      "\n",
      "See the caveats in the documentation: https://pandas.pydata.org/pandas-docs/stable/user_guide/indexing.html#returning-a-view-versus-a-copy\n",
      "  data['requirements'] = data.apply(lemmatized, axis = 1)\n"
     ]
    }
   ],
   "source": [
    "data['requirements'] = data.apply(lemmatized, axis = 1)"
   ]
  },
  {
   "cell_type": "code",
   "execution_count": 107,
   "metadata": {},
   "outputs": [
    {
     "data": {
      "text/html": [
       "<div>\n",
       "<style scoped>\n",
       "    .dataframe tbody tr th:only-of-type {\n",
       "        vertical-align: middle;\n",
       "    }\n",
       "\n",
       "    .dataframe tbody tr th {\n",
       "        vertical-align: top;\n",
       "    }\n",
       "\n",
       "    .dataframe thead th {\n",
       "        text-align: right;\n",
       "    }\n",
       "</style>\n",
       "<table border=\"1\" class=\"dataframe\">\n",
       "  <thead>\n",
       "    <tr style=\"text-align: right;\">\n",
       "      <th></th>\n",
       "      <th>salary</th>\n",
       "      <th>requirements</th>\n",
       "    </tr>\n",
       "  </thead>\n",
       "  <tbody>\n",
       "    <tr>\n",
       "      <th>0</th>\n",
       "      <td>300000</td>\n",
       "      <td>профессиональный команда успешный проект сфера...</td>\n",
       "    </tr>\n",
       "    <tr>\n",
       "      <th>1</th>\n",
       "      <td>250000</td>\n",
       "      <td>zerox заниматься создание развлекательный плат...</td>\n",
       "    </tr>\n",
       "    <tr>\n",
       "      <th>2</th>\n",
       "      <td>186930</td>\n",
       "      <td>hashex vision is to become the 1 defi intellig...</td>\n",
       "    </tr>\n",
       "  </tbody>\n",
       "</table>\n",
       "</div>"
      ],
      "text/plain": [
       "   salary                                       requirements\n",
       "0  300000  профессиональный команда успешный проект сфера...\n",
       "1  250000  zerox заниматься создание развлекательный плат...\n",
       "2  186930  hashex vision is to become the 1 defi intellig..."
      ]
     },
     "execution_count": 107,
     "metadata": {},
     "output_type": "execute_result"
    }
   ],
   "source": [
    "data.head(3)"
   ]
  },
  {
   "cell_type": "code",
   "execution_count": 108,
   "metadata": {},
   "outputs": [],
   "source": [
    "y = data['salary']\n",
    "texts = data['requirements']"
   ]
  },
  {
   "cell_type": "markdown",
   "metadata": {},
   "source": [
    "Отложим часть данных для тестирования и оценки качества алгоритма. Для этого воспользуемся функцией train_test_split"
   ]
  },
  {
   "cell_type": "code",
   "execution_count": 109,
   "metadata": {},
   "outputs": [],
   "source": [
    "#train test_split\n",
    "from sklearn.model_selection import train_test_split\n",
    "train_texts, test_texts, train_y, test_y = train_test_split(texts, y, test_size=0.2, random_state=42)"
   ]
  },
  {
   "cell_type": "markdown",
   "metadata": {},
   "source": [
    "Воспользуемся моделью Bag of Words, которая реализована в библиотеке sklearn в классе feature_extraction.text.CountVectorizer."
   ]
  },
  {
   "cell_type": "code",
   "execution_count": 110,
   "metadata": {},
   "outputs": [
    {
     "data": {
      "text/plain": [
       "['1с', 'and', 'api', 'docker', 'git', 'in', 'it', 'js', 'of', 'php']"
      ]
     },
     "execution_count": 110,
     "metadata": {},
     "output_type": "execute_result"
    }
   ],
   "source": [
    "#Инициализируем векторайзер\n",
    "from sklearn.feature_extraction.text import CountVectorizer\n",
    "vectorizer = CountVectorizer(max_features = 100)\n",
    "vectorizer.fit(train_texts)\n",
    "\n",
    "# Топ-10 слов\n",
    "vectorizer.get_feature_names()[:10]"
   ]
  },
  {
   "cell_type": "markdown",
   "metadata": {},
   "source": [
    "Обучаем vectorizer на train-данных и сразу преобразем их в вектора с помощью метода fit_transform."
   ]
  },
  {
   "cell_type": "code",
   "execution_count": 111,
   "metadata": {},
   "outputs": [
    {
     "data": {
      "text/plain": [
       "matrix([[0, 0, 0, 0, 0, 0, 0, 0, 0, 0, 0, 1, 0, 0, 0, 1, 1, 0, 0, 1, 0,\n",
       "         0, 1, 0, 0, 0, 0, 1, 1, 1, 0, 0, 0, 1, 0, 1, 0, 1, 0, 0, 0, 0,\n",
       "         0, 0, 1, 0, 0, 1, 1, 0, 1, 2, 1, 0, 0, 1, 1, 0, 0, 0, 0, 0, 1,\n",
       "         2, 2, 0, 2, 4, 0, 0, 0, 0, 3, 1, 1, 1, 0, 0, 1, 0, 3, 1, 0, 1,\n",
       "         0, 0, 1, 0, 1, 2, 0, 0, 2, 1, 0, 0, 0, 2, 0, 0],\n",
       "        [0, 0, 0, 0, 0, 0, 0, 0, 0, 0, 0, 0, 0, 0, 0, 0, 0, 0, 0, 1, 1,\n",
       "         0, 0, 0, 0, 0, 0, 0, 1, 2, 0, 1, 0, 0, 1, 0, 1, 0, 0, 5, 1, 0,\n",
       "         1, 0, 0, 0, 2, 0, 1, 0, 1, 5, 0, 1, 1, 0, 0, 0, 0, 0, 2, 0, 1,\n",
       "         2, 0, 1, 1, 0, 0, 0, 0, 1, 3, 0, 0, 0, 0, 0, 0, 4, 0, 0, 2, 1,\n",
       "         0, 0, 0, 0, 2, 0, 0, 0, 2, 0, 0, 1, 0, 2, 2, 0]], dtype=int64)"
      ]
     },
     "execution_count": 111,
     "metadata": {},
     "output_type": "execute_result"
    }
   ],
   "source": [
    "# Обучаем vectorizer на train-данных и сразу преобразем их в вектора с помощью метода fit_transform\n",
    "train_X = vectorizer.fit_transform(train_texts)\n",
    "train_X.todense()[:2]"
   ]
  },
  {
   "cell_type": "markdown",
   "metadata": {},
   "source": [
    "Также применяем обученный vectorizer к данным для тестирования."
   ]
  },
  {
   "cell_type": "code",
   "execution_count": 112,
   "metadata": {},
   "outputs": [],
   "source": [
    "test_X  = vectorizer.transform(test_texts)"
   ]
  },
  {
   "cell_type": "markdown",
   "metadata": {},
   "source": [
    "## 3. Обучение модели"
   ]
  },
  {
   "cell_type": "markdown",
   "metadata": {},
   "source": [
    "### 3.1 Bag of words"
   ]
  },
  {
   "cell_type": "markdown",
   "metadata": {},
   "source": [
    "Воспользуемся моделью линейной регрессии для предсказаний. В качестве метрики будем использовать RMSE, чтобы значение ошибки имело размерность исходных данных и было более интерпретируемо."
   ]
  },
  {
   "cell_type": "code",
   "execution_count": 113,
   "metadata": {},
   "outputs": [],
   "source": [
    "from sklearn.linear_model import LinearRegression\n",
    "from sklearn.metrics import mean_squared_error\n",
    "from sklearn.model_selection import cross_val_score"
   ]
  },
  {
   "cell_type": "code",
   "execution_count": 114,
   "metadata": {},
   "outputs": [
    {
     "data": {
      "text/plain": [
       "LinearRegression()"
      ]
     },
     "execution_count": 114,
     "metadata": {},
     "output_type": "execute_result"
    }
   ],
   "source": [
    "model = LinearRegression()\n",
    "model.fit(train_X, train_y)"
   ]
  },
  {
   "cell_type": "markdown",
   "metadata": {},
   "source": [
    "проверим качество модели на кроссвалидации"
   ]
  },
  {
   "cell_type": "code",
   "execution_count": 115,
   "metadata": {},
   "outputs": [
    {
     "name": "stdout",
     "output_type": "stream",
     "text": [
      "RMSE: 86003.21\n"
     ]
    }
   ],
   "source": [
    "score = cross_val_score(model, train_X, train_y, scoring = 'neg_mean_squared_error', cv=5)\n",
    "rmse = np.mean(np.sqrt(np.abs(score)))\n",
    "print('RMSE: {:.2f}'.format(rmse))"
   ]
  },
  {
   "cell_type": "markdown",
   "metadata": {},
   "source": [
    "и на отложенной тестовой выборке:"
   ]
  },
  {
   "cell_type": "code",
   "execution_count": 116,
   "metadata": {},
   "outputs": [],
   "source": [
    "pred = model.predict(test_X)"
   ]
  },
  {
   "cell_type": "code",
   "execution_count": 117,
   "metadata": {},
   "outputs": [
    {
     "name": "stdout",
     "output_type": "stream",
     "text": [
      "RMSE: 76939.00\n"
     ]
    }
   ],
   "source": [
    "rmse = (np.sqrt(mean_squared_error(test_y, pred)))\n",
    "print('RMSE: {:.2f}'.format(rmse))"
   ]
  },
  {
   "cell_type": "markdown",
   "metadata": {},
   "source": [
    "Воспользуемся моделью TF-IDF, которая реализована в библиотеке sklearn в классе feature_extraction.TfidfVectorizer"
   ]
  },
  {
   "cell_type": "code",
   "execution_count": 125,
   "metadata": {},
   "outputs": [
    {
     "data": {
      "text/plain": [
       "['1с', 'and', 'api', 'docker', 'git', 'in', 'it', 'js', 'of', 'php']"
      ]
     },
     "execution_count": 125,
     "metadata": {},
     "output_type": "execute_result"
    }
   ],
   "source": [
    "#вычисляем tf-idf\n",
    "from sklearn.feature_extraction.text import TfidfVectorizer\n",
    "# Fit TF-IDF on train texts\n",
    "vectorizer = TfidfVectorizer(max_features = 100, norm = None) # возмем топ 200 слов\n",
    "vectorizer.fit(train_texts)\n",
    "\n",
    "# Топ-10 слов\n",
    "vectorizer.get_feature_names()[:10]"
   ]
  },
  {
   "cell_type": "code",
   "execution_count": 126,
   "metadata": {},
   "outputs": [],
   "source": [
    "# Обучаем TF-IDF на train, а затем применяем к train и test\n",
    "train_X = vectorizer.fit_transform(train_texts)\n",
    "test_X  = vectorizer.transform(test_texts)"
   ]
  },
  {
   "cell_type": "code",
   "execution_count": 127,
   "metadata": {},
   "outputs": [
    {
     "data": {
      "text/plain": [
       "matrix([[0.        , 0.        , 0.        , 0.        , 0.        ,\n",
       "         0.        , 0.        , 0.        , 0.        , 0.        ,\n",
       "         0.        , 2.48955343, 0.        , 0.        , 0.        ,\n",
       "         2.19996478, 2.31489475, 0.        , 0.        , 2.56072971,\n",
       "         0.        , 0.        , 1.63140948, 0.        , 0.        ,\n",
       "         0.        , 0.        , 2.56072971, 2.26488433, 1.53875065,\n",
       "         0.        , 0.        , 0.        , 2.58562726, 0.        ,\n",
       "         2.43749707, 0.        , 2.37431817, 0.        , 0.        ,\n",
       "         0.        , 0.        , 0.        , 0.        , 2.22895232,\n",
       "         0.        , 0.        , 1.70526854, 2.63736294, 0.        ,\n",
       "         2.29584655, 2.3653317 , 2.11772668, 0.        , 0.        ,\n",
       "         2.11247733, 2.38801701, 0.        , 0.        , 0.        ,\n",
       "         0.        , 0.        , 1.83929782, 3.0482182 , 4.94880326,\n",
       "         0.        , 3.87081026, 4.51352467, 0.        , 0.        ,\n",
       "         0.        , 0.        , 3.83392809, 1.74797966, 2.52056367,\n",
       "         1.75894869, 0.        , 0.        , 2.24675694, 0.        ,\n",
       "         4.6698248 , 2.54446919, 0.        , 2.34087024, 0.        ,\n",
       "         0.        , 2.50493835, 0.        , 2.14439493, 3.45279218,\n",
       "         0.        , 0.        , 4.74863634, 2.20569546, 0.        ,\n",
       "         0.        , 0.        , 5.7077825 , 0.        , 0.        ],\n",
       "        [0.        , 0.        , 0.        , 0.        , 0.        ,\n",
       "         0.        , 0.        , 0.        , 0.        , 0.        ,\n",
       "         0.        , 0.        , 0.        , 0.        , 0.        ,\n",
       "         0.        , 0.        , 0.        , 0.        , 2.56072971,\n",
       "         2.00345859, 0.        , 0.        , 0.        , 0.        ,\n",
       "         0.        , 0.        , 0.        , 2.26488433, 3.0775013 ,\n",
       "         0.        , 1.45395411, 0.        , 0.        , 1.90942964,\n",
       "         0.        , 2.62855231, 0.        , 0.        , 6.71863704,\n",
       "         1.51254828, 0.        , 1.84328984, 0.        , 0.        ,\n",
       "         0.        , 3.28887796, 0.        , 2.63736294, 0.        ,\n",
       "         2.29584655, 5.91332925, 0.        , 2.32132564, 2.0917512 ,\n",
       "         0.        , 0.        , 0.        , 0.        , 0.        ,\n",
       "         3.94224642, 0.        , 1.83929782, 3.0482182 , 0.        ,\n",
       "         2.56896021, 1.93540513, 0.        , 0.        , 0.        ,\n",
       "         0.        , 2.46691096, 3.83392809, 0.        , 0.        ,\n",
       "         0.        , 0.        , 0.        , 0.        , 7.67205354,\n",
       "         0.        , 0.        , 5.12145942, 2.34087024, 0.        ,\n",
       "         0.        , 0.        , 0.        , 4.28878986, 0.        ,\n",
       "         0.        , 0.        , 4.74863634, 0.        , 0.        ,\n",
       "         2.11772668, 0.        , 5.7077825 , 4.93382191, 0.        ]])"
      ]
     },
     "execution_count": 127,
     "metadata": {},
     "output_type": "execute_result"
    }
   ],
   "source": [
    "# Пример\n",
    "train_X.todense()[:2] # посмотрим на первые 2 строки"
   ]
  },
  {
   "cell_type": "code",
   "execution_count": 128,
   "metadata": {},
   "outputs": [
    {
     "data": {
      "text/plain": [
       "LinearRegression()"
      ]
     },
     "execution_count": 128,
     "metadata": {},
     "output_type": "execute_result"
    }
   ],
   "source": [
    "model = LinearRegression()\n",
    "model.fit(train_X, train_y)"
   ]
  },
  {
   "cell_type": "code",
   "execution_count": 129,
   "metadata": {},
   "outputs": [
    {
     "name": "stdout",
     "output_type": "stream",
     "text": [
      "RMSE: 86003.21\n"
     ]
    }
   ],
   "source": [
    "score = cross_val_score(model, train_X, train_y, scoring = 'neg_mean_squared_error', cv=5)\n",
    "rmse = np.mean(np.sqrt(np.abs(score)))\n",
    "print('RMSE: {:.2f}'.format(rmse))"
   ]
  },
  {
   "cell_type": "markdown",
   "metadata": {},
   "source": [
    "Посмотрим на качество модели на тестовых данных"
   ]
  },
  {
   "cell_type": "code",
   "execution_count": 130,
   "metadata": {},
   "outputs": [],
   "source": [
    "pred = model.predict(test_X)"
   ]
  },
  {
   "cell_type": "code",
   "execution_count": 131,
   "metadata": {},
   "outputs": [
    {
     "name": "stdout",
     "output_type": "stream",
     "text": [
      "RMSE: 76938.99\n"
     ]
    }
   ],
   "source": [
    "rmse = (np.sqrt(mean_squared_error(test_y, pred)))\n",
    "print('RMSE: {:.2f}'.format(rmse))"
   ]
  },
  {
   "cell_type": "markdown",
   "metadata": {},
   "source": [
    "**Вывод** Ошибка в определнии зарплаты на основании описания вакансии оказалась достаточно высокой. В дальнейшем данное исследования планируется продолжить для выпускного проекта. Для повышения качества будет использован увеличенный датасет (данные будут спарсены с hh, где количество вакансий гораздо больше), будут использованы дополнительные признаки: местоположение и название компании, наименование вакансии, а также более сложные трансформерные модели."
   ]
  },
  {
   "cell_type": "code",
   "execution_count": null,
   "metadata": {},
   "outputs": [],
   "source": []
  }
 ],
 "metadata": {
  "colab": {
   "name": "KnowYourMemesParser_Empty_14_07.ipynb",
   "provenance": []
  },
  "kernelspec": {
   "display_name": "Python 3 (ipykernel)",
   "language": "python",
   "name": "python3"
  },
  "language_info": {
   "codemirror_mode": {
    "name": "ipython",
    "version": 3
   },
   "file_extension": ".py",
   "mimetype": "text/x-python",
   "name": "python",
   "nbconvert_exporter": "python",
   "pygments_lexer": "ipython3",
   "version": "3.8.8"
  },
  "varInspector": {
   "cols": {
    "lenName": 16,
    "lenType": 16,
    "lenVar": 40
   },
   "kernels_config": {
    "python": {
     "delete_cmd_postfix": "",
     "delete_cmd_prefix": "del ",
     "library": "var_list.py",
     "varRefreshCmd": "print(var_dic_list())"
    },
    "r": {
     "delete_cmd_postfix": ") ",
     "delete_cmd_prefix": "rm(",
     "library": "var_list.r",
     "varRefreshCmd": "cat(var_dic_list()) "
    }
   },
   "types_to_exclude": [
    "module",
    "function",
    "builtin_function_or_method",
    "instance",
    "_Feature"
   ],
   "window_display": false
  },
  "widgets": {
   "application/vnd.jupyter.widget-state+json": {
    "108ab67793f04157b5aefc10af6a4e2f": {
     "model_module": "@jupyter-widgets/controls",
     "model_module_version": "1.5.0",
     "model_name": "FloatProgressModel",
     "state": {
      "_dom_classes": [],
      "_model_module": "@jupyter-widgets/controls",
      "_model_module_version": "1.5.0",
      "_model_name": "FloatProgressModel",
      "_view_count": null,
      "_view_module": "@jupyter-widgets/controls",
      "_view_module_version": "1.5.0",
      "_view_name": "ProgressView",
      "bar_style": "success",
      "description": "",
      "description_tooltip": null,
      "layout": "IPY_MODEL_8cbcf48cec23454bbcc5d9fdcafcf285",
      "max": 16,
      "min": 0,
      "orientation": "horizontal",
      "style": "IPY_MODEL_88429ec8dbd14723b9e7e9f877944e0a",
      "value": 16
     }
    },
    "2e3e103dfc0b4fd8b15bd675f4a56b41": {
     "model_module": "@jupyter-widgets/controls",
     "model_module_version": "1.5.0",
     "model_name": "DescriptionStyleModel",
     "state": {
      "_model_module": "@jupyter-widgets/controls",
      "_model_module_version": "1.5.0",
      "_model_name": "DescriptionStyleModel",
      "_view_count": null,
      "_view_module": "@jupyter-widgets/base",
      "_view_module_version": "1.2.0",
      "_view_name": "StyleView",
      "description_width": ""
     }
    },
    "5a14662aa2c74ddfa63167395beb5c75": {
     "model_module": "@jupyter-widgets/base",
     "model_module_version": "1.2.0",
     "model_name": "LayoutModel",
     "state": {
      "_model_module": "@jupyter-widgets/base",
      "_model_module_version": "1.2.0",
      "_model_name": "LayoutModel",
      "_view_count": null,
      "_view_module": "@jupyter-widgets/base",
      "_view_module_version": "1.2.0",
      "_view_name": "LayoutView",
      "align_content": null,
      "align_items": null,
      "align_self": null,
      "border": null,
      "bottom": null,
      "display": null,
      "flex": null,
      "flex_flow": null,
      "grid_area": null,
      "grid_auto_columns": null,
      "grid_auto_flow": null,
      "grid_auto_rows": null,
      "grid_column": null,
      "grid_gap": null,
      "grid_row": null,
      "grid_template_areas": null,
      "grid_template_columns": null,
      "grid_template_rows": null,
      "height": null,
      "justify_content": null,
      "justify_items": null,
      "left": null,
      "margin": null,
      "max_height": null,
      "max_width": null,
      "min_height": null,
      "min_width": null,
      "object_fit": null,
      "object_position": null,
      "order": null,
      "overflow": null,
      "overflow_x": null,
      "overflow_y": null,
      "padding": null,
      "right": null,
      "top": null,
      "visibility": null,
      "width": null
     }
    },
    "5c00ebe06c5c48888279f68212a35e3d": {
     "model_module": "@jupyter-widgets/controls",
     "model_module_version": "1.5.0",
     "model_name": "HBoxModel",
     "state": {
      "_dom_classes": [],
      "_model_module": "@jupyter-widgets/controls",
      "_model_module_version": "1.5.0",
      "_model_name": "HBoxModel",
      "_view_count": null,
      "_view_module": "@jupyter-widgets/controls",
      "_view_module_version": "1.5.0",
      "_view_name": "HBoxView",
      "box_style": "",
      "children": [
       "IPY_MODEL_710579be53d04fd0abb1b72ce2d7b6d2",
       "IPY_MODEL_108ab67793f04157b5aefc10af6a4e2f",
       "IPY_MODEL_8dfb6e621f39463096fdb813787518db"
      ],
      "layout": "IPY_MODEL_f3c5512f5fa44035a9c372fa6c1c1787"
     }
    },
    "710579be53d04fd0abb1b72ce2d7b6d2": {
     "model_module": "@jupyter-widgets/controls",
     "model_module_version": "1.5.0",
     "model_name": "HTMLModel",
     "state": {
      "_dom_classes": [],
      "_model_module": "@jupyter-widgets/controls",
      "_model_module_version": "1.5.0",
      "_model_name": "HTMLModel",
      "_view_count": null,
      "_view_module": "@jupyter-widgets/controls",
      "_view_module_version": "1.5.0",
      "_view_name": "HTMLView",
      "description": "",
      "description_tooltip": null,
      "layout": "IPY_MODEL_78a4e9adc65642f49a16df5f54b6ebba",
      "placeholder": "​",
      "style": "IPY_MODEL_2e3e103dfc0b4fd8b15bd675f4a56b41",
      "value": "100%"
     }
    },
    "78a4e9adc65642f49a16df5f54b6ebba": {
     "model_module": "@jupyter-widgets/base",
     "model_module_version": "1.2.0",
     "model_name": "LayoutModel",
     "state": {
      "_model_module": "@jupyter-widgets/base",
      "_model_module_version": "1.2.0",
      "_model_name": "LayoutModel",
      "_view_count": null,
      "_view_module": "@jupyter-widgets/base",
      "_view_module_version": "1.2.0",
      "_view_name": "LayoutView",
      "align_content": null,
      "align_items": null,
      "align_self": null,
      "border": null,
      "bottom": null,
      "display": null,
      "flex": null,
      "flex_flow": null,
      "grid_area": null,
      "grid_auto_columns": null,
      "grid_auto_flow": null,
      "grid_auto_rows": null,
      "grid_column": null,
      "grid_gap": null,
      "grid_row": null,
      "grid_template_areas": null,
      "grid_template_columns": null,
      "grid_template_rows": null,
      "height": null,
      "justify_content": null,
      "justify_items": null,
      "left": null,
      "margin": null,
      "max_height": null,
      "max_width": null,
      "min_height": null,
      "min_width": null,
      "object_fit": null,
      "object_position": null,
      "order": null,
      "overflow": null,
      "overflow_x": null,
      "overflow_y": null,
      "padding": null,
      "right": null,
      "top": null,
      "visibility": null,
      "width": null
     }
    },
    "88429ec8dbd14723b9e7e9f877944e0a": {
     "model_module": "@jupyter-widgets/controls",
     "model_module_version": "1.5.0",
     "model_name": "ProgressStyleModel",
     "state": {
      "_model_module": "@jupyter-widgets/controls",
      "_model_module_version": "1.5.0",
      "_model_name": "ProgressStyleModel",
      "_view_count": null,
      "_view_module": "@jupyter-widgets/base",
      "_view_module_version": "1.2.0",
      "_view_name": "StyleView",
      "bar_color": null,
      "description_width": ""
     }
    },
    "8cbcf48cec23454bbcc5d9fdcafcf285": {
     "model_module": "@jupyter-widgets/base",
     "model_module_version": "1.2.0",
     "model_name": "LayoutModel",
     "state": {
      "_model_module": "@jupyter-widgets/base",
      "_model_module_version": "1.2.0",
      "_model_name": "LayoutModel",
      "_view_count": null,
      "_view_module": "@jupyter-widgets/base",
      "_view_module_version": "1.2.0",
      "_view_name": "LayoutView",
      "align_content": null,
      "align_items": null,
      "align_self": null,
      "border": null,
      "bottom": null,
      "display": null,
      "flex": null,
      "flex_flow": null,
      "grid_area": null,
      "grid_auto_columns": null,
      "grid_auto_flow": null,
      "grid_auto_rows": null,
      "grid_column": null,
      "grid_gap": null,
      "grid_row": null,
      "grid_template_areas": null,
      "grid_template_columns": null,
      "grid_template_rows": null,
      "height": null,
      "justify_content": null,
      "justify_items": null,
      "left": null,
      "margin": null,
      "max_height": null,
      "max_width": null,
      "min_height": null,
      "min_width": null,
      "object_fit": null,
      "object_position": null,
      "order": null,
      "overflow": null,
      "overflow_x": null,
      "overflow_y": null,
      "padding": null,
      "right": null,
      "top": null,
      "visibility": null,
      "width": null
     }
    },
    "8dfb6e621f39463096fdb813787518db": {
     "model_module": "@jupyter-widgets/controls",
     "model_module_version": "1.5.0",
     "model_name": "HTMLModel",
     "state": {
      "_dom_classes": [],
      "_model_module": "@jupyter-widgets/controls",
      "_model_module_version": "1.5.0",
      "_model_name": "HTMLModel",
      "_view_count": null,
      "_view_module": "@jupyter-widgets/controls",
      "_view_module_version": "1.5.0",
      "_view_name": "HTMLView",
      "description": "",
      "description_tooltip": null,
      "layout": "IPY_MODEL_5a14662aa2c74ddfa63167395beb5c75",
      "placeholder": "​",
      "style": "IPY_MODEL_f95b655614304d6292b6572e084f53b6",
      "value": " 16/16 [00:13&lt;00:00,  1.14it/s]"
     }
    },
    "f3c5512f5fa44035a9c372fa6c1c1787": {
     "model_module": "@jupyter-widgets/base",
     "model_module_version": "1.2.0",
     "model_name": "LayoutModel",
     "state": {
      "_model_module": "@jupyter-widgets/base",
      "_model_module_version": "1.2.0",
      "_model_name": "LayoutModel",
      "_view_count": null,
      "_view_module": "@jupyter-widgets/base",
      "_view_module_version": "1.2.0",
      "_view_name": "LayoutView",
      "align_content": null,
      "align_items": null,
      "align_self": null,
      "border": null,
      "bottom": null,
      "display": null,
      "flex": null,
      "flex_flow": null,
      "grid_area": null,
      "grid_auto_columns": null,
      "grid_auto_flow": null,
      "grid_auto_rows": null,
      "grid_column": null,
      "grid_gap": null,
      "grid_row": null,
      "grid_template_areas": null,
      "grid_template_columns": null,
      "grid_template_rows": null,
      "height": null,
      "justify_content": null,
      "justify_items": null,
      "left": null,
      "margin": null,
      "max_height": null,
      "max_width": null,
      "min_height": null,
      "min_width": null,
      "object_fit": null,
      "object_position": null,
      "order": null,
      "overflow": null,
      "overflow_x": null,
      "overflow_y": null,
      "padding": null,
      "right": null,
      "top": null,
      "visibility": null,
      "width": null
     }
    },
    "f95b655614304d6292b6572e084f53b6": {
     "model_module": "@jupyter-widgets/controls",
     "model_module_version": "1.5.0",
     "model_name": "DescriptionStyleModel",
     "state": {
      "_model_module": "@jupyter-widgets/controls",
      "_model_module_version": "1.5.0",
      "_model_name": "DescriptionStyleModel",
      "_view_count": null,
      "_view_module": "@jupyter-widgets/base",
      "_view_module_version": "1.2.0",
      "_view_name": "StyleView",
      "description_width": ""
     }
    }
   }
  }
 },
 "nbformat": 4,
 "nbformat_minor": 1
}
